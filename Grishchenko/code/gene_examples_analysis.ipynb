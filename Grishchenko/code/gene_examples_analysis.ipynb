{
 "cells": [
  {
   "cell_type": "markdown",
   "id": "8c509f23-5333-483a-bad9-cd183575a456",
   "metadata": {},
   "source": [
    "# Analysis of selected genes\n",
    "\n",
    "We selected four genes based on previous analysis: HLA-DRA, CFLAR, TPT1, and RPS10\n",
    "\n",
    "- **HLA-DRA** a key gene in the MHC class II region, encodes a major histocompatibility complex (MHC) class II alpha chain. This gene is essential for antigen presentation to T cells, playing a pivotal role in the adaptive immune response.\n",
    "- **CFLAR** also known as CASP8 and FADD-like apoptosis regulator, is involved in regulating apoptosis and immune cell function. It serves as a critical modulator of cell survival pathways, influencing the delicate balance between cell death and proliferation.\n",
    "- **TPT1** or translationally controlled tumor protein, participates in multiple cellular processes, including cell growth, differentiation, and apoptosis. This gene is implicated in cancer development and progression, highlighting its significance in tumorigenesis.\n",
    "- **RPS10** a ribosomal protein S10, is a component of the ribosome essential for protein synthesis. It plays a fundamental role in translating genetic information into functional proteins, demonstrating its importance in maintaining cellular homeostasis."
   ]
  },
  {
   "cell_type": "code",
   "execution_count": null,
   "id": "6de55b87-9d61-4e2b-97fd-2a4b42cadd10",
   "metadata": {},
   "outputs": [],
   "source": [
    "gene_data_HLADRA = pd.read_csv('/home/bioinf/gnomad-variants/Grishchenko/processed_data/tables/ac_expression_tables/HLADRA_analysis.tsv.tsv', \n",
    "                         sep='\\t')\n",
    "gene_data_CFLAR = pd.read_csv('/home/bioinf/gnomad-variants/Grishchenko/processed_data/tables/ac_expression_tables/CFLAR_analysis.tsv.tsv', \n",
    "                         sep='\\t')\n",
    "gene_data_TPT1 = pd.read_csv('/home/bioinf/gnomad-variants/Grishchenko/processed_data/tables/ac_expression_tables/CFLAR_analysis.tsv.tsv', \n",
    "                         sep='\\t')"
   ]
  }
 ],
 "metadata": {
  "kernelspec": {
   "display_name": "Python 3 (ipykernel)",
   "language": "python",
   "name": "python3"
  },
  "language_info": {
   "codemirror_mode": {
    "name": "ipython",
    "version": 3
   },
   "file_extension": ".py",
   "mimetype": "text/x-python",
   "name": "python",
   "nbconvert_exporter": "python",
   "pygments_lexer": "ipython3",
   "version": "3.12.2"
  }
 },
 "nbformat": 4,
 "nbformat_minor": 5
}
