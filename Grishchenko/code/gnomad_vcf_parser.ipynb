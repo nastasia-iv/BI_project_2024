{
 "cells": [
  {
   "cell_type": "code",
   "execution_count": 17,
   "id": "cb5e7a02-ac34-4dce-9ceb-49606a38a810",
   "metadata": {},
   "outputs": [],
   "source": [
    "import csv\n",
    "import gzip\n",
    "import cyvcf2\n",
    "import os"
   ]
  },
  {
   "cell_type": "code",
   "execution_count": 60,
   "id": "af3dac43-702a-4f65-b36c-74f02897920b",
   "metadata": {},
   "outputs": [],
   "source": [
    "output_file = '../data/YOUR_FILE_NAME'"
   ]
  },
  {
   "cell_type": "code",
   "execution_count": 61,
   "id": "f297cbaf-0afc-4b2f-b7ea-22b1cd2149de",
   "metadata": {},
   "outputs": [],
   "source": [
    "folder_path = 'processed_data'\n",
    "if not os.path.exists(folder_path):\n",
    "    os.makedirs(folder_path)\n",
    "    print(f'Folder \"{folder_path}\" created.')\n",
    "else:\n",
    "    print(f'Folder \"{folder_path}\" exists.')\n",
    "destination_file = '../data/processed_data/YOUR_FILE_NAME'"
   ]
  },
  {
   "cell_type": "code",
   "execution_count": 62,
   "id": "d7f3061f-44b1-41f2-8945-4a677fb1e413",
   "metadata": {},
   "outputs": [
    {
     "name": "stdout",
     "output_type": "stream",
     "text": [
      "1\n",
      "2\n",
      "Data collected\n",
      "Work is done\n"
     ]
    }
   ],
   "source": [
    "vcf = cyvcf2.VCF(output_file)\n",
    "print('VCF file downloaded')\n",
    "# Define the columns to extract\n",
    "info_fields_to_extract = ['AC', 'AC_afr', 'AC_amr', 'AC_nfe', 'AC_asj', 'AC_sas', 'AC_eas', 'AC_mid', 'AC_fin',\n",
    "                   'AN', 'AN_afr', 'AN_amr', 'AN_nfe', 'AN_asj', 'AN_sas', 'AN_eas', 'AN_mid', 'AN_fin',\n",
    "                   'AF', 'AF_afr', 'AF_amr', 'AF_nfe', 'AF_asj', 'AF_sas', 'AF_eas', 'AF_mid', 'AF_fin', 'vep']\n",
    "vep_field_mapping = {\n",
    "            1: 'Consequence', 2: 'IMPACT', 3: 'SYMBOL', 4: 'Gene',\n",
    "            5: 'Feature_Type', 6: 'Feature', 7: 'BIOTYPE', 8: 'EXON', 9: 'INTRON',\n",
    "            17: 'ALLELE_NUM', 21: 'VARIANT_CLASS', 24: 'CANONICAL',\n",
    "            44: 'LoF', 45: 'LoF_filter', 46: 'LoF_flags', 47: 'LoF_info'}\n",
    "\n",
    "column_names = ['CHROM', 'POS', 'ID', 'REF', 'ALT', 'AC', 'AC_afr', 'AC_amr', 'AC_nfe', 'AC_asj', \n",
    "                    'AC_sas', 'AC_eas', 'AC_mid', 'AC_fin',\n",
    "                    'AN', 'AN_afr', 'AN_amr', 'AN_nfe', 'AN_asj', 'AN_sas', 'AN_eas', 'AN_mid', 'AN_fin',\n",
    "                    'AF', 'AF_afr', 'AF_amr', 'AF_nfe', 'AF_asj', 'AF_sas', 'AF_eas', 'AF_mid', 'AF_fin',\n",
    "                    'Consequence', 'IMPACT', 'SYMBOL', 'Gene', 'Feature_Type', 'Feature', 'BIOTYPE', 'EXON', 'INTRON', 'ALLELE_NUM',\n",
    "                    'VARIANT_CLASS', 'CANONICAL', 'LoF', 'LoF_filter', 'LoF_flags', 'LoF_info']\n",
    "print('VCF parsing in progress...')\n",
    "# Initialize an empty list to store the extracted data\n",
    "data = []\n",
    "\n",
    "    # Iterate over each variant in the VCF file\n",
    "for variant in vcf:\n",
    "    if 'PASS' in variant.FILTERS:\n",
    "        variant_data = [variant.CHROM, variant.POS, variant.ID, variant.REF, variant.ALT[0]]\n",
    "        info_data = [variant.INFO.get(field, '.') for field in info_fields_to_extract]\n",
    "        vep_annotation = variant.INFO.get('vep')\n",
    "\n",
    "    # Handle multiple transcripts in vep if present\n",
    "        if vep_annotation:\n",
    "            vep_transcripts = vep_annotation.split(',')\n",
    "            for transcript in vep_transcripts:\n",
    "                split_transcript = transcript.split('|')\n",
    "                vep_fields = []\n",
    "                for key in vep_field_mapping.keys():\n",
    "                    try:\n",
    "                        vep_fields.append(split_transcript[key])\n",
    "                    except:\n",
    "                        vep_fields.append('.')\n",
    "                data.append(variant_data + info_data[:-1] + vep_fields)\n",
    "        else:\n",
    "            data.append(variant_data + info_data + ['.'])\n",
    "print('Data collected')\n",
    "with open(destination_file, 'w', newline='') as tsvfile:\n",
    "    writer = csv.writer(tsvfile, delimiter='\\t')\n",
    "    # Write the header\n",
    "    writer.writerow(column_names)\n",
    "    # Write the data rows\n",
    "    writer.writerows(data)\n",
    "print('TSV file created')"
   ]
  }
 ],
 "metadata": {
  "kernelspec": {
   "display_name": "Python 3 (ipykernel)",
   "language": "python",
   "name": "python3"
  },
  "language_info": {
   "codemirror_mode": {
    "name": "ipython",
    "version": 3
   },
   "file_extension": ".py",
   "mimetype": "text/x-python",
   "name": "python",
   "nbconvert_exporter": "python",
   "pygments_lexer": "ipython3",
   "version": "3.12.2"
  }
 },
 "nbformat": 4,
 "nbformat_minor": 5
}
