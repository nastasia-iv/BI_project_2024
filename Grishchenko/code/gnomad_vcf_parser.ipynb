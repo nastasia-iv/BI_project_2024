{
 "cells": [
  {
   "cell_type": "markdown",
   "id": "acec8589-f828-494e-88d3-36f69af55a8f",
   "metadata": {},
   "source": [
    "## Example of Usage: Parsing VCF File and Exporting Processed Data\n",
    "\n",
    "### In this example, we demonstrate the usage of the vcf_parsing function to parse a VCF (Variant Call Format) file and export the processed data into a TSV (Tab-Separated Values) file. The function performs the following tasks:\n",
    "\n",
    "- **Folder Preparation**: If the destination folder for processed data does not exist, the function creates the folder to store the processed data.\n",
    "- **VCF Parsing**: The function reads the specified VCF file, extracts relevant genetic variation and transcript information, and stores it in a structured format.\n",
    "- **Data Export**: The extracted data is processed and saved into a TSV file with organized columns, ready for downstream analyses and visualizations."
   ]
  },
  {
   "cell_type": "code",
   "execution_count": 1,
   "id": "ddd48345-0adf-4e9d-85a8-2c4a78d67d04",
   "metadata": {},
   "outputs": [],
   "source": [
    "from vcf_parser import vcf_parsing"
   ]
  },
  {
   "cell_type": "code",
   "execution_count": 3,
   "id": "548114f1-2783-4207-a1d3-41fdbf5ee26a",
   "metadata": {},
   "outputs": [
    {
     "name": "stdout",
     "output_type": "stream",
     "text": [
      "Folder \"processed_data\" exists.\n",
      "VCF file downloaded\n",
      "VCF parsing in progress...\n",
      "Data collected\n"
     ]
    },
    {
     "data": {
      "text/plain": [
       "'example_chr22.tsv file created'"
      ]
     },
     "execution_count": 3,
     "metadata": {},
     "output_type": "execute_result"
    }
   ],
   "source": [
    "vcf_parsing('../data/example_chr22.vcf')"
   ]
  }
 ],
 "metadata": {
  "kernelspec": {
   "display_name": "Python 3 (ipykernel)",
   "language": "python",
   "name": "python3"
  },
  "language_info": {
   "codemirror_mode": {
    "name": "ipython",
    "version": 3
   },
   "file_extension": ".py",
   "mimetype": "text/x-python",
   "name": "python",
   "nbconvert_exporter": "python",
   "pygments_lexer": "ipython3",
   "version": "3.12.2"
  }
 },
 "nbformat": 4,
 "nbformat_minor": 5
}
