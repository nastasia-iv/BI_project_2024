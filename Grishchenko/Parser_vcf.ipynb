{
 "cells": [
  {
   "cell_type": "code",
   "execution_count": null,
   "metadata": {},
   "outputs": [],
   "source": [
    "import csv\n",
    "\n",
    "import cyvcf2\n",
    "import matplotlib.pyplot as plt\n",
    "import numpy as np\n",
    "import pandas as pd"
   ]
  },
  {
   "cell_type": "code",
   "execution_count": null,
   "metadata": {},
   "outputs": [],
   "source": [
    "vcf_path = 'data/gnomad.exomes.v4.0.sites.chr22.vcf.bgz'\n",
    "vcf = cyvcf2.VCF(vcf_path)\n",
    "\n",
    "# Define the columns to extract\n",
    "info_fields_to_extract = ['AC', 'AC_afr', 'AC_amr', 'AC_nfe', 'AC_asj', 'AC_sas', 'AC_eas', 'AC_mid', 'AC_fin',\n",
    "               'AN', 'AN_afr', 'AN_amr', 'AN_nfe', 'AN_asj', 'AN_sas', 'AN_eas', 'AN_mid', 'AN_fin',\n",
    "               'AF', 'AF_afr', 'AF_amr', 'AF_nfe', 'AF_asj', 'AF_sas', 'AF_eas', 'AF_mid', 'AF_fin', 'vep']\n",
    "vep_field_mapping = {\n",
    "        1: 'Consequence', 3: 'SYMBOL',\n",
    "        5: 'Feature_Type', 6: 'Feature', 7: 'BIOTYPE', 8: 'EXON', 9: 'INTRON',\n",
    "        17: 'ALLELE_NUM', 24: 'CANONICAL',\n",
    "        42: 'LoF', 43: 'LoF_filter', 44: 'LoF_flags', 45: 'LoF_info'}\n",
    "\n",
    "column_names = ['CHROM', 'POS', 'ID', 'REF', 'ALT', 'AC', 'AC_afr', 'AC_amr', 'AC_nfe', 'AC_asj', \n",
    "                'AC_sas', 'AC_eas', 'AC_mid', 'AC_fin',\n",
    "                'AN', 'AN_afr', 'AN_amr', 'AN_nfe', 'AN_asj', 'AN_sas', 'AN_eas', 'AN_mid', 'AN_fin',\n",
    "                'AF', 'AF_afr', 'AF_amr', 'AF_nfe', 'AF_asj', 'AF_sas', 'AF_eas', 'AF_mid', 'AF_fin',\n",
    "                'Consequence', 'SYMBOL', 'Feature_Type', 'Feature', 'BIOTYPE', 'EXON', 'INTRON', 'ALLELE_NUM',\n",
    "                'CANONICAL', 'LoF', 'LoF_filter', 'LoF_flags', 'LoF_info']\n",
    "\n",
    "# Initialize an empty list to store the extracted data\n",
    "data = []\n",
    "\n",
    "# Iterate over each variant in the VCF file\n",
    "counter = 1\n",
    "for variant in vcf:\n",
    "    variant_data = [variant.CHROM, variant.POS, variant.ID, variant.REF, variant.ALT[0]]\n",
    "    info_data = [variant.INFO.get(field, '.') for field in info_fields_to_extract]\n",
    "    vep_annotation = variant.INFO.get('vep')\n",
    "\n",
    "    # Handle multiple transcripts in vep if present\n",
    "    if vep_annotation:\n",
    "        vep_transcripts = vep_annotation.split(',')\n",
    "        for transcript in vep_transcripts:\n",
    "            split_transcript = transcript.split('|')\n",
    "            vep_fields = []\n",
    "            for key in vep_field_mapping.keys():\n",
    "                try:\n",
    "                    vep_fields.append(split_transcript[key])\n",
    "                except:\n",
    "                    vep_fields.append('.')\n",
    "            data.append(variant_data + info_data[:-1] + vep_fields)\n",
    "    else:\n",
    "        data.append(variant_data + info_data + ['.'])\n",
    "    counter += 1\n",
    "output_file_name = f\"output_{vcf_path.split('.')[-3]}.tsv\"\n",
    "with open(output_file_name, 'w', newline='') as tsvfile:\n",
    "    writer = csv.writer(tsvfile, delimiter='\\t')\n",
    "    # Write the header\n",
    "    writer.writerow(column_names)\n",
    "    # Write the data rows\n",
    "    writer.writerows(data)\n",
    "# Create a pandas DataFrame from the extracted data"
   ]
  }
 ],
 "metadata": {
  "kernelspec": {
   "display_name": "BI_main_project",
   "language": "python",
   "name": "python3"
  },
  "language_info": {
   "name": "python",
   "version": "3.12.1"
  }
 },
 "nbformat": 4,
 "nbformat_minor": 2
}
