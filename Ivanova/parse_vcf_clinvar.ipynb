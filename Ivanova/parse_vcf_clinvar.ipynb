{
 "cells": [
  {
   "cell_type": "code",
   "execution_count": 70,
   "id": "fc565154-10df-46fa-a441-bb2e1e42e3a9",
   "metadata": {},
   "outputs": [],
   "source": [
    "# TODO\n"
   ]
  },
  {
   "cell_type": "code",
   "execution_count": 1,
   "id": "3ed41d0b-9560-49c8-a5fc-2bd1dec9afc7",
   "metadata": {},
   "outputs": [],
   "source": [
    "import csv\n",
    "import gzip\n",
    "import os"
   ]
  },
  {
   "cell_type": "code",
   "execution_count": 7,
   "id": "00a7b018-3e86-4be6-b12c-88f9b39e9f7c",
   "metadata": {},
   "outputs": [],
   "source": [
    "import sys"
   ]
  },
  {
   "cell_type": "code",
   "execution_count": 8,
   "id": "14419374-ddb9-4c33-a44a-2d0bac84c1fa",
   "metadata": {},
   "outputs": [
    {
     "data": {
      "text/plain": [
       "131072"
      ]
     },
     "execution_count": 8,
     "metadata": {},
     "output_type": "execute_result"
    }
   ],
   "source": [
    "csv.field_size_limit(sys.maxsize)"
   ]
  },
  {
   "cell_type": "code",
   "execution_count": 2,
   "id": "d9c9e99f-97f3-48b6-9717-925608d3ee1b",
   "metadata": {},
   "outputs": [],
   "source": [
    "clinvar_columns = ['CHROM', 'POS', 'ID', 'REF', 'ALT', 'QUAL', 'FILTER', 'INFO']\n",
    "clinvar_columns_mapping = dict(zip(clinvar_columns, range(len(clinvar_columns))))"
   ]
  },
  {
   "cell_type": "code",
   "execution_count": 3,
   "id": "15626a27-eb8f-4711-88a1-81fb175641c0",
   "metadata": {},
   "outputs": [],
   "source": [
    "vep_info_names = 'Allele|Consequence|IMPACT|SYMBOL|Gene|Feature_type|Feature|BIOTYPE|EXON|INTRON|HGVSc|HGVSp|cDNA_position|CDS_position|Protein_position|Amino_acids|Codons|Existing_variation|DISTANCE|STRAND|FLAGS|SYMBOL_SOURCE|HGNC_ID|CANONICAL'.split('|')\n",
    "vep_info_names_mapping = dict(zip(vep_info_names, range(len(vep_info_names))))"
   ]
  },
  {
   "cell_type": "code",
   "execution_count": 4,
   "id": "32c4e084-7768-4462-a8e3-07daef986cfd",
   "metadata": {
    "jupyter": {
     "source_hidden": true
    }
   },
   "outputs": [],
   "source": [
    "# # Функция для парсинга вцф-файла\n",
    "\n",
    "# headers = ['CHROM', 'POS', 'ID', 'REF', 'ALT', 'CLNSIG', 'CLNVC',  'GENEINFO', 'MC', \n",
    "#            'Consequence', 'SYMBOL', 'Gene', 'Feature_type', 'Feature', 'BIOTYPE', 'cDNA_position', 'CANONICAL']\n",
    "\n",
    "# def get_parse_clinvar_vcf(vcf_file, output_dir='', output_filename=''):\n",
    "\n",
    "#     # Если папка не указана, сохраняем в текущую директорию\n",
    "#     if output_dir == '':\n",
    "#         output_dir = os.getcwd()\n",
    "    \n",
    "#     # Если имя выходного файла не задано, используем имя входного файла, но с расширением .tsv\n",
    "#     # Через basename получаем имя файла, а через splitext оставляем только название без расширения\n",
    "#     if output_filename == '':\n",
    "#         output_filename = os.path.splitext(os.path.basename(vcf_file))[0] + '.tsv'\n",
    "#     else:\n",
    "#         # Если не указано расширение файла (указано неверно), добавляем .tsv\n",
    "#         if not output_filename.endswith('.tsv'):\n",
    "#             output_filename += '.tsv'\n",
    "    \n",
    "#     # Полный путь к выходному файлу\n",
    "#     output_file = os.path.join(output_dir, output_filename)\n",
    "    \n",
    "#     # Запись шапки таблицы в выходной файл\n",
    "#     with open(output_file, 'w', newline='', encoding='utf-8') as table_file:\n",
    "#         writer = csv.writer(table_file, delimiter='\\t')\n",
    "#         writer.writerow(headers)\n",
    "\n",
    "#     # Открываем на чтение файл, который надо распарсить\n",
    "#     with gzip.open(vcf_file, 'rt') as input_file, open(output_file, 'a', newline='', encoding='utf-8') as output_file:\n",
    "#         vcf_reader = csv.reader(input_file, delimiter='\\t')\n",
    "#         tsv_writer = csv.writer(output_file, delimiter='\\t')\n",
    "\n",
    "#         for line in vcf_reader:\n",
    "#             if not line[clinvar_columns_mapping['CHROM']].startswith('#'):\n",
    "                    \n",
    "#                     chrom = 'chr' + line[clinvar_columns_mapping['CHROM']]\n",
    "#                     position = line[clinvar_columns_mapping['POS']]\n",
    "#                     variation_id = line[clinvar_columns_mapping['ID']]\n",
    "#                     Ref = line[clinvar_columns_mapping['REF']]\n",
    "#                     Alt = line[clinvar_columns_mapping['ALT']]\n",
    "                \n",
    "#                     clinvar_data = {\n",
    "#                         'ALLELEID': None, 'CLNDISDB': None, 'CLNDN': None, 'CLNHGVS': None, 'CLNREVSTAT': None, \n",
    "#                         'CLNSIG': None, 'CLNVC': None, 'CLNVCSO': None, 'GENEINFO': None, 'MC': None\n",
    "#                     }\n",
    "                                        \n",
    "#                     info_index = clinvar_columns_mapping['INFO']\n",
    "#                     column_with_info = line[info_index].split(';')\n",
    "#                     for element in column_with_info:\n",
    "\n",
    "#                         for category in clinvar_data:\n",
    "#                             if element.startswith(f'{category}='):\n",
    "#                                 value = element.split('=')\n",
    "#                                 clinvar_data[category] = value[-1] \n",
    "                    \n",
    "#                     vep_info = column_with_info[-1].split(',')\n",
    "                    \n",
    "#                     for element in vep_info:\n",
    "#                         variant_info = element.split('|')\n",
    "\n",
    "#                         consequence_index = vep_info_names_mapping.get('Consequence')\n",
    "#                         info_consequence = variant_info[consequence_index]\n",
    "\n",
    "#                         symbol_index = vep_info_names_mapping.get('SYMBOL')\n",
    "#                         info_symbol = variant_info[symbol_index]\n",
    "\n",
    "#                         gene_index = vep_info_names_mapping.get('Gene')\n",
    "#                         info_gene = variant_info[gene_index]\n",
    "\n",
    "#                         feature_type_index = vep_info_names_mapping.get('Feature_type')\n",
    "#                         info_feature_type = variant_info[feature_type_index]\n",
    "\n",
    "#                         feature_index = vep_info_names_mapping.get('Feature')\n",
    "#                         info_feature = variant_info[feature_index]\n",
    "\n",
    "#                         biotype_index = vep_info_names_mapping.get('BIOTYPE')\n",
    "#                         info_biotype = variant_info[biotype_index]\n",
    "                        \n",
    "#                         cDNA_index = vep_info_names_mapping.get('cDNA_position')\n",
    "#                         info_cDNA = variant_info[cDNA_index]\n",
    "                        \n",
    "#                         canonical_index = vep_info_names_mapping.get('CANONICAL')\n",
    "#                         info_canonical = variant_info[canonical_index]\n",
    "\n",
    "#                         filtered_data = [\n",
    "#                                         chrom, \n",
    "#                                         position, \n",
    "#                                         variation_id, \n",
    "#                                         Ref, \n",
    "#                                         Alt,\n",
    "#                                         clinvar_data['CLNSIG'],\n",
    "#                                         clinvar_data['CLNVC'],\n",
    "#                                         clinvar_data['GENEINFO'],\n",
    "#                                         clinvar_data['MC'],\n",
    "#                                         info_consequence,\n",
    "#                                         info_symbol,\n",
    "#                                         info_gene,\n",
    "#                                         info_feature_type,\n",
    "#                                         info_feature,\n",
    "#                                         info_biotype,\n",
    "#                                         info_cDNA,\n",
    "#                                         info_canonical\n",
    "#                                     ]\n",
    "    \n",
    "#                         tsv_writer.writerow(filtered_data)"
   ]
  },
  {
   "cell_type": "code",
   "execution_count": 4,
   "id": "5b2f6175-7143-4c75-89c1-5bdd1d0e4e5f",
   "metadata": {},
   "outputs": [],
   "source": [
    "def parse_vcf_line(line):\n",
    "    parsed_data = []\n",
    "\n",
    "    if not line[clinvar_columns_mapping['CHROM']].startswith('#'):\n",
    "        chrom = 'chr' + line[clinvar_columns_mapping['CHROM']]\n",
    "        position = line[clinvar_columns_mapping['POS']]\n",
    "        variation_id = line[clinvar_columns_mapping['ID']]\n",
    "        Ref = line[clinvar_columns_mapping['REF']]\n",
    "        Alt = line[clinvar_columns_mapping['ALT']]\n",
    "        \n",
    "        clinvar_data = {\n",
    "            'ALLELEID': None, 'CLNDISDB': None, 'CLNDN': None, 'CLNHGVS': None, 'CLNREVSTAT': None, \n",
    "            'CLNSIG': None, 'CLNVC': None, 'CLNVCSO': None, 'GENEINFO': None, 'MC': None\n",
    "        }\n",
    "        \n",
    "        info_index = clinvar_columns_mapping['INFO']\n",
    "        column_with_info = line[info_index].split(';')\n",
    "        for element in column_with_info:\n",
    "            for category in clinvar_data:\n",
    "                if element.startswith(f'{category}='):\n",
    "                    value = element.split('=')\n",
    "                    clinvar_data[category] = value[-1] \n",
    "        \n",
    "        vep_info = column_with_info[-1].split(',')\n",
    "        \n",
    "        for element in vep_info:\n",
    "            variant_info = element.split('|')\n",
    "\n",
    "            consequence_index = vep_info_names_mapping.get('Consequence')\n",
    "            info_consequence = variant_info[consequence_index]\n",
    "\n",
    "            symbol_index = vep_info_names_mapping.get('SYMBOL')\n",
    "            info_symbol = variant_info[symbol_index]\n",
    "\n",
    "            gene_index = vep_info_names_mapping.get('Gene')\n",
    "            info_gene = variant_info[gene_index]\n",
    "\n",
    "            feature_type_index = vep_info_names_mapping.get('Feature_type')\n",
    "            info_feature_type = variant_info[feature_type_index]\n",
    "\n",
    "            feature_index = vep_info_names_mapping.get('Feature')\n",
    "            info_feature = variant_info[feature_index]\n",
    "\n",
    "            biotype_index = vep_info_names_mapping.get('BIOTYPE')\n",
    "            info_biotype = variant_info[biotype_index]\n",
    "\n",
    "            cDNA_index = vep_info_names_mapping.get('cDNA_position')\n",
    "            info_cDNA = variant_info[cDNA_index]\n",
    "\n",
    "            canonical_index = vep_info_names_mapping.get('CANONICAL')\n",
    "            info_canonical = variant_info[canonical_index]\n",
    "            \n",
    "            filtered_data = [\n",
    "                chrom, position, variation_id, Ref, Alt,\n",
    "                clinvar_data['CLNSIG'], clinvar_data['CLNVC'], clinvar_data['GENEINFO'], clinvar_data['MC'],\n",
    "                info_consequence, info_symbol, info_gene, info_feature_type, \n",
    "                info_feature, info_biotype,\n",
    "                info_cDNA, info_canonical\n",
    "            ]\n",
    "            parsed_data.append(filtered_data)\n",
    "\n",
    "    return parsed_data\n"
   ]
  },
  {
   "cell_type": "code",
   "execution_count": 5,
   "id": "4d622a77-402a-4615-ac7e-553f33585c06",
   "metadata": {},
   "outputs": [],
   "source": [
    "headers = ['CHROM', 'POS', 'ID', 'REF', 'ALT', 'CLNSIG', 'CLNVC',  'GENEINFO', 'MC', \n",
    "           'Consequence', 'SYMBOL', 'Gene', 'Feature_type', 'Feature', 'BIOTYPE', 'cDNA_position', 'CANONICAL']\n",
    "\n",
    "def get_parse_clinvar_vcf(vcf_file, output_dir='', output_filename=''):\n",
    "\n",
    "    # Если папка не указана, сохраняем в текущую директорию\n",
    "    if output_dir == '':\n",
    "        output_dir = os.getcwd()\n",
    "    \n",
    "    # Если имя выходного файла не задано, используем имя входного файла, но с расширением .tsv\n",
    "    # Через basename получаем имя файла, а через splitext оставляем только название без расширения\n",
    "    if output_filename == '':\n",
    "        output_filename = os.path.splitext(os.path.basename(vcf_file))[0] + '.tsv'\n",
    "    else:\n",
    "        # Если не указано расширение файла (указано неверно), добавляем .tsv\n",
    "        if not output_filename.endswith('.tsv'):\n",
    "            output_filename += '.tsv'\n",
    "    \n",
    "    # Полный путь к выходному файлу\n",
    "    output_file = os.path.join(output_dir, output_filename)\n",
    "    \n",
    "    # Запись шапки таблицы в выходной файл\n",
    "    with open(output_file, 'w', newline='', encoding='utf-8') as table_file:\n",
    "        writer = csv.writer(table_file, delimiter='\\t')\n",
    "        writer.writerow(headers)\n",
    "\n",
    "    \n",
    "    with gzip.open(vcf_file, 'rt') as input_file, open(output_file, 'a', newline='', encoding='utf-8') as output_file:\n",
    "        vcf_reader = csv.reader(input_file, delimiter='\\t')\n",
    "        tsv_writer = csv.writer(output_file, delimiter='\\t')\n",
    "        \n",
    "        for line in vcf_reader:\n",
    "            parsed_data = parse_vcf_line(line)\n",
    "            for data in parsed_data:\n",
    "                tsv_writer.writerow(data)\n"
   ]
  },
  {
   "cell_type": "code",
   "execution_count": null,
   "id": "a9e504c3-e8bb-406a-a77b-5a516ce93a47",
   "metadata": {},
   "outputs": [],
   "source": []
  },
  {
   "cell_type": "markdown",
   "id": "e2a3682a-e66b-4427-9f01-9e382f8c6ba5",
   "metadata": {},
   "source": [
    "Указываем input файл (или путь к нему), а также имя output (необязательно, задаётся по умолчанию по названию вцф):"
   ]
  },
  {
   "cell_type": "code",
   "execution_count": 9,
   "id": "cc1fb059-5bab-49aa-b757-7fe5cb32df39",
   "metadata": {},
   "outputs": [],
   "source": [
    "get_parse_clinvar_vcf('data_dir/clinvar/clinvar_20240331_anno.vcf.gz', output_dir='data_dir/clinvar')"
   ]
  },
  {
   "cell_type": "code",
   "execution_count": null,
   "id": "f2a50335-6a82-4d39-a172-ae6e3026cd2a",
   "metadata": {},
   "outputs": [],
   "source": []
  }
 ],
 "metadata": {
  "kernelspec": {
   "display_name": "bi_kernel",
   "language": "python",
   "name": "bi_kernel"
  },
  "language_info": {
   "codemirror_mode": {
    "name": "ipython",
    "version": 3
   },
   "file_extension": ".py",
   "mimetype": "text/x-python",
   "name": "python",
   "nbconvert_exporter": "python",
   "pygments_lexer": "ipython3",
   "version": "3.12.2"
  }
 },
 "nbformat": 4,
 "nbformat_minor": 5
}
