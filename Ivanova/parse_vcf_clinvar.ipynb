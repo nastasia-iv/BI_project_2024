{
 "cells": [
  {
   "cell_type": "code",
   "execution_count": 33,
   "id": "fc565154-10df-46fa-a441-bb2e1e42e3a9",
   "metadata": {},
   "outputs": [],
   "source": [
    "# TODO\n",
    "# Пофиксить артефакты 'chrNT_113889.1', 'chrNT_187633.1', 'chrNT_187661.1', 'chrNT_187693.1', 'chrNW_009646201.1'"
   ]
  },
  {
   "cell_type": "code",
   "execution_count": 2,
   "id": "3ed41d0b-9560-49c8-a5fc-2bd1dec9afc7",
   "metadata": {},
   "outputs": [],
   "source": [
    "import csv\n",
    "import gzip\n",
    "import os"
   ]
  },
  {
   "cell_type": "code",
   "execution_count": 30,
   "id": "14b8386a-ffba-489d-8654-a54d619a0a9c",
   "metadata": {},
   "outputs": [],
   "source": [
    "headers = ['Chr', 'Position', 'rsID', 'Ref', 'Alt', 'Classification']"
   ]
  },
  {
   "cell_type": "code",
   "execution_count": 22,
   "id": "d9c9e99f-97f3-48b6-9717-925608d3ee1b",
   "metadata": {},
   "outputs": [],
   "source": [
    "clinvar_columns = ['CHROM', 'POS', 'ID', 'REF', 'ALT', 'QUAL', 'FILTER', 'INFO']\n",
    "clinvar_field_mapping = dict(zip(clinvar_columns, range(len(clinvar_columns))))"
   ]
  },
  {
   "cell_type": "code",
   "execution_count": 23,
   "id": "64b24d09-f59f-4e07-af77-84600dcf6e52",
   "metadata": {},
   "outputs": [
    {
     "data": {
      "text/plain": [
       "{'CHROM': 0,\n",
       " 'POS': 1,\n",
       " 'ID': 2,\n",
       " 'REF': 3,\n",
       " 'ALT': 4,\n",
       " 'QUAL': 5,\n",
       " 'FILTER': 6,\n",
       " 'INFO': 7}"
      ]
     },
     "execution_count": 23,
     "metadata": {},
     "output_type": "execute_result"
    }
   ],
   "source": [
    "clinvar_field_mapping"
   ]
  },
  {
   "cell_type": "code",
   "execution_count": 4,
   "id": "15626a27-eb8f-4711-88a1-81fb175641c0",
   "metadata": {},
   "outputs": [],
   "source": [
    "clinvar_info_names = 'AF_ESP|AF_EXAC|AF_TGP|ALLELEID|CLNDN|CLNDNINCL|CLNDISDB|CLNDISDBINCL|CLNHGVS|CLNREVSTAT|CLNSIG|CLNSIGCONF|CLNSIGINCL|CLNVC|CLNVCSO|CLNVI|DBVARID|GENEINFO|MC|ONCDN|ONCDNINCL|ONCDISDB|ONCDISDBINCL|ONC|ONCINCL|ONCREVSTAT|ONCCONF|ORIGIN|RS|SCIDN|SCIDNINCL|SCIDISDB|SCIDISDBINCL|SCIREVSTAT|SCI|SCIINCL'.split('|')"
   ]
  },
  {
   "cell_type": "markdown",
   "id": "aadd0a11-d6c1-496b-90ab-7a640d551a9e",
   "metadata": {},
   "source": [
    "Значения колонки CHROM:  \n",
    "[1, 2, 3, 4, 5, 6, 7, 8, 9, 10, 11, 12, 13, 14, 15, 16, 17, 18, 19,\n",
    "       20, '20', '21', '22', 'X', 'Y', 'MT', 'NT_113889.1', 'NT_187633.1',\n",
    "       'NT_187661.1', 'NT_187693.1', 'NW_009646201.1']"
   ]
  },
  {
   "cell_type": "markdown",
   "id": "73c4af32-4982-47df-b3d1-9eea44e46aa3",
   "metadata": {},
   "source": [
    "Я прибавляю _chr_ к значениям хромосом, чтобы было единообразие с результатами парсинга гномада. Т.е. со значениями типа NT_113889.1 получается некрасивое chrNT_113889.1"
   ]
  },
  {
   "cell_type": "code",
   "execution_count": 24,
   "id": "13c984cd-8261-4ed7-aca5-0cc398084235",
   "metadata": {},
   "outputs": [],
   "source": [
    "# Функция для извлечения данных из поля INFO Clinvar\n",
    "\n",
    "def get_clinvar_info(line, target_field):\n",
    "    info_index = clinvar_field_mapping['INFO']\n",
    "    clinvar_info = line[info_index].split(';')  # разделяем все поля по ;\n",
    "\n",
    "    for i in clinvar_info:\n",
    "        value = None\n",
    "        if i.startswith(target_field):\n",
    "            i = i.split('=')\n",
    "            value = i[-1]\n",
    "\n",
    "            return value"
   ]
  },
  {
   "cell_type": "code",
   "execution_count": 31,
   "id": "32c4e084-7768-4462-a8e3-07daef986cfd",
   "metadata": {},
   "outputs": [],
   "source": [
    "# Функция для парсинга вцф-файла\n",
    "\n",
    "def get_parse_clinvar_vcf(vcf_file, output_dir='', output_filename=''):\n",
    "\n",
    "    # Если папка не указана, сохраняем в текущую директорию\n",
    "    if output_dir == '':\n",
    "        output_dir = os.getcwd()\n",
    "    \n",
    "    # Если имя выходного файла не задано, используем имя входного файла, но с расширением .tsv\n",
    "    # Через basename получаем имя файла, а через splitext оставляем только название без расширения\n",
    "    if output_filename == '':\n",
    "        output_filename = os.path.splitext(os.path.basename(vcf_file))[0] + '.tsv'\n",
    "    else:\n",
    "        # Если не указано расширение файла (указано неверно), добавляем .tsv\n",
    "        if not output_filename.endswith('.tsv'):\n",
    "            output_filename += '.tsv'\n",
    "    \n",
    "    # Полный путь к выходному файлу\n",
    "    output_file = os.path.join(output_dir, output_filename)\n",
    "    \n",
    "    # Запись шапки таблицы в выходной файл\n",
    "    with open(output_file, 'w', newline='', encoding='utf-8') as table_file:\n",
    "        writer = csv.writer(table_file, delimiter='\\t')\n",
    "        writer.writerow(headers)\n",
    "\n",
    "    # Открываем на чтение файл, который надо распарсить\n",
    "    with gzip.open(vcf_file, 'rt') as input_file, open(output_file, 'a', newline='', encoding='utf-8') as output_file:\n",
    "        vcf_reader = csv.reader(input_file, delimiter='\\t')\n",
    "        tsv_writer = csv.writer(output_file, delimiter='\\t')\n",
    "\n",
    "        for line in vcf_reader:\n",
    "            if not line[clinvar_field_mapping['CHROM']].startswith('#'):\n",
    "                    \n",
    "                    chrom = 'chr' + line[clinvar_field_mapping['CHROM']]\n",
    "                    position = line[clinvar_field_mapping['POS']]\n",
    "                    rsID = line[clinvar_field_mapping['ID']]\n",
    "                    Ref = line[clinvar_field_mapping['REF']]\n",
    "                    Alt = line[clinvar_field_mapping['ALT']]\n",
    "                    \n",
    "                    significance = get_clinvar_info(line, 'CLNSIG')\n",
    "\n",
    "                    # Записываем новые данные в таблицу\n",
    "                    filtered_data = [\n",
    "                                    chrom, \n",
    "                                    position, \n",
    "                                    rsID, \n",
    "                                    Ref, \n",
    "                                    Alt,\n",
    "                                    significance\n",
    "                                ]\n",
    "\n",
    "                    tsv_writer.writerow(filtered_data)"
   ]
  },
  {
   "cell_type": "code",
   "execution_count": null,
   "id": "5b2f6175-7143-4c75-89c1-5bdd1d0e4e5f",
   "metadata": {},
   "outputs": [],
   "source": []
  },
  {
   "cell_type": "markdown",
   "id": "e2a3682a-e66b-4427-9f01-9e382f8c6ba5",
   "metadata": {},
   "source": [
    "Указываем input файл (или путь к нему), а также имя output (необязательно, задаётся по умолчанию по названию вцф):"
   ]
  },
  {
   "cell_type": "code",
   "execution_count": 32,
   "id": "cc1fb059-5bab-49aa-b757-7fe5cb32df39",
   "metadata": {},
   "outputs": [],
   "source": [
    "get_parse_clinvar_vcf('data_dir/clinvar/clinvar_20240331.vcf.gz', output_dir='data_dir')"
   ]
  },
  {
   "cell_type": "code",
   "execution_count": null,
   "id": "5e2dd832-492d-4c76-a69a-67beecdcb710",
   "metadata": {},
   "outputs": [],
   "source": []
  }
 ],
 "metadata": {
  "kernelspec": {
   "display_name": "bi_kernel",
   "language": "python",
   "name": "bi_kernel"
  },
  "language_info": {
   "codemirror_mode": {
    "name": "ipython",
    "version": 3
   },
   "file_extension": ".py",
   "mimetype": "text/x-python",
   "name": "python",
   "nbconvert_exporter": "python",
   "pygments_lexer": "ipython3",
   "version": "3.12.2"
  }
 },
 "nbformat": 4,
 "nbformat_minor": 5
}
