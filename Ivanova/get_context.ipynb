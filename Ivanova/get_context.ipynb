{
 "cells": [
  {
   "cell_type": "markdown",
   "id": "10e87404-3816-4b6f-8cc1-3a382d6b32ce",
   "metadata": {},
   "source": [
    "#### Получаем контекст последовательности с помощью pyfaidx\n",
    "(не учитывая экзон-интронную организацию)"
   ]
  },
  {
   "cell_type": "code",
   "execution_count": 1,
   "id": "d816d81a-b385-4ad8-ab35-fb084f7a1549",
   "metadata": {},
   "outputs": [],
   "source": [
    "from pyfaidx import Fasta"
   ]
  },
  {
   "cell_type": "code",
   "execution_count": 2,
   "id": "20abdd90-85e6-48df-bf62-ac3b09814206",
   "metadata": {},
   "outputs": [],
   "source": [
    "# поменять на свой\n",
    "fasta_file_path = 'data/GRCh38.primary_assembly.genome.fa.gz'"
   ]
  },
  {
   "cell_type": "code",
   "execution_count": 3,
   "id": "c2afdc94-e51d-4af2-93fe-0a9415c4e3b4",
   "metadata": {},
   "outputs": [],
   "source": [
    "fasta = Fasta(fasta_file_path)"
   ]
  },
  {
   "cell_type": "code",
   "execution_count": 4,
   "id": "0b236186-6e27-4f64-8498-b82c4d25af86",
   "metadata": {},
   "outputs": [],
   "source": [
    "chromosome = 'chr18'\n",
    "position_of_interest = 47245"
   ]
  },
  {
   "cell_type": "code",
   "execution_count": 11,
   "id": "36291560-6cd8-4ea3-9f13-86777e8c83f4",
   "metadata": {},
   "outputs": [],
   "source": [
    "sequence_of_interest = fasta[chromosome][position_of_interest - 4:position_of_interest + 11]  \n",
    "# границы выбраны исходя из таблицы tsv просто для проверки"
   ]
  },
  {
   "cell_type": "code",
   "execution_count": 12,
   "id": "d2b8dac1-fee4-4dfb-b13a-0aac986f19a2",
   "metadata": {},
   "outputs": [
    {
     "name": "stdout",
     "output_type": "stream",
     "text": [
      "ATTAGTCAAAACCGC\n"
     ]
    }
   ],
   "source": [
    "print(sequence_of_interest)"
   ]
  },
  {
   "cell_type": "code",
   "execution_count": 14,
   "id": "e9722d8c-9ebb-467f-a32b-dc74126d0a62",
   "metadata": {},
   "outputs": [
    {
     "name": "stdout",
     "output_type": "stream",
     "text": [
      "47242 - A\n",
      "47243 - T\n",
      "47244 - T\n",
      "47245 - A\n",
      "47246 - G\n",
      "47247 - T\n",
      "47248 - C\n",
      "47249 - A\n",
      "47250 - A\n",
      "47251 - A\n",
      "47252 - A\n",
      "47253 - C\n",
      "47254 - C\n",
      "47255 - G\n",
      "47256 - C\n"
     ]
    }
   ],
   "source": [
    "for i, nucleotide in enumerate(sequence_of_interest, 47242):\n",
    "    print(f\"{i} - {nucleotide}\")"
   ]
  },
  {
   "cell_type": "markdown",
   "id": "71a3f7ce-ed40-4d63-a933-01c7ea6a97cd",
   "metadata": {},
   "source": [
    "![nucls](something/nucleotide_positions.png)"
   ]
  },
  {
   "cell_type": "markdown",
   "id": "3f68ffa0-905b-4e05-9bf0-db7adc0804dc",
   "metadata": {},
   "source": [
    "#### Пересечение интервалов интересующих позиций"
   ]
  },
  {
   "cell_type": "code",
   "execution_count": 3,
   "id": "3b05c23f-063c-4327-99e2-59f006ca9635",
   "metadata": {},
   "outputs": [],
   "source": [
    "import pandas as pd\n",
    "from os.path import join"
   ]
  },
  {
   "cell_type": "code",
   "execution_count": 29,
   "id": "69273583-8d6a-47ad-b507-5809a8c0d3f7",
   "metadata": {},
   "outputs": [
    {
     "data": {
      "text/html": [
       "<div>\n",
       "<style scoped>\n",
       "    .dataframe tbody tr th:only-of-type {\n",
       "        vertical-align: middle;\n",
       "    }\n",
       "\n",
       "    .dataframe tbody tr th {\n",
       "        vertical-align: top;\n",
       "    }\n",
       "\n",
       "    .dataframe thead th {\n",
       "        text-align: right;\n",
       "    }\n",
       "</style>\n",
       "<table border=\"1\" class=\"dataframe\">\n",
       "  <thead>\n",
       "    <tr style=\"text-align: right;\">\n",
       "      <th></th>\n",
       "      <th>Chr</th>\n",
       "      <th>Position</th>\n",
       "      <th>rsID</th>\n",
       "      <th>Ref</th>\n",
       "      <th>Alt</th>\n",
       "      <th>Consequence</th>\n",
       "      <th>Canonical</th>\n",
       "      <th>Gene_symbol</th>\n",
       "      <th>Domains</th>\n",
       "      <th>LoF</th>\n",
       "      <th>LoF_flag</th>\n",
       "      <th>LoF_filter</th>\n",
       "    </tr>\n",
       "  </thead>\n",
       "  <tbody>\n",
       "    <tr>\n",
       "      <th>0</th>\n",
       "      <td>chr18</td>\n",
       "      <td>46050</td>\n",
       "      <td>rs744323</td>\n",
       "      <td>C</td>\n",
       "      <td>T</td>\n",
       "      <td>['ENST00000308911: downstream_gene_variant', '...</td>\n",
       "      <td>ENST00000308911: YES, ENST00000572530: YES, EN...</td>\n",
       "      <td>TUBB8B, LOC105371950</td>\n",
       "      <td>NaN</td>\n",
       "      <td>NaN</td>\n",
       "      <td>NaN</td>\n",
       "      <td>NaN</td>\n",
       "    </tr>\n",
       "    <tr>\n",
       "      <th>1</th>\n",
       "      <td>chr18</td>\n",
       "      <td>47239</td>\n",
       "      <td>.</td>\n",
       "      <td>TTTA</td>\n",
       "      <td>T</td>\n",
       "      <td>['ENST00000308911: 3_prime_UTR_variant', 'ENST...</td>\n",
       "      <td>ENST00000308911: YES, ENST00000572530: YES, EN...</td>\n",
       "      <td>TUBB8B, LOC105371950</td>\n",
       "      <td>NaN</td>\n",
       "      <td>NaN</td>\n",
       "      <td>NaN</td>\n",
       "      <td>NaN</td>\n",
       "    </tr>\n",
       "    <tr>\n",
       "      <th>2</th>\n",
       "      <td>chr18</td>\n",
       "      <td>47242</td>\n",
       "      <td>rs893233952</td>\n",
       "      <td>A</td>\n",
       "      <td>G</td>\n",
       "      <td>['ENST00000308911: 3_prime_UTR_variant', 'ENST...</td>\n",
       "      <td>ENST00000308911: YES, ENST00000572530: YES, EN...</td>\n",
       "      <td>TUBB8B, LOC105371950</td>\n",
       "      <td>NaN</td>\n",
       "      <td>NaN</td>\n",
       "      <td>NaN</td>\n",
       "      <td>NaN</td>\n",
       "    </tr>\n",
       "    <tr>\n",
       "      <th>3</th>\n",
       "      <td>chr18</td>\n",
       "      <td>47243</td>\n",
       "      <td>.</td>\n",
       "      <td>T</td>\n",
       "      <td>C</td>\n",
       "      <td>['ENST00000308911: 3_prime_UTR_variant', 'ENST...</td>\n",
       "      <td>ENST00000308911: YES, ENST00000572530: YES, EN...</td>\n",
       "      <td>TUBB8B, LOC105371950</td>\n",
       "      <td>NaN</td>\n",
       "      <td>NaN</td>\n",
       "      <td>NaN</td>\n",
       "      <td>NaN</td>\n",
       "    </tr>\n",
       "    <tr>\n",
       "      <th>4</th>\n",
       "      <td>chr18</td>\n",
       "      <td>47245</td>\n",
       "      <td>.</td>\n",
       "      <td>A</td>\n",
       "      <td>T</td>\n",
       "      <td>['ENST00000308911: 3_prime_UTR_variant', 'ENST...</td>\n",
       "      <td>ENST00000308911: YES, ENST00000572530: YES, EN...</td>\n",
       "      <td>TUBB8B, LOC105371950</td>\n",
       "      <td>NaN</td>\n",
       "      <td>NaN</td>\n",
       "      <td>NaN</td>\n",
       "      <td>NaN</td>\n",
       "    </tr>\n",
       "  </tbody>\n",
       "</table>\n",
       "</div>"
      ],
      "text/plain": [
       "     Chr  Position         rsID   Ref Alt  \\\n",
       "0  chr18     46050     rs744323     C   T   \n",
       "1  chr18     47239            .  TTTA   T   \n",
       "2  chr18     47242  rs893233952     A   G   \n",
       "3  chr18     47243            .     T   C   \n",
       "4  chr18     47245            .     A   T   \n",
       "\n",
       "                                         Consequence  \\\n",
       "0  ['ENST00000308911: downstream_gene_variant', '...   \n",
       "1  ['ENST00000308911: 3_prime_UTR_variant', 'ENST...   \n",
       "2  ['ENST00000308911: 3_prime_UTR_variant', 'ENST...   \n",
       "3  ['ENST00000308911: 3_prime_UTR_variant', 'ENST...   \n",
       "4  ['ENST00000308911: 3_prime_UTR_variant', 'ENST...   \n",
       "\n",
       "                                           Canonical           Gene_symbol  \\\n",
       "0  ENST00000308911: YES, ENST00000572530: YES, EN...  TUBB8B, LOC105371950   \n",
       "1  ENST00000308911: YES, ENST00000572530: YES, EN...  TUBB8B, LOC105371950   \n",
       "2  ENST00000308911: YES, ENST00000572530: YES, EN...  TUBB8B, LOC105371950   \n",
       "3  ENST00000308911: YES, ENST00000572530: YES, EN...  TUBB8B, LOC105371950   \n",
       "4  ENST00000308911: YES, ENST00000572530: YES, EN...  TUBB8B, LOC105371950   \n",
       "\n",
       "  Domains  LoF  LoF_flag  LoF_filter  \n",
       "0     NaN  NaN       NaN         NaN  \n",
       "1     NaN  NaN       NaN         NaN  \n",
       "2     NaN  NaN       NaN         NaN  \n",
       "3     NaN  NaN       NaN         NaN  \n",
       "4     NaN  NaN       NaN         NaN  "
      ]
     },
     "execution_count": 29,
     "metadata": {},
     "output_type": "execute_result"
    }
   ],
   "source": [
    "DATA_PATH = \"data\"\n",
    "data = pd.read_table(join(DATA_PATH, \"deduplicated.tsv\"))\n",
    "data.head()"
   ]
  },
  {
   "cell_type": "code",
   "execution_count": 7,
   "id": "a1768aba-e721-42ea-ba00-acbdc383e8e7",
   "metadata": {},
   "outputs": [
    {
     "data": {
      "text/plain": [
       "(339, 12)"
      ]
     },
     "execution_count": 7,
     "metadata": {},
     "output_type": "execute_result"
    }
   ],
   "source": [
    "data.shape"
   ]
  },
  {
   "cell_type": "markdown",
   "id": "d904a5e5-bb78-48b3-b38e-e6d34e318932",
   "metadata": {},
   "source": [
    "Из распарсенной таблицы отобрали только строки, содержащие непустые значения в одном из лоф-полей (LoF/LoF_flag/LoF_filter)  "
   ]
  },
  {
   "cell_type": "code",
   "execution_count": 30,
   "id": "53ec2c25-590d-4f57-bbc5-d1d77d6371e4",
   "metadata": {},
   "outputs": [],
   "source": [
    "filtered_data = data[(~data['LoF'].isna()) | (~data['LoF_flag'].isna()) | (~data['LoF_filter'].isna())]"
   ]
  },
  {
   "cell_type": "code",
   "execution_count": 21,
   "id": "65610c2b-d83a-4e88-93e4-41ab4145c266",
   "metadata": {},
   "outputs": [
    {
     "data": {
      "text/plain": [
       "(10, 12)"
      ]
     },
     "execution_count": 21,
     "metadata": {},
     "output_type": "execute_result"
    }
   ],
   "source": [
    "filtered_data.shape"
   ]
  },
  {
   "cell_type": "markdown",
   "id": "6c346d23-1a29-4994-94af-c90c0c44ab43",
   "metadata": {},
   "source": [
    "Перевели в vcf"
   ]
  },
  {
   "cell_type": "code",
   "execution_count": 32,
   "id": "8ae642a1-9f75-4818-9f4d-4dd3889eb6e8",
   "metadata": {
    "collapsed": true,
    "jupyter": {
     "outputs_hidden": true
    },
    "scrolled": true
   },
   "outputs": [
    {
     "name": "stderr",
     "output_type": "stream",
     "text": [
      "/tmp/ipykernel_4995/4217350662.py:2: SettingWithCopyWarning: \n",
      "A value is trying to be set on a copy of a slice from a DataFrame.\n",
      "Try using .loc[row_indexer,col_indexer] = value instead\n",
      "\n",
      "See the caveats in the documentation: https://pandas.pydata.org/pandas-docs/stable/user_guide/indexing.html#returning-a-view-versus-a-copy\n",
      "  vcf_df.loc[:, 'QUAL'] = \".\"\n",
      "/tmp/ipykernel_4995/4217350662.py:3: SettingWithCopyWarning: \n",
      "A value is trying to be set on a copy of a slice from a DataFrame.\n",
      "Try using .loc[row_indexer,col_indexer] = value instead\n",
      "\n",
      "See the caveats in the documentation: https://pandas.pydata.org/pandas-docs/stable/user_guide/indexing.html#returning-a-view-versus-a-copy\n",
      "  vcf_df.loc[:, 'FILTER'] = \".\"\n",
      "/tmp/ipykernel_4995/4217350662.py:4: SettingWithCopyWarning: \n",
      "A value is trying to be set on a copy of a slice from a DataFrame.\n",
      "Try using .loc[row_indexer,col_indexer] = value instead\n",
      "\n",
      "See the caveats in the documentation: https://pandas.pydata.org/pandas-docs/stable/user_guide/indexing.html#returning-a-view-versus-a-copy\n",
      "  vcf_df.loc[:, 'INFO'] = \".\"\n"
     ]
    }
   ],
   "source": [
    "vcf_df = filtered_data[['Chr', 'Position', 'rsID', 'Ref', 'Alt']] \n",
    "vcf_df.loc[:, 'QUAL'] = \".\"\n",
    "vcf_df.loc[:, 'FILTER'] = \".\"\n",
    "vcf_df.loc[:, 'INFO'] = \".\"\n",
    "\n",
    "header = \"\"\"##fileformat=VCFv4.2\n",
    "#CHROM POS ID REF ALT QUAL FILTER INFO\n",
    "\"\"\"\n",
    "\n",
    "output_VCF = \"data/myfile.vcf\"\n",
    "with open(output_VCF, 'w') as vcf:\n",
    "    vcf.write(header)\n",
    "\n",
    "vcf_df.to_csv(output_VCF, sep=\"\\t\", mode='a', index=False, header=False)"
   ]
  },
  {
   "cell_type": "markdown",
   "id": "1e9fe7eb-d0fb-470f-a7c4-ca1889c63898",
   "metadata": {},
   "source": [
    "Сделала  \n",
    "! bedtools intersect -a gencode.v45.annotation.gtf.gz -b myfile.vcf > intersected_annotations.gtf"
   ]
  },
  {
   "cell_type": "markdown",
   "id": "1600482f-702f-44a8-ba5a-21de378cdc0a",
   "metadata": {},
   "source": [
    "Получился файл intersected_annotations.gtf, но я не совсем понимаю, что с ним делать дальше :/"
   ]
  }
 ],
 "metadata": {
  "kernelspec": {
   "display_name": "bi_project",
   "language": "python",
   "name": "bi_project"
  },
  "language_info": {
   "codemirror_mode": {
    "name": "ipython",
    "version": 3
   },
   "file_extension": ".py",
   "mimetype": "text/x-python",
   "name": "python",
   "nbconvert_exporter": "python",
   "pygments_lexer": "ipython3",
   "version": "3.11.8"
  }
 },
 "nbformat": 4,
 "nbformat_minor": 5
}
