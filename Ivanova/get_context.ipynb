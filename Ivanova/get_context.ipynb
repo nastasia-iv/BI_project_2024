{
 "cells": [
  {
   "cell_type": "code",
   "execution_count": 1,
   "id": "d816d81a-b385-4ad8-ab35-fb084f7a1549",
   "metadata": {},
   "outputs": [],
   "source": [
    "from pyfaidx import Fasta"
   ]
  },
  {
   "cell_type": "code",
   "execution_count": 6,
   "id": "20abdd90-85e6-48df-bf62-ac3b09814206",
   "metadata": {},
   "outputs": [],
   "source": [
    "# поменять на свой\n",
    "fasta_file_path = 'data_dir/GRCh38.primary_assembly.genome.fa.gz'"
   ]
  },
  {
   "cell_type": "code",
   "execution_count": 7,
   "id": "c2afdc94-e51d-4af2-93fe-0a9415c4e3b4",
   "metadata": {},
   "outputs": [],
   "source": [
    "fasta = Fasta(fasta_file_path)"
   ]
  },
  {
   "cell_type": "code",
   "execution_count": 8,
   "id": "0b236186-6e27-4f64-8498-b82c4d25af86",
   "metadata": {},
   "outputs": [],
   "source": [
    "chromosome = 'chr18'\n",
    "position_of_interest = 47245"
   ]
  },
  {
   "cell_type": "code",
   "execution_count": 26,
   "id": "36291560-6cd8-4ea3-9f13-86777e8c83f4",
   "metadata": {},
   "outputs": [],
   "source": [
    "sequence_of_interest = fasta[chromosome][position_of_interest - 4:position_of_interest + 11]"
   ]
  },
  {
   "cell_type": "code",
   "execution_count": 27,
   "id": "d2b8dac1-fee4-4dfb-b13a-0aac986f19a2",
   "metadata": {},
   "outputs": [
    {
     "name": "stdout",
     "output_type": "stream",
     "text": [
      "ATTAGTCAAAACCGC\n"
     ]
    }
   ],
   "source": [
    "print(sequence_of_interest)"
   ]
  },
  {
   "cell_type": "code",
   "execution_count": 31,
   "id": "e9722d8c-9ebb-467f-a32b-dc74126d0a62",
   "metadata": {},
   "outputs": [
    {
     "name": "stdout",
     "output_type": "stream",
     "text": [
      "47242 - A\n",
      "47243 - T\n",
      "47244 - T\n",
      "47245 - A\n",
      "47246 - G\n",
      "47247 - T\n",
      "47248 - C\n",
      "47249 - A\n",
      "47250 - A\n",
      "47251 - A\n",
      "47252 - A\n",
      "47253 - C\n",
      "47254 - C\n",
      "47255 - G\n",
      "47256 - C\n"
     ]
    }
   ],
   "source": [
    "for i, nucleotide in enumerate(sequence_of_interest, 47242):\n",
    "    print(f\"{i} - {nucleotide}\")"
   ]
  },
  {
   "cell_type": "markdown",
   "id": "71a3f7ce-ed40-4d63-a933-01c7ea6a97cd",
   "metadata": {},
   "source": [
    "![nucleotide-positions.png](https://i.postimg.cc/prWyGB5Y/nucleotide-positions.png)"
   ]
  }
 ],
 "metadata": {
  "kernelspec": {
   "display_name": "bi_project",
   "language": "python",
   "name": "bi_project"
  },
  "language_info": {
   "codemirror_mode": {
    "name": "ipython",
    "version": 3
   },
   "file_extension": ".py",
   "mimetype": "text/x-python",
   "name": "python",
   "nbconvert_exporter": "python",
   "pygments_lexer": "ipython3",
   "version": "3.11.8"
  }
 },
 "nbformat": 4,
 "nbformat_minor": 5
}
