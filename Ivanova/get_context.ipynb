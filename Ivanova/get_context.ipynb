{
 "cells": [
  {
   "cell_type": "markdown",
   "id": "4322fbd8-3d4f-472c-aa0f-ef43b3558012",
   "metadata": {},
   "source": [
    "### Содержание\n",
    "\n",
    "1. [Получаем контекст последовательности с помощью pyfaidx](#Получаем-контекст-последовательности-с-помощью-pyfaidx)\n",
    "2. [Автоматизируем получение контекста (прямо из таблицы с данными)](#Автоматизируем-получение-контекста-(прямо-из-таблицы-с-данными))\n",
    "3. [Пересечение интервалов интересующих позиций](#Пересечение-интервалов-интересующих-позиций)"
   ]
  },
  {
   "cell_type": "markdown",
   "id": "10e87404-3816-4b6f-8cc1-3a382d6b32ce",
   "metadata": {},
   "source": [
    "### Получаем контекст последовательности с помощью pyfaidx"
   ]
  },
  {
   "cell_type": "code",
   "execution_count": 105,
   "id": "4cc987da-9b6e-43cf-a0df-0daa42f2cc28",
   "metadata": {},
   "outputs": [],
   "source": [
    "# TODO\n",
    "# Настроить обработку случаев, когда целевая позиция <= 5"
   ]
  },
  {
   "cell_type": "code",
   "execution_count": 1,
   "id": "d816d81a-b385-4ad8-ab35-fb084f7a1549",
   "metadata": {},
   "outputs": [],
   "source": [
    "from pyfaidx import Fasta"
   ]
  },
  {
   "cell_type": "markdown",
   "id": "74206eb5-7c02-416f-a971-34c13bb3b520",
   "metadata": {},
   "source": [
    "Загружаем нашу фасту с транскриптами, на этом этапе создается индекс fai.  "
   ]
  },
  {
   "cell_type": "markdown",
   "id": "617af3c3-e4d9-45f5-8ec1-dd18edbbc91b",
   "metadata": {},
   "source": [
    "Дополнительно кастомизируем ключи, т.к. в файле траснкриптов ключи выглядят так:  \n",
    "`ENST00000353265.8|ENSG00000178184.16|OTTHUMG00000132922.4|OTTHUMT00000256435.3|PARD6G-201|PARD6G|3836|protein_coding|`  \n",
    "А нам нужна только их первая часть."
   ]
  },
  {
   "cell_type": "code",
   "execution_count": 77,
   "id": "c2afdc94-e51d-4af2-93fe-0a9415c4e3b4",
   "metadata": {},
   "outputs": [],
   "source": [
    "transcript_fasta = Fasta('data_dir/gencode.v45.transcripts.fa.gz', key_function = lambda x: x.split('.')[0])"
   ]
  },
  {
   "cell_type": "markdown",
   "id": "e759a7f3-84d0-46c5-b903-56e697e662aa",
   "metadata": {},
   "source": [
    "Интересующий транскрипт и позиция:"
   ]
  },
  {
   "cell_type": "code",
   "execution_count": 99,
   "id": "0b236186-6e27-4f64-8498-b82c4d25af86",
   "metadata": {},
   "outputs": [],
   "source": [
    "transcript_id = 'ENST00000353265'\n",
    "position_of_interest = 70"
   ]
  },
  {
   "cell_type": "markdown",
   "id": "86a3001b-9a14-4500-9d1f-2c6056dbaba9",
   "metadata": {},
   "source": [
    "Утилита работает как словарь, тогда по примеру из документации:"
   ]
  },
  {
   "cell_type": "code",
   "execution_count": 100,
   "id": "3a14198b-0a0f-43ce-896b-fbfae1d57891",
   "metadata": {},
   "outputs": [
    {
     "data": {
      "text/plain": [
       ">ENST00000353265:65-75 (complement)\n",
       "GCCCGGCCCCG"
      ]
     },
     "execution_count": 100,
     "metadata": {},
     "output_type": "execute_result"
    }
   ],
   "source": [
    "transcript_fasta[transcript_id][position_of_interest - 6 : position_of_interest + 5].complement\n",
    "# 64 : 75"
   ]
  },
  {
   "cell_type": "markdown",
   "id": "84e19f89-780f-435e-a83f-4ef5e4769348",
   "metadata": {},
   "source": [
    "Обратите внимание, это **комплементарная** последовательность!"
   ]
  },
  {
   "cell_type": "code",
   "execution_count": 80,
   "id": "f920d038-3698-43e1-8182-31dab8723a2b",
   "metadata": {},
   "outputs": [],
   "source": [
    "sequence_of_interest = 'GCCCGGCCCCG'"
   ]
  },
  {
   "cell_type": "code",
   "execution_count": 81,
   "id": "804f945a-6469-4174-9fdd-37556ad6aadf",
   "metadata": {},
   "outputs": [
    {
     "name": "stdout",
     "output_type": "stream",
     "text": [
      "65 - G\n",
      "66 - C\n",
      "67 - C\n",
      "68 - C\n",
      "69 - G\n",
      "70 - G\n",
      "71 - C\n",
      "72 - C\n",
      "73 - C\n",
      "74 - C\n",
      "75 - G\n"
     ]
    }
   ],
   "source": [
    "for i, nucleotide in enumerate(sequence_of_interest, 65):\n",
    "    print(f\"{i} - {nucleotide}\")"
   ]
  },
  {
   "cell_type": "markdown",
   "id": "49a5bfb8-6b3f-4793-b4c7-652cd1391a14",
   "metadata": {},
   "source": [
    "Проверила глазами соответствия в таблице, всё сходится."
   ]
  },
  {
   "cell_type": "markdown",
   "id": "7cf1dcad-e236-411b-8cd9-86d36cb85515",
   "metadata": {},
   "source": [
    "  "
   ]
  },
  {
   "cell_type": "markdown",
   "id": "ed74f82f-625c-42c1-9e1c-bba469342b56",
   "metadata": {},
   "source": [
    "### Автоматизируем получение контекста (прямо из таблицы с данными)"
   ]
  },
  {
   "cell_type": "markdown",
   "id": "4465f07d-8104-4979-9eb3-9eb9621f6e34",
   "metadata": {},
   "source": [
    "Вот так можно автоматизировать вытягивание контекста, работая напрямую с таблицей tsv:"
   ]
  },
  {
   "cell_type": "code",
   "execution_count": 90,
   "id": "0cdd11f6-cb60-4350-a08d-694336acd9f2",
   "metadata": {},
   "outputs": [],
   "source": [
    "import pandas as pd\n",
    "\n",
    "from os.path import join"
   ]
  },
  {
   "cell_type": "code",
   "execution_count": 91,
   "id": "80f84542-6c55-4f6e-81df-fa1edacc022a",
   "metadata": {},
   "outputs": [],
   "source": [
    "DATA_PATH = \"data_dir\"\n",
    "df = pd.read_table(join(DATA_PATH, \"only_for_canonical.tsv\"))"
   ]
  },
  {
   "cell_type": "code",
   "execution_count": 92,
   "id": "c1dd5016-8a1a-4d21-8aff-357846d1c2d3",
   "metadata": {},
   "outputs": [],
   "source": [
    "transcript_fasta = Fasta('data_dir/gencode.v45.transcripts.fa.gz', key_function = lambda x: x.split('.')[0])"
   ]
  },
  {
   "cell_type": "markdown",
   "id": "34116d52-8d92-4c42-a63b-152abced5a23",
   "metadata": {},
   "source": [
    "В таблице есть пустые поля в столбце `cDNA_position`, и они при итерации отмечаются как `nan` (т.е. `<class 'float'>`).  \n",
    "  \n",
    "Если значение не пустое, оно имеет тип `str`, так что для работы `pyfaidx` приходится приводить его к `int`."
   ]
  },
  {
   "cell_type": "code",
   "execution_count": 106,
   "id": "ebb6fd0f-4ba4-4555-8967-f8ec948dea29",
   "metadata": {},
   "outputs": [],
   "source": [
    "for index, row in df.iterrows():\n",
    "    transcript_id = row['Canonical_transcript']\n",
    "    position_of_interest = row['cDNA_position']\n",
    "    #print(transcript_id, ':', position_of_interest, type(position_of_interest))\n",
    "\n",
    "    if isinstance(position_of_interest, str) and '-' not in position_of_interest:\n",
    "        position_of_interest = int(position_of_interest)\n",
    "\n",
    "        if position_of_interest > 5:  # иначе получается 5 - 6 в левой границе\n",
    "            sequence_of_interest = transcript_fasta[transcript_id][position_of_interest - 6 : position_of_interest + 5].complement\n",
    "\n",
    "            print(\"Transcript ID:\", transcript_id)\n",
    "            print(\"Position of interest:\", position_of_interest)\n",
    "            print(\"Context of interest:\", sequence_of_interest[:5], sequence_of_interest[5], sequence_of_interest[6:])\n",
    "            print('\\n')\n",
    "\n",
    "    else:\n",
    "        print(\"Skip row with cDNA_position value:\", position_of_interest)\n",
    "        print('\\n')"
   ]
  },
  {
   "cell_type": "raw",
   "id": "342aeca8-212e-4d5e-bd43-8bc859699335",
   "metadata": {},
   "source": [
    "Skip row with cDNA_position value: nan\n",
    "\n",
    "\n",
    "Skip row with cDNA_position value: 1541-1543\n",
    "\n",
    "\n",
    "Transcript ID: ENST00000308911\n",
    "Position of interest: 1541\n",
    "Context of interest: TGATT A TTTCA\n",
    "\n",
    "\n",
    "Transcript ID: ENST00000308911\n",
    "Position of interest: 1540\n",
    "Context of interest: CTGAT T ATTTC"
   ]
  },
  {
   "cell_type": "markdown",
   "id": "fd673608-3682-4183-8b90-64387725d01d",
   "metadata": {},
   "source": [
    "  "
   ]
  },
  {
   "cell_type": "markdown",
   "id": "3f68ffa0-905b-4e05-9bf0-db7adc0804dc",
   "metadata": {},
   "source": [
    "### Пересечение интервалов интересующих позиций"
   ]
  },
  {
   "cell_type": "code",
   "execution_count": 3,
   "id": "3b05c23f-063c-4327-99e2-59f006ca9635",
   "metadata": {},
   "outputs": [],
   "source": [
    "import pandas as pd\n",
    "from os.path import join"
   ]
  },
  {
   "cell_type": "code",
   "execution_count": 29,
   "id": "69273583-8d6a-47ad-b507-5809a8c0d3f7",
   "metadata": {},
   "outputs": [
    {
     "data": {
      "text/html": [
       "<div>\n",
       "<style scoped>\n",
       "    .dataframe tbody tr th:only-of-type {\n",
       "        vertical-align: middle;\n",
       "    }\n",
       "\n",
       "    .dataframe tbody tr th {\n",
       "        vertical-align: top;\n",
       "    }\n",
       "\n",
       "    .dataframe thead th {\n",
       "        text-align: right;\n",
       "    }\n",
       "</style>\n",
       "<table border=\"1\" class=\"dataframe\">\n",
       "  <thead>\n",
       "    <tr style=\"text-align: right;\">\n",
       "      <th></th>\n",
       "      <th>Chr</th>\n",
       "      <th>Position</th>\n",
       "      <th>rsID</th>\n",
       "      <th>Ref</th>\n",
       "      <th>Alt</th>\n",
       "      <th>Consequence</th>\n",
       "      <th>Canonical</th>\n",
       "      <th>Gene_symbol</th>\n",
       "      <th>Domains</th>\n",
       "      <th>LoF</th>\n",
       "      <th>LoF_flag</th>\n",
       "      <th>LoF_filter</th>\n",
       "    </tr>\n",
       "  </thead>\n",
       "  <tbody>\n",
       "    <tr>\n",
       "      <th>0</th>\n",
       "      <td>chr18</td>\n",
       "      <td>46050</td>\n",
       "      <td>rs744323</td>\n",
       "      <td>C</td>\n",
       "      <td>T</td>\n",
       "      <td>['ENST00000308911: downstream_gene_variant', '...</td>\n",
       "      <td>ENST00000308911: YES, ENST00000572530: YES, EN...</td>\n",
       "      <td>TUBB8B, LOC105371950</td>\n",
       "      <td>NaN</td>\n",
       "      <td>NaN</td>\n",
       "      <td>NaN</td>\n",
       "      <td>NaN</td>\n",
       "    </tr>\n",
       "    <tr>\n",
       "      <th>1</th>\n",
       "      <td>chr18</td>\n",
       "      <td>47239</td>\n",
       "      <td>.</td>\n",
       "      <td>TTTA</td>\n",
       "      <td>T</td>\n",
       "      <td>['ENST00000308911: 3_prime_UTR_variant', 'ENST...</td>\n",
       "      <td>ENST00000308911: YES, ENST00000572530: YES, EN...</td>\n",
       "      <td>TUBB8B, LOC105371950</td>\n",
       "      <td>NaN</td>\n",
       "      <td>NaN</td>\n",
       "      <td>NaN</td>\n",
       "      <td>NaN</td>\n",
       "    </tr>\n",
       "    <tr>\n",
       "      <th>2</th>\n",
       "      <td>chr18</td>\n",
       "      <td>47242</td>\n",
       "      <td>rs893233952</td>\n",
       "      <td>A</td>\n",
       "      <td>G</td>\n",
       "      <td>['ENST00000308911: 3_prime_UTR_variant', 'ENST...</td>\n",
       "      <td>ENST00000308911: YES, ENST00000572530: YES, EN...</td>\n",
       "      <td>TUBB8B, LOC105371950</td>\n",
       "      <td>NaN</td>\n",
       "      <td>NaN</td>\n",
       "      <td>NaN</td>\n",
       "      <td>NaN</td>\n",
       "    </tr>\n",
       "    <tr>\n",
       "      <th>3</th>\n",
       "      <td>chr18</td>\n",
       "      <td>47243</td>\n",
       "      <td>.</td>\n",
       "      <td>T</td>\n",
       "      <td>C</td>\n",
       "      <td>['ENST00000308911: 3_prime_UTR_variant', 'ENST...</td>\n",
       "      <td>ENST00000308911: YES, ENST00000572530: YES, EN...</td>\n",
       "      <td>TUBB8B, LOC105371950</td>\n",
       "      <td>NaN</td>\n",
       "      <td>NaN</td>\n",
       "      <td>NaN</td>\n",
       "      <td>NaN</td>\n",
       "    </tr>\n",
       "    <tr>\n",
       "      <th>4</th>\n",
       "      <td>chr18</td>\n",
       "      <td>47245</td>\n",
       "      <td>.</td>\n",
       "      <td>A</td>\n",
       "      <td>T</td>\n",
       "      <td>['ENST00000308911: 3_prime_UTR_variant', 'ENST...</td>\n",
       "      <td>ENST00000308911: YES, ENST00000572530: YES, EN...</td>\n",
       "      <td>TUBB8B, LOC105371950</td>\n",
       "      <td>NaN</td>\n",
       "      <td>NaN</td>\n",
       "      <td>NaN</td>\n",
       "      <td>NaN</td>\n",
       "    </tr>\n",
       "  </tbody>\n",
       "</table>\n",
       "</div>"
      ],
      "text/plain": [
       "     Chr  Position         rsID   Ref Alt  \\\n",
       "0  chr18     46050     rs744323     C   T   \n",
       "1  chr18     47239            .  TTTA   T   \n",
       "2  chr18     47242  rs893233952     A   G   \n",
       "3  chr18     47243            .     T   C   \n",
       "4  chr18     47245            .     A   T   \n",
       "\n",
       "                                         Consequence  \\\n",
       "0  ['ENST00000308911: downstream_gene_variant', '...   \n",
       "1  ['ENST00000308911: 3_prime_UTR_variant', 'ENST...   \n",
       "2  ['ENST00000308911: 3_prime_UTR_variant', 'ENST...   \n",
       "3  ['ENST00000308911: 3_prime_UTR_variant', 'ENST...   \n",
       "4  ['ENST00000308911: 3_prime_UTR_variant', 'ENST...   \n",
       "\n",
       "                                           Canonical           Gene_symbol  \\\n",
       "0  ENST00000308911: YES, ENST00000572530: YES, EN...  TUBB8B, LOC105371950   \n",
       "1  ENST00000308911: YES, ENST00000572530: YES, EN...  TUBB8B, LOC105371950   \n",
       "2  ENST00000308911: YES, ENST00000572530: YES, EN...  TUBB8B, LOC105371950   \n",
       "3  ENST00000308911: YES, ENST00000572530: YES, EN...  TUBB8B, LOC105371950   \n",
       "4  ENST00000308911: YES, ENST00000572530: YES, EN...  TUBB8B, LOC105371950   \n",
       "\n",
       "  Domains  LoF  LoF_flag  LoF_filter  \n",
       "0     NaN  NaN       NaN         NaN  \n",
       "1     NaN  NaN       NaN         NaN  \n",
       "2     NaN  NaN       NaN         NaN  \n",
       "3     NaN  NaN       NaN         NaN  \n",
       "4     NaN  NaN       NaN         NaN  "
      ]
     },
     "execution_count": 29,
     "metadata": {},
     "output_type": "execute_result"
    }
   ],
   "source": [
    "DATA_PATH = \"data_dir\"\n",
    "data = pd.read_table(join(DATA_PATH, \"deduplicated.tsv\"))\n",
    "data.head()"
   ]
  },
  {
   "cell_type": "code",
   "execution_count": 7,
   "id": "a1768aba-e721-42ea-ba00-acbdc383e8e7",
   "metadata": {},
   "outputs": [
    {
     "data": {
      "text/plain": [
       "(339, 12)"
      ]
     },
     "execution_count": 7,
     "metadata": {},
     "output_type": "execute_result"
    }
   ],
   "source": [
    "data.shape"
   ]
  },
  {
   "cell_type": "markdown",
   "id": "d904a5e5-bb78-48b3-b38e-e6d34e318932",
   "metadata": {},
   "source": [
    "Из распарсенной таблицы отобрали только строки, содержащие непустые значения в одном из лоф-полей (LoF/LoF_flag/LoF_filter)  "
   ]
  },
  {
   "cell_type": "code",
   "execution_count": 30,
   "id": "53ec2c25-590d-4f57-bbc5-d1d77d6371e4",
   "metadata": {},
   "outputs": [],
   "source": [
    "filtered_data = data[(~data['LoF'].isna()) | (~data['LoF_flag'].isna()) | (~data['LoF_filter'].isna())]"
   ]
  },
  {
   "cell_type": "code",
   "execution_count": 21,
   "id": "65610c2b-d83a-4e88-93e4-41ab4145c266",
   "metadata": {},
   "outputs": [
    {
     "data": {
      "text/plain": [
       "(10, 12)"
      ]
     },
     "execution_count": 21,
     "metadata": {},
     "output_type": "execute_result"
    }
   ],
   "source": [
    "filtered_data.shape"
   ]
  },
  {
   "cell_type": "markdown",
   "id": "6c346d23-1a29-4994-94af-c90c0c44ab43",
   "metadata": {},
   "source": [
    "Перевели в vcf"
   ]
  },
  {
   "cell_type": "code",
   "execution_count": 32,
   "id": "8ae642a1-9f75-4818-9f4d-4dd3889eb6e8",
   "metadata": {
    "collapsed": true,
    "jupyter": {
     "outputs_hidden": true
    },
    "scrolled": true
   },
   "outputs": [
    {
     "name": "stderr",
     "output_type": "stream",
     "text": [
      "/tmp/ipykernel_4995/4217350662.py:2: SettingWithCopyWarning: \n",
      "A value is trying to be set on a copy of a slice from a DataFrame.\n",
      "Try using .loc[row_indexer,col_indexer] = value instead\n",
      "\n",
      "See the caveats in the documentation: https://pandas.pydata.org/pandas-docs/stable/user_guide/indexing.html#returning-a-view-versus-a-copy\n",
      "  vcf_df.loc[:, 'QUAL'] = \".\"\n",
      "/tmp/ipykernel_4995/4217350662.py:3: SettingWithCopyWarning: \n",
      "A value is trying to be set on a copy of a slice from a DataFrame.\n",
      "Try using .loc[row_indexer,col_indexer] = value instead\n",
      "\n",
      "See the caveats in the documentation: https://pandas.pydata.org/pandas-docs/stable/user_guide/indexing.html#returning-a-view-versus-a-copy\n",
      "  vcf_df.loc[:, 'FILTER'] = \".\"\n",
      "/tmp/ipykernel_4995/4217350662.py:4: SettingWithCopyWarning: \n",
      "A value is trying to be set on a copy of a slice from a DataFrame.\n",
      "Try using .loc[row_indexer,col_indexer] = value instead\n",
      "\n",
      "See the caveats in the documentation: https://pandas.pydata.org/pandas-docs/stable/user_guide/indexing.html#returning-a-view-versus-a-copy\n",
      "  vcf_df.loc[:, 'INFO'] = \".\"\n"
     ]
    }
   ],
   "source": [
    "vcf_df = filtered_data[['Chr', 'Position', 'rsID', 'Ref', 'Alt']] \n",
    "vcf_df.loc[:, 'QUAL'] = \".\"\n",
    "vcf_df.loc[:, 'FILTER'] = \".\"\n",
    "vcf_df.loc[:, 'INFO'] = \".\"\n",
    "\n",
    "header = \"\"\"##fileformat=VCFv4.2\n",
    "#CHROM POS ID REF ALT QUAL FILTER INFO\n",
    "\"\"\"\n",
    "\n",
    "output_VCF = \"data_dir/myfile.vcf\"\n",
    "with open(output_VCF, 'w') as vcf:\n",
    "    vcf.write(header)\n",
    "\n",
    "vcf_df.to_csv(output_VCF, sep=\"\\t\", mode='a', index=False, header=False)"
   ]
  },
  {
   "cell_type": "markdown",
   "id": "1e9fe7eb-d0fb-470f-a7c4-ca1889c63898",
   "metadata": {},
   "source": [
    "Сделала  \n",
    "! bedtools intersect -wo -a myfile.vcf -b gencode.v45.annotation.gtf.gz > intersected_annotations.gtf"
   ]
  },
  {
   "cell_type": "markdown",
   "id": "1600482f-702f-44a8-ba5a-21de378cdc0a",
   "metadata": {},
   "source": [
    "Получился файл intersected_annotations.gtf"
   ]
  }
 ],
 "metadata": {
  "kernelspec": {
   "display_name": "bi_project",
   "language": "python",
   "name": "bi_project"
  },
  "language_info": {
   "codemirror_mode": {
    "name": "ipython",
    "version": 3
   },
   "file_extension": ".py",
   "mimetype": "text/x-python",
   "name": "python",
   "nbconvert_exporter": "python",
   "pygments_lexer": "ipython3",
   "version": "3.11.8"
  }
 },
 "nbformat": 4,
 "nbformat_minor": 5
}
