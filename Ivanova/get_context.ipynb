{
 "cells": [
  {
   "cell_type": "markdown",
   "id": "4322fbd8-3d4f-472c-aa0f-ef43b3558012",
   "metadata": {},
   "source": [
    "### Содержание\n",
    "\n",
    "1. [Получение контекста последовательности с помощью pyfaidx](#Получение-контекста-последовательности-с-помощью-pyfaidx)\n",
    "2. [Автоматизируем получение контекста (прямо из таблицы с данными)](#Автоматизируем-получение-контекста-(прямо-из-таблицы-с-данными))  \n",
    "   2.1 [Подготовка датафрейма](Подготовка-датафрейма)  \n",
    "   2.2 [Получение контекста](Получение-контекста)\n",
    "4. [Получение sequence logo с помощью _logomaker_](#Получение-sequence-logo-с-помощью-logomaker)\n",
    "5. [Получение sequence logo с помощью _seqlogo_](#Получение-sequence-logo-с-помощью-seqlogo)\n",
    "6. [Пересечение интервалов интересующих позиций](#Пересечение-интервалов-интересующих-позиций)"
   ]
  },
  {
   "cell_type": "markdown",
   "id": "10e87404-3816-4b6f-8cc1-3a382d6b32ce",
   "metadata": {},
   "source": [
    "### Получение контекста последовательности с помощью pyfaidx"
   ]
  },
  {
   "cell_type": "code",
   "execution_count": 205,
   "id": "4cc987da-9b6e-43cf-a0df-0daa42f2cc28",
   "metadata": {},
   "outputs": [],
   "source": [
    "# TODO\n",
    "# Обработать дупликаты (когда в одной позиции n замен)"
   ]
  },
  {
   "cell_type": "code",
   "execution_count": 1,
   "id": "d816d81a-b385-4ad8-ab35-fb084f7a1549",
   "metadata": {},
   "outputs": [],
   "source": [
    "from pyfaidx import Fasta"
   ]
  },
  {
   "cell_type": "markdown",
   "id": "76c6a015-57b2-458e-bef1-2f1c656a4a3d",
   "metadata": {},
   "source": [
    "https://pypi.org/project/pyfaidx/"
   ]
  },
  {
   "cell_type": "markdown",
   "id": "74206eb5-7c02-416f-a971-34c13bb3b520",
   "metadata": {},
   "source": [
    "Загружаем нашу фасту с транскриптами, на этом этапе создается индекс fai.  "
   ]
  },
  {
   "cell_type": "markdown",
   "id": "617af3c3-e4d9-45f5-8ec1-dd18edbbc91b",
   "metadata": {},
   "source": [
    "Дополнительно кастомизируем ключи, т.к. в файле траснкриптов ключи выглядят так:  \n",
    "`ENST00000353265.8|ENSG00000178184.16|OTTHUMG00000132922.4|OTTHUMT00000256435.3|PARD6G-201|PARD6G|3836|protein_coding|`  \n",
    "А нам нужна только их первая часть."
   ]
  },
  {
   "cell_type": "code",
   "execution_count": 2,
   "id": "c2afdc94-e51d-4af2-93fe-0a9415c4e3b4",
   "metadata": {},
   "outputs": [],
   "source": [
    "transcript_fasta = Fasta('data_dir/gencode.v45.transcripts.fa.gz', key_function = lambda x: x.split('.')[0])"
   ]
  },
  {
   "cell_type": "markdown",
   "id": "e759a7f3-84d0-46c5-b903-56e697e662aa",
   "metadata": {},
   "source": [
    "Интересующий транскрипт и позиция:"
   ]
  },
  {
   "cell_type": "code",
   "execution_count": 134,
   "id": "0b236186-6e27-4f64-8498-b82c4d25af86",
   "metadata": {},
   "outputs": [],
   "source": [
    "transcript_id = 'ENST00000353265'\n",
    "position_of_interest = 34"
   ]
  },
  {
   "cell_type": "code",
   "execution_count": 135,
   "id": "249d830f-57ff-4107-ac77-24641d64c35b",
   "metadata": {},
   "outputs": [
    {
     "data": {
      "text/plain": [
       "3836"
      ]
     },
     "execution_count": 135,
     "metadata": {},
     "output_type": "execute_result"
    }
   ],
   "source": [
    "len(transcript_fasta[transcript_id])"
   ]
  },
  {
   "cell_type": "markdown",
   "id": "414ff521-0691-475b-86ec-410f9f2291ca",
   "metadata": {},
   "source": [
    "Индексация с 0, поэтому чтобы получить позицию 34, вводим 33:"
   ]
  },
  {
   "cell_type": "code",
   "execution_count": 142,
   "id": "e48aa8d0-cbb3-4554-985c-8ac6b32f6493",
   "metadata": {},
   "outputs": [
    {
     "data": {
      "text/plain": [
       ">ENST00000353265:34-34\n",
       "C"
      ]
     },
     "execution_count": 142,
     "metadata": {},
     "output_type": "execute_result"
    }
   ],
   "source": [
    "transcript_fasta[transcript_id][33]"
   ]
  },
  {
   "cell_type": "markdown",
   "id": "86a3001b-9a14-4500-9d1f-2c6056dbaba9",
   "metadata": {},
   "source": [
    "Утилита работает как словарь, тогда по примеру из документации:"
   ]
  },
  {
   "cell_type": "code",
   "execution_count": 143,
   "id": "53fbf878-77a4-408c-89b5-5ec2f60803e8",
   "metadata": {},
   "outputs": [
    {
     "data": {
      "text/plain": [
       ">ENST00000353265:30-39 (complement)\n",
       "CGTCGTGGCC"
      ]
     },
     "execution_count": 143,
     "metadata": {},
     "output_type": "execute_result"
    }
   ],
   "source": [
    "transcript_fasta[transcript_id][position_of_interest - 5 : position_of_interest + 5].complement"
   ]
  },
  {
   "cell_type": "markdown",
   "id": "84e19f89-780f-435e-a83f-4ef5e4769348",
   "metadata": {},
   "source": [
    "Обратите внимание, это **комплементарная** последовательность!"
   ]
  },
  {
   "cell_type": "code",
   "execution_count": 124,
   "id": "66dfa4ef-f694-408e-8b10-f6b4c2cf3806",
   "metadata": {},
   "outputs": [],
   "source": [
    "sequence = 'CGTCGTGGCC'"
   ]
  },
  {
   "cell_type": "code",
   "execution_count": 125,
   "id": "804f945a-6469-4174-9fdd-37556ad6aadf",
   "metadata": {},
   "outputs": [
    {
     "name": "stdout",
     "output_type": "stream",
     "text": [
      "30 - C\n",
      "31 - G\n",
      "32 - T\n",
      "33 - C\n",
      "34 - G\n",
      "35 - T\n",
      "36 - G\n",
      "37 - G\n",
      "38 - C\n",
      "39 - C\n"
     ]
    }
   ],
   "source": [
    "for i, nucleotide in enumerate(sequence, 30):\n",
    "    print(f\"{i} - {nucleotide}\")"
   ]
  },
  {
   "cell_type": "markdown",
   "id": "0a88e1cd-ce7a-4547-a9fb-d6bf383c904d",
   "metadata": {},
   "source": [
    "Проверила глазами по таблице, всё сходится."
   ]
  },
  {
   "cell_type": "markdown",
   "id": "7cf1dcad-e236-411b-8cd9-86d36cb85515",
   "metadata": {},
   "source": [
    "  "
   ]
  },
  {
   "cell_type": "markdown",
   "id": "ed74f82f-625c-42c1-9e1c-bba469342b56",
   "metadata": {},
   "source": [
    "### Автоматизируем получение контекста (прямо из таблицы с данными)"
   ]
  },
  {
   "cell_type": "markdown",
   "id": "4465f07d-8104-4979-9eb3-9eb9621f6e34",
   "metadata": {},
   "source": [
    "Вот так можно автоматизировать вытягивание контекста, работая напрямую с таблицей tsv:"
   ]
  },
  {
   "cell_type": "markdown",
   "id": "64eec44e-6534-4247-9aa0-56809c8046a3",
   "metadata": {},
   "source": [
    "#### Подготовка датафрейма"
   ]
  },
  {
   "cell_type": "code",
   "execution_count": 21,
   "id": "0cdd11f6-cb60-4350-a08d-694336acd9f2",
   "metadata": {},
   "outputs": [],
   "source": [
    "import pandas as pd\n",
    "\n",
    "from os.path import join"
   ]
  },
  {
   "cell_type": "code",
   "execution_count": 51,
   "id": "80f84542-6c55-4f6e-81df-fa1edacc022a",
   "metadata": {},
   "outputs": [],
   "source": [
    "DATA_PATH = \"data_dir\""
   ]
  },
  {
   "cell_type": "markdown",
   "id": "8dcc3274-9388-4f4f-9252-a5aeda8bef46",
   "metadata": {},
   "source": [
    "Преобразуем имеющиеся таблицы в датафреймы."
   ]
  },
  {
   "cell_type": "code",
   "execution_count": 52,
   "id": "d58674e5-d35f-441b-a58b-daea9a6f9853",
   "metadata": {},
   "outputs": [],
   "source": [
    "chr18 = pd.read_table(join(DATA_PATH, \"uniqs_18chr.tsv\"))\n",
    "chr21 = pd.read_table(join(DATA_PATH, \"uniqs_21chr.tsv\"))\n",
    "chr22 = pd.read_table(join(DATA_PATH, \"uniqs_22chr.tsv\"))"
   ]
  },
  {
   "cell_type": "code",
   "execution_count": 182,
   "id": "3b2a51f0-87f3-49e4-8bc2-9e1713c698e8",
   "metadata": {},
   "outputs": [
    {
     "name": "stdout",
     "output_type": "stream",
     "text": [
      "(1104782, 8)\n",
      "(739635, 8)\n",
      "(1621638, 8)\n"
     ]
    }
   ],
   "source": [
    "print(chr18.shape)\n",
    "print(chr21.shape)\n",
    "print(chr22.shape)"
   ]
  },
  {
   "cell_type": "markdown",
   "id": "7404457d-5f67-4012-a9ed-92ff0f70fe20",
   "metadata": {},
   "source": [
    "Объединяем всё в один датафрейм."
   ]
  },
  {
   "cell_type": "code",
   "execution_count": 191,
   "id": "4c5e4181-a02b-4b60-9881-9d6b8a79ab9e",
   "metadata": {},
   "outputs": [],
   "source": [
    "frames = [chr18, chr21, chr22]\n",
    "final_df = pd.concat(frames)"
   ]
  },
  {
   "cell_type": "code",
   "execution_count": 192,
   "id": "7516e5db-20d4-408f-9ebc-30074d7cb08a",
   "metadata": {},
   "outputs": [
    {
     "data": {
      "text/plain": [
       "(3466055, 8)"
      ]
     },
     "execution_count": 192,
     "metadata": {},
     "output_type": "execute_result"
    }
   ],
   "source": [
    "final_df.shape"
   ]
  },
  {
   "cell_type": "code",
   "execution_count": 193,
   "id": "9837dc94-d6c0-4272-b7e0-4e6d74e74856",
   "metadata": {},
   "outputs": [
    {
     "data": {
      "text/html": [
       "<div>\n",
       "<style scoped>\n",
       "    .dataframe tbody tr th:only-of-type {\n",
       "        vertical-align: middle;\n",
       "    }\n",
       "\n",
       "    .dataframe tbody tr th {\n",
       "        vertical-align: top;\n",
       "    }\n",
       "\n",
       "    .dataframe thead th {\n",
       "        text-align: right;\n",
       "    }\n",
       "</style>\n",
       "<table border=\"1\" class=\"dataframe\">\n",
       "  <thead>\n",
       "    <tr style=\"text-align: right;\">\n",
       "      <th></th>\n",
       "      <th>Chr</th>\n",
       "      <th>Position</th>\n",
       "      <th>rsID</th>\n",
       "      <th>Ref</th>\n",
       "      <th>Alt</th>\n",
       "      <th>Consequence</th>\n",
       "      <th>Canonical_transcript</th>\n",
       "      <th>cDNA_position</th>\n",
       "    </tr>\n",
       "  </thead>\n",
       "  <tbody>\n",
       "    <tr>\n",
       "      <th>0</th>\n",
       "      <td>chr18</td>\n",
       "      <td>46050</td>\n",
       "      <td>rs744323</td>\n",
       "      <td>C</td>\n",
       "      <td>T</td>\n",
       "      <td>downstream_gene_variant</td>\n",
       "      <td>ENST00000308911</td>\n",
       "      <td>NaN</td>\n",
       "    </tr>\n",
       "    <tr>\n",
       "      <th>1</th>\n",
       "      <td>chr18</td>\n",
       "      <td>47239</td>\n",
       "      <td>.</td>\n",
       "      <td>TTTA</td>\n",
       "      <td>T</td>\n",
       "      <td>3_prime_UTR_variant</td>\n",
       "      <td>ENST00000308911</td>\n",
       "      <td>1541-1543</td>\n",
       "    </tr>\n",
       "    <tr>\n",
       "      <th>2</th>\n",
       "      <td>chr18</td>\n",
       "      <td>47242</td>\n",
       "      <td>rs893233952</td>\n",
       "      <td>A</td>\n",
       "      <td>G</td>\n",
       "      <td>3_prime_UTR_variant</td>\n",
       "      <td>ENST00000308911</td>\n",
       "      <td>1541</td>\n",
       "    </tr>\n",
       "    <tr>\n",
       "      <th>3</th>\n",
       "      <td>chr18</td>\n",
       "      <td>47243</td>\n",
       "      <td>.</td>\n",
       "      <td>T</td>\n",
       "      <td>C</td>\n",
       "      <td>3_prime_UTR_variant</td>\n",
       "      <td>ENST00000308911</td>\n",
       "      <td>1540</td>\n",
       "    </tr>\n",
       "    <tr>\n",
       "      <th>4</th>\n",
       "      <td>chr18</td>\n",
       "      <td>47245</td>\n",
       "      <td>rs1486723371</td>\n",
       "      <td>A</td>\n",
       "      <td>G</td>\n",
       "      <td>3_prime_UTR_variant</td>\n",
       "      <td>ENST00000308911</td>\n",
       "      <td>1538</td>\n",
       "    </tr>\n",
       "  </tbody>\n",
       "</table>\n",
       "</div>"
      ],
      "text/plain": [
       "     Chr  Position          rsID   Ref Alt              Consequence  \\\n",
       "0  chr18     46050      rs744323     C   T  downstream_gene_variant   \n",
       "1  chr18     47239             .  TTTA   T      3_prime_UTR_variant   \n",
       "2  chr18     47242   rs893233952     A   G      3_prime_UTR_variant   \n",
       "3  chr18     47243             .     T   C      3_prime_UTR_variant   \n",
       "4  chr18     47245  rs1486723371     A   G      3_prime_UTR_variant   \n",
       "\n",
       "  Canonical_transcript cDNA_position  \n",
       "0      ENST00000308911           NaN  \n",
       "1      ENST00000308911     1541-1543  \n",
       "2      ENST00000308911          1541  \n",
       "3      ENST00000308911          1540  \n",
       "4      ENST00000308911          1538  "
      ]
     },
     "execution_count": 193,
     "metadata": {},
     "output_type": "execute_result"
    }
   ],
   "source": [
    "final_df.head()"
   ]
  },
  {
   "cell_type": "code",
   "execution_count": 194,
   "id": "9236b06e-ac8e-485d-871d-714c0714e167",
   "metadata": {},
   "outputs": [
    {
     "data": {
      "text/plain": [
       "Chr                     object\n",
       "Position                 int64\n",
       "rsID                    object\n",
       "Ref                     object\n",
       "Alt                     object\n",
       "Consequence             object\n",
       "Canonical_transcript    object\n",
       "cDNA_position           object\n",
       "dtype: object"
      ]
     },
     "execution_count": 194,
     "metadata": {},
     "output_type": "execute_result"
    }
   ],
   "source": [
    "final_df.dtypes"
   ]
  },
  {
   "cell_type": "code",
   "execution_count": 195,
   "id": "a11e1658-40c5-4796-9608-3a7c8c9cc883",
   "metadata": {},
   "outputs": [
    {
     "data": {
      "text/html": [
       "<div>\n",
       "<style scoped>\n",
       "    .dataframe tbody tr th:only-of-type {\n",
       "        vertical-align: middle;\n",
       "    }\n",
       "\n",
       "    .dataframe tbody tr th {\n",
       "        vertical-align: top;\n",
       "    }\n",
       "\n",
       "    .dataframe thead th {\n",
       "        text-align: right;\n",
       "    }\n",
       "</style>\n",
       "<table border=\"1\" class=\"dataframe\">\n",
       "  <thead>\n",
       "    <tr style=\"text-align: right;\">\n",
       "      <th></th>\n",
       "      <th>Chr</th>\n",
       "      <th>Position</th>\n",
       "      <th>rsID</th>\n",
       "      <th>Ref</th>\n",
       "      <th>Alt</th>\n",
       "      <th>Consequence</th>\n",
       "      <th>Canonical_transcript</th>\n",
       "      <th>cDNA_position</th>\n",
       "    </tr>\n",
       "  </thead>\n",
       "  <tbody>\n",
       "    <tr>\n",
       "      <th>82</th>\n",
       "      <td>chr18</td>\n",
       "      <td>47411</td>\n",
       "      <td>.</td>\n",
       "      <td>A</td>\n",
       "      <td>C</td>\n",
       "      <td>stop_gained</td>\n",
       "      <td>ENST00000308911</td>\n",
       "      <td>1372</td>\n",
       "    </tr>\n",
       "    <tr>\n",
       "      <th>84</th>\n",
       "      <td>chr18</td>\n",
       "      <td>47411</td>\n",
       "      <td>rs774102370</td>\n",
       "      <td>A</td>\n",
       "      <td>T</td>\n",
       "      <td>stop_gained</td>\n",
       "      <td>ENST00000308911</td>\n",
       "      <td>1372</td>\n",
       "    </tr>\n",
       "    <tr>\n",
       "      <th>94</th>\n",
       "      <td>chr18</td>\n",
       "      <td>47425</td>\n",
       "      <td>rs1348242192</td>\n",
       "      <td>C</td>\n",
       "      <td>A</td>\n",
       "      <td>stop_gained</td>\n",
       "      <td>ENST00000308911</td>\n",
       "      <td>1358</td>\n",
       "    </tr>\n",
       "    <tr>\n",
       "      <th>104</th>\n",
       "      <td>chr18</td>\n",
       "      <td>47449</td>\n",
       "      <td>rs758861544</td>\n",
       "      <td>G</td>\n",
       "      <td>A</td>\n",
       "      <td>stop_gained</td>\n",
       "      <td>ENST00000308911</td>\n",
       "      <td>1334</td>\n",
       "    </tr>\n",
       "    <tr>\n",
       "      <th>105</th>\n",
       "      <td>chr18</td>\n",
       "      <td>47450</td>\n",
       "      <td>rs780641694</td>\n",
       "      <td>A</td>\n",
       "      <td>C</td>\n",
       "      <td>stop_gained</td>\n",
       "      <td>ENST00000308911</td>\n",
       "      <td>1333</td>\n",
       "    </tr>\n",
       "    <tr>\n",
       "      <th>...</th>\n",
       "      <td>...</td>\n",
       "      <td>...</td>\n",
       "      <td>...</td>\n",
       "      <td>...</td>\n",
       "      <td>...</td>\n",
       "      <td>...</td>\n",
       "      <td>...</td>\n",
       "      <td>...</td>\n",
       "    </tr>\n",
       "    <tr>\n",
       "      <th>1619819</th>\n",
       "      <td>chr22</td>\n",
       "      <td>50769106</td>\n",
       "      <td>rs559977293</td>\n",
       "      <td>G</td>\n",
       "      <td>A</td>\n",
       "      <td>stop_gained</td>\n",
       "      <td>ENST00000691320</td>\n",
       "      <td>715</td>\n",
       "    </tr>\n",
       "    <tr>\n",
       "      <th>1620148</th>\n",
       "      <td>chr22</td>\n",
       "      <td>50769969</td>\n",
       "      <td>.</td>\n",
       "      <td>C</td>\n",
       "      <td>T</td>\n",
       "      <td>stop_gained</td>\n",
       "      <td>ENST00000691320</td>\n",
       "      <td>534</td>\n",
       "    </tr>\n",
       "    <tr>\n",
       "      <th>1620665</th>\n",
       "      <td>chr22</td>\n",
       "      <td>50775796</td>\n",
       "      <td>rs1555923164</td>\n",
       "      <td>G</td>\n",
       "      <td>T</td>\n",
       "      <td>stop_gained</td>\n",
       "      <td>ENST00000691320</td>\n",
       "      <td>462</td>\n",
       "    </tr>\n",
       "    <tr>\n",
       "      <th>1620705</th>\n",
       "      <td>chr22</td>\n",
       "      <td>50775845</td>\n",
       "      <td>.</td>\n",
       "      <td>C</td>\n",
       "      <td>T</td>\n",
       "      <td>stop_gained</td>\n",
       "      <td>ENST00000691320</td>\n",
       "      <td>413</td>\n",
       "    </tr>\n",
       "    <tr>\n",
       "      <th>1620875</th>\n",
       "      <td>chr22</td>\n",
       "      <td>50776725</td>\n",
       "      <td>rs375595282</td>\n",
       "      <td>G</td>\n",
       "      <td>T</td>\n",
       "      <td>stop_gained</td>\n",
       "      <td>ENST00000691320</td>\n",
       "      <td>351</td>\n",
       "    </tr>\n",
       "  </tbody>\n",
       "</table>\n",
       "<p>14978 rows × 8 columns</p>\n",
       "</div>"
      ],
      "text/plain": [
       "           Chr  Position          rsID Ref Alt  Consequence  \\\n",
       "82       chr18     47411             .   A   C  stop_gained   \n",
       "84       chr18     47411   rs774102370   A   T  stop_gained   \n",
       "94       chr18     47425  rs1348242192   C   A  stop_gained   \n",
       "104      chr18     47449   rs758861544   G   A  stop_gained   \n",
       "105      chr18     47450   rs780641694   A   C  stop_gained   \n",
       "...        ...       ...           ...  ..  ..          ...   \n",
       "1619819  chr22  50769106   rs559977293   G   A  stop_gained   \n",
       "1620148  chr22  50769969             .   C   T  stop_gained   \n",
       "1620665  chr22  50775796  rs1555923164   G   T  stop_gained   \n",
       "1620705  chr22  50775845             .   C   T  stop_gained   \n",
       "1620875  chr22  50776725   rs375595282   G   T  stop_gained   \n",
       "\n",
       "        Canonical_transcript cDNA_position  \n",
       "82           ENST00000308911          1372  \n",
       "84           ENST00000308911          1372  \n",
       "94           ENST00000308911          1358  \n",
       "104          ENST00000308911          1334  \n",
       "105          ENST00000308911          1333  \n",
       "...                      ...           ...  \n",
       "1619819      ENST00000691320           715  \n",
       "1620148      ENST00000691320           534  \n",
       "1620665      ENST00000691320           462  \n",
       "1620705      ENST00000691320           413  \n",
       "1620875      ENST00000691320           351  \n",
       "\n",
       "[14978 rows x 8 columns]"
      ]
     },
     "execution_count": 195,
     "metadata": {},
     "output_type": "execute_result"
    }
   ],
   "source": [
    "filtered_df = final_df[~final_df['Consequence'].astype(str).str.contains(',')]\n",
    "lof_final_df = filtered_df[filtered_df['Consequence'].str.contains('stop_gained', na=False)]\n",
    "lof_final_df"
   ]
  },
  {
   "cell_type": "code",
   "execution_count": 207,
   "id": "a1e9099f-c1e4-42e0-baf6-d3a54f487d4f",
   "metadata": {},
   "outputs": [
    {
     "data": {
      "text/plain": [
       "14757"
      ]
     },
     "execution_count": 207,
     "metadata": {},
     "output_type": "execute_result"
    }
   ],
   "source": [
    "lof_final_df['Position'].nunique()"
   ]
  },
  {
   "cell_type": "markdown",
   "id": "3f64b4ce-2fa3-4717-af14-71e25ca81448",
   "metadata": {},
   "source": [
    "#### Получение контекста"
   ]
  },
  {
   "cell_type": "markdown",
   "id": "34116d52-8d92-4c42-a63b-152abced5a23",
   "metadata": {},
   "source": [
    "В таблице есть пустые поля в столбце `cDNA_position`, при итерации они отмечаются как `nan` (т.е. `<class 'float'>`). Если значение не пустое, оно имеет тип `str`, так что для работы `pyfaidx` приходится приводить его к `int`."
   ]
  },
  {
   "cell_type": "markdown",
   "id": "390e9e70-c756-4bf1-a86a-1101174118bf",
   "metadata": {},
   "source": [
    "**Пропускаем позиции, которые слишком близко (`<=5`) к началу или концу транскрипта.**"
   ]
  },
  {
   "cell_type": "markdown",
   "id": "e122e5c9-679e-4068-85a0-9c5ac4232812",
   "metadata": {},
   "source": [
    "Записываем контекст в отдельную колонку датафрейма."
   ]
  },
  {
   "cell_type": "code",
   "execution_count": 113,
   "id": "cb81970b-ee6d-42ae-8c19-962f6de562c1",
   "metadata": {},
   "outputs": [],
   "source": [
    "transcript_fasta = Fasta(join(DATA_PATH, 'gencode.v45.transcripts.fa.gz'), key_function=lambda x: x.split('.')[0])"
   ]
  },
  {
   "cell_type": "code",
   "execution_count": 203,
   "id": "ebb6fd0f-4ba4-4555-8967-f8ec948dea29",
   "metadata": {},
   "outputs": [],
   "source": [
    "sequences = []\n",
    "\n",
    "for index, row in lof_final_df.iterrows():\n",
    "    transcript_id = row['Canonical_transcript']\n",
    "    position_of_interest = row['cDNA_position']\n",
    "\n",
    "    if isinstance(position_of_interest, str) and '-' not in position_of_interest:\n",
    "        position_of_interest = int(position_of_interest)\n",
    "\n",
    "        # Транскрипта может не быть в базе\n",
    "        if transcript_id in transcript_fasta:\n",
    "            transcript_length = len(transcript_fasta[transcript_id])\n",
    "\n",
    "            # Не рассматриваем крайние случаи\n",
    "            if 5 < position_of_interest < transcript_length - 5:\n",
    "                sequence_of_interest = str(transcript_fasta[transcript_id][position_of_interest - 5: position_of_interest + 5])\n",
    "            else:\n",
    "                sequence_of_interest = None\n",
    "        else:\n",
    "            sequence_of_interest = None\n",
    "    else:\n",
    "        sequence_of_interest = None\n",
    "    \n",
    "    sequences.append(sequence_of_interest)\n",
    "\n",
    "\n",
    "lof_final_df.loc[:, 'Context'] = sequences"
   ]
  },
  {
   "cell_type": "code",
   "execution_count": 204,
   "id": "f98dcb52-56d3-4fd2-a47a-2172b8adfe3c",
   "metadata": {},
   "outputs": [
    {
     "data": {
      "text/html": [
       "<div>\n",
       "<style scoped>\n",
       "    .dataframe tbody tr th:only-of-type {\n",
       "        vertical-align: middle;\n",
       "    }\n",
       "\n",
       "    .dataframe tbody tr th {\n",
       "        vertical-align: top;\n",
       "    }\n",
       "\n",
       "    .dataframe thead th {\n",
       "        text-align: right;\n",
       "    }\n",
       "</style>\n",
       "<table border=\"1\" class=\"dataframe\">\n",
       "  <thead>\n",
       "    <tr style=\"text-align: right;\">\n",
       "      <th></th>\n",
       "      <th>Chr</th>\n",
       "      <th>Position</th>\n",
       "      <th>rsID</th>\n",
       "      <th>Ref</th>\n",
       "      <th>Alt</th>\n",
       "      <th>Consequence</th>\n",
       "      <th>Canonical_transcript</th>\n",
       "      <th>cDNA_position</th>\n",
       "      <th>Context</th>\n",
       "    </tr>\n",
       "  </thead>\n",
       "  <tbody>\n",
       "    <tr>\n",
       "      <th>82</th>\n",
       "      <td>chr18</td>\n",
       "      <td>47411</td>\n",
       "      <td>.</td>\n",
       "      <td>A</td>\n",
       "      <td>C</td>\n",
       "      <td>stop_gained</td>\n",
       "      <td>ENST00000308911</td>\n",
       "      <td>1372</td>\n",
       "      <td>AGTATGCCGA</td>\n",
       "    </tr>\n",
       "    <tr>\n",
       "      <th>84</th>\n",
       "      <td>chr18</td>\n",
       "      <td>47411</td>\n",
       "      <td>rs774102370</td>\n",
       "      <td>A</td>\n",
       "      <td>T</td>\n",
       "      <td>stop_gained</td>\n",
       "      <td>ENST00000308911</td>\n",
       "      <td>1372</td>\n",
       "      <td>AGTATGCCGA</td>\n",
       "    </tr>\n",
       "    <tr>\n",
       "      <th>94</th>\n",
       "      <td>chr18</td>\n",
       "      <td>47425</td>\n",
       "      <td>rs1348242192</td>\n",
       "      <td>C</td>\n",
       "      <td>A</td>\n",
       "      <td>stop_gained</td>\n",
       "      <td>ENST00000308911</td>\n",
       "      <td>1358</td>\n",
       "      <td>GGAGGAGGAT</td>\n",
       "    </tr>\n",
       "    <tr>\n",
       "      <th>104</th>\n",
       "      <td>chr18</td>\n",
       "      <td>47449</td>\n",
       "      <td>rs758861544</td>\n",
       "      <td>G</td>\n",
       "      <td>A</td>\n",
       "      <td>stop_gained</td>\n",
       "      <td>ENST00000308911</td>\n",
       "      <td>1334</td>\n",
       "      <td>ATATCAGGAT</td>\n",
       "    </tr>\n",
       "    <tr>\n",
       "      <th>105</th>\n",
       "      <td>chr18</td>\n",
       "      <td>47450</td>\n",
       "      <td>rs780641694</td>\n",
       "      <td>A</td>\n",
       "      <td>C</td>\n",
       "      <td>stop_gained</td>\n",
       "      <td>ENST00000308911</td>\n",
       "      <td>1333</td>\n",
       "      <td>AATATCAGGA</td>\n",
       "    </tr>\n",
       "  </tbody>\n",
       "</table>\n",
       "</div>"
      ],
      "text/plain": [
       "       Chr  Position          rsID Ref Alt  Consequence Canonical_transcript  \\\n",
       "82   chr18     47411             .   A   C  stop_gained      ENST00000308911   \n",
       "84   chr18     47411   rs774102370   A   T  stop_gained      ENST00000308911   \n",
       "94   chr18     47425  rs1348242192   C   A  stop_gained      ENST00000308911   \n",
       "104  chr18     47449   rs758861544   G   A  stop_gained      ENST00000308911   \n",
       "105  chr18     47450   rs780641694   A   C  stop_gained      ENST00000308911   \n",
       "\n",
       "    cDNA_position     Context  \n",
       "82           1372  AGTATGCCGA  \n",
       "84           1372  AGTATGCCGA  \n",
       "94           1358  GGAGGAGGAT  \n",
       "104          1334  ATATCAGGAT  \n",
       "105          1333  AATATCAGGA  "
      ]
     },
     "execution_count": 204,
     "metadata": {},
     "output_type": "execute_result"
    }
   ],
   "source": [
    "lof_final_df.head()"
   ]
  },
  {
   "cell_type": "markdown",
   "id": "10403378-ae18-4193-9f78-733ddfc686d9",
   "metadata": {},
   "source": [
    "    "
   ]
  },
  {
   "cell_type": "markdown",
   "id": "fd802a08-45c6-46c3-8599-3483b1e3aec7",
   "metadata": {},
   "source": [
    "### Получение sequence logo с помощью _logomaker_"
   ]
  },
  {
   "cell_type": "code",
   "execution_count": 83,
   "id": "b6975bfa-6f69-48cb-bead-2dfa4629ae8c",
   "metadata": {},
   "outputs": [],
   "source": [
    "import logomaker as lm"
   ]
  },
  {
   "cell_type": "markdown",
   "id": "9772e11a-b08b-46ae-84a4-7d8844ebe1e2",
   "metadata": {},
   "source": [
    "https://github.com/jbkinney/logomaker/blob/master/logomaker/tutorials"
   ]
  },
  {
   "cell_type": "markdown",
   "id": "2d13eaab-c260-43ff-b8eb-8e4c929f9be6",
   "metadata": {},
   "source": [
    "Сам всё делает, надо только подать список последовательностей."
   ]
  },
  {
   "cell_type": "markdown",
   "id": "10377675-e410-4f6d-9ed8-2fa06f4ab532",
   "metadata": {},
   "source": [
    "Переносим все значения в список, удаляем пустые значения."
   ]
  },
  {
   "cell_type": "code",
   "execution_count": 199,
   "id": "2ed6718a-5a52-4abb-b513-30da776ba998",
   "metadata": {},
   "outputs": [
    {
     "name": "stdout",
     "output_type": "stream",
     "text": [
      "14978\n"
     ]
    }
   ],
   "source": [
    "context = lof_final_df['Context'].tolist()\n",
    "print(len(context))"
   ]
  },
  {
   "cell_type": "code",
   "execution_count": 129,
   "id": "7cd9744d-375a-43b6-96cc-ae9bdf868633",
   "metadata": {},
   "outputs": [
    {
     "name": "stdout",
     "output_type": "stream",
     "text": [
      "['AGTATGCCGA', 'AGTATGCCGA', 'GGAGGAGGAT', 'ATATCAGGAT', 'AATATCAGGA', 'TCAGCAATAT', 'CATTCAAGAT', 'CCTGTGACCC', 'CCAGCAGTAC', 'CAGCCAGCAG', 'AGGCCAGCTG', 'CATGCCTGCG', None, 'TATATGACAT', 'AGTACCCAGA', 'TTTCCAGCTG', 'CACAGAAGGC', 'CGGGCAGGTC', 'CACTCGGGGC', 'GGTACGTGCC']\n"
     ]
    }
   ],
   "source": [
    "print(context[:20])"
   ]
  },
  {
   "cell_type": "code",
   "execution_count": 222,
   "id": "e8fb604c-457a-403f-acb5-9a6a8702679a",
   "metadata": {},
   "outputs": [
    {
     "name": "stdout",
     "output_type": "stream",
     "text": [
      "14435\n"
     ]
    }
   ],
   "source": [
    "filtered_context = [x for x in context if x is not None]\n",
    "print(len(filtered_context))"
   ]
  },
  {
   "cell_type": "code",
   "execution_count": 224,
   "id": "ed23f73c-3efb-44dd-880f-51bb01492429",
   "metadata": {},
   "outputs": [
    {
     "data": {
      "text/html": [
       "<div>\n",
       "<style scoped>\n",
       "    .dataframe tbody tr th:only-of-type {\n",
       "        vertical-align: middle;\n",
       "    }\n",
       "\n",
       "    .dataframe tbody tr th {\n",
       "        vertical-align: top;\n",
       "    }\n",
       "\n",
       "    .dataframe thead th {\n",
       "        text-align: right;\n",
       "    }\n",
       "</style>\n",
       "<table border=\"1\" class=\"dataframe\">\n",
       "  <thead>\n",
       "    <tr style=\"text-align: right;\">\n",
       "      <th></th>\n",
       "      <th>A</th>\n",
       "      <th>C</th>\n",
       "      <th>G</th>\n",
       "      <th>T</th>\n",
       "    </tr>\n",
       "    <tr>\n",
       "      <th>pos</th>\n",
       "      <th></th>\n",
       "      <th></th>\n",
       "      <th></th>\n",
       "      <th></th>\n",
       "    </tr>\n",
       "  </thead>\n",
       "  <tbody>\n",
       "    <tr>\n",
       "      <th>0</th>\n",
       "      <td>3315</td>\n",
       "      <td>3998</td>\n",
       "      <td>3997</td>\n",
       "      <td>3125</td>\n",
       "    </tr>\n",
       "    <tr>\n",
       "      <th>1</th>\n",
       "      <td>3564</td>\n",
       "      <td>4126</td>\n",
       "      <td>4024</td>\n",
       "      <td>2721</td>\n",
       "    </tr>\n",
       "    <tr>\n",
       "      <th>2</th>\n",
       "      <td>3329</td>\n",
       "      <td>2775</td>\n",
       "      <td>2326</td>\n",
       "      <td>6005</td>\n",
       "    </tr>\n",
       "    <tr>\n",
       "      <th>3</th>\n",
       "      <td>3439</td>\n",
       "      <td>2708</td>\n",
       "      <td>4149</td>\n",
       "      <td>4139</td>\n",
       "    </tr>\n",
       "    <tr>\n",
       "      <th>4</th>\n",
       "      <td>744</td>\n",
       "      <td>8382</td>\n",
       "      <td>4293</td>\n",
       "      <td>1016</td>\n",
       "    </tr>\n",
       "    <tr>\n",
       "      <th>5</th>\n",
       "      <td>8375</td>\n",
       "      <td>830</td>\n",
       "      <td>4687</td>\n",
       "      <td>543</td>\n",
       "    </tr>\n",
       "    <tr>\n",
       "      <th>6</th>\n",
       "      <td>6064</td>\n",
       "      <td>1068</td>\n",
       "      <td>6162</td>\n",
       "      <td>1141</td>\n",
       "    </tr>\n",
       "    <tr>\n",
       "      <th>7</th>\n",
       "      <td>3655</td>\n",
       "      <td>3683</td>\n",
       "      <td>4590</td>\n",
       "      <td>2507</td>\n",
       "    </tr>\n",
       "    <tr>\n",
       "      <th>8</th>\n",
       "      <td>4454</td>\n",
       "      <td>3234</td>\n",
       "      <td>3303</td>\n",
       "      <td>3444</td>\n",
       "    </tr>\n",
       "    <tr>\n",
       "      <th>9</th>\n",
       "      <td>3437</td>\n",
       "      <td>3817</td>\n",
       "      <td>4160</td>\n",
       "      <td>3021</td>\n",
       "    </tr>\n",
       "  </tbody>\n",
       "</table>\n",
       "</div>"
      ],
      "text/plain": [
       "        A     C     G     T\n",
       "pos                        \n",
       "0    3315  3998  3997  3125\n",
       "1    3564  4126  4024  2721\n",
       "2    3329  2775  2326  6005\n",
       "3    3439  2708  4149  4139\n",
       "4     744  8382  4293  1016\n",
       "5    8375   830  4687   543\n",
       "6    6064  1068  6162  1141\n",
       "7    3655  3683  4590  2507\n",
       "8    4454  3234  3303  3444\n",
       "9    3437  3817  4160  3021"
      ]
     },
     "execution_count": 224,
     "metadata": {},
     "output_type": "execute_result"
    }
   ],
   "source": [
    "counts_mat = lm.alignment_to_matrix(filtered_context)\n",
    "counts_mat"
   ]
  },
  {
   "cell_type": "code",
   "execution_count": 215,
   "id": "de0d8247-368c-4db8-965d-8d59d6f06adc",
   "metadata": {},
   "outputs": [
    {
     "data": {
      "text/plain": [
       "<logomaker.src.Logo.Logo at 0x7f5ce0d44a10>"
      ]
     },
     "execution_count": 215,
     "metadata": {},
     "output_type": "execute_result"
    },
    {
     "data": {
      "image/png": "[encoded data removed]",
      "text/plain": [
       "<Figure size 600x300 with 1 Axes>"
      ]
     },
     "metadata": {},
     "output_type": "display_data"
    }
   ],
   "source": [
    "lm.Logo(counts_mat, figsize=(6, 3))"
   ]
  },
  {
   "cell_type": "code",
   "execution_count": 201,
   "id": "29c9928a-fd5d-4090-a087-f5a5828d10e5",
   "metadata": {},
   "outputs": [
    {
     "name": "stderr",
     "output_type": "stream",
     "text": [
      "/home/tesselle/miniforge3/envs/bi_project/lib/python3.11/site-packages/logomaker/src/matrix.py:270: FutureWarning: Setting an item of incompatible dtype is deprecated and will raise in a future error of pandas. Value '[0.22965579 0.24690075 0.23062539 0.23824365 0.05159637 0.58009557\n",
      " 0.42004294 0.25320313 0.30853937 0.23810513]' has dtype incompatible with int64, please explicitly cast to a compatible dtype first.\n",
      "  prob_df.loc[:, :] = vals / vals.sum(axis=1)[:, np.newaxis]\n",
      "/home/tesselle/miniforge3/envs/bi_project/lib/python3.11/site-packages/logomaker/src/matrix.py:270: FutureWarning: Setting an item of incompatible dtype is deprecated and will raise in a future error of pandas. Value '[0.27695824 0.28582312 0.19225708 0.18761687 0.58058037 0.05755246\n",
      " 0.0740356  0.25514232 0.22404599 0.26442274]' has dtype incompatible with int64, please explicitly cast to a compatible dtype first.\n",
      "  prob_df.loc[:, :] = vals / vals.sum(axis=1)[:, np.newaxis]\n",
      "/home/tesselle/miniforge3/envs/bi_project/lib/python3.11/site-packages/logomaker/src/matrix.py:270: FutureWarning: Setting an item of incompatible dtype is deprecated and will raise in a future error of pandas. Value '[0.27688898 0.27875892 0.16116075 0.28741603 0.29738902 0.32467622\n",
      " 0.42683011 0.31795831 0.22882471 0.28817785]' has dtype incompatible with int64, please explicitly cast to a compatible dtype first.\n",
      "  prob_df.loc[:, :] = vals / vals.sum(axis=1)[:, np.newaxis]\n",
      "/home/tesselle/miniforge3/envs/bi_project/lib/python3.11/site-packages/logomaker/src/matrix.py:270: FutureWarning: Setting an item of incompatible dtype is deprecated and will raise in a future error of pandas. Value '[0.21649699 0.18851721 0.41595678 0.28672346 0.07043424 0.03767574\n",
      " 0.07909135 0.17369624 0.23858993 0.20929427]' has dtype incompatible with int64, please explicitly cast to a compatible dtype first.\n",
      "  prob_df.loc[:, :] = vals / vals.sum(axis=1)[:, np.newaxis]\n"
     ]
    }
   ],
   "source": [
    "prob_mat = lm.transform_matrix(counts_mat, from_type='counts', to_type='probability')"
   ]
  },
  {
   "cell_type": "code",
   "execution_count": 179,
   "id": "a6ae4719-ba04-4368-8818-14539964c9ee",
   "metadata": {},
   "outputs": [
    {
     "data": {
      "text/plain": [
       "<logomaker.src.Logo.Logo at 0x7f5ce0edbe90>"
      ]
     },
     "execution_count": 179,
     "metadata": {},
     "output_type": "execute_result"
    },
    {
     "data": {
      "image/png": "[encoded data removed]",
      "text/plain": [
       "<Figure size 600x300 with 1 Axes>"
      ]
     },
     "metadata": {},
     "output_type": "display_data"
    }
   ],
   "source": [
    "lm.Logo(prob_mat, figsize=(6, 3))"
   ]
  },
  {
   "cell_type": "markdown",
   "id": "1069b1d3-cc7a-4843-ad25-eab3afb7f623",
   "metadata": {},
   "source": [
    "  "
   ]
  },
  {
   "cell_type": "markdown",
   "id": "3df69ca9-308f-4076-923f-e0677df77718",
   "metadata": {},
   "source": [
    "### Получение sequence logo с помощью _seqlogo_"
   ]
  },
  {
   "cell_type": "code",
   "execution_count": 132,
   "id": "9b0ebe7c-99f3-4fc4-a053-0cee44a54f08",
   "metadata": {},
   "outputs": [],
   "source": [
    "import numpy as np\n",
    "import seqlogo"
   ]
  },
  {
   "cell_type": "markdown",
   "id": "37637a54-cf70-4885-93a5-98bbeb992f2f",
   "metadata": {},
   "source": [
    "https://pypi.org/project/seqlogo/"
   ]
  },
  {
   "cell_type": "markdown",
   "id": "1cf5bebe-8bf3-4572-a518-224c0cf9556a",
   "metadata": {},
   "source": [
    "Работает с позиционными матрицами:  \n",
    "\n",
    "**Position Frequency Matrix (PFM)**:  \n",
    "В ячейках PFM содержатся частоты каждого нуклеотида на соответствующей позиции в наборе последовательностей.\n",
    "PFM не нормализуется по вероятностям, поэтому сумма значений в каждой строке может быть больше 1.  \n",
    "  \n",
    "**Position Probability Matrix (PPM)**:  \n",
    "В отличие от PFM, значения в PPM нормализуются по вероятностям, так что сумма значений в каждой строке равна 1.\n",
    "PPM показывает вероятность появления каждого нуклеотида на каждой позиции в последовательности.  \n",
    "\n",
    "**Position Weight Matrix (PWM)**:  \n",
    "Значения в PWM выражены в виде весов, которые показывают предпочтительность каждого нуклеотида на каждой позиции. Веса обычно вычисляются как логарифм отношения частоты наблюдения нуклеотида к ожидаемой частоте нуклеотида на данной позиции."
   ]
  },
  {
   "cell_type": "markdown",
   "id": "c73ea279-7305-46ae-8adb-bb07ac03caa5",
   "metadata": {},
   "source": [
    "Для начала надо из списка контекстов создать Position Probability Matrix."
   ]
  },
  {
   "cell_type": "code",
   "execution_count": 226,
   "id": "08ab8fc8-f72f-4078-be64-0b5c04c93798",
   "metadata": {},
   "outputs": [
    {
     "data": {
      "text/plain": [
       "array([[0.22965016, 0.27696571, 0.27689643, 0.2164877 ],\n",
       "       [0.2468999 , 0.28583304, 0.27876689, 0.18850017],\n",
       "       [0.23062002, 0.19224108, 0.16113613, 0.41600277],\n",
       "       [0.23824039, 0.18759958, 0.28742639, 0.28673363],\n",
       "       [0.05154139, 0.58067198, 0.29740215, 0.07038448],\n",
       "       [0.58018705, 0.05749913, 0.32469692, 0.0376169 ],\n",
       "       [0.42009006, 0.07398684, 0.42687911, 0.07904399],\n",
       "       [0.25320402, 0.25514375, 0.31797714, 0.1736751 ],\n",
       "       [0.30855559, 0.22403879, 0.22881884, 0.23858677],\n",
       "       [0.23810184, 0.26442674, 0.28818843, 0.20928299]])"
      ]
     },
     "execution_count": 226,
     "metadata": {},
     "output_type": "execute_result"
    }
   ],
   "source": [
    "# Преобразование списка контекстов в массив нампай\n",
    "sequences_array = np.array(filtered_context)\n",
    "\n",
    "# Можно удалить наны на этом шаге\n",
    "# sequences_array = sequences_array[sequences_array != None]\n",
    "\n",
    "# Создание пустого массива для хранения частот\n",
    "freq_array = np.zeros((len(sequences_array[0]), 4))\n",
    "\n",
    "# Вычисление частоты каждой буквы на каждой позиции\n",
    "for i, seq in enumerate(sequences_array):\n",
    "    for j, nt in enumerate(seq):\n",
    "        if nt == 'A':\n",
    "            freq_array[j][0] += 1\n",
    "        elif nt == 'C':\n",
    "            freq_array[j][1] += 1\n",
    "        elif nt == 'G':\n",
    "            freq_array[j][2] += 1\n",
    "        elif nt == 'T':\n",
    "            freq_array[j][3] += 1\n",
    "\n",
    "# Нормализация частоты\n",
    "freq_array /= len(sequences_array)\n",
    "freq_array"
   ]
  },
  {
   "cell_type": "code",
   "execution_count": 218,
   "id": "b3b06cb5-7e41-4dcf-8cb1-23611e7c6316",
   "metadata": {},
   "outputs": [
    {
     "data": {
      "text/html": [
       "<div>\n",
       "<style scoped>\n",
       "    .dataframe tbody tr th:only-of-type {\n",
       "        vertical-align: middle;\n",
       "    }\n",
       "\n",
       "    .dataframe tbody tr th {\n",
       "        vertical-align: top;\n",
       "    }\n",
       "\n",
       "    .dataframe thead th {\n",
       "        text-align: right;\n",
       "    }\n",
       "</style>\n",
       "<table border=\"1\" class=\"dataframe\">\n",
       "  <thead>\n",
       "    <tr style=\"text-align: right;\">\n",
       "      <th></th>\n",
       "      <th>A</th>\n",
       "      <th>C</th>\n",
       "      <th>G</th>\n",
       "      <th>T</th>\n",
       "    </tr>\n",
       "  </thead>\n",
       "  <tbody>\n",
       "    <tr>\n",
       "      <th>0</th>\n",
       "      <td>0.229650</td>\n",
       "      <td>0.276966</td>\n",
       "      <td>0.276896</td>\n",
       "      <td>0.216488</td>\n",
       "    </tr>\n",
       "    <tr>\n",
       "      <th>1</th>\n",
       "      <td>0.246900</td>\n",
       "      <td>0.285833</td>\n",
       "      <td>0.278767</td>\n",
       "      <td>0.188500</td>\n",
       "    </tr>\n",
       "    <tr>\n",
       "      <th>2</th>\n",
       "      <td>0.230620</td>\n",
       "      <td>0.192241</td>\n",
       "      <td>0.161136</td>\n",
       "      <td>0.416003</td>\n",
       "    </tr>\n",
       "    <tr>\n",
       "      <th>3</th>\n",
       "      <td>0.238240</td>\n",
       "      <td>0.187600</td>\n",
       "      <td>0.287426</td>\n",
       "      <td>0.286734</td>\n",
       "    </tr>\n",
       "    <tr>\n",
       "      <th>4</th>\n",
       "      <td>0.051541</td>\n",
       "      <td>0.580672</td>\n",
       "      <td>0.297402</td>\n",
       "      <td>0.070384</td>\n",
       "    </tr>\n",
       "    <tr>\n",
       "      <th>5</th>\n",
       "      <td>0.580187</td>\n",
       "      <td>0.057499</td>\n",
       "      <td>0.324697</td>\n",
       "      <td>0.037617</td>\n",
       "    </tr>\n",
       "    <tr>\n",
       "      <th>6</th>\n",
       "      <td>0.420090</td>\n",
       "      <td>0.073987</td>\n",
       "      <td>0.426879</td>\n",
       "      <td>0.079044</td>\n",
       "    </tr>\n",
       "    <tr>\n",
       "      <th>7</th>\n",
       "      <td>0.253204</td>\n",
       "      <td>0.255144</td>\n",
       "      <td>0.317977</td>\n",
       "      <td>0.173675</td>\n",
       "    </tr>\n",
       "    <tr>\n",
       "      <th>8</th>\n",
       "      <td>0.308556</td>\n",
       "      <td>0.224039</td>\n",
       "      <td>0.228819</td>\n",
       "      <td>0.238587</td>\n",
       "    </tr>\n",
       "    <tr>\n",
       "      <th>9</th>\n",
       "      <td>0.238102</td>\n",
       "      <td>0.264427</td>\n",
       "      <td>0.288188</td>\n",
       "      <td>0.209283</td>\n",
       "    </tr>\n",
       "  </tbody>\n",
       "</table>\n",
       "</div>"
      ],
      "text/plain": [
       "          A         C         G         T\n",
       "0  0.229650  0.276966  0.276896  0.216488\n",
       "1  0.246900  0.285833  0.278767  0.188500\n",
       "2  0.230620  0.192241  0.161136  0.416003\n",
       "3  0.238240  0.187600  0.287426  0.286734\n",
       "4  0.051541  0.580672  0.297402  0.070384\n",
       "5  0.580187  0.057499  0.324697  0.037617\n",
       "6  0.420090  0.073987  0.426879  0.079044\n",
       "7  0.253204  0.255144  0.317977  0.173675\n",
       "8  0.308556  0.224039  0.228819  0.238587\n",
       "9  0.238102  0.264427  0.288188  0.209283"
      ]
     },
     "metadata": {},
     "output_type": "display_data"
    },
    {
     "data": {
      "text/plain": []
     },
     "execution_count": 218,
     "metadata": {},
     "output_type": "execute_result"
    }
   ],
   "source": [
    "ppm = seqlogo.Ppm(freq_array)\n",
    "ppm"
   ]
  },
  {
   "cell_type": "code",
   "execution_count": 219,
   "id": "33b39c3a-4bfc-463d-a2e0-5af9b15ad90a",
   "metadata": {},
   "outputs": [
    {
     "data": {
      "image/svg+xml": [
       "<svg xmlns=\"http://www.w3.org/2000/svg\" xmlns:xlink=\"http://www.w3.org/1999/xlink\" width=\"398pt\" height=\"200pt\" viewBox=\"0 0 398 200\" version=\"1.1\">\n",
       "<defs>\n",
       "<g>\n",
       "<symbol overflow=\"visible\" id=\"glyph0-0 -188898676847968869\">\n",
       "<path style=\"stroke:none;\" d=\"\"/>\n",
       "</symbol>\n",
       "<symbol overflow=\"visible\" id=\"glyph0-1 -188898676847968869\">\n",
       "<path style=\"stroke:none;\" d=\"M 2.203125 -5.78125 C 1.671875 -5.78125 1.1875 -5.546875 0.890625 -5.15625 C 0.53125 -4.640625 0.34375 -3.875 0.34375 -2.796875 C 0.34375 -0.84375 0.984375 0.1875 2.203125 0.1875 C 3.40625 0.1875 4.0625 -0.84375 4.0625 -2.75 C 4.0625 -3.875 3.875 -4.625 3.5 -5.15625 C 3.203125 -5.546875 2.734375 -5.78125 2.203125 -5.78125 Z M 2.203125 -5.15625 C 2.953125 -5.15625 3.34375 -4.390625 3.34375 -2.8125 C 3.34375 -1.171875 2.96875 -0.40625 2.1875 -0.40625 C 1.4375 -0.40625 1.0625 -1.203125 1.0625 -2.796875 C 1.0625 -4.390625 1.4375 -5.15625 2.203125 -5.15625 Z M 2.203125 -5.15625 \"/>\n",
       "</symbol>\n",
       "<symbol overflow=\"visible\" id=\"glyph0-2 -188898676847968869\">\n",
       "<path style=\"stroke:none;\" d=\"M 1.53125 -0.828125 L 0.703125 -0.828125 L 0.703125 0 L 1.53125 0 Z M 1.53125 -0.828125 \"/>\n",
       "</symbol>\n",
       "<symbol overflow=\"visible\" id=\"glyph0-3 -188898676847968869\">\n",
       "<path style=\"stroke:none;\" d=\"M 3.8125 -5.671875 L 0.875 -5.671875 L 0.453125 -2.578125 L 1.109375 -2.578125 C 1.4375 -2.96875 1.703125 -3.109375 2.15625 -3.109375 C 2.90625 -3.109375 3.390625 -2.59375 3.390625 -1.75 C 3.390625 -0.9375 2.90625 -0.4375 2.140625 -0.4375 C 1.53125 -0.4375 1.15625 -0.75 0.984375 -1.390625 L 0.28125 -1.390625 C 0.375 -0.921875 0.453125 -0.703125 0.625 -0.5 C 0.9375 -0.0625 1.515625 0.1875 2.15625 0.1875 C 3.296875 0.1875 4.109375 -0.640625 4.109375 -1.84375 C 4.109375 -2.96875 3.359375 -3.734375 2.265625 -3.734375 C 1.875 -3.734375 1.546875 -3.625 1.21875 -3.390625 L 1.453125 -4.96875 L 3.8125 -4.96875 Z M 3.8125 -5.671875 \"/>\n",
       "</symbol>\n",
       "<symbol overflow=\"visible\" id=\"glyph0-4 -188898676847968869\">\n",
       "<path style=\"stroke:none;\" d=\"M 2.078125 -4.125 L 2.078125 0 L 2.78125 0 L 2.78125 -5.78125 L 2.3125 -5.78125 C 2.0625 -4.890625 1.90625 -4.78125 0.8125 -4.625 L 0.8125 -4.125 Z M 2.078125 -4.125 \"/>\n",
       "</symbol>\n",
       "<symbol overflow=\"visible\" id=\"glyph1-0 -188898676847968869\">\n",
       "<path style=\"stroke:none;\" d=\"\"/>\n",
       "</symbol>\n",
       "<symbol overflow=\"visible\" id=\"glyph1-1 -188898676847968869\">\n",
       "<path style=\"stroke:none;\" d=\"M 2.1875 -0.546875 L 2.1875 -1.375 L -0.546875 -1.375 C -0.015625 -1.8125 0.234375 -2.3125 0.234375 -2.984375 C 0.234375 -4.34375 -0.859375 -5.234375 -2.53125 -5.234375 C -4.296875 -5.234375 -5.390625 -4.375 -5.390625 -2.984375 C -5.390625 -2.265625 -5.0625 -1.703125 -4.453125 -1.3125 L -5.234375 -1.3125 L -5.234375 -0.546875 Z M -4.609375 -2.84375 C -4.609375 -3.765625 -3.796875 -4.359375 -2.546875 -4.359375 C -1.359375 -4.359375 -0.546875 -3.75 -0.546875 -2.84375 C -0.546875 -1.953125 -1.34375 -1.375 -2.578125 -1.375 C -3.8125 -1.375 -4.609375 -1.953125 -4.609375 -2.84375 Z M -4.609375 -2.84375 \"/>\n",
       "</symbol>\n",
       "<symbol overflow=\"visible\" id=\"glyph1-2 -188898676847968869\">\n",
       "<path style=\"stroke:none;\" d=\"M -5.234375 -0.6875 L 0 -0.6875 L 0 -1.53125 L -2.71875 -1.53125 C -3.984375 -1.546875 -4.546875 -2.0625 -4.515625 -3.203125 L -5.359375 -3.203125 C -5.375 -3.0625 -5.390625 -2.984375 -5.390625 -2.890625 C -5.390625 -2.34375 -5.0625 -1.9375 -4.296875 -1.453125 L -5.234375 -1.453125 Z M -5.234375 -0.6875 \"/>\n",
       "</symbol>\n",
       "<symbol overflow=\"visible\" id=\"glyph1-3 -188898676847968869\">\n",
       "<path style=\"stroke:none;\" d=\"M -5.390625 -2.71875 C -5.390625 -1.234375 -4.34375 -0.359375 -2.578125 -0.359375 C -0.8125 -0.359375 0.234375 -1.234375 0.234375 -2.734375 C 0.234375 -4.203125 -0.8125 -5.09375 -2.546875 -5.09375 C -4.359375 -5.09375 -5.390625 -4.234375 -5.390625 -2.71875 Z M -4.625 -2.734375 C -4.625 -3.671875 -3.84375 -4.234375 -2.546875 -4.234375 C -1.3125 -4.234375 -0.546875 -3.65625 -0.546875 -2.734375 C -0.546875 -1.796875 -1.3125 -1.234375 -2.578125 -1.234375 C -3.84375 -1.234375 -4.625 -1.796875 -4.625 -2.734375 Z M -4.625 -2.734375 \"/>\n",
       "</symbol>\n",
       "<symbol overflow=\"visible\" id=\"glyph1-4 -188898676847968869\">\n",
       "<path style=\"stroke:none;\" d=\"M -7.296875 -0.546875 L 0 -0.546875 L 0 -1.296875 L -0.671875 -1.296875 C -0.0625 -1.6875 0.234375 -2.21875 0.234375 -2.953125 C 0.234375 -4.328125 -0.90625 -5.234375 -2.640625 -5.234375 C -4.34375 -5.234375 -5.390625 -4.375 -5.390625 -2.984375 C -5.390625 -2.265625 -5.125 -1.765625 -4.53125 -1.375 L -7.296875 -1.375 Z M -4.609375 -2.828125 C -4.609375 -3.765625 -3.796875 -4.359375 -2.546875 -4.359375 C -1.359375 -4.359375 -0.546875 -3.734375 -0.546875 -2.828125 C -0.546875 -1.9375 -1.34375 -1.375 -2.578125 -1.375 C -3.8125 -1.375 -4.609375 -1.9375 -4.609375 -2.828125 Z M -4.609375 -2.828125 \"/>\n",
       "</symbol>\n",
       "<symbol overflow=\"visible\" id=\"glyph1-5 -188898676847968869\">\n",
       "<path style=\"stroke:none;\" d=\"M -0.484375 -5.34375 C -0.46875 -5.265625 -0.46875 -5.21875 -0.46875 -5.171875 C -0.46875 -4.875 -0.625 -4.71875 -0.875 -4.71875 L -3.953125 -4.71875 C -4.890625 -4.71875 -5.390625 -4.046875 -5.390625 -2.75 C -5.390625 -1.984375 -5.171875 -1.375 -4.78125 -1.015625 C -4.515625 -0.765625 -4.203125 -0.671875 -3.6875 -0.65625 L -3.6875 -1.484375 C -4.328125 -1.5625 -4.625 -1.9375 -4.625 -2.71875 C -4.625 -3.484375 -4.34375 -3.890625 -3.84375 -3.890625 L -3.625 -3.890625 C -3.265625 -3.875 -3.125 -3.703125 -3.046875 -3.015625 C -2.890625 -1.84375 -2.84375 -1.65625 -2.71875 -1.34375 C -2.453125 -0.734375 -2 -0.421875 -1.3125 -0.421875 C -0.375 -0.421875 0.234375 -1.078125 0.234375 -2.140625 C 0.234375 -2.796875 0 -3.328125 -0.546875 -3.921875 C 0 -3.984375 0.234375 -4.234375 0.234375 -4.78125 C 0.234375 -4.953125 0.203125 -5.0625 0.140625 -5.34375 Z M -1.65625 -3.890625 C -1.375 -3.890625 -1.203125 -3.8125 -0.96875 -3.5625 C -0.65625 -3.21875 -0.5 -2.8125 -0.5 -2.3125 C -0.5 -1.671875 -0.8125 -1.296875 -1.34375 -1.296875 C -1.890625 -1.296875 -2.171875 -1.65625 -2.296875 -2.546875 C -2.421875 -3.4375 -2.453125 -3.609375 -2.59375 -3.890625 Z M -1.65625 -3.890625 \"/>\n",
       "</symbol>\n",
       "<symbol overflow=\"visible\" id=\"glyph1-6 -188898676847968869\">\n",
       "<path style=\"stroke:none;\" d=\"M -5.234375 -1.5 L -5.234375 -0.671875 L 0 -0.671875 L 0 -1.5 Z M -7.296875 -1.5 L -7.296875 -0.65625 L -6.234375 -0.65625 L -6.234375 -1.5 Z M -7.296875 -1.5 \"/>\n",
       "</symbol>\n",
       "<symbol overflow=\"visible\" id=\"glyph1-7 -188898676847968869\">\n",
       "<path style=\"stroke:none;\" d=\"M -7.296875 -1.515625 L -7.296875 -0.6875 L 0 -0.6875 L 0 -1.515625 Z M -7.296875 -1.515625 \"/>\n",
       "</symbol>\n",
       "<symbol overflow=\"visible\" id=\"glyph1-8 -188898676847968869\">\n",
       "<path style=\"stroke:none;\" d=\"M -5.234375 -2.546875 L -5.234375 -1.6875 L -6.6875 -1.6875 L -6.6875 -0.84375 L -5.234375 -0.84375 L -5.234375 -0.140625 L -4.5625 -0.140625 L -4.5625 -0.84375 L -0.59375 -0.84375 C -0.0625 -0.84375 0.234375 -1.203125 0.234375 -1.859375 C 0.234375 -2.078125 0.203125 -2.265625 0.15625 -2.546875 L -0.546875 -2.546875 C -0.515625 -2.421875 -0.5 -2.3125 -0.5 -2.140625 C -0.5 -1.78125 -0.59375 -1.6875 -0.96875 -1.6875 L -4.5625 -1.6875 L -4.5625 -2.546875 Z M -5.234375 -2.546875 \"/>\n",
       "</symbol>\n",
       "<symbol overflow=\"visible\" id=\"glyph1-9 -188898676847968869\">\n",
       "<path style=\"stroke:none;\" d=\"M -5.234375 -3.875 L -1.15625 -2.4375 L -5.234375 -1.09375 L -5.234375 -0.203125 L 0.015625 -1.96875 L 0.84375 -1.65625 C 1.21875 -1.515625 1.359375 -1.328125 1.359375 -0.984375 C 1.359375 -0.84375 1.34375 -0.71875 1.296875 -0.546875 L 2.046875 -0.546875 C 2.140625 -0.703125 2.1875 -0.875 2.1875 -1.09375 C 2.1875 -1.375 2.09375 -1.65625 1.9375 -1.875 C 1.734375 -2.140625 1.515625 -2.296875 1.09375 -2.453125 L -5.234375 -4.78125 Z M -5.234375 -3.875 \"/>\n",
       "</symbol>\n",
       "<symbol overflow=\"visible\" id=\"glyph2-0 -188898676847968869\">\n",
       "<path style=\"stroke:none;\" d=\"\"/>\n",
       "</symbol>\n",
       "<symbol overflow=\"visible\" id=\"glyph2-1 -188898676847968869\">\n",
       "<path style=\"stroke:none;\" d=\"M 23.078125 -31.90625 L 35.859375 -31.90625 L 35.859375 -38.5 L 0.84375 -38.5 L 0.84375 -31.90625 L 14.09375 -31.90625 L 14.09375 0 L 23.078125 0 Z M 23.078125 -31.90625 \"/>\n",
       "</symbol>\n",
       "<symbol overflow=\"visible\" id=\"glyph3-0 -188898676847968869\">\n",
       "<path style=\"stroke:none;\" d=\"\"/>\n",
       "</symbol>\n",
       "<symbol overflow=\"visible\" id=\"glyph3-1 -188898676847968869\">\n",
       "<path style=\"stroke:none;\" d=\"M 25.921875 -8.125 L 28.40625 0 L 36.375 0 L 23.34375 -40.328125 L 14.75 -40.328125 L 1.34375 0 L 9.265625 0 L 11.796875 -8.125 Z M 23.8125 -15.046875 L 13.96875 -15.046875 L 18.890625 -30.8125 Z M 23.8125 -15.046875 \"/>\n",
       "</symbol>\n",
       "<symbol overflow=\"visible\" id=\"glyph4-0 -188898676847968869\">\n",
       "<path style=\"stroke:none;\" d=\"\"/>\n",
       "</symbol>\n",
       "<symbol overflow=\"visible\" id=\"glyph4-1 -188898676847968869\">\n",
       "<path style=\"stroke:none;\" d=\"M 37.234375 -25.4375 L 21.9375 -25.4375 L 21.9375 -17.328125 L 30.625 -17.328125 C 30.421875 -14.671875 29.890625 -13.046875 28.75 -11.359375 C 26.859375 -8.5 23.921875 -6.8125 20.9375 -6.8125 C 14.5625 -6.8125 10.046875 -13.6875 10.046875 -23.421875 C 10.046875 -33.609375 14.03125 -39.78125 20.734375 -39.78125 C 23.453125 -39.78125 25.765625 -38.796875 27.484375 -36.921875 C 28.59375 -35.75 29.171875 -34.65625 29.84375 -32.1875 L 37.234375 -32.1875 C 36.28125 -41.984375 29.890625 -48.078125 20.6875 -48.078125 C 9.6875 -48.078125 2.203125 -38.03125 2.203125 -23.296875 C 2.203125 -8.953125 9.734375 1.5 20.046875 1.5 C 25.1875 1.5 28.640625 -0.78125 31.578125 -6.09375 L 32.515625 0.125 L 37.234375 0.125 Z M 37.234375 -25.4375 \"/>\n",
       "</symbol>\n",
       "<symbol overflow=\"visible\" id=\"glyph5-0 -188898676847968869\">\n",
       "<path style=\"stroke:none;\" d=\"\"/>\n",
       "</symbol>\n",
       "<symbol overflow=\"visible\" id=\"glyph5-1 -188898676847968869\">\n",
       "<path style=\"stroke:none;\" d=\"M 37.265625 -31.28125 C 36.984375 -35.359375 36.28125 -37.96875 34.59375 -40.625 C 31.53125 -45.421875 26.609375 -48.078125 20.65625 -48.078125 C 9.390625 -48.078125 2.40625 -38.546875 2.40625 -23.234375 C 2.40625 -7.984375 9.34375 1.5 20.4375 1.5 C 30.375 1.5 36.9375 -5.328125 37.421875 -16.15625 L 29.453125 -16.15625 C 28.90625 -10.125 25.734375 -6.6875 20.65625 -6.6875 C 14.3125 -6.6875 10.59375 -12.78125 10.59375 -23.09375 C 10.59375 -33.546875 14.484375 -39.78125 20.921875 -39.78125 C 25.6875 -39.78125 28.359375 -37.046875 29.453125 -31.28125 Z M 37.265625 -31.28125 \"/>\n",
       "</symbol>\n",
       "<symbol overflow=\"visible\" id=\"glyph6-0 -188898676847968869\">\n",
       "<path style=\"stroke:none;\" d=\"\"/>\n",
       "</symbol>\n",
       "<symbol overflow=\"visible\" id=\"glyph6-1 -188898676847968869\">\n",
       "<path style=\"stroke:none;\" d=\"M 23.078125 -27.28125 L 35.859375 -27.28125 L 35.859375 -32.9375 L 0.84375 -32.9375 L 0.84375 -27.28125 L 14.09375 -27.28125 L 14.09375 0 L 23.078125 0 Z M 23.078125 -27.28125 \"/>\n",
       "</symbol>\n",
       "<symbol overflow=\"visible\" id=\"glyph7-0 -188898676847968869\">\n",
       "<path style=\"stroke:none;\" d=\"\"/>\n",
       "</symbol>\n",
       "<symbol overflow=\"visible\" id=\"glyph7-1 -188898676847968869\">\n",
       "<path style=\"stroke:none;\" d=\"M 25.921875 -8.890625 L 28.40625 0 L 36.375 0 L 23.34375 -44.0625 L 14.75 -44.0625 L 1.34375 0 L 9.265625 0 L 11.796875 -8.890625 Z M 23.8125 -16.4375 L 13.96875 -16.4375 L 18.890625 -33.65625 Z M 23.8125 -16.4375 \"/>\n",
       "</symbol>\n",
       "<symbol overflow=\"visible\" id=\"glyph8-0 -188898676847968869\">\n",
       "<path style=\"stroke:none;\" d=\"\"/>\n",
       "</symbol>\n",
       "<symbol overflow=\"visible\" id=\"glyph8-1 -188898676847968869\">\n",
       "<path style=\"stroke:none;\" d=\"M 37.265625 -32.4375 C 36.984375 -36.6875 36.28125 -39.375 34.59375 -42.140625 C 31.53125 -47.125 26.609375 -49.875 20.65625 -49.875 C 9.390625 -49.875 2.40625 -39.984375 2.40625 -24.09375 C 2.40625 -8.28125 9.34375 1.546875 20.4375 1.546875 C 30.375 1.546875 36.9375 -5.515625 37.421875 -16.765625 L 29.453125 -16.765625 C 28.90625 -10.5 25.734375 -6.9375 20.65625 -6.9375 C 14.3125 -6.9375 10.59375 -13.265625 10.59375 -23.96875 C 10.59375 -34.796875 14.484375 -41.265625 20.921875 -41.265625 C 25.6875 -41.265625 28.359375 -38.4375 29.453125 -32.4375 Z M 37.265625 -32.4375 \"/>\n",
       "</symbol>\n",
       "<symbol overflow=\"visible\" id=\"glyph9-0 -188898676847968869\">\n",
       "<path style=\"stroke:none;\" d=\"\"/>\n",
       "</symbol>\n",
       "<symbol overflow=\"visible\" id=\"glyph9-1 -188898676847968869\">\n",
       "<path style=\"stroke:none;\" d=\"M 37.234375 -14.65625 L 21.9375 -14.65625 L 21.9375 -9.984375 L 30.625 -9.984375 C 30.421875 -8.453125 29.890625 -7.515625 28.75 -6.546875 C 26.859375 -4.890625 23.921875 -3.921875 20.9375 -3.921875 C 14.5625 -3.921875 10.046875 -7.890625 10.046875 -13.5 C 10.046875 -19.375 14.03125 -22.921875 20.734375 -22.921875 C 23.453125 -22.921875 25.765625 -22.359375 27.484375 -21.28125 C 28.59375 -20.609375 29.171875 -19.96875 29.84375 -18.546875 L 37.234375 -18.546875 C 36.28125 -24.1875 29.890625 -27.703125 20.6875 -27.703125 C 9.6875 -27.703125 2.203125 -21.90625 2.203125 -13.421875 C 2.203125 -5.15625 9.734375 0.859375 20.046875 0.859375 C 25.1875 0.859375 28.640625 -0.453125 31.578125 -3.515625 L 32.515625 0.078125 L 37.234375 0.078125 Z M 37.234375 -14.65625 \"/>\n",
       "</symbol>\n",
       "<symbol overflow=\"visible\" id=\"glyph10-0 -188898676847968869\">\n",
       "<path style=\"stroke:none;\" d=\"\"/>\n",
       "</symbol>\n",
       "<symbol overflow=\"visible\" id=\"glyph10-1 -188898676847968869\">\n",
       "<path style=\"stroke:none;\" d=\"M 37.265625 -21.4375 C 36.984375 -24.25 36.28125 -26.015625 34.59375 -27.84375 C 31.53125 -31.140625 26.609375 -32.96875 20.65625 -32.96875 C 9.390625 -32.96875 2.40625 -26.421875 2.40625 -15.921875 C 2.40625 -5.46875 9.34375 1.015625 20.4375 1.015625 C 30.375 1.015625 36.9375 -3.640625 37.421875 -11.078125 L 29.453125 -11.078125 C 28.90625 -6.9375 25.734375 -4.578125 20.65625 -4.578125 C 14.3125 -4.578125 10.59375 -8.765625 10.59375 -15.84375 C 10.59375 -23 14.484375 -27.265625 20.921875 -27.265625 C 25.6875 -27.265625 28.359375 -25.40625 29.453125 -21.4375 Z M 37.265625 -21.4375 \"/>\n",
       "</symbol>\n",
       "<symbol overflow=\"visible\" id=\"glyph11-0 -188898676847968869\">\n",
       "<path style=\"stroke:none;\" d=\"\"/>\n",
       "</symbol>\n",
       "<symbol overflow=\"visible\" id=\"glyph11-1 -188898676847968869\">\n",
       "<path style=\"stroke:none;\" d=\"M 25.921875 -8.328125 L 28.40625 0 L 36.375 0 L 23.34375 -41.296875 L 14.75 -41.296875 L 1.34375 0 L 9.265625 0 L 11.796875 -8.328125 Z M 23.8125 -15.40625 L 13.96875 -15.40625 L 18.890625 -31.5625 Z M 23.8125 -15.40625 \"/>\n",
       "</symbol>\n",
       "<symbol overflow=\"visible\" id=\"glyph12-0 -188898676847968869\">\n",
       "<path style=\"stroke:none;\" d=\"\"/>\n",
       "</symbol>\n",
       "<symbol overflow=\"visible\" id=\"glyph12-1 -188898676847968869\">\n",
       "<path style=\"stroke:none;\" d=\"M 23.078125 -61.3125 L 35.859375 -61.3125 L 35.859375 -74 L 0.84375 -74 L 0.84375 -61.3125 L 14.09375 -61.3125 L 14.09375 0 L 23.078125 0 Z M 23.078125 -61.3125 \"/>\n",
       "</symbol>\n",
       "<symbol overflow=\"visible\" id=\"glyph13-0 -188898676847968869\">\n",
       "<path style=\"stroke:none;\" d=\"\"/>\n",
       "</symbol>\n",
       "<symbol overflow=\"visible\" id=\"glyph13-1 -188898676847968869\">\n",
       "<path style=\"stroke:none;\" d=\"M 37.265625 -20.734375 C 36.984375 -23.453125 36.28125 -25.171875 34.59375 -26.9375 C 31.53125 -30.125 26.609375 -31.890625 20.65625 -31.890625 C 9.390625 -31.890625 2.40625 -25.5625 2.40625 -15.40625 C 2.40625 -5.296875 9.34375 0.984375 20.4375 0.984375 C 30.375 0.984375 36.9375 -3.53125 37.421875 -10.71875 L 29.453125 -10.71875 C 28.90625 -6.71875 25.734375 -4.4375 20.65625 -4.4375 C 14.3125 -4.4375 10.59375 -8.484375 10.59375 -15.3125 C 10.59375 -22.25 14.484375 -26.375 20.921875 -26.375 C 25.6875 -26.375 28.359375 -24.578125 29.453125 -20.734375 Z M 37.265625 -20.734375 \"/>\n",
       "</symbol>\n",
       "<symbol overflow=\"visible\" id=\"glyph14-0 -188898676847968869\">\n",
       "<path style=\"stroke:none;\" d=\"\"/>\n",
       "</symbol>\n",
       "<symbol overflow=\"visible\" id=\"glyph14-1 -188898676847968869\">\n",
       "<path style=\"stroke:none;\" d=\"M 25.921875 -8.5 L 28.40625 0 L 36.375 0 L 23.34375 -42.140625 L 14.75 -42.140625 L 1.34375 0 L 9.265625 0 L 11.796875 -8.5 Z M 23.8125 -15.71875 L 13.96875 -15.71875 L 18.890625 -32.1875 Z M 23.8125 -15.71875 \"/>\n",
       "</symbol>\n",
       "<symbol overflow=\"visible\" id=\"glyph15-0 -188898676847968869\">\n",
       "<path style=\"stroke:none;\" d=\"\"/>\n",
       "</symbol>\n",
       "<symbol overflow=\"visible\" id=\"glyph15-1 -188898676847968869\">\n",
       "<path style=\"stroke:none;\" d=\"M 23.078125 -42.625 L 35.859375 -42.625 L 35.859375 -51.4375 L 0.84375 -51.4375 L 0.84375 -42.625 L 14.09375 -42.625 L 14.09375 0 L 23.078125 0 Z M 23.078125 -42.625 \"/>\n",
       "</symbol>\n",
       "<symbol overflow=\"visible\" id=\"glyph16-0 -188898676847968869\">\n",
       "<path style=\"stroke:none;\" d=\"\"/>\n",
       "</symbol>\n",
       "<symbol overflow=\"visible\" id=\"glyph16-1 -188898676847968869\">\n",
       "<path style=\"stroke:none;\" d=\"M 37.234375 -26.390625 L 21.9375 -26.390625 L 21.9375 -17.96875 L 30.625 -17.96875 C 30.421875 -15.21875 29.890625 -13.53125 28.75 -11.78125 C 26.859375 -8.8125 23.921875 -7.0625 20.9375 -7.0625 C 14.5625 -7.0625 10.046875 -14.203125 10.046875 -24.296875 C 10.046875 -34.875 14.03125 -41.265625 20.734375 -41.265625 C 23.453125 -41.265625 25.765625 -40.25 27.484375 -38.296875 C 28.59375 -37.09375 29.171875 -35.9375 29.84375 -33.390625 L 37.234375 -33.390625 C 36.28125 -43.546875 29.890625 -49.875 20.6875 -49.875 C 9.6875 -49.875 2.203125 -39.4375 2.203125 -24.171875 C 2.203125 -9.296875 9.734375 1.546875 20.046875 1.546875 C 25.1875 1.546875 28.640625 -0.8125 31.578125 -6.328125 L 32.515625 0.140625 L 37.234375 0.140625 Z M 37.234375 -26.390625 \"/>\n",
       "</symbol>\n",
       "<symbol overflow=\"visible\" id=\"glyph17-0 -188898676847968869\">\n",
       "<path style=\"stroke:none;\" d=\"\"/>\n",
       "</symbol>\n",
       "<symbol overflow=\"visible\" id=\"glyph17-1 -188898676847968869\">\n",
       "<path style=\"stroke:none;\" d=\"M 25.921875 -1.734375 L 28.40625 0 L 36.375 0 L 23.34375 -8.59375 L 14.75 -8.59375 L 1.34375 0 L 9.265625 0 L 11.796875 -1.734375 Z M 23.8125 -3.203125 L 13.96875 -3.203125 L 18.890625 -6.578125 Z M 23.8125 -3.203125 \"/>\n",
       "</symbol>\n",
       "<symbol overflow=\"visible\" id=\"glyph18-0 -188898676847968869\">\n",
       "<path style=\"stroke:none;\" d=\"\"/>\n",
       "</symbol>\n",
       "<symbol overflow=\"visible\" id=\"glyph18-1 -188898676847968869\">\n",
       "<path style=\"stroke:none;\" d=\"M 23.078125 -10.109375 L 35.859375 -10.109375 L 35.859375 -12.203125 L 0.84375 -12.203125 L 0.84375 -10.109375 L 14.09375 -10.109375 L 14.09375 0 L 23.078125 0 Z M 23.078125 -10.109375 \"/>\n",
       "</symbol>\n",
       "<symbol overflow=\"visible\" id=\"glyph19-0 -188898676847968869\">\n",
       "<path style=\"stroke:none;\" d=\"\"/>\n",
       "</symbol>\n",
       "<symbol overflow=\"visible\" id=\"glyph19-1 -188898676847968869\">\n",
       "<path style=\"stroke:none;\" d=\"M 37.234375 -26.8125 L 21.9375 -26.8125 L 21.9375 -18.265625 L 30.625 -18.265625 C 30.421875 -15.453125 29.890625 -13.75 28.75 -11.96875 C 26.859375 -8.953125 23.921875 -7.1875 20.9375 -7.1875 C 14.5625 -7.1875 10.046875 -14.4375 10.046875 -24.6875 C 10.046875 -35.421875 14.03125 -41.921875 20.734375 -41.921875 C 23.453125 -41.921875 25.765625 -40.890625 27.484375 -38.921875 C 28.59375 -37.6875 29.171875 -36.515625 29.84375 -33.921875 L 37.234375 -33.921875 C 36.28125 -44.25 29.890625 -50.671875 20.6875 -50.671875 C 9.6875 -50.671875 2.203125 -40.078125 2.203125 -24.546875 C 2.203125 -9.4375 9.734375 1.578125 20.046875 1.578125 C 25.1875 1.578125 28.640625 -0.828125 31.578125 -6.421875 L 32.515625 0.140625 L 37.234375 0.140625 Z M 37.234375 -26.8125 \"/>\n",
       "</symbol>\n",
       "<symbol overflow=\"visible\" id=\"glyph20-0 -188898676847968869\">\n",
       "<path style=\"stroke:none;\" d=\"\"/>\n",
       "</symbol>\n",
       "<symbol overflow=\"visible\" id=\"glyph20-1 -188898676847968869\">\n",
       "<path style=\"stroke:none;\" d=\"M 37.265625 -66.203125 C 36.984375 -74.859375 36.28125 -80.34375 34.59375 -85.984375 C 31.53125 -96.140625 26.609375 -101.765625 20.65625 -101.765625 C 9.390625 -101.765625 2.40625 -81.578125 2.40625 -49.171875 C 2.40625 -16.890625 9.34375 3.15625 20.4375 3.15625 C 30.375 3.15625 36.9375 -11.265625 37.421875 -34.203125 L 29.453125 -34.203125 C 28.90625 -21.421875 25.734375 -14.140625 20.65625 -14.140625 C 14.3125 -14.140625 10.59375 -27.0625 10.59375 -48.890625 C 10.59375 -71 14.484375 -84.1875 20.921875 -84.1875 C 25.6875 -84.1875 28.359375 -78.421875 29.453125 -66.203125 Z M 37.265625 -66.203125 \"/>\n",
       "</symbol>\n",
       "<symbol overflow=\"visible\" id=\"glyph21-0 -188898676847968869\">\n",
       "<path style=\"stroke:none;\" d=\"\"/>\n",
       "</symbol>\n",
       "<symbol overflow=\"visible\" id=\"glyph21-1 -188898676847968869\">\n",
       "<path style=\"stroke:none;\" d=\"M 23.078125 -4.15625 L 35.859375 -4.15625 L 35.859375 -5.015625 L 0.84375 -5.015625 L 0.84375 -4.15625 L 14.09375 -4.15625 L 14.09375 0 L 23.078125 0 Z M 23.078125 -4.15625 \"/>\n",
       "</symbol>\n",
       "<symbol overflow=\"visible\" id=\"glyph22-0 -188898676847968869\">\n",
       "<path style=\"stroke:none;\" d=\"\"/>\n",
       "</symbol>\n",
       "<symbol overflow=\"visible\" id=\"glyph22-1 -188898676847968869\">\n",
       "<path style=\"stroke:none;\" d=\"M 37.265625 -5.5 C 36.984375 -6.21875 36.28125 -6.6875 34.59375 -7.15625 C 31.53125 -8 26.609375 -8.46875 20.65625 -8.46875 C 9.390625 -8.46875 2.40625 -6.78125 2.40625 -4.09375 C 2.40625 -1.40625 9.34375 0.265625 20.4375 0.265625 C 30.375 0.265625 36.9375 -0.9375 37.421875 -2.84375 L 29.453125 -2.84375 C 28.90625 -1.78125 25.734375 -1.171875 20.65625 -1.171875 C 14.3125 -1.171875 10.59375 -2.25 10.59375 -4.0625 C 10.59375 -5.90625 14.484375 -7 20.921875 -7 C 25.6875 -7 28.359375 -6.515625 29.453125 -5.5 Z M 37.265625 -5.5 \"/>\n",
       "</symbol>\n",
       "<symbol overflow=\"visible\" id=\"glyph23-0 -188898676847968869\">\n",
       "<path style=\"stroke:none;\" d=\"\"/>\n",
       "</symbol>\n",
       "<symbol overflow=\"visible\" id=\"glyph23-1 -188898676847968869\">\n",
       "<path style=\"stroke:none;\" d=\"M 37.234375 -29.90625 L 21.9375 -29.90625 L 21.9375 -20.359375 L 30.625 -20.359375 C 30.421875 -17.234375 29.890625 -15.328125 28.75 -13.34375 C 26.859375 -10 23.921875 -8.015625 20.9375 -8.015625 C 14.5625 -8.015625 10.046875 -16.09375 10.046875 -27.53125 C 10.046875 -39.515625 14.03125 -46.765625 20.734375 -46.765625 C 23.453125 -46.765625 25.765625 -45.609375 27.484375 -43.40625 C 28.59375 -42.03125 29.171875 -40.734375 29.84375 -37.828125 L 37.234375 -37.828125 C 36.28125 -49.359375 29.890625 -56.53125 20.6875 -56.53125 C 9.6875 -56.53125 2.203125 -44.703125 2.203125 -27.390625 C 2.203125 -10.53125 9.734375 1.75 20.046875 1.75 C 25.1875 1.75 28.640625 -0.921875 31.578125 -7.171875 L 32.515625 0.15625 L 37.234375 0.15625 Z M 37.234375 -29.90625 \"/>\n",
       "</symbol>\n",
       "<symbol overflow=\"visible\" id=\"glyph24-0 -188898676847968869\">\n",
       "<path style=\"stroke:none;\" d=\"\"/>\n",
       "</symbol>\n",
       "<symbol overflow=\"visible\" id=\"glyph24-1 -188898676847968869\">\n",
       "<path style=\"stroke:none;\" d=\"M 25.921875 -21.375 L 28.40625 0 L 36.375 0 L 23.34375 -105.984375 L 14.75 -105.984375 L 1.34375 0 L 9.265625 0 L 11.796875 -21.375 Z M 23.8125 -39.546875 L 13.96875 -39.546875 L 18.890625 -80.984375 Z M 23.8125 -39.546875 \"/>\n",
       "</symbol>\n",
       "<symbol overflow=\"visible\" id=\"glyph25-0 -188898676847968869\">\n",
       "<path style=\"stroke:none;\" d=\"\"/>\n",
       "</symbol>\n",
       "<symbol overflow=\"visible\" id=\"glyph25-1 -188898676847968869\">\n",
       "<path style=\"stroke:none;\" d=\"M 23.078125 -10.234375 L 35.859375 -10.234375 L 35.859375 -12.34375 L 0.84375 -12.34375 L 0.84375 -10.234375 L 14.09375 -10.234375 L 14.09375 0 L 23.078125 0 Z M 23.078125 -10.234375 \"/>\n",
       "</symbol>\n",
       "<symbol overflow=\"visible\" id=\"glyph26-0 -188898676847968869\">\n",
       "<path style=\"stroke:none;\" d=\"\"/>\n",
       "</symbol>\n",
       "<symbol overflow=\"visible\" id=\"glyph26-1 -188898676847968869\">\n",
       "<path style=\"stroke:none;\" d=\"M 37.265625 -7.78125 C 36.984375 -8.8125 36.28125 -9.453125 34.59375 -10.109375 C 31.53125 -11.3125 26.609375 -11.96875 20.65625 -11.96875 C 9.390625 -11.96875 2.40625 -9.59375 2.40625 -5.78125 C 2.40625 -1.984375 9.34375 0.375 20.4375 0.375 C 30.375 0.375 36.9375 -1.328125 37.421875 -4.015625 L 29.453125 -4.015625 C 28.90625 -2.515625 25.734375 -1.671875 20.65625 -1.671875 C 14.3125 -1.671875 10.59375 -3.1875 10.59375 -5.75 C 10.59375 -8.359375 14.484375 -9.90625 20.921875 -9.90625 C 25.6875 -9.90625 28.359375 -9.21875 29.453125 -7.78125 Z M 37.265625 -7.78125 \"/>\n",
       "</symbol>\n",
       "<symbol overflow=\"visible\" id=\"glyph27-0 -188898676847968869\">\n",
       "<path style=\"stroke:none;\" d=\"\"/>\n",
       "</symbol>\n",
       "<symbol overflow=\"visible\" id=\"glyph27-1 -188898676847968869\">\n",
       "<path style=\"stroke:none;\" d=\"M 37.234375 -39.34375 L 21.9375 -39.34375 L 21.9375 -26.796875 L 30.625 -26.796875 C 30.421875 -22.6875 29.890625 -20.171875 28.75 -17.5625 C 26.859375 -13.15625 23.921875 -10.546875 20.9375 -10.546875 C 14.5625 -10.546875 10.046875 -21.171875 10.046875 -36.234375 C 10.046875 -52 14.03125 -61.53125 20.734375 -61.53125 C 23.453125 -61.53125 25.765625 -60.03125 27.484375 -57.109375 C 28.59375 -55.3125 29.171875 -53.59375 29.84375 -49.78125 L 37.234375 -49.78125 C 36.28125 -64.9375 29.890625 -74.375 20.6875 -74.375 C 9.6875 -74.375 2.203125 -58.8125 2.203125 -36.03125 C 2.203125 -13.859375 9.734375 2.3125 20.046875 2.3125 C 25.1875 2.3125 28.640625 -1.203125 31.578125 -9.4375 L 32.515625 0.203125 L 37.234375 0.203125 Z M 37.234375 -39.34375 \"/>\n",
       "</symbol>\n",
       "<symbol overflow=\"visible\" id=\"glyph28-0 -188898676847968869\">\n",
       "<path style=\"stroke:none;\" d=\"\"/>\n",
       "</symbol>\n",
       "<symbol overflow=\"visible\" id=\"glyph28-1 -188898676847968869\">\n",
       "<path style=\"stroke:none;\" d=\"M 25.921875 -15.453125 L 28.40625 0 L 36.375 0 L 23.34375 -76.640625 L 14.75 -76.640625 L 1.34375 0 L 9.265625 0 L 11.796875 -15.453125 Z M 23.8125 -28.59375 L 13.96875 -28.59375 L 18.890625 -58.546875 Z M 23.8125 -28.59375 \"/>\n",
       "</symbol>\n",
       "<symbol overflow=\"visible\" id=\"glyph29-0 -188898676847968869\">\n",
       "<path style=\"stroke:none;\" d=\"\"/>\n",
       "</symbol>\n",
       "<symbol overflow=\"visible\" id=\"glyph29-1 -188898676847968869\">\n",
       "<path style=\"stroke:none;\" d=\"M 23.078125 -25.4375 L 35.859375 -25.4375 L 35.859375 -30.703125 L 0.84375 -30.703125 L 0.84375 -25.4375 L 14.09375 -25.4375 L 14.09375 0 L 23.078125 0 Z M 23.078125 -25.4375 \"/>\n",
       "</symbol>\n",
       "<symbol overflow=\"visible\" id=\"glyph30-0 -188898676847968869\">\n",
       "<path style=\"stroke:none;\" d=\"\"/>\n",
       "</symbol>\n",
       "<symbol overflow=\"visible\" id=\"glyph30-1 -188898676847968869\">\n",
       "<path style=\"stroke:none;\" d=\"M 37.265625 -28.65625 C 36.984375 -32.390625 36.28125 -34.765625 34.59375 -37.203125 C 31.53125 -41.609375 26.609375 -44.046875 20.65625 -44.046875 C 9.390625 -44.046875 2.40625 -35.3125 2.40625 -21.28125 C 2.40625 -7.3125 9.34375 1.359375 20.4375 1.359375 C 30.375 1.359375 36.9375 -4.875 37.421875 -14.796875 L 29.453125 -14.796875 C 28.90625 -9.265625 25.734375 -6.125 20.65625 -6.125 C 14.3125 -6.125 10.59375 -11.703125 10.59375 -21.15625 C 10.59375 -30.734375 14.484375 -36.4375 20.921875 -36.4375 C 25.6875 -36.4375 28.359375 -33.9375 29.453125 -28.65625 Z M 37.265625 -28.65625 \"/>\n",
       "</symbol>\n",
       "<symbol overflow=\"visible\" id=\"glyph31-0 -188898676847968869\">\n",
       "<path style=\"stroke:none;\" d=\"\"/>\n",
       "</symbol>\n",
       "<symbol overflow=\"visible\" id=\"glyph31-1 -188898676847968869\">\n",
       "<path style=\"stroke:none;\" d=\"M 25.921875 -9.15625 L 28.40625 0 L 36.375 0 L 23.34375 -45.375 L 14.75 -45.375 L 1.34375 0 L 9.265625 0 L 11.796875 -9.15625 Z M 23.8125 -16.9375 L 13.96875 -16.9375 L 18.890625 -34.671875 Z M 23.8125 -16.9375 \"/>\n",
       "</symbol>\n",
       "<symbol overflow=\"visible\" id=\"glyph32-0 -188898676847968869\">\n",
       "<path style=\"stroke:none;\" d=\"\"/>\n",
       "</symbol>\n",
       "<symbol overflow=\"visible\" id=\"glyph32-1 -188898676847968869\">\n",
       "<path style=\"stroke:none;\" d=\"M 37.234375 -28.984375 L 21.9375 -28.984375 L 21.9375 -19.734375 L 30.625 -19.734375 C 30.421875 -16.703125 29.890625 -14.859375 28.75 -12.9375 C 26.859375 -9.6875 23.921875 -7.765625 20.9375 -7.765625 C 14.5625 -7.765625 10.046875 -15.59375 10.046875 -26.6875 C 10.046875 -38.296875 14.03125 -45.3125 20.734375 -45.3125 C 23.453125 -45.3125 25.765625 -44.203125 27.484375 -42.0625 C 28.59375 -40.734375 29.171875 -39.46875 29.84375 -36.671875 L 37.234375 -36.671875 C 36.28125 -47.828125 29.890625 -54.78125 20.6875 -54.78125 C 9.6875 -54.78125 2.203125 -43.3125 2.203125 -26.53125 C 2.203125 -10.203125 9.734375 1.703125 20.046875 1.703125 C 25.1875 1.703125 28.640625 -0.890625 31.578125 -6.953125 L 32.515625 0.140625 L 37.234375 0.140625 Z M 37.234375 -28.984375 \"/>\n",
       "</symbol>\n",
       "<symbol overflow=\"visible\" id=\"glyph33-0 -188898676847968869\">\n",
       "<path style=\"stroke:none;\" d=\"\"/>\n",
       "</symbol>\n",
       "<symbol overflow=\"visible\" id=\"glyph33-1 -188898676847968869\">\n",
       "<path style=\"stroke:none;\" d=\"M 37.234375 -20.703125 L 21.9375 -20.703125 L 21.9375 -14.109375 L 30.625 -14.109375 C 30.421875 -11.9375 29.890625 -10.625 28.75 -9.25 C 26.859375 -6.921875 23.921875 -5.546875 20.9375 -5.546875 C 14.5625 -5.546875 10.046875 -11.140625 10.046875 -19.078125 C 10.046875 -27.359375 14.03125 -32.390625 20.734375 -32.390625 C 23.453125 -32.390625 25.765625 -31.59375 27.484375 -30.0625 C 28.59375 -29.109375 29.171875 -28.203125 29.84375 -26.203125 L 37.234375 -26.203125 C 36.28125 -34.1875 29.890625 -39.140625 20.6875 -39.140625 C 9.6875 -39.140625 2.203125 -30.953125 2.203125 -18.96875 C 2.203125 -7.296875 9.734375 1.21875 20.046875 1.21875 C 25.1875 1.21875 28.640625 -0.640625 31.578125 -4.96875 L 32.515625 0.109375 L 37.234375 0.109375 Z M 37.234375 -20.703125 \"/>\n",
       "</symbol>\n",
       "<symbol overflow=\"visible\" id=\"glyph34-0 -188898676847968869\">\n",
       "<path style=\"stroke:none;\" d=\"\"/>\n",
       "</symbol>\n",
       "<symbol overflow=\"visible\" id=\"glyph34-1 -188898676847968869\">\n",
       "<path style=\"stroke:none;\" d=\"M 37.265625 -25.46875 C 36.984375 -28.796875 36.28125 -30.90625 34.59375 -33.078125 C 31.53125 -36.984375 26.609375 -39.140625 20.65625 -39.140625 C 9.390625 -39.140625 2.40625 -31.375 2.40625 -18.90625 C 2.40625 -6.5 9.34375 1.21875 20.4375 1.21875 C 30.375 1.21875 36.9375 -4.328125 37.421875 -13.15625 L 29.453125 -13.15625 C 28.90625 -8.234375 25.734375 -5.4375 20.65625 -5.4375 C 14.3125 -5.4375 10.59375 -10.40625 10.59375 -18.8125 C 10.59375 -27.3125 14.484375 -32.390625 20.921875 -32.390625 C 25.6875 -32.390625 28.359375 -30.171875 29.453125 -25.46875 Z M 37.265625 -25.46875 \"/>\n",
       "</symbol>\n",
       "<symbol overflow=\"visible\" id=\"glyph35-0 -188898676847968869\">\n",
       "<path style=\"stroke:none;\" d=\"\"/>\n",
       "</symbol>\n",
       "<symbol overflow=\"visible\" id=\"glyph35-1 -188898676847968869\">\n",
       "<path style=\"stroke:none;\" d=\"M 23.078125 -34.90625 L 35.859375 -34.90625 L 35.859375 -42.140625 L 0.84375 -42.140625 L 0.84375 -34.90625 L 14.09375 -34.90625 L 14.09375 0 L 23.078125 0 Z M 23.078125 -34.90625 \"/>\n",
       "</symbol>\n",
       "<symbol overflow=\"visible\" id=\"glyph36-0 -188898676847968869\">\n",
       "<path style=\"stroke:none;\" d=\"\"/>\n",
       "</symbol>\n",
       "<symbol overflow=\"visible\" id=\"glyph36-1 -188898676847968869\">\n",
       "<path style=\"stroke:none;\" d=\"M 25.921875 -11.125 L 28.40625 0 L 36.375 0 L 23.34375 -55.1875 L 14.75 -55.1875 L 1.34375 0 L 9.265625 0 L 11.796875 -11.125 Z M 23.8125 -20.59375 L 13.96875 -20.59375 L 18.890625 -42.171875 Z M 23.8125 -20.59375 \"/>\n",
       "</symbol>\n",
       "<symbol overflow=\"visible\" id=\"glyph37-0 -188898676847968869\">\n",
       "<path style=\"stroke:none;\" d=\"\"/>\n",
       "</symbol>\n",
       "<symbol overflow=\"visible\" id=\"glyph37-1 -188898676847968869\">\n",
       "<path style=\"stroke:none;\" d=\"M 23.078125 -30.296875 L 35.859375 -30.296875 L 35.859375 -36.578125 L 0.84375 -36.578125 L 0.84375 -30.296875 L 14.09375 -30.296875 L 14.09375 0 L 23.078125 0 Z M 23.078125 -30.296875 \"/>\n",
       "</symbol>\n",
       "<symbol overflow=\"visible\" id=\"glyph38-0 -188898676847968869\">\n",
       "<path style=\"stroke:none;\" d=\"\"/>\n",
       "</symbol>\n",
       "<symbol overflow=\"visible\" id=\"glyph38-1 -188898676847968869\">\n",
       "<path style=\"stroke:none;\" d=\"M 37.265625 -30.125 C 36.984375 -34.046875 36.28125 -36.546875 34.59375 -39.109375 C 31.53125 -43.734375 26.609375 -46.296875 20.65625 -46.296875 C 9.390625 -46.296875 2.40625 -37.109375 2.40625 -22.375 C 2.40625 -7.6875 9.34375 1.4375 20.4375 1.4375 C 30.375 1.4375 36.9375 -5.125 37.421875 -15.5625 L 29.453125 -15.5625 C 28.90625 -9.75 25.734375 -6.4375 20.65625 -6.4375 C 14.3125 -6.4375 10.59375 -12.3125 10.59375 -22.25 C 10.59375 -32.296875 14.484375 -38.296875 20.921875 -38.296875 C 25.6875 -38.296875 28.359375 -35.671875 29.453125 -30.125 Z M 37.265625 -30.125 \"/>\n",
       "</symbol>\n",
       "</g>\n",
       "</defs>\n",
       "<g id=\"surface1\">\n",
       "<path style=\"fill:none;stroke-width:2.08333;stroke-linecap:butt;stroke-linejoin:miter;stroke:rgb(0%,0%,0%);stroke-opacity:1;stroke-miterlimit:10;\" d=\"M 110.416667 58.333333 L 131.25 58.333333 L 131.25 808.333333 \" transform=\"matrix(0.24,0,0,-0.24,0,200)\"/>\n",
       "<g style=\"fill:rgb(0%,0%,0%);fill-opacity:1;\">\n",
       "  <use xlink:href=\"#glyph0-1 -188898676847968869\" x=\"14.880912\" y=\"188.964691\"/>\n",
       "  <use xlink:href=\"#glyph0-2 -188898676847968869\" x=\"19.328915\" y=\"188.964691\"/>\n",
       "  <use xlink:href=\"#glyph0-1 -188898676847968869\" x=\"21.552917\" y=\"188.964691\"/>\n",
       "</g>\n",
       "<path style=\"fill:none;stroke-width:2.08333;stroke-linecap:butt;stroke-linejoin:miter;stroke:rgb(0%,0%,0%);stroke-opacity:1;stroke-miterlimit:10;\" d=\"M 110.416667 58.333333 L 131.25 58.333333 \" transform=\"matrix(0.24,0,0,-0.24,0,200)\"/>\n",
       "<g style=\"fill:rgb(0%,0%,0%);fill-opacity:1;\">\n",
       "  <use xlink:href=\"#glyph0-1 -188898676847968869\" x=\"14.880912\" y=\"98.964919\"/>\n",
       "  <use xlink:href=\"#glyph0-2 -188898676847968869\" x=\"19.328915\" y=\"98.964919\"/>\n",
       "  <use xlink:href=\"#glyph0-3 -188898676847968869\" x=\"21.552917\" y=\"98.964919\"/>\n",
       "</g>\n",
       "<path style=\"fill:none;stroke-width:2.08333;stroke-linecap:butt;stroke-linejoin:miter;stroke:rgb(0%,0%,0%);stroke-opacity:1;stroke-miterlimit:10;\" d=\"M 110.416667 433.333333 L 131.25 433.333333 \" transform=\"matrix(0.24,0,0,-0.24,0,200)\"/>\n",
       "<g style=\"fill:rgb(0%,0%,0%);fill-opacity:1;\">\n",
       "  <use xlink:href=\"#glyph0-4 -188898676847968869\" x=\"14.880912\" y=\"8.964847\"/>\n",
       "  <use xlink:href=\"#glyph0-2 -188898676847968869\" x=\"19.328915\" y=\"8.964847\"/>\n",
       "  <use xlink:href=\"#glyph0-1 -188898676847968869\" x=\"21.552917\" y=\"8.964847\"/>\n",
       "</g>\n",
       "<path style=\"fill:none;stroke-width:2.08333;stroke-linecap:butt;stroke-linejoin:miter;stroke:rgb(0%,0%,0%);stroke-opacity:1;stroke-miterlimit:10;\" d=\"M 110.416667 808.333333 L 131.25 808.333333 \" transform=\"matrix(0.24,0,0,-0.24,0,200)\"/>\n",
       "<path style=\"fill:none;stroke-width:2.08333;stroke-linecap:butt;stroke-linejoin:miter;stroke:rgb(0%,0%,0%);stroke-opacity:1;stroke-miterlimit:10;\" d=\"M 131.25 58.333333 L 120.833333 58.333333 \" transform=\"matrix(0.24,0,0,-0.24,0,200)\"/>\n",
       "<path style=\"fill:none;stroke-width:2.08333;stroke-linecap:butt;stroke-linejoin:miter;stroke:rgb(0%,0%,0%);stroke-opacity:1;stroke-miterlimit:10;\" d=\"M 131.25 133.333333 L 120.833333 133.333333 \" transform=\"matrix(0.24,0,0,-0.24,0,200)\"/>\n",
       "<path style=\"fill:none;stroke-width:2.08333;stroke-linecap:butt;stroke-linejoin:miter;stroke:rgb(0%,0%,0%);stroke-opacity:1;stroke-miterlimit:10;\" d=\"M 131.25 208.333333 L 120.833333 208.333333 \" transform=\"matrix(0.24,0,0,-0.24,0,200)\"/>\n",
       "<path style=\"fill:none;stroke-width:2.08333;stroke-linecap:butt;stroke-linejoin:miter;stroke:rgb(0%,0%,0%);stroke-opacity:1;stroke-miterlimit:10;\" d=\"M 131.25 283.333333 L 120.833333 283.333333 \" transform=\"matrix(0.24,0,0,-0.24,0,200)\"/>\n",
       "<path style=\"fill:none;stroke-width:2.08333;stroke-linecap:butt;stroke-linejoin:miter;stroke:rgb(0%,0%,0%);stroke-opacity:1;stroke-miterlimit:10;\" d=\"M 131.25 358.333333 L 120.833333 358.333333 \" transform=\"matrix(0.24,0,0,-0.24,0,200)\"/>\n",
       "<path style=\"fill:none;stroke-width:2.08333;stroke-linecap:butt;stroke-linejoin:miter;stroke:rgb(0%,0%,0%);stroke-opacity:1;stroke-miterlimit:10;\" d=\"M 131.25 433.333333 L 120.833333 433.333333 \" transform=\"matrix(0.24,0,0,-0.24,0,200)\"/>\n",
       "<path style=\"fill:none;stroke-width:2.08333;stroke-linecap:butt;stroke-linejoin:miter;stroke:rgb(0%,0%,0%);stroke-opacity:1;stroke-miterlimit:10;\" d=\"M 131.25 508.333333 L 120.833333 508.333333 \" transform=\"matrix(0.24,0,0,-0.24,0,200)\"/>\n",
       "<path style=\"fill:none;stroke-width:2.08333;stroke-linecap:butt;stroke-linejoin:miter;stroke:rgb(0%,0%,0%);stroke-opacity:1;stroke-miterlimit:10;\" d=\"M 131.25 583.333333 L 120.833333 583.333333 \" transform=\"matrix(0.24,0,0,-0.24,0,200)\"/>\n",
       "<path style=\"fill:none;stroke-width:2.08333;stroke-linecap:butt;stroke-linejoin:miter;stroke:rgb(0%,0%,0%);stroke-opacity:1;stroke-miterlimit:10;\" d=\"M 131.25 658.333333 L 120.833333 658.333333 \" transform=\"matrix(0.24,0,0,-0.24,0,200)\"/>\n",
       "<path style=\"fill:none;stroke-width:2.08333;stroke-linecap:butt;stroke-linejoin:miter;stroke:rgb(0%,0%,0%);stroke-opacity:1;stroke-miterlimit:10;\" d=\"M 131.25 733.333333 L 120.833333 733.333333 \" transform=\"matrix(0.24,0,0,-0.24,0,200)\"/>\n",
       "<g style=\"fill:rgb(0%,0%,0%);fill-opacity:1;\">\n",
       "  <use xlink:href=\"#glyph1-1 -188898676847968869\" x=\"11.851909\" y=\"118.783335\"/>\n",
       "  <use xlink:href=\"#glyph1-2 -188898676847968869\" x=\"11.851909\" y=\"113.223331\"/>\n",
       "  <use xlink:href=\"#glyph1-3 -188898676847968869\" x=\"11.851909\" y=\"109.893328\"/>\n",
       "  <use xlink:href=\"#glyph1-4 -188898676847968869\" x=\"11.851909\" y=\"104.333323\"/>\n",
       "  <use xlink:href=\"#glyph1-5 -188898676847968869\" x=\"11.851909\" y=\"98.773319\"/>\n",
       "  <use xlink:href=\"#glyph1-4 -188898676847968869\" x=\"11.851909\" y=\"93.213315\"/>\n",
       "  <use xlink:href=\"#glyph1-6 -188898676847968869\" x=\"11.851909\" y=\"87.65331\"/>\n",
       "  <use xlink:href=\"#glyph1-7 -188898676847968869\" x=\"11.851909\" y=\"85.433308\"/>\n",
       "  <use xlink:href=\"#glyph1-6 -188898676847968869\" x=\"11.851909\" y=\"83.213307\"/>\n",
       "  <use xlink:href=\"#glyph1-8 -188898676847968869\" x=\"11.851909\" y=\"80.993305\"/>\n",
       "  <use xlink:href=\"#glyph1-9 -188898676847968869\" x=\"11.851909\" y=\"78.213303\"/>\n",
       "</g>\n",
       "<path style=\"fill:none;stroke-width:2.08333;stroke-linecap:butt;stroke-linejoin:miter;stroke:rgb(0%,0%,0%);stroke-opacity:1;stroke-miterlimit:10;\" d=\"M 133.333333 58.333333 L 283.333333 58.333333 M 208.333333 58.333333 L 208.333333 53.125 \" transform=\"matrix(0.24,0,0,-0.24,0,200)\"/>\n",
       "<g style=\"fill:rgb(100%,0%,0%);fill-opacity:1;\">\n",
       "  <use xlink:href=\"#glyph2-1 -188898676847968869\" x=\"31.660325\" y=\"185.499688\"/>\n",
       "</g>\n",
       "<g style=\"fill:rgb(0%,50.193787%,0%);fill-opacity:1;\">\n",
       "  <use xlink:href=\"#glyph3-1 -188898676847968869\" x=\"31.154125\" y=\"146.530557\"/>\n",
       "</g>\n",
       "<g style=\"fill:rgb(100%,64.646912%,0%);fill-opacity:1;\">\n",
       "  <use xlink:href=\"#glyph4-1 -188898676847968869\" x=\"30.299124\" y=\"104.213723\"/>\n",
       "</g>\n",
       "<g style=\"fill:rgb(0%,0%,100%);fill-opacity:1;\">\n",
       "  <use xlink:href=\"#glyph5-1 -188898676847968869\" x=\"30.092824\" y=\"54.110883\"/>\n",
       "</g>\n",
       "<path style=\"fill:none;stroke-width:2.08333;stroke-linecap:butt;stroke-linejoin:miter;stroke:rgb(0%,0%,0%);stroke-opacity:1;stroke-miterlimit:10;\" d=\"M 283.333333 58.333333 L 433.333333 58.333333 M 358.333333 58.333333 L 358.333333 53.125 \" transform=\"matrix(0.24,0,0,-0.24,0,200)\"/>\n",
       "<g style=\"fill:rgb(100%,0%,0%);fill-opacity:1;\">\n",
       "  <use xlink:href=\"#glyph6-1 -188898676847968869\" x=\"67.660354\" y=\"185.499688\"/>\n",
       "</g>\n",
       "<g style=\"fill:rgb(0%,50.193787%,0%);fill-opacity:1;\">\n",
       "  <use xlink:href=\"#glyph7-1 -188898676847968869\" x=\"67.154154\" y=\"152.097462\"/>\n",
       "</g>\n",
       "<g style=\"fill:rgb(100%,64.646912%,0%);fill-opacity:1;\">\n",
       "  <use xlink:href=\"#glyph4-1 -188898676847968869\" x=\"66.299153\" y=\"106.069025\"/>\n",
       "</g>\n",
       "<g style=\"fill:rgb(0%,0%,100%);fill-opacity:1;\">\n",
       "  <use xlink:href=\"#glyph8-1 -188898676847968869\" x=\"66.092853\" y=\"55.913885\"/>\n",
       "</g>\n",
       "<path style=\"fill:none;stroke-width:2.08333;stroke-linecap:butt;stroke-linejoin:miter;stroke:rgb(0%,0%,0%);stroke-opacity:1;stroke-miterlimit:10;\" d=\"M 433.333333 58.333333 L 583.333333 58.333333 M 508.333333 58.333333 L 508.333333 53.125 \" transform=\"matrix(0.24,0,0,-0.24,0,200)\"/>\n",
       "<g style=\"fill:rgb(100%,64.646912%,0%);fill-opacity:1;\">\n",
       "  <use xlink:href=\"#glyph9-1 -188898676847968869\" x=\"102.299082\" y=\"184.637188\"/>\n",
       "</g>\n",
       "<g style=\"fill:rgb(0%,0%,100%);fill-opacity:1;\">\n",
       "  <use xlink:href=\"#glyph10-1 -188898676847968869\" x=\"102.093082\" y=\"155.385264\"/>\n",
       "</g>\n",
       "<g style=\"fill:rgb(0%,50.193787%,0%);fill-opacity:1;\">\n",
       "  <use xlink:href=\"#glyph11-1 -188898676847968869\" x=\"103.154083\" y=\"121.864037\"/>\n",
       "</g>\n",
       "<g style=\"fill:rgb(100%,0%,0%);fill-opacity:1;\">\n",
       "  <use xlink:href=\"#glyph12-1 -188898676847968869\" x=\"103.660083\" y=\"80.045904\"/>\n",
       "</g>\n",
       "<path style=\"fill:none;stroke-width:2.08333;stroke-linecap:butt;stroke-linejoin:miter;stroke:rgb(0%,0%,0%);stroke-opacity:1;stroke-miterlimit:10;\" d=\"M 583.333333 58.333333 L 733.333333 58.333333 M 658.333333 58.333333 L 658.333333 53.125 \" transform=\"matrix(0.24,0,0,-0.24,0,200)\"/>\n",
       "<g style=\"fill:rgb(0%,0%,100%);fill-opacity:1;\">\n",
       "  <use xlink:href=\"#glyph13-1 -188898676847968869\" x=\"138.09311\" y=\"184.509688\"/>\n",
       "</g>\n",
       "<g style=\"fill:rgb(0%,50.193787%,0%);fill-opacity:1;\">\n",
       "  <use xlink:href=\"#glyph14-1 -188898676847968869\" x=\"139.154111\" y=\"152.097462\"/>\n",
       "</g>\n",
       "<g style=\"fill:rgb(100%,0%,0%);fill-opacity:1;\">\n",
       "  <use xlink:href=\"#glyph15-1 -188898676847968869\" x=\"139.660112\" y=\"109.417728\"/>\n",
       "</g>\n",
       "<g style=\"fill:rgb(100%,64.646912%,0%);fill-opacity:1;\">\n",
       "  <use xlink:href=\"#glyph16-1 -188898676847968869\" x=\"138.299111\" y=\"55.913885\"/>\n",
       "</g>\n",
       "<path style=\"fill:none;stroke-width:2.08333;stroke-linecap:butt;stroke-linejoin:miter;stroke:rgb(0%,0%,0%);stroke-opacity:1;stroke-miterlimit:10;\" d=\"M 733.333333 58.333333 L 883.333333 58.333333 M 808.333333 58.333333 L 808.333333 47.916667 \" transform=\"matrix(0.24,0,0,-0.24,0,200)\"/>\n",
       "<g style=\"fill:rgb(0%,0%,0%);fill-opacity:1;\">\n",
       "  <use xlink:href=\"#glyph0-3 -188898676847968869\" x=\"191.776153\" y=\"196.500307\"/>\n",
       "</g>\n",
       "<g style=\"fill:rgb(0%,50.193787%,0%);fill-opacity:1;\">\n",
       "  <use xlink:href=\"#glyph17-1 -188898676847968869\" x=\"175.15414\" y=\"185.499688\"/>\n",
       "</g>\n",
       "<g style=\"fill:rgb(100%,0%,0%);fill-opacity:1;\">\n",
       "  <use xlink:href=\"#glyph18-1 -188898676847968869\" x=\"175.660141\" y=\"176.408781\"/>\n",
       "</g>\n",
       "<g style=\"fill:rgb(100%,64.646912%,0%);fill-opacity:1;\">\n",
       "  <use xlink:href=\"#glyph19-1 -188898676847968869\" x=\"174.299139\" y=\"162.10717\"/>\n",
       "</g>\n",
       "<g style=\"fill:rgb(0%,0%,100%);fill-opacity:1;\">\n",
       "  <use xlink:href=\"#glyph20-1 -188898676847968869\" x=\"174.093139\" y=\"107.793026\"/>\n",
       "</g>\n",
       "<path style=\"fill:none;stroke-width:2.08333;stroke-linecap:butt;stroke-linejoin:miter;stroke:rgb(0%,0%,0%);stroke-opacity:1;stroke-miterlimit:10;\" d=\"M 883.333333 58.333333 L 1033.333333 58.333333 M 958.333333 58.333333 L 958.333333 53.125 \" transform=\"matrix(0.24,0,0,-0.24,0,200)\"/>\n",
       "<g style=\"fill:rgb(100%,0%,0%);fill-opacity:1;\">\n",
       "  <use xlink:href=\"#glyph21-1 -188898676847968869\" x=\"211.660169\" y=\"185.499688\"/>\n",
       "</g>\n",
       "<g style=\"fill:rgb(0%,0%,100%);fill-opacity:1;\">\n",
       "  <use xlink:href=\"#glyph22-1 -188898676847968869\" x=\"210.093168\" y=\"179.727484\"/>\n",
       "</g>\n",
       "<g style=\"fill:rgb(100%,64.646912%,0%);fill-opacity:1;\">\n",
       "  <use xlink:href=\"#glyph23-1 -188898676847968869\" x=\"210.299168\" y=\"169.051175\"/>\n",
       "</g>\n",
       "<g style=\"fill:rgb(0%,50.193787%,0%);fill-opacity:1;\">\n",
       "  <use xlink:href=\"#glyph24-1 -188898676847968869\" x=\"211.154169\" y=\"112.03053\"/>\n",
       "</g>\n",
       "<path style=\"fill:none;stroke-width:2.08333;stroke-linecap:butt;stroke-linejoin:miter;stroke:rgb(0%,0%,0%);stroke-opacity:1;stroke-miterlimit:10;\" d=\"M 1033.333333 58.333333 L 1183.333333 58.333333 M 1108.333333 58.333333 L 1108.333333 53.125 \" transform=\"matrix(0.24,0,0,-0.24,0,200)\"/>\n",
       "<g style=\"fill:rgb(100%,0%,0%);fill-opacity:1;\">\n",
       "  <use xlink:href=\"#glyph25-1 -188898676847968869\" x=\"247.660198\" y=\"185.499688\"/>\n",
       "</g>\n",
       "<g style=\"fill:rgb(0%,0%,100%);fill-opacity:1;\">\n",
       "  <use xlink:href=\"#glyph26-1 -188898676847968869\" x=\"246.093197\" y=\"172.271578\"/>\n",
       "</g>\n",
       "<g style=\"fill:rgb(100%,64.646912%,0%);fill-opacity:1;\">\n",
       "  <use xlink:href=\"#glyph27-1 -188898676847968869\" x=\"246.299197\" y=\"157.475866\"/>\n",
       "</g>\n",
       "<g style=\"fill:rgb(0%,50.193787%,0%);fill-opacity:1;\">\n",
       "  <use xlink:href=\"#glyph28-1 -188898676847968869\" x=\"247.154198\" y=\"82.642906\"/>\n",
       "</g>\n",
       "<path style=\"fill:none;stroke-width:2.08333;stroke-linecap:butt;stroke-linejoin:miter;stroke:rgb(0%,0%,0%);stroke-opacity:1;stroke-miterlimit:10;\" d=\"M 1183.333333 58.333333 L 1333.333333 58.333333 M 1258.333333 58.333333 L 1258.333333 53.125 \" transform=\"matrix(0.24,0,0,-0.24,0,200)\"/>\n",
       "<g style=\"fill:rgb(100%,0%,0%);fill-opacity:1;\">\n",
       "  <use xlink:href=\"#glyph29-1 -188898676847968869\" x=\"283.660227\" y=\"185.499688\"/>\n",
       "</g>\n",
       "<g style=\"fill:rgb(0%,0%,100%);fill-opacity:1;\">\n",
       "  <use xlink:href=\"#glyph30-1 -188898676847968869\" x=\"282.093226\" y=\"152.906562\"/>\n",
       "</g>\n",
       "<g style=\"fill:rgb(0%,50.193787%,0%);fill-opacity:1;\">\n",
       "  <use xlink:href=\"#glyph31-1 -188898676847968869\" x=\"283.154227\" y=\"108.357427\"/>\n",
       "</g>\n",
       "<g style=\"fill:rgb(100%,64.646912%,0%);fill-opacity:1;\">\n",
       "  <use xlink:href=\"#glyph32-1 -188898676847968869\" x=\"282.299226\" y=\"60.735889\"/>\n",
       "</g>\n",
       "<path style=\"fill:none;stroke-width:2.08333;stroke-linecap:butt;stroke-linejoin:miter;stroke:rgb(0%,0%,0%);stroke-opacity:1;stroke-miterlimit:10;\" d=\"M 1333.333333 58.333333 L 1483.333333 58.333333 M 1408.333333 58.333333 L 1408.333333 53.125 \" transform=\"matrix(0.24,0,0,-0.24,0,200)\"/>\n",
       "<g style=\"fill:rgb(100%,64.646912%,0%);fill-opacity:1;\">\n",
       "  <use xlink:href=\"#glyph33-1 -188898676847968869\" x=\"318.299255\" y=\"184.284687\"/>\n",
       "</g>\n",
       "<g style=\"fill:rgb(0%,0%,100%);fill-opacity:1;\">\n",
       "  <use xlink:href=\"#glyph34-1 -188898676847968869\" x=\"318.093254\" y=\"143.460255\"/>\n",
       "</g>\n",
       "<g style=\"fill:rgb(100%,0%,0%);fill-opacity:1;\">\n",
       "  <use xlink:href=\"#glyph35-1 -188898676847968869\" x=\"319.660256\" y=\"103.850823\"/>\n",
       "</g>\n",
       "<g style=\"fill:rgb(0%,50.193787%,0%);fill-opacity:1;\">\n",
       "  <use xlink:href=\"#glyph36-1 -188898676847968869\" x=\"319.154255\" y=\"61.169889\"/>\n",
       "</g>\n",
       "<path style=\"fill:none;stroke-width:2.08333;stroke-linecap:butt;stroke-linejoin:miter;stroke:rgb(0%,0%,0%);stroke-opacity:1;stroke-miterlimit:10;\" d=\"M 1483.333333 58.333333 L 1633.333333 58.333333 M 1558.333333 58.333333 L 1558.333333 47.916667 \" transform=\"matrix(0.24,0,0,-0.24,0,200)\"/>\n",
       "<g style=\"fill:rgb(0%,0%,0%);fill-opacity:1;\">\n",
       "  <use xlink:href=\"#glyph0-4 -188898676847968869\" x=\"369.552296\" y=\"196.500307\"/>\n",
       "  <use xlink:href=\"#glyph0-1 -188898676847968869\" x=\"374.000299\" y=\"196.500307\"/>\n",
       "</g>\n",
       "<g style=\"fill:rgb(100%,0%,0%);fill-opacity:1;\">\n",
       "  <use xlink:href=\"#glyph37-1 -188898676847968869\" x=\"355.660285\" y=\"185.499688\"/>\n",
       "</g>\n",
       "<g style=\"fill:rgb(0%,50.193787%,0%);fill-opacity:1;\">\n",
       "  <use xlink:href=\"#glyph14-1 -188898676847968869\" x=\"355.154284\" y=\"148.386859\"/>\n",
       "</g>\n",
       "<g style=\"fill:rgb(0%,0%,100%);fill-opacity:1;\">\n",
       "  <use xlink:href=\"#glyph38-1 -188898676847968869\" x=\"354.093283\" y=\"104.269923\"/>\n",
       "</g>\n",
       "<g style=\"fill:rgb(100%,64.646912%,0%);fill-opacity:1;\">\n",
       "  <use xlink:href=\"#glyph16-1 -188898676847968869\" x=\"354.299283\" y=\"55.913885\"/>\n",
       "</g>\n",
       "</g>\n",
       "</svg>"
      ],
      "text/plain": [
       "<IPython.core.display.SVG object>"
      ]
     },
     "execution_count": 219,
     "metadata": {},
     "output_type": "execute_result"
    }
   ],
   "source": [
    "seqlogo.seqlogo(ppm, ic_scale = False, format = 'svg', size = 'medium')"
   ]
  },
  {
   "cell_type": "markdown",
   "id": "efab8e37-f5e5-456d-9880-4582ad1af9a7",
   "metadata": {},
   "source": [
    "**<font color='brown'> Числа для построения лого в обеих библиотеках совпадают, но графики незначительно отличаются.**"
   ]
  },
  {
   "cell_type": "markdown",
   "id": "05d02472-a37d-429f-b298-8e4e3eaef51a",
   "metadata": {},
   "source": [
    "  "
   ]
  },
  {
   "cell_type": "markdown",
   "id": "3f68ffa0-905b-4e05-9bf0-db7adc0804dc",
   "metadata": {},
   "source": [
    "### Пересечение интервалов интересующих позиций"
   ]
  },
  {
   "cell_type": "code",
   "execution_count": 3,
   "id": "3b05c23f-063c-4327-99e2-59f006ca9635",
   "metadata": {},
   "outputs": [],
   "source": [
    "import pandas as pd\n",
    "from os.path import join"
   ]
  },
  {
   "cell_type": "code",
   "execution_count": 29,
   "id": "69273583-8d6a-47ad-b507-5809a8c0d3f7",
   "metadata": {},
   "outputs": [
    {
     "data": {
      "text/html": [
       "<div>\n",
       "<style scoped>\n",
       "    .dataframe tbody tr th:only-of-type {\n",
       "        vertical-align: middle;\n",
       "    }\n",
       "\n",
       "    .dataframe tbody tr th {\n",
       "        vertical-align: top;\n",
       "    }\n",
       "\n",
       "    .dataframe thead th {\n",
       "        text-align: right;\n",
       "    }\n",
       "</style>\n",
       "<table border=\"1\" class=\"dataframe\">\n",
       "  <thead>\n",
       "    <tr style=\"text-align: right;\">\n",
       "      <th></th>\n",
       "      <th>Chr</th>\n",
       "      <th>Position</th>\n",
       "      <th>rsID</th>\n",
       "      <th>Ref</th>\n",
       "      <th>Alt</th>\n",
       "      <th>Consequence</th>\n",
       "      <th>Canonical</th>\n",
       "      <th>Gene_symbol</th>\n",
       "      <th>Domains</th>\n",
       "      <th>LoF</th>\n",
       "      <th>LoF_flag</th>\n",
       "      <th>LoF_filter</th>\n",
       "    </tr>\n",
       "  </thead>\n",
       "  <tbody>\n",
       "    <tr>\n",
       "      <th>0</th>\n",
       "      <td>chr18</td>\n",
       "      <td>46050</td>\n",
       "      <td>rs744323</td>\n",
       "      <td>C</td>\n",
       "      <td>T</td>\n",
       "      <td>['ENST00000308911: downstream_gene_variant', '...</td>\n",
       "      <td>ENST00000308911: YES, ENST00000572530: YES, EN...</td>\n",
       "      <td>TUBB8B, LOC105371950</td>\n",
       "      <td>NaN</td>\n",
       "      <td>NaN</td>\n",
       "      <td>NaN</td>\n",
       "      <td>NaN</td>\n",
       "    </tr>\n",
       "    <tr>\n",
       "      <th>1</th>\n",
       "      <td>chr18</td>\n",
       "      <td>47239</td>\n",
       "      <td>.</td>\n",
       "      <td>TTTA</td>\n",
       "      <td>T</td>\n",
       "      <td>['ENST00000308911: 3_prime_UTR_variant', 'ENST...</td>\n",
       "      <td>ENST00000308911: YES, ENST00000572530: YES, EN...</td>\n",
       "      <td>TUBB8B, LOC105371950</td>\n",
       "      <td>NaN</td>\n",
       "      <td>NaN</td>\n",
       "      <td>NaN</td>\n",
       "      <td>NaN</td>\n",
       "    </tr>\n",
       "    <tr>\n",
       "      <th>2</th>\n",
       "      <td>chr18</td>\n",
       "      <td>47242</td>\n",
       "      <td>rs893233952</td>\n",
       "      <td>A</td>\n",
       "      <td>G</td>\n",
       "      <td>['ENST00000308911: 3_prime_UTR_variant', 'ENST...</td>\n",
       "      <td>ENST00000308911: YES, ENST00000572530: YES, EN...</td>\n",
       "      <td>TUBB8B, LOC105371950</td>\n",
       "      <td>NaN</td>\n",
       "      <td>NaN</td>\n",
       "      <td>NaN</td>\n",
       "      <td>NaN</td>\n",
       "    </tr>\n",
       "    <tr>\n",
       "      <th>3</th>\n",
       "      <td>chr18</td>\n",
       "      <td>47243</td>\n",
       "      <td>.</td>\n",
       "      <td>T</td>\n",
       "      <td>C</td>\n",
       "      <td>['ENST00000308911: 3_prime_UTR_variant', 'ENST...</td>\n",
       "      <td>ENST00000308911: YES, ENST00000572530: YES, EN...</td>\n",
       "      <td>TUBB8B, LOC105371950</td>\n",
       "      <td>NaN</td>\n",
       "      <td>NaN</td>\n",
       "      <td>NaN</td>\n",
       "      <td>NaN</td>\n",
       "    </tr>\n",
       "    <tr>\n",
       "      <th>4</th>\n",
       "      <td>chr18</td>\n",
       "      <td>47245</td>\n",
       "      <td>.</td>\n",
       "      <td>A</td>\n",
       "      <td>T</td>\n",
       "      <td>['ENST00000308911: 3_prime_UTR_variant', 'ENST...</td>\n",
       "      <td>ENST00000308911: YES, ENST00000572530: YES, EN...</td>\n",
       "      <td>TUBB8B, LOC105371950</td>\n",
       "      <td>NaN</td>\n",
       "      <td>NaN</td>\n",
       "      <td>NaN</td>\n",
       "      <td>NaN</td>\n",
       "    </tr>\n",
       "  </tbody>\n",
       "</table>\n",
       "</div>"
      ],
      "text/plain": [
       "     Chr  Position         rsID   Ref Alt  \\\n",
       "0  chr18     46050     rs744323     C   T   \n",
       "1  chr18     47239            .  TTTA   T   \n",
       "2  chr18     47242  rs893233952     A   G   \n",
       "3  chr18     47243            .     T   C   \n",
       "4  chr18     47245            .     A   T   \n",
       "\n",
       "                                         Consequence  \\\n",
       "0  ['ENST00000308911: downstream_gene_variant', '...   \n",
       "1  ['ENST00000308911: 3_prime_UTR_variant', 'ENST...   \n",
       "2  ['ENST00000308911: 3_prime_UTR_variant', 'ENST...   \n",
       "3  ['ENST00000308911: 3_prime_UTR_variant', 'ENST...   \n",
       "4  ['ENST00000308911: 3_prime_UTR_variant', 'ENST...   \n",
       "\n",
       "                                           Canonical           Gene_symbol  \\\n",
       "0  ENST00000308911: YES, ENST00000572530: YES, EN...  TUBB8B, LOC105371950   \n",
       "1  ENST00000308911: YES, ENST00000572530: YES, EN...  TUBB8B, LOC105371950   \n",
       "2  ENST00000308911: YES, ENST00000572530: YES, EN...  TUBB8B, LOC105371950   \n",
       "3  ENST00000308911: YES, ENST00000572530: YES, EN...  TUBB8B, LOC105371950   \n",
       "4  ENST00000308911: YES, ENST00000572530: YES, EN...  TUBB8B, LOC105371950   \n",
       "\n",
       "  Domains  LoF  LoF_flag  LoF_filter  \n",
       "0     NaN  NaN       NaN         NaN  \n",
       "1     NaN  NaN       NaN         NaN  \n",
       "2     NaN  NaN       NaN         NaN  \n",
       "3     NaN  NaN       NaN         NaN  \n",
       "4     NaN  NaN       NaN         NaN  "
      ]
     },
     "execution_count": 29,
     "metadata": {},
     "output_type": "execute_result"
    }
   ],
   "source": [
    "DATA_PATH = \"data_dir\"\n",
    "data = pd.read_table(join(DATA_PATH, \"deduplicated.tsv\"))\n",
    "data.head()"
   ]
  },
  {
   "cell_type": "code",
   "execution_count": 7,
   "id": "a1768aba-e721-42ea-ba00-acbdc383e8e7",
   "metadata": {},
   "outputs": [
    {
     "data": {
      "text/plain": [
       "(339, 12)"
      ]
     },
     "execution_count": 7,
     "metadata": {},
     "output_type": "execute_result"
    }
   ],
   "source": [
    "data.shape"
   ]
  },
  {
   "cell_type": "markdown",
   "id": "d904a5e5-bb78-48b3-b38e-e6d34e318932",
   "metadata": {},
   "source": [
    "Из распарсенной таблицы отобрали только строки, содержащие непустые значения в одном из лоф-полей (LoF/LoF_flag/LoF_filter)  "
   ]
  },
  {
   "cell_type": "code",
   "execution_count": 30,
   "id": "53ec2c25-590d-4f57-bbc5-d1d77d6371e4",
   "metadata": {},
   "outputs": [],
   "source": [
    "filtered_data = data[(~data['LoF'].isna()) | (~data['LoF_flag'].isna()) | (~data['LoF_filter'].isna())]"
   ]
  },
  {
   "cell_type": "code",
   "execution_count": 21,
   "id": "65610c2b-d83a-4e88-93e4-41ab4145c266",
   "metadata": {},
   "outputs": [
    {
     "data": {
      "text/plain": [
       "(10, 12)"
      ]
     },
     "execution_count": 21,
     "metadata": {},
     "output_type": "execute_result"
    }
   ],
   "source": [
    "filtered_data.shape"
   ]
  },
  {
   "cell_type": "markdown",
   "id": "6c346d23-1a29-4994-94af-c90c0c44ab43",
   "metadata": {},
   "source": [
    "Перевели в vcf"
   ]
  },
  {
   "cell_type": "code",
   "execution_count": 32,
   "id": "8ae642a1-9f75-4818-9f4d-4dd3889eb6e8",
   "metadata": {
    "collapsed": true,
    "jupyter": {
     "outputs_hidden": true
    },
    "scrolled": true
   },
   "outputs": [
    {
     "name": "stderr",
     "output_type": "stream",
     "text": [
      "/tmp/ipykernel_4995/4217350662.py:2: SettingWithCopyWarning: \n",
      "A value is trying to be set on a copy of a slice from a DataFrame.\n",
      "Try using .loc[row_indexer,col_indexer] = value instead\n",
      "\n",
      "See the caveats in the documentation: https://pandas.pydata.org/pandas-docs/stable/user_guide/indexing.html#returning-a-view-versus-a-copy\n",
      "  vcf_df.loc[:, 'QUAL'] = \".\"\n",
      "/tmp/ipykernel_4995/4217350662.py:3: SettingWithCopyWarning: \n",
      "A value is trying to be set on a copy of a slice from a DataFrame.\n",
      "Try using .loc[row_indexer,col_indexer] = value instead\n",
      "\n",
      "See the caveats in the documentation: https://pandas.pydata.org/pandas-docs/stable/user_guide/indexing.html#returning-a-view-versus-a-copy\n",
      "  vcf_df.loc[:, 'FILTER'] = \".\"\n",
      "/tmp/ipykernel_4995/4217350662.py:4: SettingWithCopyWarning: \n",
      "A value is trying to be set on a copy of a slice from a DataFrame.\n",
      "Try using .loc[row_indexer,col_indexer] = value instead\n",
      "\n",
      "See the caveats in the documentation: https://pandas.pydata.org/pandas-docs/stable/user_guide/indexing.html#returning-a-view-versus-a-copy\n",
      "  vcf_df.loc[:, 'INFO'] = \".\"\n"
     ]
    }
   ],
   "source": [
    "vcf_df = filtered_data[['Chr', 'Position', 'rsID', 'Ref', 'Alt']] \n",
    "vcf_df.loc[:, 'QUAL'] = \".\"\n",
    "vcf_df.loc[:, 'FILTER'] = \".\"\n",
    "vcf_df.loc[:, 'INFO'] = \".\"\n",
    "\n",
    "header = \"\"\"##fileformat=VCFv4.2\n",
    "#CHROM POS ID REF ALT QUAL FILTER INFO\n",
    "\"\"\"\n",
    "\n",
    "output_VCF = \"data_dir/myfile.vcf\"\n",
    "with open(output_VCF, 'w') as vcf:\n",
    "    vcf.write(header)\n",
    "\n",
    "vcf_df.to_csv(output_VCF, sep=\"\\t\", mode='a', index=False, header=False)"
   ]
  },
  {
   "cell_type": "markdown",
   "id": "1e9fe7eb-d0fb-470f-a7c4-ca1889c63898",
   "metadata": {},
   "source": [
    "Сделала  \n",
    "! bedtools intersect -wo -a myfile.vcf -b gencode.v45.annotation.gtf.gz > intersected_annotations.gtf"
   ]
  },
  {
   "cell_type": "markdown",
   "id": "1600482f-702f-44a8-ba5a-21de378cdc0a",
   "metadata": {},
   "source": [
    "Получился файл intersected_annotations.gtf"
   ]
  }
 ],
 "metadata": {
  "kernelspec": {
   "display_name": "bi_project",
   "language": "python",
   "name": "bi_project"
  },
  "language_info": {
   "codemirror_mode": {
    "name": "ipython",
    "version": 3
   },
   "file_extension": ".py",
   "mimetype": "text/x-python",
   "name": "python",
   "nbconvert_exporter": "python",
   "pygments_lexer": "ipython3",
   "version": "3.11.8"
  }
 },
 "nbformat": 4,
 "nbformat_minor": 5
}
