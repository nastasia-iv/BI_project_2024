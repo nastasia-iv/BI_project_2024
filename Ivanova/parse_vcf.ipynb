{
 "cells": [
  {
   "cell_type": "code",
   "execution_count": 2,
   "id": "3ed41d0b-9560-49c8-a5fc-2bd1dec9afc7",
   "metadata": {},
   "outputs": [],
   "source": [
    "import csv\n",
    "import gzip"
   ]
  },
  {
   "cell_type": "code",
   "execution_count": 3,
   "id": "14b8386a-ffba-489d-8654-a54d619a0a9c",
   "metadata": {},
   "outputs": [],
   "source": [
    "headers = ['Chr', 'Position', 'rsID', 'Ref', 'Alt', 'Consequence',\n",
    "           'Gene_symbol', 'LoF_flag', 'LoF_filter',\n",
    "           'AC', 'AC_afr', 'AC_amr', 'AC_nfe', 'AC_asj', 'AC_sas', 'AC_eas', 'AC_mid', 'AC_fin',\n",
    "           'AN', 'AN_afr', 'AN_amr', 'AN_nfe', 'AN_asj', 'AN_sas', 'AN_eas', 'AN_mid', 'AN_fin',\n",
    "           'AF', 'AF_afr', 'AF_amr', 'AF_nfe', 'AF_asj', 'AF_sas', 'AF_eas', 'AF_mid', 'AF_fin']"
   ]
  },
  {
   "cell_type": "code",
   "execution_count": 4,
   "id": "d9c9e99f-97f3-48b6-9717-925608d3ee1b",
   "metadata": {},
   "outputs": [],
   "source": [
    "vcf_columns = ['CHROM', 'POS', 'ID', 'REF', 'ALT', 'QUAL', 'FILTER', 'INFO']\n",
    "vcf_field_mapping = dict(zip(vcf_columns, range(len(vcf_columns))))"
   ]
  },
  {
   "cell_type": "code",
   "execution_count": 5,
   "id": "69aac573-eb49-4370-a9e8-17d2d16d46b2",
   "metadata": {},
   "outputs": [],
   "source": [
    "vep_field_names = 'Allele|Consequence|IMPACT|SYMBOL|Gene|Feature_type|Feature|BIOTYPE|EXON|INTRON|HGVSc|HGVSp|cDNA_position|CDS_position|Protein_position|Amino_acids|Codons|ALLELE_NUM|DISTANCE|STRAND|FLAGS|VARIANT_CLASS|SYMBOL_SOURCE|HGNC_ID|CANONICAL|MANE_SELECT|MANE_PLUS_CLINICAL|TSL|APPRIS|CCDS|ENSP|UNIPROT_ISOFORM|SOURCE|DOMAINS|miRNA|HGVS_OFFSET|PUBMED|MOTIF_NAME|MOTIF_POS|HIGH_INF_POS|MOTIF_SCORE_CHANGE|TRANSCRIPTION_FACTORS|LoF|LoF_filter|LoF_flags|LoF_info'.split('|')"
   ]
  },
  {
   "cell_type": "code",
   "execution_count": 15,
   "id": "5a52f684-429e-4b89-a7cd-49abc7f7981e",
   "metadata": {},
   "outputs": [],
   "source": [
    "population_data = {\n",
    "    'AC': None, 'AC_afr': None, 'AC_amr': None, 'AC_nfe': None, 'AC_asj': None, 'AC_sas': None, 'AC_eas': None, 'AC_mid': None, 'AC_fin': None,\n",
    "    'AN': None, 'AN_afr': None, 'AN_amr': None, 'AN_nfe': None, 'AN_asj': None, 'AN_sas': None, 'AN_eas': None, 'AN_mid': None, 'AN_fin': None,\n",
    "    'AF': None, 'AF_afr': None, 'AF_amr': None, 'AF_nfe': None, 'AF_asj': None, 'AF_sas': None, 'AF_eas': None, 'AF_mid': None, 'AF_fin': None\n",
    "}"
   ]
  },
  {
   "cell_type": "code",
   "execution_count": 11,
   "id": "74dfa898-8857-45d5-bfdc-74551963d972",
   "metadata": {},
   "outputs": [],
   "source": [
    "# Функция для извлечения информации из нужных полей vep\n",
    "\n",
    "def get_unique_vep_info(line, target_field):\n",
    "    info_index = vcf_field_mapping['INFO']\n",
    "    column_with_info = line[info_index].split(';')  # делим все колонки vep по ;\n",
    "    vep_info = column_with_info[-1].split('|')\n",
    "\n",
    "    all_values = []\n",
    "    unique_values = set()\n",
    "\n",
    "    start_index = vep_field_names.index(target_field)\n",
    "    step = 47  # т.к. всего 47 полей в поле vep\n",
    "\n",
    "    for i in range(start_index, len(vep_info), step):\n",
    "        value = vep_info[i]\n",
    "        if value:  # проверяем, что значение не пустое\n",
    "            all_values.append(value)\n",
    "            unique_values.add(value)\n",
    "\n",
    "    return list(unique_values)"
   ]
  },
  {
   "cell_type": "code",
   "execution_count": 12,
   "id": "712870df-2976-41fe-bcfa-edea50944c62",
   "metadata": {},
   "outputs": [],
   "source": [
    "# Функция для получения любой информации для каждого транскрипта\n",
    "\n",
    "def get_transcript_info(line, target_field):\n",
    "    info_index = vcf_field_mapping['INFO']\n",
    "    column_with_info = line[info_index].split(';')  # делим все колонки vep по ;\n",
    "    vep_info = column_with_info[-1].split('|')\n",
    "    transcript_info_pairs = []\n",
    "    \n",
    "    transcript_field_index = 6\n",
    "    target_field_index = vep_field_names.index(target_field)\n",
    "    \n",
    "    step = 47  # т.к. всего 46 полей в vep\n",
    "    \n",
    "    for i in range(transcript_field_index, len(vep_info), step):\n",
    "        transcript = vep_info[i]\n",
    "        info = vep_info[target_field_index]\n",
    "        \n",
    "        if info:  # оставляем только непустые значения\n",
    "            transcript_info_pairs.append(f'{transcript}: {info}')\n",
    "            \n",
    "        target_field_index += step  # увеличиваем значение для следующей итерации\n",
    "        \n",
    "    return transcript_info_pairs"
   ]
  },
  {
   "cell_type": "code",
   "execution_count": 13,
   "id": "32c4e084-7768-4462-a8e3-07daef986cfd",
   "metadata": {},
   "outputs": [],
   "source": [
    "# Функция для парсинга вцф-файла\n",
    "\n",
    "def get_parse_vcf(vcf_file, output_file = ''):\n",
    "    \n",
    "    # Если имя выходного файла не задано\n",
    "    if output_file == '':\n",
    "        output_file = vcf_file.replace('.vcf.bgz', '.tsv')\n",
    "    # Если не указано расширение файла (указано неверно)\n",
    "    else:\n",
    "        if not output_file.endswith('.tsv'):\n",
    "            output_file += '.tsv'\n",
    "    \n",
    "    # Запись шапки таблицы в выходной файл\n",
    "    with open(output_file, 'w', newline='', encoding='utf-8') as table_file:\n",
    "        writer = csv.writer(table_file, delimiter='\\t')\n",
    "        writer.writerow(headers)\n",
    "\n",
    "    # Открываем на чтение файл, который надо распарсить\n",
    "    with gzip.open(vcf_file, 'rt') as input_file, open(output_file, 'a', newline='', encoding='utf-8') as output_file:\n",
    "        vcf_reader = csv.reader(input_file, delimiter='\\t')\n",
    "        tsv_writer = csv.writer(output_file, delimiter='\\t')\n",
    "\n",
    "        for line in vcf_reader:\n",
    "            if line[vcf_field_mapping['CHROM']].startswith('chr'):\n",
    "                if line[vcf_field_mapping['FILTER']] == 'PASS':\n",
    "                    \n",
    "                    # Общая информация\n",
    "                    chrom = line[vcf_field_mapping['CHROM']][3:]\n",
    "                    position = line[vcf_field_mapping['POS']]\n",
    "                    rsID = line[vcf_field_mapping['ID']]\n",
    "                    Ref = line[vcf_field_mapping['REF']]\n",
    "                    Alt = line[vcf_field_mapping['ALT']]\n",
    "                    \n",
    "                    # Получаем пары транскрипт: характеристика\n",
    "                    consequence = get_transcript_info(line, 'Consequence')\n",
    "                    lof_filters = get_transcript_info(line, 'LoF_filter')\n",
    "                    lof_flags = get_transcript_info(line, 'LoF_flags')\n",
    "                    \n",
    "                    # Получаем уникальные значения нужного поля\n",
    "                    unique_genes = get_unique_vep_info(line, 'SYMBOL')\n",
    "                    \n",
    "                    # Популяционные данные\n",
    "                    info_index = vcf_field_mapping['INFO']\n",
    "                    column_with_info = line[info_index].split(';')\n",
    "                    for element in column_with_info:\n",
    "                        # содержит ли элемент (поле) информацию о популяционных частотах, указанных в словаре\n",
    "                        for category in population_data:\n",
    "                            if element.startswith(f'{category}='):\n",
    "                                frequency_value = element.split('=')\n",
    "                                population_data[category] = frequency_value[-1]  # забираем только численное значение                \n",
    "                    \n",
    "                    # Записываем новые данные в таблицу\n",
    "                    filtered_data = [chrom, position, rsID, Ref, Alt, consequence] + [', '.join(unique_genes)] + [', '.join(lof_flags)] + [', '.join(lof_filters)] + list(population_data.values()) \n",
    "                    tsv_writer.writerow(filtered_data)\n"
   ]
  },
  {
   "cell_type": "code",
   "execution_count": null,
   "id": "cc1fb059-5bab-49aa-b757-7fe5cb32df39",
   "metadata": {},
   "outputs": [],
   "source": []
  },
  {
   "cell_type": "code",
   "execution_count": 14,
   "id": "2d778d88-61f1-4308-b21c-2d06234bc389",
   "metadata": {},
   "outputs": [],
   "source": [
    "# Указываем input файл (или путь к нему), а также имя output (необязательно, задаётся по умолчанию по названию вцф)\n",
    "\n",
    "# get_parse_vcf('example.vcf.bgz')"
   ]
  }
 ],
 "metadata": {
  "kernelspec": {
   "display_name": "python_bi_kernel",
   "language": "python",
   "name": "python_bi_kernel"
  },
  "language_info": {
   "codemirror_mode": {
    "name": "ipython",
    "version": 3
   },
   "file_extension": ".py",
   "mimetype": "text/x-python",
   "name": "python",
   "nbconvert_exporter": "python",
   "pygments_lexer": "ipython3",
   "version": "3.12.0"
  }
 },
 "nbformat": 4,
 "nbformat_minor": 5
}
