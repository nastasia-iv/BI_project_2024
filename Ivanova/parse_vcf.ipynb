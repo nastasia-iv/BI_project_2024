{
 "cells": [
  {
   "cell_type": "code",
   "execution_count": 2,
   "id": "3ed41d0b-9560-49c8-a5fc-2bd1dec9afc7",
   "metadata": {},
   "outputs": [],
   "source": [
    "import csv\n",
    "import gzip"
   ]
  },
  {
   "cell_type": "code",
   "execution_count": 3,
   "id": "14b8386a-ffba-489d-8654-a54d619a0a9c",
   "metadata": {},
   "outputs": [],
   "source": [
    "headers = ['Chr', 'Position', 'rsID', 'Ref', 'Alt', 'Consequence',\n",
    "           'Gene_symbol', 'LoF_flag', 'LoF_filter',\n",
    "           'AC', 'AC_afr', 'AC_amr', 'AC_nfe', 'AC_asj', 'AC_sas', 'AC_eas', 'AC_mid', 'AC_fin',\n",
    "           'AN', 'AN_afr', 'AN_amr', 'AN_nfe', 'AN_asj', 'AN_sas', 'AN_eas', 'AN_mid', 'AN_fin',\n",
    "           'AF', 'AF_afr', 'AF_amr', 'AF_nfe', 'AF_asj', 'AF_sas', 'AF_eas', 'AF_mid', 'AF_fin']"
   ]
  },
  {
   "cell_type": "code",
   "execution_count": 4,
   "id": "74dfa898-8857-45d5-bfdc-74551963d972",
   "metadata": {},
   "outputs": [],
   "source": [
    "# Функция для извлечения информации из нужных полей vep\n",
    "\n",
    "def get_unique_vep_info(line, start_field):\n",
    "    column_with_info = line[7].split(';')\n",
    "    vep_info = column_with_info[-1].split('|')[:-1]  # удаляем последний элемент, т.к. это знак переноса строки\n",
    "\n",
    "    all_values = []\n",
    "    unique_values = set()\n",
    "\n",
    "    start_index = start_field\n",
    "    step = 47  # т.к. всего 47 поле в поле vep\n",
    "    \n",
    "    for i in range(start_index, len(vep_info), step):\n",
    "        value = vep_info[i]\n",
    "        if value:  # проверяем, что значение не пустое\n",
    "            all_values.append(value)\n",
    "            unique_values.add(value)\n",
    "            \n",
    "    return list(unique_values)\n"
   ]
  },
  {
   "cell_type": "code",
   "execution_count": 5,
   "id": "712870df-2976-41fe-bcfa-edea50944c62",
   "metadata": {},
   "outputs": [],
   "source": [
    "# Функция для получения любой информации для каждого транскрипта\n",
    "\n",
    "def get_transcript_info(line, target_start):\n",
    "    column_with_info = line[7].split(';')  # делим все колонки vep по ;\n",
    "    # в последнее поле vep попадает знак переноса строки, удалила его, чтобы было проще подсчитывать индексы с конца\n",
    "    vep_info = column_with_info[-1].split('|')[:-1]\n",
    "    transcript_info_pairs = []\n",
    "    \n",
    "    transcript_id_start = 6\n",
    "    target_start = target_start\n",
    "    \n",
    "    step = 47  # тк всего 47 полей в vep\n",
    "    \n",
    "    for i in range(transcript_id_start, len(vep_info), step):\n",
    "        transcript = vep_info[i]\n",
    "        info = vep_info[target_start]\n",
    "        \n",
    "        if info: # оставляем только непустые значения\n",
    "            transcript_info_pairs.append(f'{transcript}: {info}')\n",
    "            \n",
    "        target_start += step  # увеличиваем значение для следующей итерации\n",
    "        \n",
    "    return transcript_info_pairs"
   ]
  },
  {
   "cell_type": "code",
   "execution_count": 6,
   "id": "32c4e084-7768-4462-a8e3-07daef986cfd",
   "metadata": {},
   "outputs": [],
   "source": [
    "# Функция для парсинга вцф-файла\n",
    "\n",
    "def get_parse_vcf(vcf_file, output_file = ''):\n",
    "    \n",
    "    # Если имя выходного файла не задано\n",
    "    if output_file == '':\n",
    "        output_file = vcf_file.replace('.vcf.bgz', '.tsv')\n",
    "    # Если не указано расширение файла (указано неверно)\n",
    "    else:\n",
    "        if not output_file.endswith('.tsv'):\n",
    "            output_file += '.tsv'\n",
    "    \n",
    "    # Запись шапки таблицы в выходной файл\n",
    "    with open(output_file, 'w', newline='', encoding='utf-8') as table_file:\n",
    "        writer = csv.writer(table_file, delimiter='\\t')\n",
    "        writer.writerow(headers)\n",
    "\n",
    "    # Открываем на чтение файл, который надо распарсить\n",
    "    with gzip.open(vcf_file, 'rt') as input_file, open(output_file, 'a', newline='', encoding='utf-8') as output_file:\n",
    "        vcf_reader = csv.reader(input_file, delimiter='\\t')\n",
    "        tsv_writer = csv.writer(output_file, delimiter='\\t')\n",
    "\n",
    "        for line in vcf_reader:\n",
    "            if line[0].startswith('chr'):\n",
    "                if line[6] == 'PASS':\n",
    "                    \n",
    "                    # Общая информация\n",
    "                    chrom, position, rsID, Ref, Alt = line[0][3:], line[1], line[2], line[3], line[4]\n",
    "                  \n",
    "                    # Получаем пары транскрипт: характеристика\n",
    "                    consequence = get_transcript_info(line, 1)\n",
    "                    lof_filters = get_transcript_info(line, 45)\n",
    "                    lof_flags = get_transcript_info(line, 46)\n",
    "                    \n",
    "                    # Получаем уникальные значения поля Gene_symbol\n",
    "                    unique_genes = get_unique_vep_info(line, 3)\n",
    "                    \n",
    "                    # Популяционные данные\n",
    "                    population_data = {\n",
    "                        'AC': None, 'AC_afr': None, 'AC_amr': None, 'AC_nfe': None, 'AC_asj': None, 'AC_sas': None, 'AC_eas': None, 'AC_mid': None, 'AC_fin': None,\n",
    "                        'AN': None, 'AN_afr': None, 'AN_amr': None, 'AN_nfe': None, 'AN_asj': None, 'AN_sas': None, 'AN_eas': None, 'AN_mid': None, 'AN_fin': None,\n",
    "                        'AF': None, 'AF_afr': None, 'AF_amr': None, 'AF_nfe': None, 'AF_asj': None, 'AF_sas': None, 'AF_eas': None, 'AF_mid': None, 'AF_fin': None\n",
    "                    }\n",
    "    \n",
    "                    column_with_info = line[7].split(';')\n",
    "                    for element in column_with_info:\n",
    "                        # содержит ли элемент (поле) информацию о популяционных частотах, указанных в словаре\n",
    "                        for category in population_data:\n",
    "                            if element.startswith(f'{category}='):\n",
    "                                frequency_value = element.split('=')\n",
    "                                population_data[category] = frequency_value[-1]  # забираем только численное значение                \n",
    "                    \n",
    "                    # Записываем новые данные в таблицу\n",
    "                    filtered_data = [chrom, position, rsID, Ref, Alt, consequence] + [', '.join(unique_genes)] + [', '.join(lof_flags)] + [', '.join(lof_filters)] + list(population_data.values()) \n",
    "                    tsv_writer.writerow(filtered_data)\n"
   ]
  },
  {
   "cell_type": "code",
   "execution_count": null,
   "id": "cc1fb059-5bab-49aa-b757-7fe5cb32df39",
   "metadata": {},
   "outputs": [],
   "source": []
  },
  {
   "cell_type": "code",
   "execution_count": 7,
   "id": "2d778d88-61f1-4308-b21c-2d06234bc389",
   "metadata": {},
   "outputs": [],
   "source": [
    "# Указываем input файл (или путь к нему), а также имя output (необязательно, задаётся по умолчанию по названию вцф)\n",
    "\n",
    "# get_parse_vcf('bigger_example.vcf.bgz', 'my_file')"
   ]
  }
 ],
 "metadata": {
  "kernelspec": {
   "display_name": "python_bi_kernel",
   "language": "python",
   "name": "python_bi_kernel"
  },
  "language_info": {
   "codemirror_mode": {
    "name": "ipython",
    "version": 3
   },
   "file_extension": ".py",
   "mimetype": "text/x-python",
   "name": "python",
   "nbconvert_exporter": "python",
   "pygments_lexer": "ipython3",
   "version": "3.12.0"
  }
 },
 "nbformat": 4,
 "nbformat_minor": 5
}
