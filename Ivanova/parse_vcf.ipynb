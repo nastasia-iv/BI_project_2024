{
 "cells": [
  {
   "cell_type": "code",
   "execution_count": 1,
   "id": "fc565154-10df-46fa-a441-bb2e1e42e3a9",
   "metadata": {},
   "outputs": [],
   "source": [
    "# TODO\n",
    "# Прописать путь сохранения аутпута, если указано название нового файла (по дефотлу сохраняется в папку с парсером)"
   ]
  },
  {
   "cell_type": "code",
   "execution_count": 37,
   "id": "3ed41d0b-9560-49c8-a5fc-2bd1dec9afc7",
   "metadata": {},
   "outputs": [],
   "source": [
    "import csv\n",
    "import gzip"
   ]
  },
  {
   "cell_type": "code",
   "execution_count": 38,
   "id": "14b8386a-ffba-489d-8654-a54d619a0a9c",
   "metadata": {},
   "outputs": [],
   "source": [
    "# headers = ['Chr', 'Position', 'rsID', 'Ref', 'Alt', 'Consequence', 'Canonical',\n",
    "#            'Gene_symbol', 'LoF', 'LoF_flag', 'LoF_filter',\n",
    "#            'AC', 'AC_afr', 'AC_amr', 'AC_nfe', 'AC_asj', 'AC_sas', 'AC_eas', 'AC_mid', 'AC_fin',\n",
    "#            'AN', 'AN_afr', 'AN_amr', 'AN_nfe', 'AN_asj', 'AN_sas', 'AN_eas', 'AN_mid', 'AN_fin',\n",
    "#            'AF', 'AF_afr', 'AF_amr', 'AF_nfe', 'AF_asj', 'AF_sas', 'AF_eas', 'AF_mid', 'AF_fin']\n",
    "\n",
    "headers = ['Chr', 'Position', 'rsID', 'Ref', 'Alt', 'Consequence', 'Canonical_transcript', 'cDNA_position']"
   ]
  },
  {
   "cell_type": "code",
   "execution_count": 39,
   "id": "d9c9e99f-97f3-48b6-9717-925608d3ee1b",
   "metadata": {},
   "outputs": [],
   "source": [
    "vcf_columns = ['CHROM', 'POS', 'ID', 'REF', 'ALT', 'QUAL', 'FILTER', 'INFO']\n",
    "vcf_field_mapping = dict(zip(vcf_columns, range(len(vcf_columns))))"
   ]
  },
  {
   "cell_type": "code",
   "execution_count": 40,
   "id": "69aac573-eb49-4370-a9e8-17d2d16d46b2",
   "metadata": {},
   "outputs": [],
   "source": [
    "# vep_field_names = 'Allele|Consequence|IMPACT|SYMBOL|Gene|Feature_type|Feature|BIOTYPE|EXON|INTRON|HGVSc|HGVSp|cDNA_position|CDS_position|Protein_position|Amino_acids|Codons|ALLELE_NUM|DISTANCE|STRAND|FLAGS|VARIANT_CLASS|SYMBOL_SOURCE|HGNC_ID|CANONICAL|MANE_SELECT|MANE_PLUS_CLINICAL|TSL|APPRIS|CCDS|ENSP|UNIPROT_ISOFORM|SOURCE|DOMAINS|miRNA|HGVS_OFFSET|PUBMED|MOTIF_NAME|MOTIF_POS|HIGH_INF_POS|MOTIF_SCORE_CHANGE|TRANSCRIPTION_FACTORS|LoF|LoF_filter|LoF_flags|LoF_info'.split('|')\n",
    "vep_field_names = 'Allele|Consequence|IMPACT|SYMBOL|Gene|Feature_type|Feature|BIOTYPE|EXON|INTRON|HGVSc|HGVSp|cDNA_position|CDS_position|Protein_position|Amino_acids|Codons|ALLELE_NUM|DISTANCE|STRAND|FLAGS|VARIANT_CLASS|SYMBOL_SOURCE|HGNC_ID|CANONICAL|MANE_SELECT|MANE_PLUS_CLINICAL|TSL|APPRIS|CCDS|ENSP|UNIPROT_ISOFORM|SOURCE|||DOMAINS|miRNA|HGVS_OFFSET|PUBMED|MOTIF_NAME|MOTIF_POS|HIGH_INF_POS|MOTIF_SCORE_CHANGE|TRANSCRIPTION_FACTORS|LoF|LoF_filter|LoF_flags|LoF_info'.split('|')"
   ]
  },
  {
   "cell_type": "code",
   "execution_count": 29,
   "id": "5a52f684-429e-4b89-a7cd-49abc7f7981e",
   "metadata": {},
   "outputs": [],
   "source": [
    "population_data = {\n",
    "    'AC': None, 'AC_afr': None, 'AC_amr': None, 'AC_nfe': None, 'AC_asj': None, 'AC_sas': None, 'AC_eas': None, 'AC_mid': None, 'AC_fin': None,\n",
    "    'AN': None, 'AN_afr': None, 'AN_amr': None, 'AN_nfe': None, 'AN_asj': None, 'AN_sas': None, 'AN_eas': None, 'AN_mid': None, 'AN_fin': None,\n",
    "    'AF': None, 'AF_afr': None, 'AF_amr': None, 'AF_nfe': None, 'AF_asj': None, 'AF_sas': None, 'AF_eas': None, 'AF_mid': None, 'AF_fin': None\n",
    "}"
   ]
  },
  {
   "cell_type": "code",
   "execution_count": 41,
   "id": "74dfa898-8857-45d5-bfdc-74551963d972",
   "metadata": {},
   "outputs": [],
   "source": [
    "# Функция для извлечения информации из нужных полей vep\n",
    "\n",
    "def get_unique_vep_info(line, target_field):\n",
    "    info_index = vcf_field_mapping['INFO']\n",
    "    column_with_info = line[info_index].split(';')  # делим все колонки vep по ;\n",
    "    vep_info = column_with_info[-1].split('|')\n",
    "\n",
    "    all_values = []\n",
    "    unique_values = set()\n",
    "\n",
    "    start_index = vep_field_names.index(target_field)\n",
    "    step = 47  # т.к. всего 46 полей в поле vep\n",
    "\n",
    "    for i in range(start_index, len(vep_info), step):\n",
    "        value = vep_info[i]\n",
    "        if value:  # проверяем, что значение не пустое\n",
    "            all_values.append(value)\n",
    "            unique_values.add(value)\n",
    "\n",
    "    return list(unique_values)"
   ]
  },
  {
   "cell_type": "code",
   "execution_count": 42,
   "id": "13c984cd-8261-4ed7-aca5-0cc398084235",
   "metadata": {},
   "outputs": [],
   "source": [
    "# Функция для извлечения инфы только по каноническому транскрипту\n",
    "\n",
    "def get_transcript_info(line, target_field):\n",
    "    info_index = vcf_field_mapping['INFO']\n",
    "    column_with_info = line[info_index].split(';')  # разделяем все поля VEP по ;\n",
    "    vep_info = column_with_info[-1].split('|')\n",
    "    transcript_info = []\n",
    "\n",
    "    target_field_index = vep_field_names.index(target_field)\n",
    "\n",
    "    symbol_index = vep_field_names.index('SYMBOL')\n",
    "    feature_index = vep_field_names.index('Feature')\n",
    "    canonical_index = vep_field_names.index('CANONICAL')\n",
    "\n",
    "    step = 47  # так как всего 46 полей в VEP\n",
    "\n",
    "    # Начинаем с индекса первого транскрипта и идем с шагом step\n",
    "    for i in range(feature_index, len(vep_info), step):\n",
    "        transcript = vep_info[i]\n",
    "        canonical = vep_info[i + canonical_index - feature_index]  # индекс относительно i\n",
    "        symbol = vep_info[i + symbol_index - feature_index]\n",
    "\n",
    "        # Берем канонический транскрипт\n",
    "        if symbol and transcript.startswith('ENST') and canonical:\n",
    "            info = vep_info[i + target_field_index - feature_index]\n",
    "            if info:  # оставляем только непустые значения\n",
    "                # не выводим сам транскрипт, если это не требуется напрямую\n",
    "                if target_field == 'Feature' or target_field == 'CANONICAL':\n",
    "                    transcript_info.append(transcript)\n",
    "                else:\n",
    "                    transcript_info.append(info)\n",
    "\n",
    "    return transcript_info"
   ]
  },
  {
   "cell_type": "code",
   "execution_count": 44,
   "id": "32c4e084-7768-4462-a8e3-07daef986cfd",
   "metadata": {},
   "outputs": [],
   "source": [
    "# Функция для парсинга вцф-файла\n",
    "\n",
    "def get_parse_vcf(vcf_file, output_file = ''):\n",
    "    \n",
    "    # Если имя выходного файла не задано\n",
    "    if output_file == '':\n",
    "        output_file = vcf_file.replace('.vcf.bgz', '.tsv')\n",
    "    # Если не указано расширение файла (указано неверно)\n",
    "    else:\n",
    "        if not output_file.endswith('.tsv'):\n",
    "            output_file += '.tsv'\n",
    "    \n",
    "    # Запись шапки таблицы в выходной файл\n",
    "    with open(output_file, 'w', newline='', encoding='utf-8') as table_file:\n",
    "        writer = csv.writer(table_file, delimiter='\\t')\n",
    "        writer.writerow(headers)\n",
    "\n",
    "    # Открываем на чтение файл, который надо распарсить\n",
    "    with gzip.open(vcf_file, 'rt') as input_file, open(output_file, 'a', newline='', encoding='utf-8') as output_file:\n",
    "        vcf_reader = csv.reader(input_file, delimiter='\\t')\n",
    "        tsv_writer = csv.writer(output_file, delimiter='\\t')\n",
    "\n",
    "        for line in vcf_reader:\n",
    "            if line[vcf_field_mapping['CHROM']].startswith('chr'):\n",
    "                if line[vcf_field_mapping['FILTER']] == 'PASS':\n",
    "                    \n",
    "                    # Общая информация\n",
    "                    chrom = line[vcf_field_mapping['CHROM']]\n",
    "                    position = line[vcf_field_mapping['POS']]\n",
    "                    rsID = line[vcf_field_mapping['ID']]\n",
    "                    Ref = line[vcf_field_mapping['REF']]\n",
    "                    Alt = line[vcf_field_mapping['ALT']]\n",
    "                    \n",
    "                    # Получаем пары транскрипт: характеристика\n",
    "                    # impact = get_transcript_info(line, 'IMPACT')\n",
    "                    consequence = get_transcript_info(line, 'Consequence')\n",
    "                    canonical_ensembl = get_transcript_info(line, 'CANONICAL')\n",
    "                    cDNA_position = get_transcript_info(line, 'cDNA_position')\n",
    "                    # gene_symbol = get_transcript_info(line, 'SYMBOL')\n",
    "                    # lof = get_transcript_info(line, 'LoF')\n",
    "                    # lof_filters = get_transcript_info(line, 'LoF_filter')\n",
    "                    # lof_flags = get_transcript_info(line, 'LoF_flags')\n",
    "                    \n",
    "                    # # Получаем уникальные значения нужного поля\n",
    "                    # unique_genes = get_unique_vep_info(line, 'SYMBOL')\n",
    "                    \n",
    "                    # # Популяционные данные\n",
    "                    # info_index = vcf_field_mapping['INFO']\n",
    "                    # column_with_info = line[info_index].split(';')\n",
    "                    # for element in column_with_info:\n",
    "                    #     # содержит ли элемент (поле) информацию о популяционных частотах, указанных в словаре\n",
    "                    #     for category in population_data:\n",
    "                    #         if element.startswith(f'{category}='):\n",
    "                    #             frequency_value = element.split('=')\n",
    "                    #             population_data[category] = frequency_value[-1]  # забираем только численное значение                \n",
    "                    \n",
    "                    # Записываем новые данные в таблицу\n",
    "                    filtered_data = [\n",
    "                                    chrom, \n",
    "                                    position, \n",
    "                                    rsID, \n",
    "                                    Ref, \n",
    "                                    Alt,\n",
    "                                    ', '.join(consequence),\n",
    "                                    ', '.join(canonical_ensembl),\n",
    "                                    ', '.join(cDNA_position)\n",
    "                                ]\n",
    "\n",
    "                    tsv_writer.writerow(filtered_data)"
   ]
  },
  {
   "cell_type": "code",
   "execution_count": null,
   "id": "cc1fb059-5bab-49aa-b757-7fe5cb32df39",
   "metadata": {},
   "outputs": [],
   "source": []
  },
  {
   "cell_type": "code",
   "execution_count": 45,
   "id": "2d778d88-61f1-4308-b21c-2d06234bc389",
   "metadata": {},
   "outputs": [],
   "source": [
    "# Указываем input файл (или путь к нему), а также имя output (необязательно, задаётся по умолчанию по названию вцф)\n",
    "get_parse_vcf('data_dir/clean_v.4.0_chr18.vcf.bgz', output_file = 'uniqs_18chr')"
   ]
  },
  {
   "cell_type": "code",
   "execution_count": 46,
   "id": "187efdd4-dc24-4559-af0d-eece1647017c",
   "metadata": {},
   "outputs": [],
   "source": [
    "get_parse_vcf('data_dir/gnomad.exomes.v4.0.sites.chr21.vcf.bgz', output_file = 'uniqs_21chr')"
   ]
  },
  {
   "cell_type": "code",
   "execution_count": 47,
   "id": "b7b2678d-bb3c-4e61-a42a-1c710f712b9a",
   "metadata": {},
   "outputs": [],
   "source": [
    "get_parse_vcf('data_dir/gnomad.exomes.v4.0.sites.chr22.vcf.bgz', output_file = 'uniqs_22chr')"
   ]
  }
 ],
 "metadata": {
  "kernelspec": {
   "display_name": "bi_project",
   "language": "python",
   "name": "bi_project"
  },
  "language_info": {
   "codemirror_mode": {
    "name": "ipython",
    "version": 3
   },
   "file_extension": ".py",
   "mimetype": "text/x-python",
   "name": "python",
   "nbconvert_exporter": "python",
   "pygments_lexer": "ipython3",
   "version": "3.11.8"
  }
 },
 "nbformat": 4,
 "nbformat_minor": 5
}
