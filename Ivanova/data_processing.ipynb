{
 "cells": [
  {
   "cell_type": "code",
   "execution_count": 1,
   "id": "0581e8b8-e9a0-4d21-b7c4-09eaf288dd0d",
   "metadata": {},
   "outputs": [],
   "source": [
    "import datetime\n",
    "import json\n",
    "from os.path import join\n",
    "\n",
    "import numpy as np\n",
    "import matplotlib.pyplot as plt\n",
    "import pandas as pd\n",
    "import pyliftover\n",
    "import seaborn as sns\n",
    "\n",
    "from annotating_nmd import * "
   ]
  },
  {
   "cell_type": "markdown",
   "id": "e0ce9120-e853-421b-bee2-40efabfb29bb",
   "metadata": {},
   "source": [
    "## 1. Dataframe creation and variant filtering"
   ]
  },
  {
   "cell_type": "markdown",
   "id": "2c6ea968-7994-4a94-8fbd-8c708c29bf3d",
   "metadata": {},
   "source": [
    "Convert chromosomes files into tables and combine everything into one dataframe."
   ]
  },
  {
   "cell_type": "code",
   "execution_count": 2,
   "id": "5ae0d17b-2b0d-435b-b84d-08ef5d0dabae",
   "metadata": {},
   "outputs": [],
   "source": [
    "DATA_PATH = \"data_dir/canonical_ensemble\""
   ]
  },
  {
   "cell_type": "code",
   "execution_count": 3,
   "id": "167943ff-b90c-4828-96ed-ad86b5cea53b",
   "metadata": {},
   "outputs": [
    {
     "name": "stderr",
     "output_type": "stream",
     "text": [
      "/tmp/ipykernel_816904/3667480233.py:2: DtypeWarning: Columns (12) have mixed types. Specify dtype option on import or set low_memory=False.\n",
      "  frames = [pd.read_table(join(DATA_PATH, f\"gnomad.exomes.v4.0.sites.{chromosome}.vcf.tsv\")) for chromosome in chromosomes]\n",
      "/tmp/ipykernel_816904/3667480233.py:2: DtypeWarning: Columns (11,12) have mixed types. Specify dtype option on import or set low_memory=False.\n",
      "  frames = [pd.read_table(join(DATA_PATH, f\"gnomad.exomes.v4.0.sites.{chromosome}.vcf.tsv\")) for chromosome in chromosomes]\n",
      "/tmp/ipykernel_816904/3667480233.py:2: DtypeWarning: Columns (12) have mixed types. Specify dtype option on import or set low_memory=False.\n",
      "  frames = [pd.read_table(join(DATA_PATH, f\"gnomad.exomes.v4.0.sites.{chromosome}.vcf.tsv\")) for chromosome in chromosomes]\n",
      "/tmp/ipykernel_816904/3667480233.py:2: DtypeWarning: Columns (10,11,12) have mixed types. Specify dtype option on import or set low_memory=False.\n",
      "  frames = [pd.read_table(join(DATA_PATH, f\"gnomad.exomes.v4.0.sites.{chromosome}.vcf.tsv\")) for chromosome in chromosomes]\n"
     ]
    }
   ],
   "source": [
    "chromosomes = ['chr' + str(i) for i in range(1, 23)]  # only autosomes\n",
    "frames = [pd.read_table(join(DATA_PATH, f\"gnomad.exomes.v4.0.sites.{chromosome}.vcf.tsv\")) for chromosome in chromosomes]"
   ]
  },
  {
   "cell_type": "code",
   "execution_count": 4,
   "id": "3ff1df67-52b5-4e2c-a3f1-cbe914d8aeab",
   "metadata": {},
   "outputs": [],
   "source": [
    "all_chrom_df = pd.concat(frames)"
   ]
  },
  {
   "cell_type": "code",
   "execution_count": 5,
   "id": "a87dc7ef-b816-4df8-ac47-5b21078f919a",
   "metadata": {},
   "outputs": [
    {
     "data": {
      "text/plain": [
       "(67528142, 14)"
      ]
     },
     "execution_count": 5,
     "metadata": {},
     "output_type": "execute_result"
    }
   ],
   "source": [
    "all_chrom_df.shape"
   ]
  },
  {
   "cell_type": "code",
   "execution_count": 6,
   "id": "b4f043a2-5cbf-4188-8dd6-b0068ea0bc4f",
   "metadata": {},
   "outputs": [
    {
     "data": {
      "text/plain": [
       "Chr                     object\n",
       "Position                 int64\n",
       "rsID                    object\n",
       "Ref                     object\n",
       "Alt                     object\n",
       "Impact                  object\n",
       "Consequence             object\n",
       "Gene_symbol             object\n",
       "Canonical_transcript    object\n",
       "cDNA_position           object\n",
       "LoF                     object\n",
       "LoF_flag                object\n",
       "LoF_filter              object\n",
       "AC                       int64\n",
       "dtype: object"
      ]
     },
     "execution_count": 6,
     "metadata": {},
     "output_type": "execute_result"
    }
   ],
   "source": [
    "all_chrom_df.dtypes"
   ]
  },
  {
   "cell_type": "code",
   "execution_count": 7,
   "id": "f259d171-b7fd-4204-80c1-953e01be4819",
   "metadata": {},
   "outputs": [],
   "source": [
    "all_chrom_df = all_chrom_df.rename(columns={'Chr': 'CHROM', 'Position': 'POS', 'Ref': 'REF', 'Alt': 'ALT'})"
   ]
  },
  {
   "cell_type": "code",
   "execution_count": 8,
   "id": "25f93c50-7381-497f-aca6-6a1d8bb477e6",
   "metadata": {},
   "outputs": [
    {
     "data": {
      "text/html": [
       "<div>\n",
       "<style scoped>\n",
       "    .dataframe tbody tr th:only-of-type {\n",
       "        vertical-align: middle;\n",
       "    }\n",
       "\n",
       "    .dataframe tbody tr th {\n",
       "        vertical-align: top;\n",
       "    }\n",
       "\n",
       "    .dataframe thead th {\n",
       "        text-align: right;\n",
       "    }\n",
       "</style>\n",
       "<table border=\"1\" class=\"dataframe\">\n",
       "  <thead>\n",
       "    <tr style=\"text-align: right;\">\n",
       "      <th></th>\n",
       "      <th>CHROM</th>\n",
       "      <th>POS</th>\n",
       "      <th>rsID</th>\n",
       "      <th>REF</th>\n",
       "      <th>ALT</th>\n",
       "      <th>Impact</th>\n",
       "      <th>Consequence</th>\n",
       "      <th>Gene_symbol</th>\n",
       "      <th>Canonical_transcript</th>\n",
       "      <th>cDNA_position</th>\n",
       "      <th>LoF</th>\n",
       "      <th>LoF_flag</th>\n",
       "      <th>LoF_filter</th>\n",
       "      <th>AC</th>\n",
       "    </tr>\n",
       "  </thead>\n",
       "  <tbody>\n",
       "    <tr>\n",
       "      <th>0</th>\n",
       "      <td>chr1</td>\n",
       "      <td>12541</td>\n",
       "      <td>.</td>\n",
       "      <td>C</td>\n",
       "      <td>G</td>\n",
       "      <td>MODIFIER, MODIFIER, MODIFIER</td>\n",
       "      <td>intron_variant&amp;non_coding_transcript_variant, ...</td>\n",
       "      <td>DDX11L1, WASH7P, MIR6859-1</td>\n",
       "      <td>ENST00000450305, ENST00000488147, ENST00000619216</td>\n",
       "      <td>NaN</td>\n",
       "      <td>NaN</td>\n",
       "      <td>NaN</td>\n",
       "      <td>NaN</td>\n",
       "      <td>1</td>\n",
       "    </tr>\n",
       "    <tr>\n",
       "      <th>1</th>\n",
       "      <td>chr1</td>\n",
       "      <td>12591</td>\n",
       "      <td>rs1553119381</td>\n",
       "      <td>C</td>\n",
       "      <td>T</td>\n",
       "      <td>MODIFIER, MODIFIER, MODIFIER</td>\n",
       "      <td>intron_variant&amp;non_coding_transcript_variant, ...</td>\n",
       "      <td>DDX11L1, WASH7P, MIR6859-1</td>\n",
       "      <td>ENST00000450305, ENST00000488147, ENST00000619216</td>\n",
       "      <td>NaN</td>\n",
       "      <td>NaN</td>\n",
       "      <td>NaN</td>\n",
       "      <td>NaN</td>\n",
       "      <td>5</td>\n",
       "    </tr>\n",
       "    <tr>\n",
       "      <th>2</th>\n",
       "      <td>chr1</td>\n",
       "      <td>12592</td>\n",
       "      <td>.</td>\n",
       "      <td>C</td>\n",
       "      <td>T</td>\n",
       "      <td>MODIFIER, MODIFIER, MODIFIER</td>\n",
       "      <td>intron_variant&amp;non_coding_transcript_variant, ...</td>\n",
       "      <td>DDX11L1, WASH7P, MIR6859-1</td>\n",
       "      <td>ENST00000450305, ENST00000488147, ENST00000619216</td>\n",
       "      <td>NaN</td>\n",
       "      <td>NaN</td>\n",
       "      <td>NaN</td>\n",
       "      <td>NaN</td>\n",
       "      <td>5</td>\n",
       "    </tr>\n",
       "    <tr>\n",
       "      <th>3</th>\n",
       "      <td>chr1</td>\n",
       "      <td>12599</td>\n",
       "      <td>rs1437963543</td>\n",
       "      <td>CT</td>\n",
       "      <td>C</td>\n",
       "      <td>LOW, MODIFIER, MODIFIER</td>\n",
       "      <td>splice_polypyrimidine_tract_variant&amp;intron_var...</td>\n",
       "      <td>DDX11L1, WASH7P, MIR6859-1</td>\n",
       "      <td>ENST00000450305, ENST00000488147, ENST00000619216</td>\n",
       "      <td>NaN</td>\n",
       "      <td>NaN</td>\n",
       "      <td>NaN</td>\n",
       "      <td>NaN</td>\n",
       "      <td>14</td>\n",
       "    </tr>\n",
       "    <tr>\n",
       "      <th>4</th>\n",
       "      <td>chr1</td>\n",
       "      <td>12612</td>\n",
       "      <td>rs1205998786</td>\n",
       "      <td>GGT</td>\n",
       "      <td>G</td>\n",
       "      <td>LOW, MODIFIER, MODIFIER</td>\n",
       "      <td>splice_region_variant&amp;non_coding_transcript_ex...</td>\n",
       "      <td>DDX11L1, WASH7P, MIR6859-1</td>\n",
       "      <td>ENST00000450305, ENST00000488147, ENST00000619216</td>\n",
       "      <td>98-99</td>\n",
       "      <td>NaN</td>\n",
       "      <td>NaN</td>\n",
       "      <td>NaN</td>\n",
       "      <td>1</td>\n",
       "    </tr>\n",
       "    <tr>\n",
       "      <th>...</th>\n",
       "      <td>...</td>\n",
       "      <td>...</td>\n",
       "      <td>...</td>\n",
       "      <td>...</td>\n",
       "      <td>...</td>\n",
       "      <td>...</td>\n",
       "      <td>...</td>\n",
       "      <td>...</td>\n",
       "      <td>...</td>\n",
       "      <td>...</td>\n",
       "      <td>...</td>\n",
       "      <td>...</td>\n",
       "      <td>...</td>\n",
       "      <td>...</td>\n",
       "    </tr>\n",
       "    <tr>\n",
       "      <th>1621633</th>\n",
       "      <td>chr22</td>\n",
       "      <td>50799702</td>\n",
       "      <td>rs4081531</td>\n",
       "      <td>G</td>\n",
       "      <td>A</td>\n",
       "      <td>MODIFIER</td>\n",
       "      <td>downstream_gene_variant</td>\n",
       "      <td>RPL23AP82</td>\n",
       "      <td>ENST00000427528</td>\n",
       "      <td>NaN</td>\n",
       "      <td>NaN</td>\n",
       "      <td>NaN</td>\n",
       "      <td>NaN</td>\n",
       "      <td>377</td>\n",
       "    </tr>\n",
       "    <tr>\n",
       "      <th>1621634</th>\n",
       "      <td>chr22</td>\n",
       "      <td>50799821</td>\n",
       "      <td>rs149733995</td>\n",
       "      <td>A</td>\n",
       "      <td>C</td>\n",
       "      <td>MODIFIER</td>\n",
       "      <td>downstream_gene_variant</td>\n",
       "      <td>RPL23AP82</td>\n",
       "      <td>ENST00000427528</td>\n",
       "      <td>NaN</td>\n",
       "      <td>NaN</td>\n",
       "      <td>NaN</td>\n",
       "      <td>NaN</td>\n",
       "      <td>11</td>\n",
       "    </tr>\n",
       "    <tr>\n",
       "      <th>1621635</th>\n",
       "      <td>chr22</td>\n",
       "      <td>50801218</td>\n",
       "      <td>rs368061391</td>\n",
       "      <td>G</td>\n",
       "      <td>A</td>\n",
       "      <td>MODIFIER</td>\n",
       "      <td>downstream_gene_variant</td>\n",
       "      <td>RPL23AP82</td>\n",
       "      <td>ENST00000427528</td>\n",
       "      <td>NaN</td>\n",
       "      <td>NaN</td>\n",
       "      <td>NaN</td>\n",
       "      <td>NaN</td>\n",
       "      <td>1</td>\n",
       "    </tr>\n",
       "    <tr>\n",
       "      <th>1621636</th>\n",
       "      <td>chr22</td>\n",
       "      <td>50801236</td>\n",
       "      <td>rs113976139</td>\n",
       "      <td>C</td>\n",
       "      <td>G</td>\n",
       "      <td>MODIFIER</td>\n",
       "      <td>downstream_gene_variant</td>\n",
       "      <td>RPL23AP82</td>\n",
       "      <td>ENST00000427528</td>\n",
       "      <td>NaN</td>\n",
       "      <td>NaN</td>\n",
       "      <td>NaN</td>\n",
       "      <td>NaN</td>\n",
       "      <td>18</td>\n",
       "    </tr>\n",
       "    <tr>\n",
       "      <th>1621637</th>\n",
       "      <td>chr22</td>\n",
       "      <td>50801268</td>\n",
       "      <td>rs370064763</td>\n",
       "      <td>T</td>\n",
       "      <td>C</td>\n",
       "      <td>MODIFIER</td>\n",
       "      <td>downstream_gene_variant</td>\n",
       "      <td>RPL23AP82</td>\n",
       "      <td>ENST00000427528</td>\n",
       "      <td>NaN</td>\n",
       "      <td>NaN</td>\n",
       "      <td>NaN</td>\n",
       "      <td>NaN</td>\n",
       "      <td>1</td>\n",
       "    </tr>\n",
       "  </tbody>\n",
       "</table>\n",
       "<p>67528142 rows × 14 columns</p>\n",
       "</div>"
      ],
      "text/plain": [
       "         CHROM       POS          rsID  REF ALT                        Impact  \\\n",
       "0         chr1     12541             .    C   G  MODIFIER, MODIFIER, MODIFIER   \n",
       "1         chr1     12591  rs1553119381    C   T  MODIFIER, MODIFIER, MODIFIER   \n",
       "2         chr1     12592             .    C   T  MODIFIER, MODIFIER, MODIFIER   \n",
       "3         chr1     12599  rs1437963543   CT   C       LOW, MODIFIER, MODIFIER   \n",
       "4         chr1     12612  rs1205998786  GGT   G       LOW, MODIFIER, MODIFIER   \n",
       "...        ...       ...           ...  ...  ..                           ...   \n",
       "1621633  chr22  50799702     rs4081531    G   A                      MODIFIER   \n",
       "1621634  chr22  50799821   rs149733995    A   C                      MODIFIER   \n",
       "1621635  chr22  50801218   rs368061391    G   A                      MODIFIER   \n",
       "1621636  chr22  50801236   rs113976139    C   G                      MODIFIER   \n",
       "1621637  chr22  50801268   rs370064763    T   C                      MODIFIER   \n",
       "\n",
       "                                               Consequence  \\\n",
       "0        intron_variant&non_coding_transcript_variant, ...   \n",
       "1        intron_variant&non_coding_transcript_variant, ...   \n",
       "2        intron_variant&non_coding_transcript_variant, ...   \n",
       "3        splice_polypyrimidine_tract_variant&intron_var...   \n",
       "4        splice_region_variant&non_coding_transcript_ex...   \n",
       "...                                                    ...   \n",
       "1621633                            downstream_gene_variant   \n",
       "1621634                            downstream_gene_variant   \n",
       "1621635                            downstream_gene_variant   \n",
       "1621636                            downstream_gene_variant   \n",
       "1621637                            downstream_gene_variant   \n",
       "\n",
       "                        Gene_symbol  \\\n",
       "0        DDX11L1, WASH7P, MIR6859-1   \n",
       "1        DDX11L1, WASH7P, MIR6859-1   \n",
       "2        DDX11L1, WASH7P, MIR6859-1   \n",
       "3        DDX11L1, WASH7P, MIR6859-1   \n",
       "4        DDX11L1, WASH7P, MIR6859-1   \n",
       "...                             ...   \n",
       "1621633                   RPL23AP82   \n",
       "1621634                   RPL23AP82   \n",
       "1621635                   RPL23AP82   \n",
       "1621636                   RPL23AP82   \n",
       "1621637                   RPL23AP82   \n",
       "\n",
       "                                      Canonical_transcript cDNA_position  LoF  \\\n",
       "0        ENST00000450305, ENST00000488147, ENST00000619216           NaN  NaN   \n",
       "1        ENST00000450305, ENST00000488147, ENST00000619216           NaN  NaN   \n",
       "2        ENST00000450305, ENST00000488147, ENST00000619216           NaN  NaN   \n",
       "3        ENST00000450305, ENST00000488147, ENST00000619216           NaN  NaN   \n",
       "4        ENST00000450305, ENST00000488147, ENST00000619216         98-99  NaN   \n",
       "...                                                    ...           ...  ...   \n",
       "1621633                                    ENST00000427528           NaN  NaN   \n",
       "1621634                                    ENST00000427528           NaN  NaN   \n",
       "1621635                                    ENST00000427528           NaN  NaN   \n",
       "1621636                                    ENST00000427528           NaN  NaN   \n",
       "1621637                                    ENST00000427528           NaN  NaN   \n",
       "\n",
       "        LoF_flag LoF_filter   AC  \n",
       "0            NaN        NaN    1  \n",
       "1            NaN        NaN    5  \n",
       "2            NaN        NaN    5  \n",
       "3            NaN        NaN   14  \n",
       "4            NaN        NaN    1  \n",
       "...          ...        ...  ...  \n",
       "1621633      NaN        NaN  377  \n",
       "1621634      NaN        NaN   11  \n",
       "1621635      NaN        NaN    1  \n",
       "1621636      NaN        NaN   18  \n",
       "1621637      NaN        NaN    1  \n",
       "\n",
       "[67528142 rows x 14 columns]"
      ]
     },
     "execution_count": 8,
     "metadata": {},
     "output_type": "execute_result"
    }
   ],
   "source": [
    "all_chrom_df"
   ]
  },
  {
   "cell_type": "markdown",
   "id": "a286b305-c4eb-4cd5-aefd-e14cccd75a18",
   "metadata": {},
   "source": [
    "  "
   ]
  },
  {
   "cell_type": "markdown",
   "id": "9b9f8d41-e0ec-4d4f-a69f-0dd35ff3ed30",
   "metadata": {},
   "source": [
    "## Data distribution analysis"
   ]
  },
  {
   "cell_type": "markdown",
   "id": "ee07e8ff-100f-4525-b488-be07d48e6bc4",
   "metadata": {},
   "source": [
    "#### Representation of the loss of function (LOF) variants"
   ]
  },
  {
   "cell_type": "code",
   "execution_count": 81,
   "id": "a0f6e6d5-f16d-4348-adb8-8a29ba4887bf",
   "metadata": {},
   "outputs": [
    {
     "name": "stdout",
     "output_type": "stream",
     "text": [
      "Total number of LOF variants on automosmas: 1504202\n",
      "Total number of LOF variants without flags/filters on automosmas: 1206986\n"
     ]
    }
   ],
   "source": [
    "high_counts = all_chrom_df[all_chrom_df['Impact'].str.contains(\"HIGH\", na=False)].shape[0]\n",
    "high_counts_clean = len(all_chrom_df[(all_chrom_df['Impact'].str.contains(\"HIGH\", na=False)) & \n",
    "                                         (all_chrom_df['LoF_flag'].isnull()) &\n",
    "                                         (all_chrom_df['LoF_filter'].isnull())])\n",
    "\n",
    "print(\"Total number of LOF variants on automosmas:\", high_counts)\n",
    "print(\"Total number of LOF variants without flags/filters on automosmas:\", high_counts_clean)\n"
   ]
  },
  {
   "cell_type": "code",
   "execution_count": 37,
   "id": "bd8cb7e5-9388-477a-89e3-c38f5aedd399",
   "metadata": {},
   "outputs": [
    {
     "name": "stdout",
     "output_type": "stream",
     "text": [
      "Autosomes contain 2.23% of LoF in total, of which 1.8% do not contain LoF flags/filters.\n"
     ]
    }
   ],
   "source": [
    "total_variant_count = all_chrom_df.shape[0]\n",
    "per_lof = round(high_counts * 100 / total_variant_count, 2)\n",
    "per_lof_clean = round(high_counts_clean * 100 / total_variant_count, 1)\n",
    "\n",
    "print(f\"Autosomes contain {per_lof}% of LoF in total, of which {per_lof_wo_flags}% do not contain LoF flags/filters.\")\n"
   ]
  },
  {
   "cell_type": "markdown",
   "id": "c51cd344-4887-4e72-813d-6fcec84fb118",
   "metadata": {},
   "source": [
    "#### LOF flags and filters analysis"
   ]
  },
  {
   "cell_type": "code",
   "execution_count": 47,
   "id": "468a9db4-b65b-47a6-b6c5-5aa9070812db",
   "metadata": {},
   "outputs": [
    {
     "data": {
      "image/png": "[encoded data removed]",
      "text/plain": [
       "<Figure size 600x500 with 1 Axes>"
      ]
     },
     "metadata": {},
     "output_type": "display_data"
    }
   ],
   "source": [
    "counts_LoF_flag = all_chrom_df['LoF_flag'].value_counts()\n",
    "percentages_LoF_flag = counts_LoF_flag / counts_LoF_flag.sum() * 100\n",
    "\n",
    "plt.figure(figsize=(6, 5))\n",
    "percentages_LoF_flag.plot(kind='bar', color='lightblue', edgecolor='black', width=0.8)\n",
    "plt.title('LoF flags percentage distribution on autosomes', fontsize=12)\n",
    "#plt.xlabel('Flags', fontsize=12)\n",
    "plt.xlabel('')\n",
    "#plt.ylabel('Percentage', fontsize=12)\n",
    "plt.xticks(rotation=45, ha='right', fontsize=8)\n",
    "plt.yticks(fontsize=9)\n",
    "plt.grid(axis='y', linestyle='--', alpha=0.7)\n",
    "\n",
    "plt.tight_layout()\n",
    "plt.savefig('data/lof_flag_counts.png', bbox_inches='tight', dpi=300)\n",
    "plt.show()"
   ]
  },
  {
   "cell_type": "code",
   "execution_count": 48,
   "id": "a997a650-1fd5-4549-9c52-fe71f36b54c9",
   "metadata": {},
   "outputs": [
    {
     "data": {
      "image/png": "[encoded data removed]",
      "text/plain": [
       "<Figure size 600x500 with 1 Axes>"
      ]
     },
     "metadata": {},
     "output_type": "display_data"
    }
   ],
   "source": [
    "counts_LoF_filter = all_chrom_df['LoF_filter'].value_counts()\n",
    "percentages_LoF_filter = counts_LoF_filter / counts_LoF_filter.sum() * 100\n",
    "\n",
    "plt.figure(figsize=(6, 5))\n",
    "percentages_LoF_filter.plot(kind='bar', color='lightblue', edgecolor='black', width=0.8)\n",
    "plt.title('LoF filters percentage distribution on autosomes', fontsize=12)\n",
    "#plt.xlabel('Filters', fontsize=12)\n",
    "plt.xlabel('')\n",
    "#plt.ylabel('Percentage', fontsize=12)\n",
    "plt.xticks(rotation=45, ha='right', fontsize=8)\n",
    "plt.yticks(fontsize=9)\n",
    "plt.grid(axis='y', linestyle='--', alpha=0.7)\n",
    "\n",
    "plt.tight_layout()\n",
    "plt.savefig('data/lof_filter_counts.png', bbox_inches='tight', dpi=300)\n",
    "plt.show()"
   ]
  },
  {
   "cell_type": "markdown",
   "id": "d6018efb-941c-4d75-ba79-e7eca3c6a681",
   "metadata": {},
   "source": [
    "#### Variants distribution by impact"
   ]
  },
  {
   "cell_type": "code",
   "execution_count": 40,
   "id": "dee653f7-4e21-4495-97e5-1ac4656ab043",
   "metadata": {},
   "outputs": [
    {
     "data": {
      "text/plain": [
       "Impact\n",
       "MODIFIER    32906073\n",
       "MODERATE     9269599\n",
       "LOW          5822550\n",
       "HIGH         1091908\n",
       "Name: count, dtype: int64"
      ]
     },
     "execution_count": 40,
     "metadata": {},
     "output_type": "execute_result"
    }
   ],
   "source": [
    "impact_categories = ['HIGH', 'MODERATE', 'LOW', 'MODIFIER']\n",
    "impact = all_chrom_df[all_chrom_df['Impact'].isin(impact_categories)]\n",
    "\n",
    "impact_counts = impact['Impact'].value_counts()\n",
    "impact_counts"
   ]
  },
  {
   "cell_type": "markdown",
   "id": "f603750d-8a52-42b1-ba15-5ef00dbdb4c5",
   "metadata": {},
   "source": [
    "In theory, the ratio of variants with `high + moderate` impact to `low` impact should be approximately 2:1, but in real populations various shifts are possible, and in this case we observe a distribution of 1,8 to 1."
   ]
  },
  {
   "cell_type": "code",
   "execution_count": 49,
   "id": "e0749b47-261b-4933-9946-5f0ae364a268",
   "metadata": {},
   "outputs": [
    {
     "data": {
      "image/png": "[encoded data removed]",
      "text/plain": [
       "<Figure size 800x800 with 1 Axes>"
      ]
     },
     "metadata": {},
     "output_type": "display_data"
    }
   ],
   "source": [
    "colors = list(sns.color_palette('OrRd', len(impact_counts)))\n",
    "\n",
    "plt.figure(figsize=(8, 8))\n",
    "labels = impact_counts.index\n",
    "#explode = [0.12, 0, 0, 0]\n",
    "plt.pie(impact_counts, \n",
    "                            autopct='%1.1f%%', \n",
    "                            textprops={'fontsize': 16}, \n",
    "                            #startangle=170,\n",
    "                            colors=colors, \n",
    "                            wedgeprops=dict(edgecolor='white', \n",
    "                            linewidth=1.5),\n",
    "                            #explode=explode\n",
    "       )\n",
    "\n",
    "plt.legend(labels, loc='upper left', fontsize=13, framealpha = 0.3)\n",
    "plt.title('Distribution of impact types on autosomes', fontsize=17)\n",
    "plt.text(-1.6, -0.6, \n",
    "         'High/Moderate to Low ratio\\n                 1,8 : 1', \n",
    "         fontsize=14, bbox=dict(facecolor='white', alpha=0.5))\n",
    "plt.savefig('data/impact_counts_autosomes.png', bbox_inches='tight', dpi=300)\n",
    "plt.show()\n"
   ]
  },
  {
   "cell_type": "code",
   "execution_count": 42,
   "id": "8aa2eec4-ceb6-4b8c-b3a4-a39994265621",
   "metadata": {},
   "outputs": [
    {
     "data": {
      "text/plain": [
       "Consequence\n",
       "frameshift_variant         492007\n",
       "stop_gained                300052\n",
       "splice_donor_variant       107811\n",
       "splice_acceptor_variant     97111\n",
       "Name: count, dtype: int64"
      ]
     },
     "execution_count": 42,
     "metadata": {},
     "output_type": "execute_result"
    }
   ],
   "source": [
    "consequence_categories = ['stop_gained', 'frameshift_variant', 'splice_donor_variant', 'splice_acceptor_variant']\n",
    "consequences = all_chrom_df[all_chrom_df['Consequence'].isin(consequence_categories)]\n",
    "\n",
    "consequence_counts = consequences['Consequence'].value_counts()\n",
    "consequence_counts"
   ]
  },
  {
   "cell_type": "code",
   "execution_count": 50,
   "id": "933ecae1-13a3-4353-9ac7-655f748b6aad",
   "metadata": {},
   "outputs": [
    {
     "data": {
      "image/png": "[encoded data removed]",
      "text/plain": [
       "<Figure size 800x800 with 1 Axes>"
      ]
     },
     "metadata": {},
     "output_type": "display_data"
    }
   ],
   "source": [
    "colors = list(sns.color_palette('Greens', len(consequence_counts)))\n",
    "\n",
    "plt.figure(figsize=(8, 8))\n",
    "labels = consequence_counts.index\n",
    "#explode = [0.12, 0, 0, 0]\n",
    "plt.pie(consequence_counts, \n",
    "                            autopct='%1.1f%%', \n",
    "                            textprops={'fontsize': 16}, \n",
    "                            startangle=70,\n",
    "                            colors=colors, \n",
    "                            wedgeprops=dict(edgecolor='white', \n",
    "                            linewidth=1.5),\n",
    "                            #explode=explode\n",
    "       )\n",
    "\n",
    "plt.legend(labels, loc='upper left', fontsize=14, framealpha = 0.3)\n",
    "plt.title('Distribution of important consequences on autosomes', fontsize=17)\n",
    "plt.savefig('data/consequence_counts_autosomes.png', bbox_inches='tight', dpi=300)\n",
    "plt.show()\n"
   ]
  },
  {
   "cell_type": "markdown",
   "id": "8a7014f6-d6c4-4f22-9f8c-d4961c6bc208",
   "metadata": {},
   "source": [
    "### Filter the resulting dataframe"
   ]
  },
  {
   "cell_type": "markdown",
   "id": "ef58112a-4c89-4d55-ba7c-878773f1ee6f",
   "metadata": {},
   "source": [
    "Leave only single-nucleotide stopgains."
   ]
  },
  {
   "cell_type": "code",
   "execution_count": 44,
   "id": "de18539f-7508-42eb-a62b-0e7ad4ebd9b7",
   "metadata": {},
   "outputs": [],
   "source": [
    "lof_final_df = all_chrom_df[all_chrom_df['Consequence'] == 'stop_gained']"
   ]
  },
  {
   "cell_type": "markdown",
   "id": "6948087f-8133-4594-b6c0-3b07565df3ff",
   "metadata": {},
   "source": [
    "Remove variants that contain LOF flags and LOF filters."
   ]
  },
  {
   "cell_type": "code",
   "execution_count": 45,
   "id": "7823d6c1-c336-4074-b062-a7a5a2b74708",
   "metadata": {},
   "outputs": [],
   "source": [
    "lof_final_df = lof_final_df[lof_final_df['LoF_flag'].isnull()]\n",
    "lof_final_df = lof_final_df[lof_final_df['LoF_filter'].isnull()]"
   ]
  },
  {
   "cell_type": "code",
   "execution_count": 46,
   "id": "641809c8-40a7-4e90-894e-e67d2940d15a",
   "metadata": {},
   "outputs": [
    {
     "data": {
      "text/plain": [
       "(231299, 14)"
      ]
     },
     "execution_count": 46,
     "metadata": {},
     "output_type": "execute_result"
    }
   ],
   "source": [
    "lof_final_df.shape"
   ]
  },
  {
   "cell_type": "markdown",
   "id": "22f9d464-6804-4698-8648-641d96c12f07",
   "metadata": {},
   "source": [
    "### Add LOEUF score"
   ]
  },
  {
   "cell_type": "markdown",
   "id": "78bae22c-bf4b-40e1-be42-6c5b4530a53a",
   "metadata": {},
   "source": [
    "The loss-of-function observed over expected upper bound fraction, or [LOEUF score](https://doi.org/10.1007/s00439-022-02509-x), is a metric that places each gene on a continuous scale of loss-of-function constraint. Low scores are highly correlated with disease genes and gene essentiality. \n",
    "  \n",
    "Due to expected shifts in the LOEUF distribution between gnomAD v2.1.1 and v4.0, it recommemded to use a threshold of LOEUF < 0.6 for v4.0 and [LOEUF < 0.35 for v2](https://gnomad.broadinstitute.org/news/2024-03-gnomad-v4-0-gene-constraint/#loeuf-guidance). We use the threshold for gnomAD v.2 because data on LOEUF were taken specifically for this dataset."
   ]
  },
  {
   "cell_type": "markdown",
   "id": "0a09e666-4293-4711-9d3b-cb035565865f",
   "metadata": {},
   "source": [
    "Convert a file with metrics into a dataframe."
   ]
  },
  {
   "cell_type": "code",
   "execution_count": 51,
   "id": "aeec719e-fac1-4ccf-a672-cd50089ec9f2",
   "metadata": {},
   "outputs": [
    {
     "data": {
      "text/html": [
       "<div>\n",
       "<style scoped>\n",
       "    .dataframe tbody tr th:only-of-type {\n",
       "        vertical-align: middle;\n",
       "    }\n",
       "\n",
       "    .dataframe tbody tr th {\n",
       "        vertical-align: top;\n",
       "    }\n",
       "\n",
       "    .dataframe thead th {\n",
       "        text-align: right;\n",
       "    }\n",
       "</style>\n",
       "<table border=\"1\" class=\"dataframe\">\n",
       "  <thead>\n",
       "    <tr style=\"text-align: right;\">\n",
       "      <th></th>\n",
       "      <th>gene</th>\n",
       "      <th>transcript</th>\n",
       "      <th>obs_mis</th>\n",
       "      <th>exp_mis</th>\n",
       "      <th>oe_mis</th>\n",
       "      <th>mu_mis</th>\n",
       "      <th>possible_mis</th>\n",
       "      <th>obs_mis_pphen</th>\n",
       "      <th>exp_mis_pphen</th>\n",
       "      <th>oe_mis_pphen</th>\n",
       "      <th>...</th>\n",
       "      <th>gene_type</th>\n",
       "      <th>gene_length</th>\n",
       "      <th>exac_pLI</th>\n",
       "      <th>exac_obs_lof</th>\n",
       "      <th>exac_exp_lof</th>\n",
       "      <th>exac_oe_lof</th>\n",
       "      <th>brain_expression</th>\n",
       "      <th>chromosome</th>\n",
       "      <th>start_position</th>\n",
       "      <th>end_position</th>\n",
       "    </tr>\n",
       "  </thead>\n",
       "  <tbody>\n",
       "    <tr>\n",
       "      <th>0</th>\n",
       "      <td>MED13</td>\n",
       "      <td>ENST00000397786</td>\n",
       "      <td>871</td>\n",
       "      <td>1117.80</td>\n",
       "      <td>0.77921</td>\n",
       "      <td>0.000056</td>\n",
       "      <td>14195</td>\n",
       "      <td>314.0</td>\n",
       "      <td>529.750</td>\n",
       "      <td>0.59273</td>\n",
       "      <td>...</td>\n",
       "      <td>protein_coding</td>\n",
       "      <td>122678</td>\n",
       "      <td>1.000000e+00</td>\n",
       "      <td>0.0</td>\n",
       "      <td>64.3930</td>\n",
       "      <td>0.000000</td>\n",
       "      <td>NaN</td>\n",
       "      <td>17</td>\n",
       "      <td>60019966</td>\n",
       "      <td>60142643</td>\n",
       "    </tr>\n",
       "    <tr>\n",
       "      <th>1</th>\n",
       "      <td>NIPBL</td>\n",
       "      <td>ENST00000282516</td>\n",
       "      <td>846</td>\n",
       "      <td>1441.50</td>\n",
       "      <td>0.58688</td>\n",
       "      <td>0.000074</td>\n",
       "      <td>18540</td>\n",
       "      <td>158.0</td>\n",
       "      <td>543.100</td>\n",
       "      <td>0.29092</td>\n",
       "      <td>...</td>\n",
       "      <td>protein_coding</td>\n",
       "      <td>189655</td>\n",
       "      <td>1.000000e+00</td>\n",
       "      <td>1.0</td>\n",
       "      <td>110.5700</td>\n",
       "      <td>0.009044</td>\n",
       "      <td>NaN</td>\n",
       "      <td>5</td>\n",
       "      <td>36876861</td>\n",
       "      <td>37066515</td>\n",
       "    </tr>\n",
       "    <tr>\n",
       "      <th>2</th>\n",
       "      <td>SMC3</td>\n",
       "      <td>ENST00000361804</td>\n",
       "      <td>178</td>\n",
       "      <td>630.07</td>\n",
       "      <td>0.28251</td>\n",
       "      <td>0.000032</td>\n",
       "      <td>8109</td>\n",
       "      <td>21.0</td>\n",
       "      <td>182.520</td>\n",
       "      <td>0.11506</td>\n",
       "      <td>...</td>\n",
       "      <td>protein_coding</td>\n",
       "      <td>36946</td>\n",
       "      <td>1.000000e+00</td>\n",
       "      <td>0.0</td>\n",
       "      <td>58.5230</td>\n",
       "      <td>0.000000</td>\n",
       "      <td>NaN</td>\n",
       "      <td>10</td>\n",
       "      <td>112327449</td>\n",
       "      <td>112364394</td>\n",
       "    </tr>\n",
       "    <tr>\n",
       "      <th>3</th>\n",
       "      <td>CNOT1</td>\n",
       "      <td>ENST00000317147</td>\n",
       "      <td>561</td>\n",
       "      <td>1295.90</td>\n",
       "      <td>0.43290</td>\n",
       "      <td>0.000069</td>\n",
       "      <td>15670</td>\n",
       "      <td>51.0</td>\n",
       "      <td>290.680</td>\n",
       "      <td>0.17545</td>\n",
       "      <td>...</td>\n",
       "      <td>protein_coding</td>\n",
       "      <td>109936</td>\n",
       "      <td>1.000000e+00</td>\n",
       "      <td>3.0</td>\n",
       "      <td>90.1300</td>\n",
       "      <td>0.033285</td>\n",
       "      <td>NaN</td>\n",
       "      <td>16</td>\n",
       "      <td>58553855</td>\n",
       "      <td>58663790</td>\n",
       "    </tr>\n",
       "    <tr>\n",
       "      <th>4</th>\n",
       "      <td>RLF</td>\n",
       "      <td>ENST00000372771</td>\n",
       "      <td>669</td>\n",
       "      <td>972.87</td>\n",
       "      <td>0.68766</td>\n",
       "      <td>0.000047</td>\n",
       "      <td>12682</td>\n",
       "      <td>107.0</td>\n",
       "      <td>321.140</td>\n",
       "      <td>0.33319</td>\n",
       "      <td>...</td>\n",
       "      <td>protein_coding</td>\n",
       "      <td>79549</td>\n",
       "      <td>1.000000e+00</td>\n",
       "      <td>0.0</td>\n",
       "      <td>43.6070</td>\n",
       "      <td>0.000000</td>\n",
       "      <td>NaN</td>\n",
       "      <td>1</td>\n",
       "      <td>40627045</td>\n",
       "      <td>40706593</td>\n",
       "    </tr>\n",
       "    <tr>\n",
       "      <th>...</th>\n",
       "      <td>...</td>\n",
       "      <td>...</td>\n",
       "      <td>...</td>\n",
       "      <td>...</td>\n",
       "      <td>...</td>\n",
       "      <td>...</td>\n",
       "      <td>...</td>\n",
       "      <td>...</td>\n",
       "      <td>...</td>\n",
       "      <td>...</td>\n",
       "      <td>...</td>\n",
       "      <td>...</td>\n",
       "      <td>...</td>\n",
       "      <td>...</td>\n",
       "      <td>...</td>\n",
       "      <td>...</td>\n",
       "      <td>...</td>\n",
       "      <td>...</td>\n",
       "      <td>...</td>\n",
       "      <td>...</td>\n",
       "      <td>...</td>\n",
       "    </tr>\n",
       "    <tr>\n",
       "      <th>19699</th>\n",
       "      <td>OR7G2</td>\n",
       "      <td>ENST00000305456</td>\n",
       "      <td>177</td>\n",
       "      <td>181.12</td>\n",
       "      <td>0.97723</td>\n",
       "      <td>0.000009</td>\n",
       "      <td>2247</td>\n",
       "      <td>34.0</td>\n",
       "      <td>38.175</td>\n",
       "      <td>0.89064</td>\n",
       "      <td>...</td>\n",
       "      <td>protein_coding</td>\n",
       "      <td>1038</td>\n",
       "      <td>7.093800e-03</td>\n",
       "      <td>3.0</td>\n",
       "      <td>2.9635</td>\n",
       "      <td>1.012300</td>\n",
       "      <td>NaN</td>\n",
       "      <td>19</td>\n",
       "      <td>9212945</td>\n",
       "      <td>9213982</td>\n",
       "    </tr>\n",
       "    <tr>\n",
       "      <th>19700</th>\n",
       "      <td>OR7G3</td>\n",
       "      <td>ENST00000305444</td>\n",
       "      <td>164</td>\n",
       "      <td>163.92</td>\n",
       "      <td>1.00050</td>\n",
       "      <td>0.000008</td>\n",
       "      <td>2016</td>\n",
       "      <td>40.0</td>\n",
       "      <td>39.403</td>\n",
       "      <td>1.01520</td>\n",
       "      <td>...</td>\n",
       "      <td>protein_coding</td>\n",
       "      <td>939</td>\n",
       "      <td>4.059600e-01</td>\n",
       "      <td>1.0</td>\n",
       "      <td>4.8401</td>\n",
       "      <td>0.206610</td>\n",
       "      <td>NaN</td>\n",
       "      <td>19</td>\n",
       "      <td>9236688</td>\n",
       "      <td>9237626</td>\n",
       "    </tr>\n",
       "    <tr>\n",
       "      <th>19701</th>\n",
       "      <td>OR8D1</td>\n",
       "      <td>ENST00000357821</td>\n",
       "      <td>178</td>\n",
       "      <td>162.04</td>\n",
       "      <td>1.09850</td>\n",
       "      <td>0.000008</td>\n",
       "      <td>2002</td>\n",
       "      <td>65.0</td>\n",
       "      <td>54.179</td>\n",
       "      <td>1.19970</td>\n",
       "      <td>...</td>\n",
       "      <td>protein_coding</td>\n",
       "      <td>1026</td>\n",
       "      <td>2.159200e-01</td>\n",
       "      <td>1.0</td>\n",
       "      <td>2.7436</td>\n",
       "      <td>0.364480</td>\n",
       "      <td>NaN</td>\n",
       "      <td>11</td>\n",
       "      <td>124179708</td>\n",
       "      <td>124180733</td>\n",
       "    </tr>\n",
       "    <tr>\n",
       "      <th>19702</th>\n",
       "      <td>ZNF600</td>\n",
       "      <td>ENST00000338230</td>\n",
       "      <td>450</td>\n",
       "      <td>357.84</td>\n",
       "      <td>1.25750</td>\n",
       "      <td>0.000018</td>\n",
       "      <td>4794</td>\n",
       "      <td>138.0</td>\n",
       "      <td>124.070</td>\n",
       "      <td>1.11220</td>\n",
       "      <td>...</td>\n",
       "      <td>protein_coding</td>\n",
       "      <td>22597</td>\n",
       "      <td>1.477300e-13</td>\n",
       "      <td>16.0</td>\n",
       "      <td>9.6420</td>\n",
       "      <td>1.659400</td>\n",
       "      <td>NaN</td>\n",
       "      <td>19</td>\n",
       "      <td>53267448</td>\n",
       "      <td>53290044</td>\n",
       "    </tr>\n",
       "    <tr>\n",
       "      <th>19703</th>\n",
       "      <td>ZNF645</td>\n",
       "      <td>ENST00000323684</td>\n",
       "      <td>168</td>\n",
       "      <td>179.70</td>\n",
       "      <td>0.93491</td>\n",
       "      <td>0.000015</td>\n",
       "      <td>2787</td>\n",
       "      <td>18.0</td>\n",
       "      <td>19.718</td>\n",
       "      <td>0.91287</td>\n",
       "      <td>...</td>\n",
       "      <td>protein_coding</td>\n",
       "      <td>1510</td>\n",
       "      <td>1.646600e-02</td>\n",
       "      <td>4.0</td>\n",
       "      <td>8.2529</td>\n",
       "      <td>0.484680</td>\n",
       "      <td>NaN</td>\n",
       "      <td>X</td>\n",
       "      <td>22291065</td>\n",
       "      <td>22292574</td>\n",
       "    </tr>\n",
       "  </tbody>\n",
       "</table>\n",
       "<p>19704 rows × 77 columns</p>\n",
       "</div>"
      ],
      "text/plain": [
       "         gene       transcript  obs_mis  exp_mis   oe_mis    mu_mis  \\\n",
       "0       MED13  ENST00000397786      871  1117.80  0.77921  0.000056   \n",
       "1       NIPBL  ENST00000282516      846  1441.50  0.58688  0.000074   \n",
       "2        SMC3  ENST00000361804      178   630.07  0.28251  0.000032   \n",
       "3       CNOT1  ENST00000317147      561  1295.90  0.43290  0.000069   \n",
       "4         RLF  ENST00000372771      669   972.87  0.68766  0.000047   \n",
       "...       ...              ...      ...      ...      ...       ...   \n",
       "19699   OR7G2  ENST00000305456      177   181.12  0.97723  0.000009   \n",
       "19700   OR7G3  ENST00000305444      164   163.92  1.00050  0.000008   \n",
       "19701   OR8D1  ENST00000357821      178   162.04  1.09850  0.000008   \n",
       "19702  ZNF600  ENST00000338230      450   357.84  1.25750  0.000018   \n",
       "19703  ZNF645  ENST00000323684      168   179.70  0.93491  0.000015   \n",
       "\n",
       "       possible_mis  obs_mis_pphen  exp_mis_pphen  oe_mis_pphen  ...  \\\n",
       "0             14195          314.0        529.750       0.59273  ...   \n",
       "1             18540          158.0        543.100       0.29092  ...   \n",
       "2              8109           21.0        182.520       0.11506  ...   \n",
       "3             15670           51.0        290.680       0.17545  ...   \n",
       "4             12682          107.0        321.140       0.33319  ...   \n",
       "...             ...            ...            ...           ...  ...   \n",
       "19699          2247           34.0         38.175       0.89064  ...   \n",
       "19700          2016           40.0         39.403       1.01520  ...   \n",
       "19701          2002           65.0         54.179       1.19970  ...   \n",
       "19702          4794          138.0        124.070       1.11220  ...   \n",
       "19703          2787           18.0         19.718       0.91287  ...   \n",
       "\n",
       "            gene_type  gene_length      exac_pLI  exac_obs_lof  exac_exp_lof  \\\n",
       "0      protein_coding       122678  1.000000e+00           0.0       64.3930   \n",
       "1      protein_coding       189655  1.000000e+00           1.0      110.5700   \n",
       "2      protein_coding        36946  1.000000e+00           0.0       58.5230   \n",
       "3      protein_coding       109936  1.000000e+00           3.0       90.1300   \n",
       "4      protein_coding        79549  1.000000e+00           0.0       43.6070   \n",
       "...               ...          ...           ...           ...           ...   \n",
       "19699  protein_coding         1038  7.093800e-03           3.0        2.9635   \n",
       "19700  protein_coding          939  4.059600e-01           1.0        4.8401   \n",
       "19701  protein_coding         1026  2.159200e-01           1.0        2.7436   \n",
       "19702  protein_coding        22597  1.477300e-13          16.0        9.6420   \n",
       "19703  protein_coding         1510  1.646600e-02           4.0        8.2529   \n",
       "\n",
       "       exac_oe_lof  brain_expression  chromosome  start_position  end_position  \n",
       "0         0.000000               NaN          17        60019966      60142643  \n",
       "1         0.009044               NaN           5        36876861      37066515  \n",
       "2         0.000000               NaN          10       112327449     112364394  \n",
       "3         0.033285               NaN          16        58553855      58663790  \n",
       "4         0.000000               NaN           1        40627045      40706593  \n",
       "...            ...               ...         ...             ...           ...  \n",
       "19699     1.012300               NaN          19         9212945       9213982  \n",
       "19700     0.206610               NaN          19         9236688       9237626  \n",
       "19701     0.364480               NaN          11       124179708     124180733  \n",
       "19702     1.659400               NaN          19        53267448      53290044  \n",
       "19703     0.484680               NaN           X        22291065      22292574  \n",
       "\n",
       "[19704 rows x 77 columns]"
      ]
     },
     "execution_count": 51,
     "metadata": {},
     "output_type": "execute_result"
    }
   ],
   "source": [
    "lof_metrics_by_gene = pd.read_table('../raw_data/plof_metrics/gnomad.v2.1.1.lof_metrics.by_gene.txt')\n",
    "lof_metrics_by_gene"
   ]
  },
  {
   "cell_type": "markdown",
   "id": "679eeb19-6d82-4d1f-93a6-856547b245a4",
   "metadata": {},
   "source": [
    "Create a dictionary \"transcript\": \"LOEUF value\"."
   ]
  },
  {
   "cell_type": "code",
   "execution_count": 52,
   "id": "47bf3e48-ec47-4fee-97e4-afff7259f8fb",
   "metadata": {
    "scrolled": true
   },
   "outputs": [],
   "source": [
    "loeuf_by_transcript_dict = dict(zip(lof_metrics_by_gene['transcript'], lof_metrics_by_gene['oe_lof_upper']))"
   ]
  },
  {
   "cell_type": "markdown",
   "id": "4b5c9e81-5cea-4c07-b748-cb052696fdd5",
   "metadata": {},
   "source": [
    "Write all matches to transcript keys in the LOEUF column."
   ]
  },
  {
   "cell_type": "code",
   "execution_count": 53,
   "id": "b62a5d83-9703-4c4b-9a28-a6d37fbfe083",
   "metadata": {},
   "outputs": [],
   "source": [
    "lof_final_df.loc[:, 'LOEUF'] = lof_final_df['Canonical_transcript'].map(loeuf_by_transcript_dict)"
   ]
  },
  {
   "cell_type": "markdown",
   "id": "b0f5468d-5f99-4be8-b95a-b9928bd322f7",
   "metadata": {},
   "source": [
    "Leave only highly conservative options (LOEUF < 0.35):"
   ]
  },
  {
   "cell_type": "code",
   "execution_count": 54,
   "id": "47953ab3-2d98-4428-97b0-21b0f14d69df",
   "metadata": {},
   "outputs": [],
   "source": [
    "lof_final_df = lof_final_df[lof_final_df['LOEUF'] < 0.35]"
   ]
  },
  {
   "cell_type": "code",
   "execution_count": 55,
   "id": "59c40e4c-28f3-4b31-91d0-761977f3d341",
   "metadata": {},
   "outputs": [
    {
     "data": {
      "text/plain": [
       "(23074, 15)"
      ]
     },
     "execution_count": 55,
     "metadata": {},
     "output_type": "execute_result"
    }
   ],
   "source": [
    "lof_final_df.shape"
   ]
  },
  {
   "cell_type": "markdown",
   "id": "28d43faf-bd15-4d1d-9fa1-e65950abcfbf",
   "metadata": {},
   "source": [
    "### Add pext score"
   ]
  },
  {
   "cell_type": "markdown",
   "id": "53a7bb1b-a89c-4d91-bd35-405b47ef3965",
   "metadata": {},
   "source": [
    "Information about pext boundaries is taken from [Singer-Berk M et al, 2023](https://www.ncbi.nlm.nih.gov/pmc/articles/PMC10029069/)."
   ]
  },
  {
   "cell_type": "code",
   "execution_count": 56,
   "id": "e8cc6021-1237-4f9a-92b2-d6d1f872d33e",
   "metadata": {},
   "outputs": [],
   "source": [
    "header_pext = ['chrom', 'pos', 'ref', 'alt', 'tx_annotation']"
   ]
  },
  {
   "cell_type": "markdown",
   "id": "11d930b8-5285-44dd-a150-f44f25367b29",
   "metadata": {},
   "source": [
    "Convert a file containing the pext score values (only for stopgains) into a dataframe."
   ]
  },
  {
   "cell_type": "code",
   "execution_count": 57,
   "id": "524bfba3-4c90-4cd1-86bc-822281cb7386",
   "metadata": {},
   "outputs": [
    {
     "name": "stderr",
     "output_type": "stream",
     "text": [
      "/tmp/ipykernel_816904/4201993334.py:1: DtypeWarning: Columns (0) have mixed types. Specify dtype option on import or set low_memory=False.\n",
      "  pext_raw_df = pd.read_table(\"data_dir/pext/stop_gained_rows.tsv\", names=header_pext)\n"
     ]
    }
   ],
   "source": [
    "pext_raw_df = pd.read_table(\"data_dir/pext/stop_gained_rows.tsv\", names=header_pext)"
   ]
  },
  {
   "cell_type": "code",
   "execution_count": 58,
   "id": "bdef4690-9437-435d-bd6f-00a4c0fdfba3",
   "metadata": {},
   "outputs": [],
   "source": [
    "tx_annotation_data = pext_raw_df['tx_annotation'].apply(lambda x: json.loads(x.replace(\"'\", \"\\\"\"))[0])\n",
    "pext_tx_annotation = pd.DataFrame(tx_annotation_data.tolist())\n",
    "pext_hg19_df = pd.concat([pext_raw_df.drop(columns=['tx_annotation']), pext_tx_annotation], axis=1)"
   ]
  },
  {
   "cell_type": "code",
   "execution_count": 59,
   "id": "94db5466-43d9-4781-910f-7ad04b646611",
   "metadata": {},
   "outputs": [],
   "source": [
    "pext_hg19_df = pext_hg19_df[(pext_hg19_df['chrom'] != 'X') & (pext_hg19_df['chrom'] != 'Y')]"
   ]
  },
  {
   "cell_type": "markdown",
   "id": "2c25c41d-d760-4df5-bc83-d02604bceb2b",
   "metadata": {},
   "source": [
    "Convert position values from hg19 to hg38."
   ]
  },
  {
   "cell_type": "code",
   "execution_count": 60,
   "id": "ecc7e90c-26f8-4d94-8133-b5ddc37da22b",
   "metadata": {},
   "outputs": [],
   "source": [
    "pext_hg38_df = pext_hg19_df.copy()\n",
    "pext_hg38_df['chrom'] = pext_hg38_df['chrom'].apply(lambda x: 'chr' + str(x))"
   ]
  },
  {
   "cell_type": "code",
   "execution_count": 61,
   "id": "1934bb65-9826-47ff-a994-b36c23539fca",
   "metadata": {},
   "outputs": [],
   "source": [
    "lo = pyliftover.LiftOver('hg19', 'hg38')\n",
    "\n",
    "for index, row in pext_hg38_df.iterrows():\n",
    "    try:\n",
    "        converted = lo.convert_coordinate(row['chrom'], row['pos'])\n",
    "        if converted:\n",
    "            pext_hg38_df.loc[index, 'chrom'] = converted[0][0]\n",
    "            pext_hg38_df.loc[index, 'pos'] = converted[0][1]\n",
    "    except Exception as e:\n",
    "        print(f\"Error converting coordinates for index {index}: {e}\")"
   ]
  },
  {
   "cell_type": "code",
   "execution_count": 62,
   "id": "4153e855-35cb-41d7-b1d7-a28028f8034f",
   "metadata": {},
   "outputs": [],
   "source": [
    "pext_dict = {(row['chrom'], row['pos'], row['ref'], row['alt']): row['mean_proportion'] for _, row in pext_hg38_df.iterrows()}"
   ]
  },
  {
   "cell_type": "code",
   "execution_count": 63,
   "id": "094b787e-fe91-4bdc-91ab-665f6283e12c",
   "metadata": {},
   "outputs": [
    {
     "name": "stderr",
     "output_type": "stream",
     "text": [
      "/tmp/ipykernel_816904/201323663.py:5: FutureWarning: Setting an item of incompatible dtype is deprecated and will raise an error in a future version of pandas. Value 'NaN' has dtype incompatible with float64, please explicitly cast to a compatible dtype first.\n",
      "  lof_final_df.loc[index, 'pext'] = pext_dict[key]\n"
     ]
    }
   ],
   "source": [
    "for index, row in lof_final_df.iterrows():\n",
    "    key = (row['CHROM'], row['POS'], row['REF'], row['ALT'])\n",
    "    \n",
    "    if key in pext_dict:\n",
    "        lof_final_df.loc[index, 'pext'] = pext_dict[key]\n",
    "    else:\n",
    "        lof_final_df.loc[index, 'pext'] = None"
   ]
  },
  {
   "cell_type": "markdown",
   "id": "cac1ca3e-10b3-4508-9dca-46aaa9da267b",
   "metadata": {},
   "source": [
    "Keep only higher expressing variants (pext > 0.5):"
   ]
  },
  {
   "cell_type": "code",
   "execution_count": 64,
   "id": "68d54084-9501-4498-9fec-7617aa7e48c5",
   "metadata": {},
   "outputs": [],
   "source": [
    "lof_final_df['pext'] = lof_final_df['pext'].astype(float)\n",
    "lof_final_df = lof_final_df[lof_final_df['pext'] > 0.5]"
   ]
  },
  {
   "cell_type": "code",
   "execution_count": 65,
   "id": "a058933c-d77f-46dd-8c3b-e32a2455c4cc",
   "metadata": {},
   "outputs": [
    {
     "data": {
      "text/plain": [
       "(16317, 16)"
      ]
     },
     "execution_count": 65,
     "metadata": {},
     "output_type": "execute_result"
    }
   ],
   "source": [
    "lof_final_df.shape"
   ]
  },
  {
   "cell_type": "markdown",
   "id": "fb834989-b74f-4e3d-9cf8-7e017be98980",
   "metadata": {},
   "source": [
    "### Getting NMD-escaping regions info"
   ]
  },
  {
   "cell_type": "markdown",
   "id": "20bf3ab8-38d5-47ae-a6fc-8f3c1499ea1a",
   "metadata": {},
   "source": [
    "We use the code from [Torene et al., 2024](https://doi.org/10.1016/j.ajhg.2023.11.007). Full code is available [here](https://github.com/rebeccaito/nmd-escape/tree/main)."
   ]
  },
  {
   "cell_type": "markdown",
   "id": "1681fef4-3949-4fdd-a2ba-98a548ec3d01",
   "metadata": {},
   "source": [
    "First obtain the required bed file for our data."
   ]
  },
  {
   "cell_type": "raw",
   "id": "583ff3e6-9fbc-4b0f-b77f-07202c308504",
   "metadata": {},
   "source": [
    "! zcat gencode.v45.annotation.gtf.gz | awk 'OFS=\"\\t\" {if ($3==\"CDS\") {print $1,$4-1,$5,$12,$6,$7}}' | tr -d '\";' > gencode.v45.annotation.bed"
   ]
  },
  {
   "cell_type": "code",
   "execution_count": 66,
   "id": "c8c3f072-b464-45d5-8a15-28a73001a084",
   "metadata": {},
   "outputs": [],
   "source": [
    "cds_bed_df = pd.read_table('data_dir/gencode_data/gencode.v45.annotation.bed', names=['chrom', 'start', 'end', 'cds_id', 'score', 'strand'])\n",
    "\n",
    "cds_bed_df['cds_id'] = (cds_bed_df['cds_id'] + '_cds_0_0_' +\n",
    "                              cds_bed_df['chrom'] + '_' +\n",
    "                              (cds_bed_df['start'] + 1).astype(str) + '_' +\n",
    "                              cds_bed_df['strand'].map({'+': 'f', '-': 'r'}))"
   ]
  },
  {
   "cell_type": "code",
   "execution_count": 67,
   "id": "6c92bab1-4efb-47e0-98c7-83165404a1c3",
   "metadata": {},
   "outputs": [
    {
     "data": {
      "text/html": [
       "<div>\n",
       "<style scoped>\n",
       "    .dataframe tbody tr th:only-of-type {\n",
       "        vertical-align: middle;\n",
       "    }\n",
       "\n",
       "    .dataframe tbody tr th {\n",
       "        vertical-align: top;\n",
       "    }\n",
       "\n",
       "    .dataframe thead th {\n",
       "        text-align: right;\n",
       "    }\n",
       "</style>\n",
       "<table border=\"1\" class=\"dataframe\">\n",
       "  <thead>\n",
       "    <tr style=\"text-align: right;\">\n",
       "      <th></th>\n",
       "      <th>chrom</th>\n",
       "      <th>start</th>\n",
       "      <th>end</th>\n",
       "      <th>cds_id</th>\n",
       "      <th>score</th>\n",
       "      <th>strand</th>\n",
       "    </tr>\n",
       "  </thead>\n",
       "  <tbody>\n",
       "    <tr>\n",
       "      <th>0</th>\n",
       "      <td>chr1</td>\n",
       "      <td>65564</td>\n",
       "      <td>65573</td>\n",
       "      <td>ENST00000641515.2_cds_0_0_chr1_65565_f</td>\n",
       "      <td>.</td>\n",
       "      <td>+</td>\n",
       "    </tr>\n",
       "    <tr>\n",
       "      <th>1</th>\n",
       "      <td>chr1</td>\n",
       "      <td>69036</td>\n",
       "      <td>70005</td>\n",
       "      <td>ENST00000641515.2_cds_0_0_chr1_69037_f</td>\n",
       "      <td>.</td>\n",
       "      <td>+</td>\n",
       "    </tr>\n",
       "    <tr>\n",
       "      <th>2</th>\n",
       "      <td>chr1</td>\n",
       "      <td>450742</td>\n",
       "      <td>451678</td>\n",
       "      <td>ENST00000426406.4_cds_0_0_chr1_450743_r</td>\n",
       "      <td>.</td>\n",
       "      <td>-</td>\n",
       "    </tr>\n",
       "    <tr>\n",
       "      <th>3</th>\n",
       "      <td>chr1</td>\n",
       "      <td>685718</td>\n",
       "      <td>686654</td>\n",
       "      <td>ENST00000332831.5_cds_0_0_chr1_685719_r</td>\n",
       "      <td>.</td>\n",
       "      <td>-</td>\n",
       "    </tr>\n",
       "    <tr>\n",
       "      <th>4</th>\n",
       "      <td>chr1</td>\n",
       "      <td>924431</td>\n",
       "      <td>924948</td>\n",
       "      <td>ENST00000616016.5_cds_0_0_chr1_924432_f</td>\n",
       "      <td>.</td>\n",
       "      <td>+</td>\n",
       "    </tr>\n",
       "    <tr>\n",
       "      <th>...</th>\n",
       "      <td>...</td>\n",
       "      <td>...</td>\n",
       "      <td>...</td>\n",
       "      <td>...</td>\n",
       "      <td>...</td>\n",
       "      <td>...</td>\n",
       "    </tr>\n",
       "    <tr>\n",
       "      <th>885744</th>\n",
       "      <td>chrM</td>\n",
       "      <td>10469</td>\n",
       "      <td>10763</td>\n",
       "      <td>ENST00000361335.1_cds_0_0_chrM_10470_f</td>\n",
       "      <td>.</td>\n",
       "      <td>+</td>\n",
       "    </tr>\n",
       "    <tr>\n",
       "      <th>885745</th>\n",
       "      <td>chrM</td>\n",
       "      <td>10759</td>\n",
       "      <td>12137</td>\n",
       "      <td>ENST00000361381.2_cds_0_0_chrM_10760_f</td>\n",
       "      <td>.</td>\n",
       "      <td>+</td>\n",
       "    </tr>\n",
       "    <tr>\n",
       "      <th>885746</th>\n",
       "      <td>chrM</td>\n",
       "      <td>12336</td>\n",
       "      <td>14145</td>\n",
       "      <td>ENST00000361567.2_cds_0_0_chrM_12337_f</td>\n",
       "      <td>.</td>\n",
       "      <td>+</td>\n",
       "    </tr>\n",
       "    <tr>\n",
       "      <th>885747</th>\n",
       "      <td>chrM</td>\n",
       "      <td>14148</td>\n",
       "      <td>14673</td>\n",
       "      <td>ENST00000361681.2_cds_0_0_chrM_14149_r</td>\n",
       "      <td>.</td>\n",
       "      <td>-</td>\n",
       "    </tr>\n",
       "    <tr>\n",
       "      <th>885748</th>\n",
       "      <td>chrM</td>\n",
       "      <td>14746</td>\n",
       "      <td>15887</td>\n",
       "      <td>ENST00000361789.2_cds_0_0_chrM_14747_f</td>\n",
       "      <td>.</td>\n",
       "      <td>+</td>\n",
       "    </tr>\n",
       "  </tbody>\n",
       "</table>\n",
       "<p>885749 rows × 6 columns</p>\n",
       "</div>"
      ],
      "text/plain": [
       "       chrom   start     end                                   cds_id score  \\\n",
       "0       chr1   65564   65573   ENST00000641515.2_cds_0_0_chr1_65565_f     .   \n",
       "1       chr1   69036   70005   ENST00000641515.2_cds_0_0_chr1_69037_f     .   \n",
       "2       chr1  450742  451678  ENST00000426406.4_cds_0_0_chr1_450743_r     .   \n",
       "3       chr1  685718  686654  ENST00000332831.5_cds_0_0_chr1_685719_r     .   \n",
       "4       chr1  924431  924948  ENST00000616016.5_cds_0_0_chr1_924432_f     .   \n",
       "...      ...     ...     ...                                      ...   ...   \n",
       "885744  chrM   10469   10763   ENST00000361335.1_cds_0_0_chrM_10470_f     .   \n",
       "885745  chrM   10759   12137   ENST00000361381.2_cds_0_0_chrM_10760_f     .   \n",
       "885746  chrM   12336   14145   ENST00000361567.2_cds_0_0_chrM_12337_f     .   \n",
       "885747  chrM   14148   14673   ENST00000361681.2_cds_0_0_chrM_14149_r     .   \n",
       "885748  chrM   14746   15887   ENST00000361789.2_cds_0_0_chrM_14747_f     .   \n",
       "\n",
       "       strand  \n",
       "0           +  \n",
       "1           +  \n",
       "2           -  \n",
       "3           -  \n",
       "4           +  \n",
       "...       ...  \n",
       "885744      +  \n",
       "885745      +  \n",
       "885746      +  \n",
       "885747      -  \n",
       "885748      +  \n",
       "\n",
       "[885749 rows x 6 columns]"
      ]
     },
     "execution_count": 67,
     "metadata": {},
     "output_type": "execute_result"
    }
   ],
   "source": [
    "cds_bed_df"
   ]
  },
  {
   "cell_type": "markdown",
   "id": "d8a7a25b-959d-4336-ba44-f2d24d165161",
   "metadata": {},
   "source": [
    "Determine NMD regions from a 6-column bed file of coding sequence regions."
   ]
  },
  {
   "cell_type": "code",
   "execution_count": 68,
   "id": "26934949-6c8a-4a7b-bee7-bc1fca2171d3",
   "metadata": {},
   "outputs": [],
   "source": [
    "nmd_bed_df = make_boundaries_df(cds_bed_df)"
   ]
  },
  {
   "cell_type": "code",
   "execution_count": 69,
   "id": "843737fc-2779-4ed6-bbec-36782fc53edd",
   "metadata": {},
   "outputs": [
    {
     "data": {
      "text/html": [
       "<div>\n",
       "<style scoped>\n",
       "    .dataframe tbody tr th:only-of-type {\n",
       "        vertical-align: middle;\n",
       "    }\n",
       "\n",
       "    .dataframe tbody tr th {\n",
       "        vertical-align: top;\n",
       "    }\n",
       "\n",
       "    .dataframe thead th {\n",
       "        text-align: right;\n",
       "    }\n",
       "</style>\n",
       "<table border=\"1\" class=\"dataframe\">\n",
       "  <thead>\n",
       "    <tr style=\"text-align: right;\">\n",
       "      <th></th>\n",
       "      <th></th>\n",
       "      <th>index</th>\n",
       "      <th>chrom</th>\n",
       "      <th>start</th>\n",
       "      <th>end</th>\n",
       "      <th>cds_id</th>\n",
       "      <th>score</th>\n",
       "      <th>strand</th>\n",
       "      <th>transcript_name</th>\n",
       "      <th>cds_size</th>\n",
       "    </tr>\n",
       "    <tr>\n",
       "      <th>transcript_name</th>\n",
       "      <th></th>\n",
       "      <th></th>\n",
       "      <th></th>\n",
       "      <th></th>\n",
       "      <th></th>\n",
       "      <th></th>\n",
       "      <th></th>\n",
       "      <th></th>\n",
       "      <th></th>\n",
       "      <th></th>\n",
       "    </tr>\n",
       "  </thead>\n",
       "  <tbody>\n",
       "    <tr>\n",
       "      <th rowspan=\"2\" valign=\"top\">ENST00000000233.10</th>\n",
       "      <th>0</th>\n",
       "      <td>358020</td>\n",
       "      <td>chr7</td>\n",
       "      <td>127591212</td>\n",
       "      <td>127591296</td>\n",
       "      <td>ENST00000000233.10_cds_0_0_chr7_127591213_f</td>\n",
       "      <td>.</td>\n",
       "      <td>+</td>\n",
       "      <td>ENST00000000233.10</td>\n",
       "      <td>84</td>\n",
       "    </tr>\n",
       "    <tr>\n",
       "      <th>1</th>\n",
       "      <td>358019</td>\n",
       "      <td>chr7</td>\n",
       "      <td>127591033</td>\n",
       "      <td>127591088</td>\n",
       "      <td>ENST00000000233.10_cds_0_0_chr7_127590963_f</td>\n",
       "      <td>.</td>\n",
       "      <td>+</td>\n",
       "      <td>ENST00000000233.10</td>\n",
       "      <td>55</td>\n",
       "    </tr>\n",
       "    <tr>\n",
       "      <th rowspan=\"2\" valign=\"top\">ENST00000000412.8</th>\n",
       "      <th>0</th>\n",
       "      <td>528168</td>\n",
       "      <td>chr12</td>\n",
       "      <td>8941820</td>\n",
       "      <td>8941940</td>\n",
       "      <td>ENST00000000412.8_cds_0_0_chr12_8941821_r</td>\n",
       "      <td>.</td>\n",
       "      <td>-</td>\n",
       "      <td>ENST00000000412.8</td>\n",
       "      <td>120</td>\n",
       "    </tr>\n",
       "    <tr>\n",
       "      <th>1</th>\n",
       "      <td>528167</td>\n",
       "      <td>chr12</td>\n",
       "      <td>8942415</td>\n",
       "      <td>8942470</td>\n",
       "      <td>ENST00000000412.8_cds_0_0_chr12_8942416_r</td>\n",
       "      <td>.</td>\n",
       "      <td>-</td>\n",
       "      <td>ENST00000000412.8</td>\n",
       "      <td>55</td>\n",
       "    </tr>\n",
       "    <tr>\n",
       "      <th>ENST00000000442.11</th>\n",
       "      <th>0</th>\n",
       "      <td>493539</td>\n",
       "      <td>chr11</td>\n",
       "      <td>64315706</td>\n",
       "      <td>64315963</td>\n",
       "      <td>ENST00000000442.11_cds_0_0_chr11_64315707_f</td>\n",
       "      <td>.</td>\n",
       "      <td>+</td>\n",
       "      <td>ENST00000000442.11</td>\n",
       "      <td>257</td>\n",
       "    </tr>\n",
       "    <tr>\n",
       "      <th>...</th>\n",
       "      <th>...</th>\n",
       "      <td>...</td>\n",
       "      <td>...</td>\n",
       "      <td>...</td>\n",
       "      <td>...</td>\n",
       "      <td>...</td>\n",
       "      <td>...</td>\n",
       "      <td>...</td>\n",
       "      <td>...</td>\n",
       "      <td>...</td>\n",
       "    </tr>\n",
       "    <tr>\n",
       "      <th>ENST00000713920.1</th>\n",
       "      <th>1</th>\n",
       "      <td>649116</td>\n",
       "      <td>chr16</td>\n",
       "      <td>1320462</td>\n",
       "      <td>1320517</td>\n",
       "      <td>ENST00000713920.1_cds_0_0_chr16_1320438_f</td>\n",
       "      <td>.</td>\n",
       "      <td>+</td>\n",
       "      <td>ENST00000713920.1</td>\n",
       "      <td>55</td>\n",
       "    </tr>\n",
       "    <tr>\n",
       "      <th rowspan=\"2\" valign=\"top\">ENST00000713921.1</th>\n",
       "      <th>0</th>\n",
       "      <td>649156</td>\n",
       "      <td>chr16</td>\n",
       "      <td>1324729</td>\n",
       "      <td>1324790</td>\n",
       "      <td>ENST00000713921.1_cds_0_0_chr16_1324730_f</td>\n",
       "      <td>.</td>\n",
       "      <td>+</td>\n",
       "      <td>ENST00000713921.1</td>\n",
       "      <td>61</td>\n",
       "    </tr>\n",
       "    <tr>\n",
       "      <th>1</th>\n",
       "      <td>649155</td>\n",
       "      <td>chr16</td>\n",
       "      <td>1320462</td>\n",
       "      <td>1320517</td>\n",
       "      <td>ENST00000713921.1_cds_0_0_chr16_1320438_f</td>\n",
       "      <td>.</td>\n",
       "      <td>+</td>\n",
       "      <td>ENST00000713921.1</td>\n",
       "      <td>55</td>\n",
       "    </tr>\n",
       "    <tr>\n",
       "      <th rowspan=\"2\" valign=\"top\">ENST00000713922.1</th>\n",
       "      <th>0</th>\n",
       "      <td>649327</td>\n",
       "      <td>chr16</td>\n",
       "      <td>1314756</td>\n",
       "      <td>1314858</td>\n",
       "      <td>ENST00000713922.1_cds_0_0_chr16_1314757_f</td>\n",
       "      <td>.</td>\n",
       "      <td>+</td>\n",
       "      <td>ENST00000713922.1</td>\n",
       "      <td>102</td>\n",
       "    </tr>\n",
       "    <tr>\n",
       "      <th>1</th>\n",
       "      <td>649326</td>\n",
       "      <td>chr16</td>\n",
       "      <td>1314321</td>\n",
       "      <td>1314376</td>\n",
       "      <td>ENST00000713922.1_cds_0_0_chr16_1314293_f</td>\n",
       "      <td>.</td>\n",
       "      <td>+</td>\n",
       "      <td>ENST00000713922.1</td>\n",
       "      <td>55</td>\n",
       "    </tr>\n",
       "  </tbody>\n",
       "</table>\n",
       "<p>213979 rows × 9 columns</p>\n",
       "</div>"
      ],
      "text/plain": [
       "                       index  chrom      start        end  \\\n",
       "transcript_name                                             \n",
       "ENST00000000233.10 0  358020   chr7  127591212  127591296   \n",
       "                   1  358019   chr7  127591033  127591088   \n",
       "ENST00000000412.8  0  528168  chr12    8941820    8941940   \n",
       "                   1  528167  chr12    8942415    8942470   \n",
       "ENST00000000442.11 0  493539  chr11   64315706   64315963   \n",
       "...                      ...    ...        ...        ...   \n",
       "ENST00000713920.1  1  649116  chr16    1320462    1320517   \n",
       "ENST00000713921.1  0  649156  chr16    1324729    1324790   \n",
       "                   1  649155  chr16    1320462    1320517   \n",
       "ENST00000713922.1  0  649327  chr16    1314756    1314858   \n",
       "                   1  649326  chr16    1314321    1314376   \n",
       "\n",
       "                                                           cds_id score  \\\n",
       "transcript_name                                                           \n",
       "ENST00000000233.10 0  ENST00000000233.10_cds_0_0_chr7_127591213_f     .   \n",
       "                   1  ENST00000000233.10_cds_0_0_chr7_127590963_f     .   \n",
       "ENST00000000412.8  0    ENST00000000412.8_cds_0_0_chr12_8941821_r     .   \n",
       "                   1    ENST00000000412.8_cds_0_0_chr12_8942416_r     .   \n",
       "ENST00000000442.11 0  ENST00000000442.11_cds_0_0_chr11_64315707_f     .   \n",
       "...                                                           ...   ...   \n",
       "ENST00000713920.1  1    ENST00000713920.1_cds_0_0_chr16_1320438_f     .   \n",
       "ENST00000713921.1  0    ENST00000713921.1_cds_0_0_chr16_1324730_f     .   \n",
       "                   1    ENST00000713921.1_cds_0_0_chr16_1320438_f     .   \n",
       "ENST00000713922.1  0    ENST00000713922.1_cds_0_0_chr16_1314757_f     .   \n",
       "                   1    ENST00000713922.1_cds_0_0_chr16_1314293_f     .   \n",
       "\n",
       "                     strand     transcript_name cds_size  \n",
       "transcript_name                                           \n",
       "ENST00000000233.10 0      +  ENST00000000233.10       84  \n",
       "                   1      +  ENST00000000233.10       55  \n",
       "ENST00000000412.8  0      -   ENST00000000412.8      120  \n",
       "                   1      -   ENST00000000412.8       55  \n",
       "ENST00000000442.11 0      +  ENST00000000442.11      257  \n",
       "...                     ...                 ...      ...  \n",
       "ENST00000713920.1  1      +   ENST00000713920.1       55  \n",
       "ENST00000713921.1  0      +   ENST00000713921.1       61  \n",
       "                   1      +   ENST00000713921.1       55  \n",
       "ENST00000713922.1  0      +   ENST00000713922.1      102  \n",
       "                   1      +   ENST00000713922.1       55  \n",
       "\n",
       "[213979 rows x 9 columns]"
      ]
     },
     "execution_count": 69,
     "metadata": {},
     "output_type": "execute_result"
    }
   ],
   "source": [
    "nmd_bed_df"
   ]
  },
  {
   "cell_type": "markdown",
   "id": "4894489f-dce4-4e24-97c4-4ff592f91948",
   "metadata": {},
   "source": [
    "### Add NMD info to dataframe"
   ]
  },
  {
   "cell_type": "code",
   "execution_count": 70,
   "id": "92255897-eb79-4b0c-97b6-5d85ee307c57",
   "metadata": {},
   "outputs": [],
   "source": [
    "nmd_bed_df = nmd_bed_df.rename(columns={'transcript_name': 'transcript'})\n",
    "nmd_bed_df = nmd_bed_df.reset_index()\n",
    "nmd_bed_df = nmd_bed_df.drop('transcript_name', axis=1)\n",
    "nmd_bed_df = nmd_bed_df.drop('level_1', axis=1)\n",
    "nmd_bed_df = nmd_bed_df.drop('index', axis=1)"
   ]
  },
  {
   "cell_type": "code",
   "execution_count": 71,
   "id": "9d8d03e7-0ce3-47ba-95e7-38aa8918fd76",
   "metadata": {},
   "outputs": [
    {
     "data": {
      "text/html": [
       "<div>\n",
       "<style scoped>\n",
       "    .dataframe tbody tr th:only-of-type {\n",
       "        vertical-align: middle;\n",
       "    }\n",
       "\n",
       "    .dataframe tbody tr th {\n",
       "        vertical-align: top;\n",
       "    }\n",
       "\n",
       "    .dataframe thead th {\n",
       "        text-align: right;\n",
       "    }\n",
       "</style>\n",
       "<table border=\"1\" class=\"dataframe\">\n",
       "  <thead>\n",
       "    <tr style=\"text-align: right;\">\n",
       "      <th></th>\n",
       "      <th>chrom</th>\n",
       "      <th>start</th>\n",
       "      <th>end</th>\n",
       "      <th>cds_id</th>\n",
       "      <th>score</th>\n",
       "      <th>strand</th>\n",
       "      <th>transcript</th>\n",
       "      <th>cds_size</th>\n",
       "    </tr>\n",
       "  </thead>\n",
       "  <tbody>\n",
       "    <tr>\n",
       "      <th>0</th>\n",
       "      <td>chr7</td>\n",
       "      <td>127591212</td>\n",
       "      <td>127591296</td>\n",
       "      <td>ENST00000000233.10_cds_0_0_chr7_127591213_f</td>\n",
       "      <td>.</td>\n",
       "      <td>+</td>\n",
       "      <td>ENST00000000233.10</td>\n",
       "      <td>84</td>\n",
       "    </tr>\n",
       "    <tr>\n",
       "      <th>1</th>\n",
       "      <td>chr7</td>\n",
       "      <td>127591033</td>\n",
       "      <td>127591088</td>\n",
       "      <td>ENST00000000233.10_cds_0_0_chr7_127590963_f</td>\n",
       "      <td>.</td>\n",
       "      <td>+</td>\n",
       "      <td>ENST00000000233.10</td>\n",
       "      <td>55</td>\n",
       "    </tr>\n",
       "    <tr>\n",
       "      <th>2</th>\n",
       "      <td>chr12</td>\n",
       "      <td>8941820</td>\n",
       "      <td>8941940</td>\n",
       "      <td>ENST00000000412.8_cds_0_0_chr12_8941821_r</td>\n",
       "      <td>.</td>\n",
       "      <td>-</td>\n",
       "      <td>ENST00000000412.8</td>\n",
       "      <td>120</td>\n",
       "    </tr>\n",
       "    <tr>\n",
       "      <th>3</th>\n",
       "      <td>chr12</td>\n",
       "      <td>8942415</td>\n",
       "      <td>8942470</td>\n",
       "      <td>ENST00000000412.8_cds_0_0_chr12_8942416_r</td>\n",
       "      <td>.</td>\n",
       "      <td>-</td>\n",
       "      <td>ENST00000000412.8</td>\n",
       "      <td>55</td>\n",
       "    </tr>\n",
       "    <tr>\n",
       "      <th>4</th>\n",
       "      <td>chr11</td>\n",
       "      <td>64315706</td>\n",
       "      <td>64315963</td>\n",
       "      <td>ENST00000000442.11_cds_0_0_chr11_64315707_f</td>\n",
       "      <td>.</td>\n",
       "      <td>+</td>\n",
       "      <td>ENST00000000442.11</td>\n",
       "      <td>257</td>\n",
       "    </tr>\n",
       "    <tr>\n",
       "      <th>...</th>\n",
       "      <td>...</td>\n",
       "      <td>...</td>\n",
       "      <td>...</td>\n",
       "      <td>...</td>\n",
       "      <td>...</td>\n",
       "      <td>...</td>\n",
       "      <td>...</td>\n",
       "      <td>...</td>\n",
       "    </tr>\n",
       "    <tr>\n",
       "      <th>213974</th>\n",
       "      <td>chr16</td>\n",
       "      <td>1320462</td>\n",
       "      <td>1320517</td>\n",
       "      <td>ENST00000713920.1_cds_0_0_chr16_1320438_f</td>\n",
       "      <td>.</td>\n",
       "      <td>+</td>\n",
       "      <td>ENST00000713920.1</td>\n",
       "      <td>55</td>\n",
       "    </tr>\n",
       "    <tr>\n",
       "      <th>213975</th>\n",
       "      <td>chr16</td>\n",
       "      <td>1324729</td>\n",
       "      <td>1324790</td>\n",
       "      <td>ENST00000713921.1_cds_0_0_chr16_1324730_f</td>\n",
       "      <td>.</td>\n",
       "      <td>+</td>\n",
       "      <td>ENST00000713921.1</td>\n",
       "      <td>61</td>\n",
       "    </tr>\n",
       "    <tr>\n",
       "      <th>213976</th>\n",
       "      <td>chr16</td>\n",
       "      <td>1320462</td>\n",
       "      <td>1320517</td>\n",
       "      <td>ENST00000713921.1_cds_0_0_chr16_1320438_f</td>\n",
       "      <td>.</td>\n",
       "      <td>+</td>\n",
       "      <td>ENST00000713921.1</td>\n",
       "      <td>55</td>\n",
       "    </tr>\n",
       "    <tr>\n",
       "      <th>213977</th>\n",
       "      <td>chr16</td>\n",
       "      <td>1314756</td>\n",
       "      <td>1314858</td>\n",
       "      <td>ENST00000713922.1_cds_0_0_chr16_1314757_f</td>\n",
       "      <td>.</td>\n",
       "      <td>+</td>\n",
       "      <td>ENST00000713922.1</td>\n",
       "      <td>102</td>\n",
       "    </tr>\n",
       "    <tr>\n",
       "      <th>213978</th>\n",
       "      <td>chr16</td>\n",
       "      <td>1314321</td>\n",
       "      <td>1314376</td>\n",
       "      <td>ENST00000713922.1_cds_0_0_chr16_1314293_f</td>\n",
       "      <td>.</td>\n",
       "      <td>+</td>\n",
       "      <td>ENST00000713922.1</td>\n",
       "      <td>55</td>\n",
       "    </tr>\n",
       "  </tbody>\n",
       "</table>\n",
       "<p>213979 rows × 8 columns</p>\n",
       "</div>"
      ],
      "text/plain": [
       "        chrom      start        end  \\\n",
       "0        chr7  127591212  127591296   \n",
       "1        chr7  127591033  127591088   \n",
       "2       chr12    8941820    8941940   \n",
       "3       chr12    8942415    8942470   \n",
       "4       chr11   64315706   64315963   \n",
       "...       ...        ...        ...   \n",
       "213974  chr16    1320462    1320517   \n",
       "213975  chr16    1324729    1324790   \n",
       "213976  chr16    1320462    1320517   \n",
       "213977  chr16    1314756    1314858   \n",
       "213978  chr16    1314321    1314376   \n",
       "\n",
       "                                             cds_id score strand  \\\n",
       "0       ENST00000000233.10_cds_0_0_chr7_127591213_f     .      +   \n",
       "1       ENST00000000233.10_cds_0_0_chr7_127590963_f     .      +   \n",
       "2         ENST00000000412.8_cds_0_0_chr12_8941821_r     .      -   \n",
       "3         ENST00000000412.8_cds_0_0_chr12_8942416_r     .      -   \n",
       "4       ENST00000000442.11_cds_0_0_chr11_64315707_f     .      +   \n",
       "...                                             ...   ...    ...   \n",
       "213974    ENST00000713920.1_cds_0_0_chr16_1320438_f     .      +   \n",
       "213975    ENST00000713921.1_cds_0_0_chr16_1324730_f     .      +   \n",
       "213976    ENST00000713921.1_cds_0_0_chr16_1320438_f     .      +   \n",
       "213977    ENST00000713922.1_cds_0_0_chr16_1314757_f     .      +   \n",
       "213978    ENST00000713922.1_cds_0_0_chr16_1314293_f     .      +   \n",
       "\n",
       "                transcript cds_size  \n",
       "0       ENST00000000233.10       84  \n",
       "1       ENST00000000233.10       55  \n",
       "2        ENST00000000412.8      120  \n",
       "3        ENST00000000412.8       55  \n",
       "4       ENST00000000442.11      257  \n",
       "...                    ...      ...  \n",
       "213974   ENST00000713920.1       55  \n",
       "213975   ENST00000713921.1       61  \n",
       "213976   ENST00000713921.1       55  \n",
       "213977   ENST00000713922.1      102  \n",
       "213978   ENST00000713922.1       55  \n",
       "\n",
       "[213979 rows x 8 columns]"
      ]
     },
     "execution_count": 71,
     "metadata": {},
     "output_type": "execute_result"
    }
   ],
   "source": [
    "nmd_bed_df"
   ]
  },
  {
   "cell_type": "markdown",
   "id": "332f4360-23ef-4625-9c29-01c49040ac14",
   "metadata": {},
   "source": [
    "Search for a match by transcript. When found, check if the position falls within the boundaries."
   ]
  },
  {
   "cell_type": "code",
   "execution_count": 72,
   "id": "2c744883-03df-4acf-afbf-89fdd061b8b0",
   "metadata": {},
   "outputs": [
    {
     "name": "stdout",
     "output_type": "stream",
     "text": [
      "CPU times: user 4min 42s, sys: 652 ms, total: 4min 43s\n",
      "Wall time: 4min 44s\n"
     ]
    }
   ],
   "source": [
    "%%time\n",
    "\n",
    "mask_transcript = lof_final_df['Canonical_transcript'].isin(nmd_bed_df['transcript'].str.split('.').str[0])\n",
    "lof_final_df.loc[~mask_transcript, 'NMD_escape'] = 'NO_TRANSCRIPT'\n",
    "\n",
    "for index, row in nmd_bed_df.iterrows():\n",
    "    transcript_split = row['transcript'].split('.')[0]\n",
    "    \n",
    "    mask_all = (lof_final_df['Canonical_transcript'] == transcript_split) & \\\n",
    "             (lof_final_df['POS'] >= row['start']) & \\\n",
    "             (lof_final_df['POS'] <= row['end'])\n",
    "    \n",
    "    lof_final_df.loc[mask_all, 'NMD_escape'] = 'YES'\n",
    "\n",
    "\n",
    "lof_final_df.loc[(lof_final_df['NMD_escape'] != 'YES') & (lof_final_df['NMD_escape'] != 'NO_TRANSCRIPT'), 'NMD_escape'] = 'NO'"
   ]
  },
  {
   "cell_type": "code",
   "execution_count": 73,
   "id": "6ceb4ad6-7603-4d29-8e43-12fab469da84",
   "metadata": {},
   "outputs": [
    {
     "data": {
      "text/plain": [
       "NMD_escape\n",
       "NO               13879\n",
       "YES               2436\n",
       "NO_TRANSCRIPT        2\n",
       "Name: count, dtype: int64"
      ]
     },
     "execution_count": 73,
     "metadata": {},
     "output_type": "execute_result"
    }
   ],
   "source": [
    "lof_final_df['NMD_escape'].value_counts()"
   ]
  },
  {
   "cell_type": "code",
   "execution_count": 74,
   "id": "d928a3f9-e451-477b-8ac8-c8406d8185dd",
   "metadata": {},
   "outputs": [
    {
     "data": {
      "image/png": "[encoded data removed]",
      "text/plain": [
       "<Figure size 500x500 with 1 Axes>"
      ]
     },
     "metadata": {},
     "output_type": "display_data"
    }
   ],
   "source": [
    "nmd_counts = lof_final_df['NMD_escape'].value_counts()\n",
    "\n",
    "plt.figure(figsize=(5, 5))\n",
    "plt.pie(nmd_counts, \n",
    "        labels=nmd_counts.index, \n",
    "        autopct='%1.1f%%', \n",
    "        startangle=140,\n",
    "        colors=sns.color_palette(\"Spectral\")) \n",
    "plt.axis('equal')\n",
    "plt.show()\n"
   ]
  },
  {
   "cell_type": "code",
   "execution_count": 80,
   "id": "a64a68a3-fe82-4bf9-bd49-3373e82fdfb0",
   "metadata": {},
   "outputs": [],
   "source": [
    "lof_final_df.to_csv('data/lof_final_df.csv', index=False)"
   ]
  },
  {
   "cell_type": "markdown",
   "id": "d92c590d-819f-44f2-88a4-d052dc8f8e86",
   "metadata": {},
   "source": [
    "### Divide into NMD(+) and NMD(-) dataframes"
   ]
  },
  {
   "cell_type": "code",
   "execution_count": 104,
   "id": "76313e1d-9364-432f-b6c4-b632da5bff7c",
   "metadata": {},
   "outputs": [],
   "source": [
    "nmd_escape_df = lof_final_df[lof_final_df['NMD_escape'] == 'YES']\n",
    "nmd_undergo_df = lof_final_df[lof_final_df['NMD_escape'] == 'NO']"
   ]
  },
  {
   "cell_type": "code",
   "execution_count": 105,
   "id": "04aa5402-a84e-44bc-a80f-b54f738fc963",
   "metadata": {},
   "outputs": [
    {
     "data": {
      "text/plain": [
       "(2436, 17)"
      ]
     },
     "execution_count": 105,
     "metadata": {},
     "output_type": "execute_result"
    }
   ],
   "source": [
    "nmd_escape_df.shape  # NMD(-)"
   ]
  },
  {
   "cell_type": "code",
   "execution_count": 106,
   "id": "ecbbfbec-4504-448c-b808-18955c275d72",
   "metadata": {},
   "outputs": [
    {
     "data": {
      "text/plain": [
       "(13879, 17)"
      ]
     },
     "execution_count": 106,
     "metadata": {},
     "output_type": "execute_result"
    }
   ],
   "source": [
    "nmd_undergo_df.shape  # NMD(+)"
   ]
  },
  {
   "cell_type": "code",
   "execution_count": 107,
   "id": "8c2322f5-90de-497d-813c-cb6dfba12dec",
   "metadata": {},
   "outputs": [],
   "source": [
    "nmd_escape_df.to_csv('data/nmd_escape_df.csv', index=False)\n",
    "nmd_undergo_df.to_csv('data/nmd_undergo_df.csv', index=False)"
   ]
  },
  {
   "cell_type": "markdown",
   "id": "d9bc8c44-c3bc-4a29-8f34-918895300fb8",
   "metadata": {},
   "source": [
    "  "
   ]
  },
  {
   "cell_type": "markdown",
   "id": "72f28185-7264-493b-894a-40409faee764",
   "metadata": {},
   "source": [
    "## 2. Clinvar dataframe processing"
   ]
  },
  {
   "cell_type": "code",
   "execution_count": 85,
   "id": "9fb3727c-31a6-4629-86de-d3c8ce566c24",
   "metadata": {},
   "outputs": [],
   "source": [
    "clinvar_df = pd.read_table('data_dir/clinvar/clinvar_20240331_anno.vcf.tsv')"
   ]
  },
  {
   "cell_type": "code",
   "execution_count": 86,
   "id": "20f53a5d-7083-4a70-aed5-9ed5ca951f91",
   "metadata": {},
   "outputs": [
    {
     "data": {
      "text/html": [
       "<div>\n",
       "<style scoped>\n",
       "    .dataframe tbody tr th:only-of-type {\n",
       "        vertical-align: middle;\n",
       "    }\n",
       "\n",
       "    .dataframe tbody tr th {\n",
       "        vertical-align: top;\n",
       "    }\n",
       "\n",
       "    .dataframe thead th {\n",
       "        text-align: right;\n",
       "    }\n",
       "</style>\n",
       "<table border=\"1\" class=\"dataframe\">\n",
       "  <thead>\n",
       "    <tr style=\"text-align: right;\">\n",
       "      <th></th>\n",
       "      <th>CHROM</th>\n",
       "      <th>POS</th>\n",
       "      <th>ID</th>\n",
       "      <th>REF</th>\n",
       "      <th>ALT</th>\n",
       "      <th>CLNSIG</th>\n",
       "      <th>CLNVC</th>\n",
       "      <th>GENEINFO</th>\n",
       "      <th>MC</th>\n",
       "      <th>Consequence</th>\n",
       "      <th>SYMBOL</th>\n",
       "      <th>Gene</th>\n",
       "      <th>Feature_type</th>\n",
       "      <th>Feature</th>\n",
       "      <th>BIOTYPE</th>\n",
       "      <th>cDNA_position</th>\n",
       "      <th>CANONICAL</th>\n",
       "    </tr>\n",
       "  </thead>\n",
       "  <tbody>\n",
       "    <tr>\n",
       "      <th>0</th>\n",
       "      <td>chr1</td>\n",
       "      <td>69134</td>\n",
       "      <td>2205837</td>\n",
       "      <td>A</td>\n",
       "      <td>G</td>\n",
       "      <td>Likely_benign</td>\n",
       "      <td>single_nucleotide_variant</td>\n",
       "      <td>OR4F5:79501</td>\n",
       "      <td>SO:0001583|missense_variant</td>\n",
       "      <td>missense_variant</td>\n",
       "      <td>OR4F5</td>\n",
       "      <td>ENSG00000186092</td>\n",
       "      <td>Transcript</td>\n",
       "      <td>ENST00000641515</td>\n",
       "      <td>protein_coding</td>\n",
       "      <td>167</td>\n",
       "      <td>YES</td>\n",
       "    </tr>\n",
       "    <tr>\n",
       "      <th>1</th>\n",
       "      <td>chr1</td>\n",
       "      <td>69581</td>\n",
       "      <td>2252161</td>\n",
       "      <td>C</td>\n",
       "      <td>G</td>\n",
       "      <td>Uncertain_significance</td>\n",
       "      <td>single_nucleotide_variant</td>\n",
       "      <td>OR4F5:79501</td>\n",
       "      <td>SO:0001583|missense_variant</td>\n",
       "      <td>missense_variant</td>\n",
       "      <td>OR4F5</td>\n",
       "      <td>ENSG00000186092</td>\n",
       "      <td>Transcript</td>\n",
       "      <td>ENST00000641515</td>\n",
       "      <td>protein_coding</td>\n",
       "      <td>614</td>\n",
       "      <td>YES</td>\n",
       "    </tr>\n",
       "    <tr>\n",
       "      <th>2</th>\n",
       "      <td>chr1</td>\n",
       "      <td>69682</td>\n",
       "      <td>2396347</td>\n",
       "      <td>G</td>\n",
       "      <td>A</td>\n",
       "      <td>Uncertain_significance</td>\n",
       "      <td>single_nucleotide_variant</td>\n",
       "      <td>OR4F5:79501</td>\n",
       "      <td>SO:0001583|missense_variant</td>\n",
       "      <td>missense_variant</td>\n",
       "      <td>OR4F5</td>\n",
       "      <td>ENSG00000186092</td>\n",
       "      <td>Transcript</td>\n",
       "      <td>ENST00000641515</td>\n",
       "      <td>protein_coding</td>\n",
       "      <td>715</td>\n",
       "      <td>YES</td>\n",
       "    </tr>\n",
       "    <tr>\n",
       "      <th>3</th>\n",
       "      <td>chr1</td>\n",
       "      <td>69769</td>\n",
       "      <td>2288999</td>\n",
       "      <td>T</td>\n",
       "      <td>C</td>\n",
       "      <td>Uncertain_significance</td>\n",
       "      <td>single_nucleotide_variant</td>\n",
       "      <td>OR4F5:79501</td>\n",
       "      <td>SO:0001583|missense_variant</td>\n",
       "      <td>missense_variant</td>\n",
       "      <td>OR4F5</td>\n",
       "      <td>ENSG00000186092</td>\n",
       "      <td>Transcript</td>\n",
       "      <td>ENST00000641515</td>\n",
       "      <td>protein_coding</td>\n",
       "      <td>802</td>\n",
       "      <td>YES</td>\n",
       "    </tr>\n",
       "    <tr>\n",
       "      <th>4</th>\n",
       "      <td>chr1</td>\n",
       "      <td>69995</td>\n",
       "      <td>2351346</td>\n",
       "      <td>G</td>\n",
       "      <td>C</td>\n",
       "      <td>Uncertain_significance</td>\n",
       "      <td>single_nucleotide_variant</td>\n",
       "      <td>OR4F5:79501</td>\n",
       "      <td>SO:0001583|missense_variant</td>\n",
       "      <td>missense_variant</td>\n",
       "      <td>OR4F5</td>\n",
       "      <td>ENSG00000186092</td>\n",
       "      <td>Transcript</td>\n",
       "      <td>ENST00000641515</td>\n",
       "      <td>protein_coding</td>\n",
       "      <td>1028</td>\n",
       "      <td>YES</td>\n",
       "    </tr>\n",
       "    <tr>\n",
       "      <th>...</th>\n",
       "      <td>...</td>\n",
       "      <td>...</td>\n",
       "      <td>...</td>\n",
       "      <td>...</td>\n",
       "      <td>...</td>\n",
       "      <td>...</td>\n",
       "      <td>...</td>\n",
       "      <td>...</td>\n",
       "      <td>...</td>\n",
       "      <td>...</td>\n",
       "      <td>...</td>\n",
       "      <td>...</td>\n",
       "      <td>...</td>\n",
       "      <td>...</td>\n",
       "      <td>...</td>\n",
       "      <td>...</td>\n",
       "      <td>...</td>\n",
       "    </tr>\n",
       "    <tr>\n",
       "      <th>34840143</th>\n",
       "      <td>chrNT_187693.1</td>\n",
       "      <td>273806</td>\n",
       "      <td>2219599</td>\n",
       "      <td>G</td>\n",
       "      <td>A</td>\n",
       "      <td>Likely_benign</td>\n",
       "      <td>single_nucleotide_variant</td>\n",
       "      <td>LILRA3:11026</td>\n",
       "      <td>SO:0001583|missense_variant</td>\n",
       "      <td>intergenic_variant</td>\n",
       "      <td>NaN</td>\n",
       "      <td>NaN</td>\n",
       "      <td>NaN</td>\n",
       "      <td>NaN</td>\n",
       "      <td>NaN</td>\n",
       "      <td>NaN</td>\n",
       "      <td>NaN</td>\n",
       "    </tr>\n",
       "    <tr>\n",
       "      <th>34840144</th>\n",
       "      <td>chrNT_187693.1</td>\n",
       "      <td>273866</td>\n",
       "      <td>2237818</td>\n",
       "      <td>A</td>\n",
       "      <td>C</td>\n",
       "      <td>Uncertain_significance</td>\n",
       "      <td>single_nucleotide_variant</td>\n",
       "      <td>LILRA3:11026</td>\n",
       "      <td>SO:0001583|missense_variant</td>\n",
       "      <td>intergenic_variant</td>\n",
       "      <td>NaN</td>\n",
       "      <td>NaN</td>\n",
       "      <td>NaN</td>\n",
       "      <td>NaN</td>\n",
       "      <td>NaN</td>\n",
       "      <td>NaN</td>\n",
       "      <td>NaN</td>\n",
       "    </tr>\n",
       "    <tr>\n",
       "      <th>34840145</th>\n",
       "      <td>chrNT_187693.1</td>\n",
       "      <td>274366</td>\n",
       "      <td>2206666</td>\n",
       "      <td>G</td>\n",
       "      <td>C</td>\n",
       "      <td>Uncertain_significance</td>\n",
       "      <td>single_nucleotide_variant</td>\n",
       "      <td>LILRA3:11026</td>\n",
       "      <td>SO:0001583|missense_variant</td>\n",
       "      <td>intergenic_variant</td>\n",
       "      <td>NaN</td>\n",
       "      <td>NaN</td>\n",
       "      <td>NaN</td>\n",
       "      <td>NaN</td>\n",
       "      <td>NaN</td>\n",
       "      <td>NaN</td>\n",
       "      <td>NaN</td>\n",
       "    </tr>\n",
       "    <tr>\n",
       "      <th>34840146</th>\n",
       "      <td>chrNT_187693.1</td>\n",
       "      <td>275068</td>\n",
       "      <td>2241971</td>\n",
       "      <td>T</td>\n",
       "      <td>C</td>\n",
       "      <td>Uncertain_significance</td>\n",
       "      <td>single_nucleotide_variant</td>\n",
       "      <td>LILRA3:11026|LOC126057115:126057115</td>\n",
       "      <td>SO:0001583|missense_variant</td>\n",
       "      <td>intergenic_variant</td>\n",
       "      <td>NaN</td>\n",
       "      <td>NaN</td>\n",
       "      <td>NaN</td>\n",
       "      <td>NaN</td>\n",
       "      <td>NaN</td>\n",
       "      <td>NaN</td>\n",
       "      <td>NaN</td>\n",
       "    </tr>\n",
       "    <tr>\n",
       "      <th>34840147</th>\n",
       "      <td>chrNW_009646201.1</td>\n",
       "      <td>83614</td>\n",
       "      <td>17735</td>\n",
       "      <td>TC</td>\n",
       "      <td>T</td>\n",
       "      <td>Benign</td>\n",
       "      <td>Deletion</td>\n",
       "      <td>ABO:28</td>\n",
       "      <td>SO:0001589|frameshift_variant</td>\n",
       "      <td>intergenic_variant</td>\n",
       "      <td>NaN</td>\n",
       "      <td>NaN</td>\n",
       "      <td>NaN</td>\n",
       "      <td>NaN</td>\n",
       "      <td>NaN</td>\n",
       "      <td>NaN</td>\n",
       "      <td>NaN</td>\n",
       "    </tr>\n",
       "  </tbody>\n",
       "</table>\n",
       "<p>34840148 rows × 17 columns</p>\n",
       "</div>"
      ],
      "text/plain": [
       "                      CHROM     POS       ID REF ALT                  CLNSIG  \\\n",
       "0                      chr1   69134  2205837   A   G           Likely_benign   \n",
       "1                      chr1   69581  2252161   C   G  Uncertain_significance   \n",
       "2                      chr1   69682  2396347   G   A  Uncertain_significance   \n",
       "3                      chr1   69769  2288999   T   C  Uncertain_significance   \n",
       "4                      chr1   69995  2351346   G   C  Uncertain_significance   \n",
       "...                     ...     ...      ...  ..  ..                     ...   \n",
       "34840143     chrNT_187693.1  273806  2219599   G   A           Likely_benign   \n",
       "34840144     chrNT_187693.1  273866  2237818   A   C  Uncertain_significance   \n",
       "34840145     chrNT_187693.1  274366  2206666   G   C  Uncertain_significance   \n",
       "34840146     chrNT_187693.1  275068  2241971   T   C  Uncertain_significance   \n",
       "34840147  chrNW_009646201.1   83614    17735  TC   T                  Benign   \n",
       "\n",
       "                              CLNVC                             GENEINFO  \\\n",
       "0         single_nucleotide_variant                          OR4F5:79501   \n",
       "1         single_nucleotide_variant                          OR4F5:79501   \n",
       "2         single_nucleotide_variant                          OR4F5:79501   \n",
       "3         single_nucleotide_variant                          OR4F5:79501   \n",
       "4         single_nucleotide_variant                          OR4F5:79501   \n",
       "...                             ...                                  ...   \n",
       "34840143  single_nucleotide_variant                         LILRA3:11026   \n",
       "34840144  single_nucleotide_variant                         LILRA3:11026   \n",
       "34840145  single_nucleotide_variant                         LILRA3:11026   \n",
       "34840146  single_nucleotide_variant  LILRA3:11026|LOC126057115:126057115   \n",
       "34840147                   Deletion                               ABO:28   \n",
       "\n",
       "                                     MC         Consequence SYMBOL  \\\n",
       "0           SO:0001583|missense_variant    missense_variant  OR4F5   \n",
       "1           SO:0001583|missense_variant    missense_variant  OR4F5   \n",
       "2           SO:0001583|missense_variant    missense_variant  OR4F5   \n",
       "3           SO:0001583|missense_variant    missense_variant  OR4F5   \n",
       "4           SO:0001583|missense_variant    missense_variant  OR4F5   \n",
       "...                                 ...                 ...    ...   \n",
       "34840143    SO:0001583|missense_variant  intergenic_variant    NaN   \n",
       "34840144    SO:0001583|missense_variant  intergenic_variant    NaN   \n",
       "34840145    SO:0001583|missense_variant  intergenic_variant    NaN   \n",
       "34840146    SO:0001583|missense_variant  intergenic_variant    NaN   \n",
       "34840147  SO:0001589|frameshift_variant  intergenic_variant    NaN   \n",
       "\n",
       "                     Gene Feature_type          Feature         BIOTYPE  \\\n",
       "0         ENSG00000186092   Transcript  ENST00000641515  protein_coding   \n",
       "1         ENSG00000186092   Transcript  ENST00000641515  protein_coding   \n",
       "2         ENSG00000186092   Transcript  ENST00000641515  protein_coding   \n",
       "3         ENSG00000186092   Transcript  ENST00000641515  protein_coding   \n",
       "4         ENSG00000186092   Transcript  ENST00000641515  protein_coding   \n",
       "...                   ...          ...              ...             ...   \n",
       "34840143              NaN          NaN              NaN             NaN   \n",
       "34840144              NaN          NaN              NaN             NaN   \n",
       "34840145              NaN          NaN              NaN             NaN   \n",
       "34840146              NaN          NaN              NaN             NaN   \n",
       "34840147              NaN          NaN              NaN             NaN   \n",
       "\n",
       "         cDNA_position CANONICAL  \n",
       "0                  167       YES  \n",
       "1                  614       YES  \n",
       "2                  715       YES  \n",
       "3                  802       YES  \n",
       "4                 1028       YES  \n",
       "...                ...       ...  \n",
       "34840143           NaN       NaN  \n",
       "34840144           NaN       NaN  \n",
       "34840145           NaN       NaN  \n",
       "34840146           NaN       NaN  \n",
       "34840147           NaN       NaN  \n",
       "\n",
       "[34840148 rows x 17 columns]"
      ]
     },
     "execution_count": 86,
     "metadata": {},
     "output_type": "execute_result"
    }
   ],
   "source": [
    "clinvar_df"
   ]
  },
  {
   "cell_type": "markdown",
   "id": "847f765d-68ef-4ea1-aaf5-9290367d8b80",
   "metadata": {},
   "source": [
    "Add the LOEUF score info and select only conditionally highly conservative options."
   ]
  },
  {
   "cell_type": "code",
   "execution_count": 87,
   "id": "f086299b-932b-429e-b35a-c327c1558fe2",
   "metadata": {},
   "outputs": [],
   "source": [
    "clinvar_df.loc[:, 'LOEUF'] = clinvar_df['Feature'].map(loeuf_by_transcript_dict)"
   ]
  },
  {
   "cell_type": "code",
   "execution_count": 88,
   "id": "b593b2dc-390c-4a2d-a867-593db1390b56",
   "metadata": {},
   "outputs": [],
   "source": [
    "clinvar_df = clinvar_df.query('LOEUF < 0.35')"
   ]
  },
  {
   "cell_type": "markdown",
   "id": "abe39793-90b6-4c5f-8974-bf12b75b4250",
   "metadata": {},
   "source": [
    "Add the pext score info and select only conditionally highly conservative options."
   ]
  },
  {
   "cell_type": "code",
   "execution_count": 89,
   "id": "71744c77-277f-4785-93be-301e3f07ca0a",
   "metadata": {},
   "outputs": [
    {
     "name": "stderr",
     "output_type": "stream",
     "text": [
      "/tmp/ipykernel_816904/3120561689.py:7: SettingWithCopyWarning: \n",
      "A value is trying to be set on a copy of a slice from a DataFrame.\n",
      "Try using .loc[row_indexer,col_indexer] = value instead\n",
      "\n",
      "See the caveats in the documentation: https://pandas.pydata.org/pandas-docs/stable/user_guide/indexing.html#returning-a-view-versus-a-copy\n",
      "  clinvar_df.loc[index, 'pext'] = None\n"
     ]
    }
   ],
   "source": [
    "for index, row in clinvar_df.iterrows():\n",
    "    key = (row['CHROM'], row['POS'], row['REF'], row['ALT'])\n",
    "    \n",
    "    if key in pext_dict:\n",
    "        clinvar_df.loc[index, 'pext'] = pext_dict[key]\n",
    "    else:\n",
    "        clinvar_df.loc[index, 'pext'] = None"
   ]
  },
  {
   "cell_type": "code",
   "execution_count": 90,
   "id": "a961cce2-194f-4ff7-a67a-9c1ac57d3822",
   "metadata": {},
   "outputs": [
    {
     "name": "stderr",
     "output_type": "stream",
     "text": [
      "/tmp/ipykernel_816904/1953676723.py:1: SettingWithCopyWarning: \n",
      "A value is trying to be set on a copy of a slice from a DataFrame.\n",
      "Try using .loc[row_indexer,col_indexer] = value instead\n",
      "\n",
      "See the caveats in the documentation: https://pandas.pydata.org/pandas-docs/stable/user_guide/indexing.html#returning-a-view-versus-a-copy\n",
      "  clinvar_df['pext'] = clinvar_df['pext'].astype(float)\n"
     ]
    }
   ],
   "source": [
    "clinvar_df['pext'] = clinvar_df['pext'].astype(float)"
   ]
  },
  {
   "cell_type": "code",
   "execution_count": 91,
   "id": "897b196d-80c7-44f8-b01c-05de578389f7",
   "metadata": {},
   "outputs": [],
   "source": [
    "clinvar_df = clinvar_df[clinvar_df['pext'] > 0.5]"
   ]
  },
  {
   "cell_type": "code",
   "execution_count": 92,
   "id": "dbc093ac-1304-40bb-bd3e-787449f279c0",
   "metadata": {},
   "outputs": [
    {
     "data": {
      "text/plain": [
       "10454"
      ]
     },
     "execution_count": 92,
     "metadata": {},
     "output_type": "execute_result"
    }
   ],
   "source": [
    "clinvar_df['pext'].notna().sum()"
   ]
  },
  {
   "cell_type": "markdown",
   "id": "ff0ec929-89d5-49ae-a08f-206c686e9dda",
   "metadata": {},
   "source": [
    "Leave only variants on the canonical transcript."
   ]
  },
  {
   "cell_type": "code",
   "execution_count": 93,
   "id": "5a53e0c0-882a-4486-89c8-026ba2841c86",
   "metadata": {},
   "outputs": [],
   "source": [
    "clinvar_df = clinvar_df[clinvar_df['CANONICAL'] == 'YES']"
   ]
  },
  {
   "cell_type": "markdown",
   "id": "4225f230-9d94-4a20-a0a1-5ba1c06d1747",
   "metadata": {},
   "source": [
    "Leave only variants on the autosomes."
   ]
  },
  {
   "cell_type": "code",
   "execution_count": 94,
   "id": "3ca6a3ed-e37b-41dd-9f6f-c22ff23314f8",
   "metadata": {},
   "outputs": [
    {
     "data": {
      "text/plain": [
       "array(['chr1', 'chr2', 'chr3', 'chr4', 'chr5', 'chr6', 'chr7', 'chr8',\n",
       "       'chr9', 'chr10', 'chr11', 'chr12', 'chr13', 'chr14', 'chr15',\n",
       "       'chr16', 'chr17', 'chr18', 'chr19', 'chr20', 'chr21', 'chr22'],\n",
       "      dtype=object)"
      ]
     },
     "execution_count": 94,
     "metadata": {},
     "output_type": "execute_result"
    }
   ],
   "source": [
    "clinvar_df['CHROM'].unique()"
   ]
  },
  {
   "cell_type": "code",
   "execution_count": 95,
   "id": "8078fa24-9103-4423-b4de-e54b04d26a8c",
   "metadata": {},
   "outputs": [],
   "source": [
    "clinvar_df = clinvar_df[~clinvar_df['CHROM'].isin(['chrMT', 'chrX', 'chrY', 'chrNT_113889.1'])]"
   ]
  },
  {
   "cell_type": "markdown",
   "id": "43ee5b60-ad59-4373-a4d0-d2d34a1293a0",
   "metadata": {},
   "source": [
    "Remove lines that do not contain information about the transcript or cDNA position."
   ]
  },
  {
   "cell_type": "code",
   "execution_count": 96,
   "id": "e5469cb1-50e5-48be-9b2c-b304c6dc8c39",
   "metadata": {},
   "outputs": [],
   "source": [
    "clinvar_df = clinvar_df.dropna(subset=['cDNA_position', 'Feature'])"
   ]
  },
  {
   "cell_type": "markdown",
   "id": "290c8784-7fdc-4a1c-916c-5caa6616cde5",
   "metadata": {},
   "source": [
    "Leave only single-nucleotide variants."
   ]
  },
  {
   "cell_type": "code",
   "execution_count": 97,
   "id": "355b9a29-40ed-4afe-86e7-7d0b9a2612a3",
   "metadata": {},
   "outputs": [],
   "source": [
    "clinvar_df = clinvar_df[~clinvar_df['cDNA_position'].str.contains('-')]"
   ]
  },
  {
   "cell_type": "markdown",
   "id": "4c0fa3b5-c7e5-4c5a-9e77-9bb57a6e67a6",
   "metadata": {},
   "source": [
    "Leave only stopgains (nonsense), marked as P/LP."
   ]
  },
  {
   "cell_type": "code",
   "execution_count": 98,
   "id": "24c16118-0f73-4599-bcf9-6690f3723695",
   "metadata": {},
   "outputs": [],
   "source": [
    "clinvar_final_pat = clinvar_df[\n",
    "    clinvar_df['CLNSIG'].str.contains('pathogenic', case=False) &\n",
    "    ~clinvar_df['CLNSIG'].str.contains('pathogenicity') &\n",
    "    clinvar_df['MC'].str.contains('nonsense') &\n",
    "    clinvar_df['Consequence'].str.contains('stop_gained')\n",
    "]"
   ]
  },
  {
   "cell_type": "code",
   "execution_count": 99,
   "id": "dece05ae-2a50-4142-97f1-a01985ebf84c",
   "metadata": {},
   "outputs": [
    {
     "data": {
      "text/plain": [
       "array(['Pathogenic', 'Likely_pathogenic', 'Pathogenic/Likely_pathogenic',\n",
       "       'Pathogenic|risk_factor', 'Pathogenic|confers_sensitivity'],\n",
       "      dtype=object)"
      ]
     },
     "execution_count": 99,
     "metadata": {},
     "output_type": "execute_result"
    }
   ],
   "source": [
    "clinvar_final_pat['CLNSIG'].unique()"
   ]
  },
  {
   "cell_type": "markdown",
   "id": "9280aaff-2cb1-4b04-8674-8f576b48ee78",
   "metadata": {},
   "source": [
    "Add NMD(+) or NMD(-) status and split dataframes."
   ]
  },
  {
   "cell_type": "code",
   "execution_count": 100,
   "id": "ac67699c-05cf-4635-a413-891502609f64",
   "metadata": {},
   "outputs": [
    {
     "name": "stderr",
     "output_type": "stream",
     "text": [
      "/tmp/ipykernel_816904/84413560.py:2: SettingWithCopyWarning: \n",
      "A value is trying to be set on a copy of a slice from a DataFrame.\n",
      "Try using .loc[row_indexer,col_indexer] = value instead\n",
      "\n",
      "See the caveats in the documentation: https://pandas.pydata.org/pandas-docs/stable/user_guide/indexing.html#returning-a-view-versus-a-copy\n",
      "  clinvar_final_pat.loc[~mask_transcript, 'NMD_escape'] = 'NO_TRANSCRIPT'\n"
     ]
    }
   ],
   "source": [
    "mask_transcript = clinvar_final_pat['Feature'].isin(nmd_bed_df['transcript'].str.split('.').str[0])\n",
    "clinvar_final_pat.loc[~mask_transcript, 'NMD_escape'] = 'NO_TRANSCRIPT'\n",
    "\n",
    "for index, row in nmd_bed_df.iterrows():\n",
    "    transcript_split = row['transcript'].split('.')[0]\n",
    "    \n",
    "    mask_all = (clinvar_final_pat['Feature'] == transcript_split) & \\\n",
    "             (clinvar_final_pat['POS'] >= row['start']) & \\\n",
    "             (clinvar_final_pat['POS'] <= row['end'])\n",
    "    \n",
    "    clinvar_final_pat.loc[mask_all, 'NMD_escape'] = 'YES'\n",
    "\n",
    "\n",
    "clinvar_final_pat.loc[(clinvar_final_pat['NMD_escape'] != 'YES') & (clinvar_final_pat['NMD_escape'] != 'NO_TRANSCRIPT'), 'NMD_escape'] = 'NO'"
   ]
  },
  {
   "cell_type": "code",
   "execution_count": 101,
   "id": "23572909-3ead-4ec9-be21-60ad6611b598",
   "metadata": {},
   "outputs": [
    {
     "data": {
      "image/png": "[encoded data removed]",
      "text/plain": [
       "<Figure size 500x500 with 1 Axes>"
      ]
     },
     "metadata": {},
     "output_type": "display_data"
    }
   ],
   "source": [
    "clinvar_nmd_counts = clinvar_final_pat['NMD_escape'].value_counts()\n",
    "\n",
    "plt.figure(figsize=(5, 5))\n",
    "plt.pie(clinvar_nmd_counts, \n",
    "        labels=clinvar_nmd_counts.index, \n",
    "        autopct='%1.1f%%', \n",
    "        startangle=140,\n",
    "        colors=sns.color_palette(\"Spectral\")) \n",
    "plt.axis('equal')\n",
    "plt.show()\n"
   ]
  },
  {
   "cell_type": "code",
   "execution_count": 110,
   "id": "5c001963-0997-432f-8979-0aeb2701eba8",
   "metadata": {},
   "outputs": [],
   "source": [
    "clinvar_nmd_escape_df = clinvar_final_pat[clinvar_final_pat['NMD_escape'] == 'YES']\n",
    "clinvar_nmd_undergo_df = clinvar_final_pat[clinvar_final_pat['NMD_escape'] == 'NO']"
   ]
  },
  {
   "cell_type": "code",
   "execution_count": 111,
   "id": "f9716e51-699c-4860-8a87-1824625b43bf",
   "metadata": {},
   "outputs": [],
   "source": [
    "clinvar_nmd_escape_df.to_csv('data/clinvar_nmd_escape_df.csv', index=False)\n",
    "clinvar_nmd_undergo_df.to_csv('data/clinvar_nmd_undergo_df.csv', index=False)"
   ]
  }
 ],
 "metadata": {
  "kernelspec": {
   "display_name": "bi_kernel",
   "language": "python",
   "name": "bi_kernel"
  },
  "language_info": {
   "codemirror_mode": {
    "name": "ipython",
    "version": 3
   },
   "file_extension": ".py",
   "mimetype": "text/x-python",
   "name": "python",
   "nbconvert_exporter": "python",
   "pygments_lexer": "ipython3",
   "version": "3.12.2"
  }
 },
 "nbformat": 4,
 "nbformat_minor": 5
}
