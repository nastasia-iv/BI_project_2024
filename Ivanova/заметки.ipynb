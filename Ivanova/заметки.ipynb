{
 "cells": [
  {
   "cell_type": "code",
   "execution_count": null,
   "id": "bc4a1d09-9666-4356-b02b-6d0e37912121",
   "metadata": {},
   "outputs": [],
   "source": [
    "# Подсчёт кол-ва строк с PASS в файле 18 хромосомы\n",
    "\n",
    "awk '{FS=\"\\t\"} $7 ~ \"PASS\"' data_dir/gnomad.exomes.v4.0.sites.chr18.vcf | wc -l"
   ]
  },
  {
   "cell_type": "code",
   "execution_count": null,
   "id": "ad490da7-f34b-4247-b373-b968e0ef7996",
   "metadata": {},
   "outputs": [],
   "source": [
    "# Запись инфополей в отдельный файл на будущее\n",
    "\n",
    "with open(os.path.join('data_dir', 'gnomad.exomes.v4.0.sites.chr18.vcf')) as vcf_file:\n",
    "    line = vcf_file.readline()\n",
    "    while line[0] == '#':\n",
    "        with open('info_vcf.txt', mode=\"w\") as output_info_file:\n",
    "            output_info_file.write(line)"
   ]
  },
  {
   "cell_type": "code",
   "execution_count": null,
   "id": "da2d636e-8084-4088-bdba-92d76c0f9301",
   "metadata": {},
   "outputs": [],
   "source": [
    "# Просмотр первых нужных строк файла\n",
    "\n",
    "with open('example.vcf') as vcf_file:\n",
    "    line = vcf_file.readline()\n",
    "    if not line.startswith('##'):\n",
    "        # line = vcf_file.readline()\n",
    "        print(line, end='')\n",
    "        print(vcf_file.readline(), end='')"
   ]
  }
 ],
 "metadata": {
  "kernelspec": {
   "display_name": "Python 3 (ipykernel)",
   "language": "python",
   "name": "python3"
  },
  "language_info": {
   "codemirror_mode": {
    "name": "ipython",
    "version": 3
   },
   "file_extension": ".py",
   "mimetype": "text/x-python",
   "name": "python",
   "nbconvert_exporter": "python",
   "pygments_lexer": "ipython3",
   "version": "3.8.10"
  }
 },
 "nbformat": 4,
 "nbformat_minor": 5
}
