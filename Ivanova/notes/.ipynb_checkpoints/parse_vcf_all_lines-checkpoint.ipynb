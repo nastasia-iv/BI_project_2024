{
 "cells": [
  {
   "cell_type": "code",
   "execution_count": 55,
   "id": "fc565154-10df-46fa-a441-bb2e1e42e3a9",
   "metadata": {},
   "outputs": [],
   "source": [
    "# TODO"
   ]
  },
  {
   "cell_type": "code",
   "execution_count": 1,
   "id": "3ed41d0b-9560-49c8-a5fc-2bd1dec9afc7",
   "metadata": {},
   "outputs": [],
   "source": [
    "import csv\n",
    "import gzip\n",
    "import os"
   ]
  },
  {
   "cell_type": "code",
   "execution_count": 1,
   "id": "14b8386a-ffba-489d-8654-a54d619a0a9c",
   "metadata": {
    "jupyter": {
     "source_hidden": true
    }
   },
   "outputs": [],
   "source": [
    "# headers = ['Chr', 'Position', 'rsID', 'Ref', 'Alt', 'Consequence', 'Canonical',\n",
    "#            'Gene_symbol', 'LoF', 'LoF_flag', 'LoF_filter',\n",
    "#            'AC', 'AC_afr', 'AC_amr', 'AC_nfe', 'AC_asj', 'AC_sas', 'AC_eas', 'AC_mid', 'AC_fin',\n",
    "#            'AN', 'AN_afr', 'AN_amr', 'AN_nfe', 'AN_asj', 'AN_sas', 'AN_eas', 'AN_mid', 'AN_fin',\n",
    "#            'AF', 'AF_afr', 'AF_amr', 'AF_nfe', 'AF_asj', 'AF_sas', 'AF_eas', 'AF_mid', 'AF_fin']"
   ]
  },
  {
   "cell_type": "code",
   "execution_count": 2,
   "id": "d9c9e99f-97f3-48b6-9717-925608d3ee1b",
   "metadata": {},
   "outputs": [],
   "source": [
    "vcf_columns = ['CHROM', 'POS', 'ID', 'REF', 'ALT', 'QUAL', 'FILTER', 'INFO']\n",
    "vcf_columns_mapping = dict(zip(vcf_columns, range(len(vcf_columns))))"
   ]
  },
  {
   "cell_type": "code",
   "execution_count": 3,
   "id": "69aac573-eb49-4370-a9e8-17d2d16d46b2",
   "metadata": {},
   "outputs": [],
   "source": [
    "vep_info_names = 'Allele|Consequence|IMPACT|SYMBOL|Gene|Feature_type|Feature|BIOTYPE|EXON|INTRON|HGVSc|HGVSp|cDNA_position|CDS_position|Protein_position|Amino_acids|Codons|ALLELE_NUM|DISTANCE|STRAND|FLAGS|VARIANT_CLASS|SYMBOL_SOURCE|HGNC_ID|CANONICAL|MANE_SELECT|MANE_PLUS_CLINICAL|TSL|APPRIS|CCDS|ENSP|UNIPROT_ISOFORM|SOURCE|||DOMAINS|miRNA|HGVS_OFFSET|PUBMED|MOTIF_NAME|MOTIF_POS|HIGH_INF_POS|MOTIF_SCORE_CHANGE|TRANSCRIPTION_FACTORS|LoF|LoF_filter|LoF_flags|LoF_info'.split('|')"
   ]
  },
  {
   "cell_type": "code",
   "execution_count": 4,
   "id": "11bffa59-a0e1-4bbb-a3e7-065020c57631",
   "metadata": {},
   "outputs": [],
   "source": [
    "def parse_line(line):\n",
    "    parsed_data = []\n",
    "\n",
    "    if line[vcf_columns_mapping['CHROM']].startswith('chr'):\n",
    "        if line[vcf_columns_mapping['FILTER']] == 'PASS':\n",
    "\n",
    "            chrom = line[vcf_columns_mapping['CHROM']]\n",
    "            position = line[vcf_columns_mapping['POS']]\n",
    "            rs_id = line[vcf_columns_mapping['ID']]\n",
    "            ref = line[vcf_columns_mapping['REF']]\n",
    "            alt = line[vcf_columns_mapping['ALT']]\n",
    "    \n",
    "            population_data = {\n",
    "                'AC': None, 'AC_afr': None, 'AC_amr': None, 'AC_nfe': None, 'AC_asj': None, 'AC_sas': None, 'AC_eas': None, 'AC_mid': None, 'AC_fin': None,\n",
    "                'AN': None, 'AN_afr': None, 'AN_amr': None, 'AN_nfe': None, 'AN_asj': None, 'AN_sas': None, 'AN_eas': None, 'AN_mid': None, 'AN_fin': None,\n",
    "                'AF': None, 'AF_afr': None, 'AF_amr': None, 'AF_nfe': None, 'AF_asj': None, 'AF_sas': None, 'AF_eas': None, 'AF_mid': None, 'AF_fin': None\n",
    "            }\n",
    "            \n",
    "            vep_data = {\n",
    "                'Consequence': None, 'IMPACT': None, 'SYMBOL': None, 'Feature': None, 'BIOTYPE': None, 'CANONICAL': None, \n",
    "                'SOURCE': None, 'HGVSc': None, 'HGVSp': None, 'cDNA_position': None, 'STRAND': None, 'LoF': None, 'LoF_filter': None, 'LoF_flags': None\n",
    "            }\n",
    "            \n",
    "            # Популяционные данные\n",
    "            info_index = vcf_columns_mapping['INFO']\n",
    "            column_with_info = line[info_index].split(';')\n",
    "            for element in column_with_info:\n",
    "                # содержит ли элемент (поле) информацию о популяционных частотах, указанных в словаре\n",
    "                for category in population_data:\n",
    "                    if element.startswith(f'{category}='):\n",
    "                        frequency_value = element.split('=')\n",
    "                        population_data[category] = frequency_value[-1] \n",
    "            \n",
    "            vep_info = column_with_info[-1].split(',')\n",
    "            \n",
    "            for variant_info in vep_info:\n",
    "                variant_info = element.split('|')\n",
    "                for column_name, column_index in vep_data.items():\n",
    "                    if column_name in vep_info_names:\n",
    "                        vep_info_index = vep_info_names.index(column_name)\n",
    "                        vep_data[column_name] = variant_info[vep_info_index]\n",
    "\n",
    "            \n",
    "                # Формируем строку данных для добавления в итоговый список\n",
    "                filtered_data = [\n",
    "                    chrom, position, rs_id, ref, alt, population_data['AC'],\n",
    "                    vep_data['Consequence'], vep_data['IMPACT'], vep_data['SYMBOL'], vep_data['Feature'], vep_data['BIOTYPE'],\n",
    "                    vep_data['CANONICAL'], vep_data['SOURCE'], vep_data['HGVSc'], vep_data['HGVSp'], vep_data['cDNA_position'], vep_data['STRAND'], \n",
    "                    vep_data['LoF'], vep_data['LoF_filter'], vep_data['LoF_flags']\n",
    "                ]\n",
    "                parsed_data.append(filtered_data)\n",
    "\n",
    "    return parsed_data\n"
   ]
  },
  {
   "cell_type": "code",
   "execution_count": 5,
   "id": "9ecd21e6-7e90-44bc-af46-672f50f58eae",
   "metadata": {},
   "outputs": [],
   "source": [
    "headers = ['CHROM', 'POS', 'rsID', 'REF', 'ALT', 'AC', 'Consequence', 'IMPACT', 'SYMBOL', \n",
    "           'Feature', 'BIOTYPE', 'CANONICAL', 'SOURCE', 'HGVSc', 'HGVSp', 'cDNA_position', 'STRAND', 'LoF', 'LoF_filter', 'LoF_flags']\n",
    "\n",
    "def get_parse_vcf(vcf_file, output_dir='', output_filename=''):\n",
    "\n",
    "    # Если папка не указана, сохраняем в текущую директорию\n",
    "    if output_dir == '':\n",
    "        output_dir = os.getcwd()\n",
    "    \n",
    "    # Если имя выходного файла не задано, используем имя входного файла, но с расширением .tsv\n",
    "    # Через basename получаем имя файла, а через splitext оставляем только название без расширения\n",
    "    if output_filename == '':\n",
    "        output_filename = os.path.splitext(os.path.basename(vcf_file))[0] + '.tsv'\n",
    "    else:\n",
    "        # Если не указано расширение файла (указано неверно), добавляем .tsv\n",
    "        if not output_filename.endswith('.tsv'):\n",
    "            output_filename += '.tsv'\n",
    "    \n",
    "    # Полный путь к выходному файлу\n",
    "    output_file = os.path.join(output_dir, output_filename)\n",
    "    \n",
    "    # Запись шапки таблицы в выходной файл\n",
    "    with open(output_file, 'w', newline='', encoding='utf-8') as table_file:\n",
    "        writer = csv.writer(table_file, delimiter='\\t')\n",
    "        writer.writerow(headers)\n",
    "\n",
    "    \n",
    "    with gzip.open(vcf_file, 'rt') as input_file, open(output_file, 'a', newline='', encoding='utf-8') as output_file:\n",
    "        vcf_reader = csv.reader(input_file, delimiter='\\t')\n",
    "        tsv_writer = csv.writer(output_file, delimiter='\\t')\n",
    "        \n",
    "        for line in vcf_reader:\n",
    "            parsed_data = parse_line(line)\n",
    "            for data in parsed_data:\n",
    "                tsv_writer.writerow(data)"
   ]
  },
  {
   "cell_type": "code",
   "execution_count": null,
   "id": "cc1fb059-5bab-49aa-b757-7fe5cb32df39",
   "metadata": {},
   "outputs": [],
   "source": []
  },
  {
   "cell_type": "markdown",
   "id": "e2a3682a-e66b-4427-9f01-9e382f8c6ba5",
   "metadata": {},
   "source": [
    "Указываем input файл (или путь к нему), а также имя output (необязательно, задаётся по умолчанию по названию вцф):"
   ]
  },
  {
   "cell_type": "code",
   "execution_count": 6,
   "id": "b4059902-9ec3-4b34-8042-04049cac30a4",
   "metadata": {},
   "outputs": [],
   "source": [
    "get_parse_vcf('../raw_data/example_22chr.vcf.bgz')"
   ]
  },
  {
   "cell_type": "code",
   "execution_count": null,
   "id": "13f70f73-9389-4db2-b3d5-e41d3e281aeb",
   "metadata": {
    "scrolled": true
   },
   "outputs": [],
   "source": [
    "get_parse_vcf('../raw_data/gnomad.exomes.v4.0.sites.chr21.vcf.bgz', output_dir='data_dir', output_filename='gnomad.exomes.v4.0.sites.chr21_all_new.vcf')"
   ]
  },
  {
   "cell_type": "code",
   "execution_count": null,
   "id": "f883de3a-9e82-4348-afe5-26a5df439f17",
   "metadata": {},
   "outputs": [],
   "source": [
    "get_parse_vcf('../raw_data/gnomad.exomes.v4.0.sites.chr13.vcf.bgz', output_dir='data_dir', output_filename='gnomad.exomes.v4.0.sites.chr13_all.vcf')"
   ]
  },
  {
   "cell_type": "code",
   "execution_count": 8,
   "id": "14f89add-7ddc-4942-b506-771593d964a9",
   "metadata": {},
   "outputs": [
    {
     "name": "stdout",
     "output_type": "stream",
     "text": [
      "All done\n"
     ]
    }
   ],
   "source": [
    "print('All done')"
   ]
  },
  {
   "cell_type": "code",
   "execution_count": null,
   "id": "283bc135-3953-4238-9627-530558346c57",
   "metadata": {},
   "outputs": [],
   "source": [
    "# chromosome_files = ['gnomad.exomes.v4.0.sites.chr1.vcf.bgz',\n",
    "#                     'gnomad.exomes.v4.0.sites.chr2.vcf.bgz', \n",
    "#                     'gnomad.exomes.v4.0.sites.chr3.vcf.bgz', \n",
    "#                     'gnomad.exomes.v4.0.sites.chr4.vcf.bgz',\n",
    "#                     'gnomad.exomes.v4.0.sites.chr5.vcf.bgz',\n",
    "#                     'gnomad.exomes.v4.0.sites.chr6.vcf.bgz',\n",
    "#                     'gnomad.exomes.v4.0.sites.chr7.vcf.bgz',\n",
    "#                     'gnomad.exomes.v4.0.sites.chr8.vcf.bgz',\n",
    "#                     'gnomad.exomes.v4.0.sites.chr9.vcf.bgz',\n",
    "#                     'gnomad.exomes.v4.0.sites.chr10.vcf.bgz',\n",
    "#                     'gnomad.exomes.v4.0.sites.chr11.vcf.bgz',\n",
    "#                     'gnomad.exomes.v4.0.sites.chr12.vcf.bgz']\n",
    "\n",
    "# for file_name in chromosome_files:\n",
    "#     file_path = os.path.join('../raw_data', file_name)\n",
    "#     get_parse_vcf(file_path, output_dir='data_dir')"
   ]
  }
 ],
 "metadata": {
  "kernelspec": {
   "display_name": "bi_kernel",
   "language": "python",
   "name": "bi_kernel"
  },
  "language_info": {
   "codemirror_mode": {
    "name": "ipython",
    "version": 3
   },
   "file_extension": ".py",
   "mimetype": "text/x-python",
   "name": "python",
   "nbconvert_exporter": "python",
   "pygments_lexer": "ipython3",
   "version": "3.12.2"
  }
 },
 "nbformat": 4,
 "nbformat_minor": 5
}
