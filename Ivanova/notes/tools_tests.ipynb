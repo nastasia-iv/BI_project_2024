{
 "cells": [
  {
   "cell_type": "code",
   "execution_count": 1,
   "id": "6f218983-7294-44ea-bedb-136ae2656dba",
   "metadata": {},
   "outputs": [],
   "source": [
    "import pandas as pd\n",
    "\n",
    "from os.path import join"
   ]
  },
  {
   "cell_type": "code",
   "execution_count": 2,
   "id": "1ce73532-2f7a-44b8-ab56-12b8af2ae3f5",
   "metadata": {},
   "outputs": [],
   "source": [
    "DATA_PATH = \"data_dir\""
   ]
  },
  {
   "cell_type": "markdown",
   "id": "3489a034-958b-4822-b300-ca255d4e2f41",
   "metadata": {},
   "source": [
    "## Тестим nmd-escape из статьи Torene et al., 2024  \n",
    "(https://doi.org/10.1016/j.ajhg.2023.11.007)"
   ]
  },
  {
   "cell_type": "markdown",
   "id": "291ed285-f16f-4d2c-b130-c5d6cf41e0a2",
   "metadata": {},
   "source": [
    "https://github.com/rebeccaito/nmd-escape/tree/main"
   ]
  },
  {
   "cell_type": "code",
   "execution_count": 2,
   "id": "530b0c3a-0566-41ab-a278-d7cc225a8f10",
   "metadata": {},
   "outputs": [],
   "source": [
    "from annotating_nmd import * "
   ]
  },
  {
   "cell_type": "code",
   "execution_count": 3,
   "id": "c3a2ebe7-107e-4829-8e66-2aad07db07bd",
   "metadata": {},
   "outputs": [
    {
     "data": {
      "text/html": [
       "<div>\n",
       "<style scoped>\n",
       "    .dataframe tbody tr th:only-of-type {\n",
       "        vertical-align: middle;\n",
       "    }\n",
       "\n",
       "    .dataframe tbody tr th {\n",
       "        vertical-align: top;\n",
       "    }\n",
       "\n",
       "    .dataframe thead th {\n",
       "        text-align: right;\n",
       "    }\n",
       "</style>\n",
       "<table border=\"1\" class=\"dataframe\">\n",
       "  <thead>\n",
       "    <tr style=\"text-align: right;\">\n",
       "      <th></th>\n",
       "      <th>chrom</th>\n",
       "      <th>start</th>\n",
       "      <th>end</th>\n",
       "      <th>cds_id</th>\n",
       "      <th>score</th>\n",
       "      <th>strand</th>\n",
       "    </tr>\n",
       "  </thead>\n",
       "  <tbody>\n",
       "    <tr>\n",
       "      <th>0</th>\n",
       "      <td>chr17</td>\n",
       "      <td>58677775</td>\n",
       "      <td>58678247</td>\n",
       "      <td>NM_003620.4_cds_0_0_chr17_58677776_f</td>\n",
       "      <td>0</td>\n",
       "      <td>+</td>\n",
       "    </tr>\n",
       "    <tr>\n",
       "      <th>1</th>\n",
       "      <td>chr17</td>\n",
       "      <td>58700881</td>\n",
       "      <td>58701110</td>\n",
       "      <td>NM_003620.4_cds_1_0_chr17_58700882_f</td>\n",
       "      <td>0</td>\n",
       "      <td>+</td>\n",
       "    </tr>\n",
       "    <tr>\n",
       "      <th>2</th>\n",
       "      <td>chr17</td>\n",
       "      <td>58711213</td>\n",
       "      <td>58711338</td>\n",
       "      <td>NM_003620.4_cds_2_0_chr17_58711214_f</td>\n",
       "      <td>0</td>\n",
       "      <td>+</td>\n",
       "    </tr>\n",
       "    <tr>\n",
       "      <th>3</th>\n",
       "      <td>chr17</td>\n",
       "      <td>58725252</td>\n",
       "      <td>58725443</td>\n",
       "      <td>NM_003620.4_cds_3_0_chr17_58725253_f</td>\n",
       "      <td>0</td>\n",
       "      <td>+</td>\n",
       "    </tr>\n",
       "    <tr>\n",
       "      <th>4</th>\n",
       "      <td>chr17</td>\n",
       "      <td>58733959</td>\n",
       "      <td>58734202</td>\n",
       "      <td>NM_003620.4_cds_4_0_chr17_58733960_f</td>\n",
       "      <td>0</td>\n",
       "      <td>+</td>\n",
       "    </tr>\n",
       "    <tr>\n",
       "      <th>5</th>\n",
       "      <td>chr17</td>\n",
       "      <td>58740355</td>\n",
       "      <td>58740913</td>\n",
       "      <td>NM_003620.4_cds_5_0_chr17_58740356_f</td>\n",
       "      <td>0</td>\n",
       "      <td>+</td>\n",
       "    </tr>\n",
       "    <tr>\n",
       "      <th>6</th>\n",
       "      <td>chr14</td>\n",
       "      <td>99640487</td>\n",
       "      <td>99642532</td>\n",
       "      <td>NM_138576.4_cds_0_0_chr14_99640488_r</td>\n",
       "      <td>0</td>\n",
       "      <td>-</td>\n",
       "    </tr>\n",
       "    <tr>\n",
       "      <th>7</th>\n",
       "      <td>chr14</td>\n",
       "      <td>99697681</td>\n",
       "      <td>99697894</td>\n",
       "      <td>NM_138576.4_cds_1_0_chr14_99697682_r</td>\n",
       "      <td>0</td>\n",
       "      <td>-</td>\n",
       "    </tr>\n",
       "    <tr>\n",
       "      <th>8</th>\n",
       "      <td>chr14</td>\n",
       "      <td>99723807</td>\n",
       "      <td>99724176</td>\n",
       "      <td>NM_138576.4_cds_2_0_chr14_99723808_r</td>\n",
       "      <td>0</td>\n",
       "      <td>-</td>\n",
       "    </tr>\n",
       "    <tr>\n",
       "      <th>9</th>\n",
       "      <td>chr14</td>\n",
       "      <td>99737497</td>\n",
       "      <td>99737555</td>\n",
       "      <td>NM_138576.4_cds_3_0_chr14_99737498_r</td>\n",
       "      <td>0</td>\n",
       "      <td>-</td>\n",
       "    </tr>\n",
       "  </tbody>\n",
       "</table>\n",
       "</div>"
      ],
      "text/plain": [
       "   chrom     start       end                                cds_id  score  \\\n",
       "0  chr17  58677775  58678247  NM_003620.4_cds_0_0_chr17_58677776_f      0   \n",
       "1  chr17  58700881  58701110  NM_003620.4_cds_1_0_chr17_58700882_f      0   \n",
       "2  chr17  58711213  58711338  NM_003620.4_cds_2_0_chr17_58711214_f      0   \n",
       "3  chr17  58725252  58725443  NM_003620.4_cds_3_0_chr17_58725253_f      0   \n",
       "4  chr17  58733959  58734202  NM_003620.4_cds_4_0_chr17_58733960_f      0   \n",
       "5  chr17  58740355  58740913  NM_003620.4_cds_5_0_chr17_58740356_f      0   \n",
       "6  chr14  99640487  99642532  NM_138576.4_cds_0_0_chr14_99640488_r      0   \n",
       "7  chr14  99697681  99697894  NM_138576.4_cds_1_0_chr14_99697682_r      0   \n",
       "8  chr14  99723807  99724176  NM_138576.4_cds_2_0_chr14_99723808_r      0   \n",
       "9  chr14  99737497  99737555  NM_138576.4_cds_3_0_chr14_99737498_r      0   \n",
       "\n",
       "  strand  \n",
       "0      +  \n",
       "1      +  \n",
       "2      +  \n",
       "3      +  \n",
       "4      +  \n",
       "5      +  \n",
       "6      -  \n",
       "7      -  \n",
       "8      -  \n",
       "9      -  "
      ]
     },
     "execution_count": 3,
     "metadata": {},
     "output_type": "execute_result"
    }
   ],
   "source": [
    "cds_bed_df = pd.read_table('nmd-escape/tests/data/test_cds.bed', names=['chrom', 'start', 'end', 'cds_id', 'score', 'strand'])\n",
    "cds_bed_df"
   ]
  },
  {
   "cell_type": "markdown",
   "id": "870c8ccb-bcb8-4812-82b2-936ab5af8d4d",
   "metadata": {},
   "source": [
    "#### 1. Determine NMD regions from a 6-column bed file of coding sequence regions"
   ]
  },
  {
   "cell_type": "markdown",
   "id": "6eed2bba-3f72-48e3-9286-0938b04127fa",
   "metadata": {},
   "source": [
    "Note: the cds_id column must follow the conventions for RefSeq transcript CDS downloaded from the UCSC Genome Browser: e.g., `NM_138576.4_cds_0_0_chr14_99640488_r` is a valid `cds_id`"
   ]
  },
  {
   "cell_type": "code",
   "execution_count": 4,
   "id": "8096f209-5581-4f3c-a534-ca83c9212c3b",
   "metadata": {},
   "outputs": [
    {
     "data": {
      "text/html": [
       "<div>\n",
       "<style scoped>\n",
       "    .dataframe tbody tr th:only-of-type {\n",
       "        vertical-align: middle;\n",
       "    }\n",
       "\n",
       "    .dataframe tbody tr th {\n",
       "        vertical-align: top;\n",
       "    }\n",
       "\n",
       "    .dataframe thead th {\n",
       "        text-align: right;\n",
       "    }\n",
       "</style>\n",
       "<table border=\"1\" class=\"dataframe\">\n",
       "  <thead>\n",
       "    <tr style=\"text-align: right;\">\n",
       "      <th></th>\n",
       "      <th></th>\n",
       "      <th>index</th>\n",
       "      <th>chrom</th>\n",
       "      <th>start</th>\n",
       "      <th>end</th>\n",
       "      <th>cds_id</th>\n",
       "      <th>score</th>\n",
       "      <th>strand</th>\n",
       "      <th>transcript_name</th>\n",
       "      <th>cds_size</th>\n",
       "    </tr>\n",
       "    <tr>\n",
       "      <th>transcript_name</th>\n",
       "      <th></th>\n",
       "      <th></th>\n",
       "      <th></th>\n",
       "      <th></th>\n",
       "      <th></th>\n",
       "      <th></th>\n",
       "      <th></th>\n",
       "      <th></th>\n",
       "      <th></th>\n",
       "      <th></th>\n",
       "    </tr>\n",
       "  </thead>\n",
       "  <tbody>\n",
       "    <tr>\n",
       "      <th rowspan=\"2\" valign=\"top\">NM_003620.4</th>\n",
       "      <th>0</th>\n",
       "      <td>5</td>\n",
       "      <td>chr17</td>\n",
       "      <td>58740355</td>\n",
       "      <td>58740913</td>\n",
       "      <td>NM_003620.4_cds_5_0_chr17_58740356_f</td>\n",
       "      <td>0</td>\n",
       "      <td>+</td>\n",
       "      <td>NM_003620.4</td>\n",
       "      <td>558</td>\n",
       "    </tr>\n",
       "    <tr>\n",
       "      <th>1</th>\n",
       "      <td>4</td>\n",
       "      <td>chr17</td>\n",
       "      <td>58734147</td>\n",
       "      <td>58734202</td>\n",
       "      <td>NM_003620.4_cds_4_0_chr17_58733960_f</td>\n",
       "      <td>0</td>\n",
       "      <td>+</td>\n",
       "      <td>NM_003620.4</td>\n",
       "      <td>55</td>\n",
       "    </tr>\n",
       "    <tr>\n",
       "      <th rowspan=\"2\" valign=\"top\">NM_138576.4</th>\n",
       "      <th>0</th>\n",
       "      <td>6</td>\n",
       "      <td>chr14</td>\n",
       "      <td>99640487</td>\n",
       "      <td>99642532</td>\n",
       "      <td>NM_138576.4_cds_0_0_chr14_99640488_r</td>\n",
       "      <td>0</td>\n",
       "      <td>-</td>\n",
       "      <td>NM_138576.4</td>\n",
       "      <td>2045</td>\n",
       "    </tr>\n",
       "    <tr>\n",
       "      <th>1</th>\n",
       "      <td>7</td>\n",
       "      <td>chr14</td>\n",
       "      <td>99697681</td>\n",
       "      <td>99697736</td>\n",
       "      <td>NM_138576.4_cds_1_0_chr14_99697682_r</td>\n",
       "      <td>0</td>\n",
       "      <td>-</td>\n",
       "      <td>NM_138576.4</td>\n",
       "      <td>55</td>\n",
       "    </tr>\n",
       "  </tbody>\n",
       "</table>\n",
       "</div>"
      ],
      "text/plain": [
       "                  index  chrom     start       end  \\\n",
       "transcript_name                                      \n",
       "NM_003620.4     0     5  chr17  58740355  58740913   \n",
       "                1     4  chr17  58734147  58734202   \n",
       "NM_138576.4     0     6  chr14  99640487  99642532   \n",
       "                1     7  chr14  99697681  99697736   \n",
       "\n",
       "                                                 cds_id score strand  \\\n",
       "transcript_name                                                        \n",
       "NM_003620.4     0  NM_003620.4_cds_5_0_chr17_58740356_f     0      +   \n",
       "                1  NM_003620.4_cds_4_0_chr17_58733960_f     0      +   \n",
       "NM_138576.4     0  NM_138576.4_cds_0_0_chr14_99640488_r     0      -   \n",
       "                1  NM_138576.4_cds_1_0_chr14_99697682_r     0      -   \n",
       "\n",
       "                  transcript_name cds_size  \n",
       "transcript_name                             \n",
       "NM_003620.4     0     NM_003620.4      558  \n",
       "                1     NM_003620.4       55  \n",
       "NM_138576.4     0     NM_138576.4     2045  \n",
       "                1     NM_138576.4       55  "
      ]
     },
     "execution_count": 4,
     "metadata": {},
     "output_type": "execute_result"
    }
   ],
   "source": [
    "nmd_bed_df = make_boundaries_df(cds_bed_df)\n",
    "nmd_bed_df"
   ]
  },
  {
   "cell_type": "markdown",
   "id": "9b782da4-67ca-49f0-9a66-8eb8868b14fa",
   "metadata": {},
   "source": [
    "#### 2. Determine NMD size per transcript"
   ]
  },
  {
   "cell_type": "code",
   "execution_count": 5,
   "id": "261d23e9-6d7d-4192-a93d-d9d412c3c283",
   "metadata": {},
   "outputs": [
    {
     "name": "stderr",
     "output_type": "stream",
     "text": [
      "/home/bioinf/gnomad-variants/Ivanova/nmd-escape/annotating_nmd/__init__.py:183: FutureWarning: The provided callable <built-in function sum> is currently using np.sum. In a future version of pandas, the provided callable will be used directly. To keep current behavior pass the string np.sum instead.\n",
      "  cds_sizes = bed_df.groupby('transcript_name').cds_size.apply(sum).reset_index().rename(columns={0: 'cds_size'})\n"
     ]
    },
    {
     "data": {
      "text/html": [
       "<div>\n",
       "<style scoped>\n",
       "    .dataframe tbody tr th:only-of-type {\n",
       "        vertical-align: middle;\n",
       "    }\n",
       "\n",
       "    .dataframe tbody tr th {\n",
       "        vertical-align: top;\n",
       "    }\n",
       "\n",
       "    .dataframe thead th {\n",
       "        text-align: right;\n",
       "    }\n",
       "</style>\n",
       "<table border=\"1\" class=\"dataframe\">\n",
       "  <thead>\n",
       "    <tr style=\"text-align: right;\">\n",
       "      <th></th>\n",
       "      <th>transcript_name</th>\n",
       "      <th>cds_size</th>\n",
       "      <th>nmd_escape_size</th>\n",
       "      <th>total_pdot_length</th>\n",
       "      <th>nmd_pdot_start</th>\n",
       "    </tr>\n",
       "  </thead>\n",
       "  <tbody>\n",
       "    <tr>\n",
       "      <th>0</th>\n",
       "      <td>NM_003620.4</td>\n",
       "      <td>1818</td>\n",
       "      <td>613</td>\n",
       "      <td>606</td>\n",
       "      <td>401.666667</td>\n",
       "    </tr>\n",
       "    <tr>\n",
       "      <th>1</th>\n",
       "      <td>NM_138576.4</td>\n",
       "      <td>2685</td>\n",
       "      <td>2100</td>\n",
       "      <td>895</td>\n",
       "      <td>195.000000</td>\n",
       "    </tr>\n",
       "  </tbody>\n",
       "</table>\n",
       "</div>"
      ],
      "text/plain": [
       "  transcript_name  cds_size  nmd_escape_size  total_pdot_length  \\\n",
       "0     NM_003620.4      1818              613                606   \n",
       "1     NM_138576.4      2685             2100                895   \n",
       "\n",
       "   nmd_pdot_start  \n",
       "0      401.666667  \n",
       "1      195.000000  "
      ]
     },
     "execution_count": 5,
     "metadata": {},
     "output_type": "execute_result"
    }
   ],
   "source": [
    "sizes_df = make_cds_size_df(cds_bed_df)\n",
    "sizes_df"
   ]
  },
  {
   "cell_type": "markdown",
   "id": "099e3c53-1ba0-43c5-8640-193fc4b81310",
   "metadata": {},
   "source": [
    "#### 3. Determine whether frameshifts would be NMD escaping"
   ]
  },
  {
   "cell_type": "markdown",
   "id": "83984bfc-2909-41d6-b0cf-c040c3347cea",
   "metadata": {},
   "source": [
    "For frameshifts and stop gain mutations that occur within the NMD(-) region, there are several variant annotators that will note the variant as NMD escaping. There are situations, however, where a frameshift variant can occur upstream and introduce a stop codon within the NMD(-) region. Below is an example of how one could use HGVSp notation from a typical variant annotator, like VEP or Jannovar, parse where the stop codon is introduced, and determine whether NMD escape is occurring."
   ]
  },
  {
   "cell_type": "code",
   "execution_count": 31,
   "id": "4dfd2035-16cc-4363-a41f-49793e21e74f",
   "metadata": {},
   "outputs": [
    {
     "name": "stderr",
     "output_type": "stream",
     "text": [
      "/home/bioinf/gnomad-variants/Ivanova/nmd-escape/annotating_nmd/__init__.py:183: FutureWarning: The provided callable <built-in function sum> is currently using np.sum. In a future version of pandas, the provided callable will be used directly. To keep current behavior pass the string np.sum instead.\n",
      "  cds_sizes = bed_df.groupby('transcript_name').cds_size.apply(sum).reset_index().rename(columns={0: 'cds_size'})\n"
     ]
    },
    {
     "data": {
      "text/html": [
       "<div>\n",
       "<style scoped>\n",
       "    .dataframe tbody tr th:only-of-type {\n",
       "        vertical-align: middle;\n",
       "    }\n",
       "\n",
       "    .dataframe tbody tr th {\n",
       "        vertical-align: top;\n",
       "    }\n",
       "\n",
       "    .dataframe thead th {\n",
       "        text-align: right;\n",
       "    }\n",
       "</style>\n",
       "<table border=\"1\" class=\"dataframe\">\n",
       "  <thead>\n",
       "    <tr style=\"text-align: right;\">\n",
       "      <th></th>\n",
       "      <th>transcript_name</th>\n",
       "      <th>HGVSp</th>\n",
       "      <th>var_pdot</th>\n",
       "      <th>stop_pdot_shift</th>\n",
       "      <th>stop_pdot</th>\n",
       "      <th>nmd_pdot_start</th>\n",
       "      <th>is_nmd_frameshift</th>\n",
       "    </tr>\n",
       "  </thead>\n",
       "  <tbody>\n",
       "    <tr>\n",
       "      <th>0</th>\n",
       "      <td>NM_003620.4</td>\n",
       "      <td>NP_003611.1:p.Cys300LeufsTer129</td>\n",
       "      <td>300</td>\n",
       "      <td>129</td>\n",
       "      <td>429</td>\n",
       "      <td>401.666667</td>\n",
       "      <td>True</td>\n",
       "    </tr>\n",
       "    <tr>\n",
       "      <th>1</th>\n",
       "      <td>NM_003620.4</td>\n",
       "      <td>NP_003611.1:p.Cys81LeufsTer129</td>\n",
       "      <td>81</td>\n",
       "      <td>129</td>\n",
       "      <td>210</td>\n",
       "      <td>401.666667</td>\n",
       "      <td>False</td>\n",
       "    </tr>\n",
       "  </tbody>\n",
       "</table>\n",
       "</div>"
      ],
      "text/plain": [
       "  transcript_name                            HGVSp var_pdot stop_pdot_shift  \\\n",
       "0     NM_003620.4  NP_003611.1:p.Cys300LeufsTer129      300             129   \n",
       "1     NM_003620.4   NP_003611.1:p.Cys81LeufsTer129       81             129   \n",
       "\n",
       "   stop_pdot  nmd_pdot_start  is_nmd_frameshift  \n",
       "0        429      401.666667               True  \n",
       "1        210      401.666667              False  "
      ]
     },
     "execution_count": 31,
     "metadata": {},
     "output_type": "execute_result"
    }
   ],
   "source": [
    "sizes_df = make_cds_size_df(cds_bed_df)\n",
    "# variant annotations (from VEP for example)\n",
    "data = [\n",
    "    {\n",
    "        'transcript_name': 'NM_003620.4',\n",
    "        'HGVSp': 'NP_003611.1:p.Cys300LeufsTer129',\n",
    "    }, {\n",
    "        'transcript_name': 'NM_003620.4',\n",
    "        'HGVSp':'NP_003611.1:p.Cys81LeufsTer129',\n",
    "    }\n",
    "]\n",
    "variant_df = pd.DataFrame(data)\n",
    "result = get_upstream_frameshift(variant_df, sizes_df)\n",
    "result"
   ]
  },
  {
   "cell_type": "markdown",
   "id": "27278581-0c1d-4763-a041-8fdd99ea7e7e",
   "metadata": {},
   "source": [
    "### Создадим bed-файл из нужной аннотации"
   ]
  },
  {
   "cell_type": "markdown",
   "id": "09d3b5b5-12ac-4e8e-90d3-c73db792c958",
   "metadata": {},
   "source": [
    "! `zcat gencode.v45.annotation.gtf.gz | awk 'OFS=\"\\t\" {if ($3==\"CDS\") {print $1,$4-1,$5,$12,$6,$7}}' | tr -d '\";' > gencode.v45.annotation.bed`"
   ]
  },
  {
   "cell_type": "code",
   "execution_count": 6,
   "id": "bda99ab5-75e3-4fae-b853-1540be674019",
   "metadata": {},
   "outputs": [],
   "source": [
    "cds_bed = pd.read_table('data_dir/gencode.v45.annotation.bed', names=['chrom', 'start', 'end', 'cds_id', 'score', 'strand'])"
   ]
  },
  {
   "cell_type": "code",
   "execution_count": 9,
   "id": "e811f1aa-ca69-46e8-a330-578d40e94f4b",
   "metadata": {},
   "outputs": [],
   "source": [
    "cds_bed['cds_id'] = (cds_bed['cds_id'] + '_cds_0_0_' +\n",
    "                              cds_bed['chrom'] + '_' +\n",
    "                              (cds_bed['start'] + 1).astype(str) + '_' +\n",
    "                              cds_bed['strand'].map({'+': 'f', '-': 'r'}))"
   ]
  },
  {
   "cell_type": "code",
   "execution_count": 10,
   "id": "a8044552-b455-4638-bb5b-e0d25c7f1a46",
   "metadata": {},
   "outputs": [
    {
     "data": {
      "text/html": [
       "<div>\n",
       "<style scoped>\n",
       "    .dataframe tbody tr th:only-of-type {\n",
       "        vertical-align: middle;\n",
       "    }\n",
       "\n",
       "    .dataframe tbody tr th {\n",
       "        vertical-align: top;\n",
       "    }\n",
       "\n",
       "    .dataframe thead th {\n",
       "        text-align: right;\n",
       "    }\n",
       "</style>\n",
       "<table border=\"1\" class=\"dataframe\">\n",
       "  <thead>\n",
       "    <tr style=\"text-align: right;\">\n",
       "      <th></th>\n",
       "      <th>chrom</th>\n",
       "      <th>start</th>\n",
       "      <th>end</th>\n",
       "      <th>cds_id</th>\n",
       "      <th>score</th>\n",
       "      <th>strand</th>\n",
       "    </tr>\n",
       "  </thead>\n",
       "  <tbody>\n",
       "    <tr>\n",
       "      <th>0</th>\n",
       "      <td>chr1</td>\n",
       "      <td>65564</td>\n",
       "      <td>65573</td>\n",
       "      <td>ENST00000641515.2_cds_0_0_chr1_65565_f</td>\n",
       "      <td>.</td>\n",
       "      <td>+</td>\n",
       "    </tr>\n",
       "    <tr>\n",
       "      <th>1</th>\n",
       "      <td>chr1</td>\n",
       "      <td>69036</td>\n",
       "      <td>70005</td>\n",
       "      <td>ENST00000641515.2_cds_0_0_chr1_69037_f</td>\n",
       "      <td>.</td>\n",
       "      <td>+</td>\n",
       "    </tr>\n",
       "    <tr>\n",
       "      <th>2</th>\n",
       "      <td>chr1</td>\n",
       "      <td>450742</td>\n",
       "      <td>451678</td>\n",
       "      <td>ENST00000426406.4_cds_0_0_chr1_450743_r</td>\n",
       "      <td>.</td>\n",
       "      <td>-</td>\n",
       "    </tr>\n",
       "    <tr>\n",
       "      <th>3</th>\n",
       "      <td>chr1</td>\n",
       "      <td>685718</td>\n",
       "      <td>686654</td>\n",
       "      <td>ENST00000332831.5_cds_0_0_chr1_685719_r</td>\n",
       "      <td>.</td>\n",
       "      <td>-</td>\n",
       "    </tr>\n",
       "    <tr>\n",
       "      <th>4</th>\n",
       "      <td>chr1</td>\n",
       "      <td>924431</td>\n",
       "      <td>924948</td>\n",
       "      <td>ENST00000616016.5_cds_0_0_chr1_924432_f</td>\n",
       "      <td>.</td>\n",
       "      <td>+</td>\n",
       "    </tr>\n",
       "    <tr>\n",
       "      <th>...</th>\n",
       "      <td>...</td>\n",
       "      <td>...</td>\n",
       "      <td>...</td>\n",
       "      <td>...</td>\n",
       "      <td>...</td>\n",
       "      <td>...</td>\n",
       "    </tr>\n",
       "    <tr>\n",
       "      <th>885744</th>\n",
       "      <td>chrM</td>\n",
       "      <td>10469</td>\n",
       "      <td>10763</td>\n",
       "      <td>ENST00000361335.1_cds_0_0_chrM_10470_f</td>\n",
       "      <td>.</td>\n",
       "      <td>+</td>\n",
       "    </tr>\n",
       "    <tr>\n",
       "      <th>885745</th>\n",
       "      <td>chrM</td>\n",
       "      <td>10759</td>\n",
       "      <td>12137</td>\n",
       "      <td>ENST00000361381.2_cds_0_0_chrM_10760_f</td>\n",
       "      <td>.</td>\n",
       "      <td>+</td>\n",
       "    </tr>\n",
       "    <tr>\n",
       "      <th>885746</th>\n",
       "      <td>chrM</td>\n",
       "      <td>12336</td>\n",
       "      <td>14145</td>\n",
       "      <td>ENST00000361567.2_cds_0_0_chrM_12337_f</td>\n",
       "      <td>.</td>\n",
       "      <td>+</td>\n",
       "    </tr>\n",
       "    <tr>\n",
       "      <th>885747</th>\n",
       "      <td>chrM</td>\n",
       "      <td>14148</td>\n",
       "      <td>14673</td>\n",
       "      <td>ENST00000361681.2_cds_0_0_chrM_14149_r</td>\n",
       "      <td>.</td>\n",
       "      <td>-</td>\n",
       "    </tr>\n",
       "    <tr>\n",
       "      <th>885748</th>\n",
       "      <td>chrM</td>\n",
       "      <td>14746</td>\n",
       "      <td>15887</td>\n",
       "      <td>ENST00000361789.2_cds_0_0_chrM_14747_f</td>\n",
       "      <td>.</td>\n",
       "      <td>+</td>\n",
       "    </tr>\n",
       "  </tbody>\n",
       "</table>\n",
       "<p>885749 rows × 6 columns</p>\n",
       "</div>"
      ],
      "text/plain": [
       "       chrom   start     end                                   cds_id score  \\\n",
       "0       chr1   65564   65573   ENST00000641515.2_cds_0_0_chr1_65565_f     .   \n",
       "1       chr1   69036   70005   ENST00000641515.2_cds_0_0_chr1_69037_f     .   \n",
       "2       chr1  450742  451678  ENST00000426406.4_cds_0_0_chr1_450743_r     .   \n",
       "3       chr1  685718  686654  ENST00000332831.5_cds_0_0_chr1_685719_r     .   \n",
       "4       chr1  924431  924948  ENST00000616016.5_cds_0_0_chr1_924432_f     .   \n",
       "...      ...     ...     ...                                      ...   ...   \n",
       "885744  chrM   10469   10763   ENST00000361335.1_cds_0_0_chrM_10470_f     .   \n",
       "885745  chrM   10759   12137   ENST00000361381.2_cds_0_0_chrM_10760_f     .   \n",
       "885746  chrM   12336   14145   ENST00000361567.2_cds_0_0_chrM_12337_f     .   \n",
       "885747  chrM   14148   14673   ENST00000361681.2_cds_0_0_chrM_14149_r     .   \n",
       "885748  chrM   14746   15887   ENST00000361789.2_cds_0_0_chrM_14747_f     .   \n",
       "\n",
       "       strand  \n",
       "0           +  \n",
       "1           +  \n",
       "2           -  \n",
       "3           -  \n",
       "4           +  \n",
       "...       ...  \n",
       "885744      +  \n",
       "885745      +  \n",
       "885746      +  \n",
       "885747      -  \n",
       "885748      +  \n",
       "\n",
       "[885749 rows x 6 columns]"
      ]
     },
     "execution_count": 10,
     "metadata": {},
     "output_type": "execute_result"
    }
   ],
   "source": [
    "cds_bed"
   ]
  },
  {
   "cell_type": "markdown",
   "id": "35f1d26a-dc81-4926-9530-4c743f296c85",
   "metadata": {},
   "source": [
    "Determine NMD regions from a 6-column bed file of coding sequence regions:"
   ]
  },
  {
   "cell_type": "code",
   "execution_count": 11,
   "id": "cb4d806e-ddb7-477b-8d33-96181c02355f",
   "metadata": {},
   "outputs": [],
   "source": [
    "nmd_bed = make_boundaries_df(cds_bed)"
   ]
  },
  {
   "cell_type": "code",
   "execution_count": 12,
   "id": "abb738b2-874f-4825-a420-ccd9fb7a082c",
   "metadata": {},
   "outputs": [
    {
     "data": {
      "text/html": [
       "<div>\n",
       "<style scoped>\n",
       "    .dataframe tbody tr th:only-of-type {\n",
       "        vertical-align: middle;\n",
       "    }\n",
       "\n",
       "    .dataframe tbody tr th {\n",
       "        vertical-align: top;\n",
       "    }\n",
       "\n",
       "    .dataframe thead th {\n",
       "        text-align: right;\n",
       "    }\n",
       "</style>\n",
       "<table border=\"1\" class=\"dataframe\">\n",
       "  <thead>\n",
       "    <tr style=\"text-align: right;\">\n",
       "      <th></th>\n",
       "      <th></th>\n",
       "      <th>index</th>\n",
       "      <th>chrom</th>\n",
       "      <th>start</th>\n",
       "      <th>end</th>\n",
       "      <th>cds_id</th>\n",
       "      <th>score</th>\n",
       "      <th>strand</th>\n",
       "      <th>transcript_name</th>\n",
       "      <th>cds_size</th>\n",
       "    </tr>\n",
       "    <tr>\n",
       "      <th>transcript_name</th>\n",
       "      <th></th>\n",
       "      <th></th>\n",
       "      <th></th>\n",
       "      <th></th>\n",
       "      <th></th>\n",
       "      <th></th>\n",
       "      <th></th>\n",
       "      <th></th>\n",
       "      <th></th>\n",
       "      <th></th>\n",
       "    </tr>\n",
       "  </thead>\n",
       "  <tbody>\n",
       "    <tr>\n",
       "      <th rowspan=\"2\" valign=\"top\">ENST00000000233.10</th>\n",
       "      <th>0</th>\n",
       "      <td>358020</td>\n",
       "      <td>chr7</td>\n",
       "      <td>127591212</td>\n",
       "      <td>127591296</td>\n",
       "      <td>ENST00000000233.10_cds_0_0_chr7_127591213_f</td>\n",
       "      <td>.</td>\n",
       "      <td>+</td>\n",
       "      <td>ENST00000000233.10</td>\n",
       "      <td>84</td>\n",
       "    </tr>\n",
       "    <tr>\n",
       "      <th>1</th>\n",
       "      <td>358019</td>\n",
       "      <td>chr7</td>\n",
       "      <td>127591033</td>\n",
       "      <td>127591088</td>\n",
       "      <td>ENST00000000233.10_cds_0_0_chr7_127590963_f</td>\n",
       "      <td>.</td>\n",
       "      <td>+</td>\n",
       "      <td>ENST00000000233.10</td>\n",
       "      <td>55</td>\n",
       "    </tr>\n",
       "    <tr>\n",
       "      <th rowspan=\"2\" valign=\"top\">ENST00000000412.8</th>\n",
       "      <th>0</th>\n",
       "      <td>528168</td>\n",
       "      <td>chr12</td>\n",
       "      <td>8941820</td>\n",
       "      <td>8941940</td>\n",
       "      <td>ENST00000000412.8_cds_0_0_chr12_8941821_r</td>\n",
       "      <td>.</td>\n",
       "      <td>-</td>\n",
       "      <td>ENST00000000412.8</td>\n",
       "      <td>120</td>\n",
       "    </tr>\n",
       "    <tr>\n",
       "      <th>1</th>\n",
       "      <td>528167</td>\n",
       "      <td>chr12</td>\n",
       "      <td>8942415</td>\n",
       "      <td>8942470</td>\n",
       "      <td>ENST00000000412.8_cds_0_0_chr12_8942416_r</td>\n",
       "      <td>.</td>\n",
       "      <td>-</td>\n",
       "      <td>ENST00000000412.8</td>\n",
       "      <td>55</td>\n",
       "    </tr>\n",
       "    <tr>\n",
       "      <th>ENST00000000442.11</th>\n",
       "      <th>0</th>\n",
       "      <td>493539</td>\n",
       "      <td>chr11</td>\n",
       "      <td>64315706</td>\n",
       "      <td>64315963</td>\n",
       "      <td>ENST00000000442.11_cds_0_0_chr11_64315707_f</td>\n",
       "      <td>.</td>\n",
       "      <td>+</td>\n",
       "      <td>ENST00000000442.11</td>\n",
       "      <td>257</td>\n",
       "    </tr>\n",
       "    <tr>\n",
       "      <th>...</th>\n",
       "      <th>...</th>\n",
       "      <td>...</td>\n",
       "      <td>...</td>\n",
       "      <td>...</td>\n",
       "      <td>...</td>\n",
       "      <td>...</td>\n",
       "      <td>...</td>\n",
       "      <td>...</td>\n",
       "      <td>...</td>\n",
       "      <td>...</td>\n",
       "    </tr>\n",
       "    <tr>\n",
       "      <th>ENST00000713920.1</th>\n",
       "      <th>1</th>\n",
       "      <td>649116</td>\n",
       "      <td>chr16</td>\n",
       "      <td>1320462</td>\n",
       "      <td>1320517</td>\n",
       "      <td>ENST00000713920.1_cds_0_0_chr16_1320438_f</td>\n",
       "      <td>.</td>\n",
       "      <td>+</td>\n",
       "      <td>ENST00000713920.1</td>\n",
       "      <td>55</td>\n",
       "    </tr>\n",
       "    <tr>\n",
       "      <th rowspan=\"2\" valign=\"top\">ENST00000713921.1</th>\n",
       "      <th>0</th>\n",
       "      <td>649156</td>\n",
       "      <td>chr16</td>\n",
       "      <td>1324729</td>\n",
       "      <td>1324790</td>\n",
       "      <td>ENST00000713921.1_cds_0_0_chr16_1324730_f</td>\n",
       "      <td>.</td>\n",
       "      <td>+</td>\n",
       "      <td>ENST00000713921.1</td>\n",
       "      <td>61</td>\n",
       "    </tr>\n",
       "    <tr>\n",
       "      <th>1</th>\n",
       "      <td>649155</td>\n",
       "      <td>chr16</td>\n",
       "      <td>1320462</td>\n",
       "      <td>1320517</td>\n",
       "      <td>ENST00000713921.1_cds_0_0_chr16_1320438_f</td>\n",
       "      <td>.</td>\n",
       "      <td>+</td>\n",
       "      <td>ENST00000713921.1</td>\n",
       "      <td>55</td>\n",
       "    </tr>\n",
       "    <tr>\n",
       "      <th rowspan=\"2\" valign=\"top\">ENST00000713922.1</th>\n",
       "      <th>0</th>\n",
       "      <td>649327</td>\n",
       "      <td>chr16</td>\n",
       "      <td>1314756</td>\n",
       "      <td>1314858</td>\n",
       "      <td>ENST00000713922.1_cds_0_0_chr16_1314757_f</td>\n",
       "      <td>.</td>\n",
       "      <td>+</td>\n",
       "      <td>ENST00000713922.1</td>\n",
       "      <td>102</td>\n",
       "    </tr>\n",
       "    <tr>\n",
       "      <th>1</th>\n",
       "      <td>649326</td>\n",
       "      <td>chr16</td>\n",
       "      <td>1314321</td>\n",
       "      <td>1314376</td>\n",
       "      <td>ENST00000713922.1_cds_0_0_chr16_1314293_f</td>\n",
       "      <td>.</td>\n",
       "      <td>+</td>\n",
       "      <td>ENST00000713922.1</td>\n",
       "      <td>55</td>\n",
       "    </tr>\n",
       "  </tbody>\n",
       "</table>\n",
       "<p>213979 rows × 9 columns</p>\n",
       "</div>"
      ],
      "text/plain": [
       "                       index  chrom      start        end  \\\n",
       "transcript_name                                             \n",
       "ENST00000000233.10 0  358020   chr7  127591212  127591296   \n",
       "                   1  358019   chr7  127591033  127591088   \n",
       "ENST00000000412.8  0  528168  chr12    8941820    8941940   \n",
       "                   1  528167  chr12    8942415    8942470   \n",
       "ENST00000000442.11 0  493539  chr11   64315706   64315963   \n",
       "...                      ...    ...        ...        ...   \n",
       "ENST00000713920.1  1  649116  chr16    1320462    1320517   \n",
       "ENST00000713921.1  0  649156  chr16    1324729    1324790   \n",
       "                   1  649155  chr16    1320462    1320517   \n",
       "ENST00000713922.1  0  649327  chr16    1314756    1314858   \n",
       "                   1  649326  chr16    1314321    1314376   \n",
       "\n",
       "                                                           cds_id score  \\\n",
       "transcript_name                                                           \n",
       "ENST00000000233.10 0  ENST00000000233.10_cds_0_0_chr7_127591213_f     .   \n",
       "                   1  ENST00000000233.10_cds_0_0_chr7_127590963_f     .   \n",
       "ENST00000000412.8  0    ENST00000000412.8_cds_0_0_chr12_8941821_r     .   \n",
       "                   1    ENST00000000412.8_cds_0_0_chr12_8942416_r     .   \n",
       "ENST00000000442.11 0  ENST00000000442.11_cds_0_0_chr11_64315707_f     .   \n",
       "...                                                           ...   ...   \n",
       "ENST00000713920.1  1    ENST00000713920.1_cds_0_0_chr16_1320438_f     .   \n",
       "ENST00000713921.1  0    ENST00000713921.1_cds_0_0_chr16_1324730_f     .   \n",
       "                   1    ENST00000713921.1_cds_0_0_chr16_1320438_f     .   \n",
       "ENST00000713922.1  0    ENST00000713922.1_cds_0_0_chr16_1314757_f     .   \n",
       "                   1    ENST00000713922.1_cds_0_0_chr16_1314293_f     .   \n",
       "\n",
       "                     strand     transcript_name cds_size  \n",
       "transcript_name                                           \n",
       "ENST00000000233.10 0      +  ENST00000000233.10       84  \n",
       "                   1      +  ENST00000000233.10       55  \n",
       "ENST00000000412.8  0      -   ENST00000000412.8      120  \n",
       "                   1      -   ENST00000000412.8       55  \n",
       "ENST00000000442.11 0      +  ENST00000000442.11      257  \n",
       "...                     ...                 ...      ...  \n",
       "ENST00000713920.1  1      +   ENST00000713920.1       55  \n",
       "ENST00000713921.1  0      +   ENST00000713921.1       61  \n",
       "                   1      +   ENST00000713921.1       55  \n",
       "ENST00000713922.1  0      +   ENST00000713922.1      102  \n",
       "                   1      +   ENST00000713922.1       55  \n",
       "\n",
       "[213979 rows x 9 columns]"
      ]
     },
     "execution_count": 12,
     "metadata": {},
     "output_type": "execute_result"
    }
   ],
   "source": [
    "nmd_bed"
   ]
  },
  {
   "cell_type": "markdown",
   "id": "af2a2665-fb55-4215-854e-c4508fa0d8f8",
   "metadata": {},
   "source": [
    "  "
   ]
  },
  {
   "cell_type": "markdown",
   "id": "a378e4b0-fdf2-477d-9e1e-5df82a4a4187",
   "metadata": {},
   "source": [
    "### Как получать контекст последовательности с помощью pyfaidx"
   ]
  },
  {
   "cell_type": "code",
   "execution_count": null,
   "id": "5107a6a4-c85b-4d2e-b681-a6ca16120fa0",
   "metadata": {},
   "outputs": [],
   "source": [
    "from pyfaidx import Fasta"
   ]
  },
  {
   "cell_type": "markdown",
   "id": "47455d16-35a5-46bf-b8d1-dd7727015748",
   "metadata": {},
   "source": [
    "https://pypi.org/project/pyfaidx/"
   ]
  },
  {
   "cell_type": "markdown",
   "id": "92c54527-5cd8-4410-80c0-a9bdb856f295",
   "metadata": {},
   "source": [
    "Загружаем нашу фасту с транскриптами, на этом этапе создается индекс fai.  "
   ]
  },
  {
   "cell_type": "markdown",
   "id": "5d528526-4069-47b1-8b8d-dba529c5f27b",
   "metadata": {},
   "source": [
    "Дополнительно кастомизируем ключи, т.к. в файле траснкриптов ключи выглядят так:  \n",
    "`ENST00000353265.8|ENSG00000178184.16|OTTHUMG00000132922.4|OTTHUMT00000256435.3|PARD6G-201|PARD6G|3836|protein_coding|`  \n",
    "А нам нужна только их первая часть."
   ]
  },
  {
   "cell_type": "markdown",
   "id": "bd4b97f0-e2a7-4d52-8698-931cb1c01ca5",
   "metadata": {},
   "source": [
    "Тут бесячий момент: надо переархивировать файл с транскриптами в BGZF  \n",
    "_Compressed FASTA is only supported in BGZF format. Use the samtools bgzip utility (instead of gzip) to compress your FASTA._  \n",
    "\n",
    "<font color='brown'> Похоже, важно иметь версию >0.7.0, т.к. ниже неё какие-то проблемы: несмотря на перевод файла в BGZF формат, ошибка о неправильном инпуте не пропадала. А после апдейта до v.0.8.1.1 всё сработало."
   ]
  },
  {
   "cell_type": "raw",
   "id": "d7fadff3-cf16-439b-bb48-3d578040c0ea",
   "metadata": {},
   "source": [
    "transcript_fasta = Fasta(\"data_dir/gencode_data/gencode.v45.transcripts.fa.gz\", key_function = lambda x: x.split('.')[0])"
   ]
  },
  {
   "cell_type": "markdown",
   "id": "5e63ac29-a346-42d9-bec0-3141d25522b3",
   "metadata": {},
   "source": [
    "Интересующий транскрипт и позиция:"
   ]
  },
  {
   "cell_type": "raw",
   "id": "338511c0-c6ae-439c-8d85-03a9170d681d",
   "metadata": {},
   "source": [
    "transcript_id = 'ENST00000353265'\n",
    "position_of_interest = 34"
   ]
  },
  {
   "cell_type": "raw",
   "id": "cb88a89a-1ed6-4209-a203-b26d74f2ea3a",
   "metadata": {},
   "source": [
    "len(transcript_fasta_1[transcript_id])"
   ]
  },
  {
   "cell_type": "raw",
   "id": "e76abc42-6da4-4590-a992-d3bdcb962346",
   "metadata": {},
   "source": [
    "transcript_lengths = {}\n",
    "for key in transcript_fasta_1.keys():\n",
    "    transcript_lengths[key] = len(transcript_fasta_1[key])"
   ]
  },
  {
   "cell_type": "markdown",
   "id": "6e6480a2-2c4c-49e1-9bea-a28f8ae29ae1",
   "metadata": {},
   "source": [
    "Индексация с 0, поэтому чтобы получить позицию 34, вводим 33:"
   ]
  },
  {
   "cell_type": "raw",
   "id": "460013da-e7b7-4d01-b10c-d54e7103b908",
   "metadata": {},
   "source": [
    "transcript_fasta_1[transcript_id][33]"
   ]
  },
  {
   "cell_type": "markdown",
   "id": "c413094c-3c2e-4bdd-869f-ef30a39a1010",
   "metadata": {},
   "source": [
    "Утилита работает как словарь, тогда по примеру из документации:"
   ]
  },
  {
   "cell_type": "raw",
   "id": "9a6527f5-386f-4d74-83da-aecfcf55e05f",
   "metadata": {},
   "source": [
    "transcript_fasta_1[transcript_id][position_of_interest - 5 : position_of_interest + 5].complement"
   ]
  },
  {
   "cell_type": "markdown",
   "id": "58739cf3-440e-4939-905b-ac5b71886af9",
   "metadata": {},
   "source": [
    "Тут вызвали комплементарную позицию."
   ]
  },
  {
   "cell_type": "raw",
   "id": "ad00fcff-e8d4-4fe0-807b-a4c0dc959252",
   "metadata": {},
   "source": [
    "sequence = 'CGTCGTGGCC'"
   ]
  },
  {
   "cell_type": "raw",
   "id": "92b86046-265d-4536-b040-4c8e5d7b42ad",
   "metadata": {},
   "source": [
    "for i, nucleotide in enumerate(sequence, 30):\n",
    "    print(f\"{i} - {nucleotide}\")"
   ]
  },
  {
   "cell_type": "markdown",
   "id": "41a2d6a6-dff4-460f-8596-8ff3f976747e",
   "metadata": {},
   "source": [
    "Проверила глазами по таблице, всё сходится."
   ]
  },
  {
   "cell_type": "markdown",
   "id": "f6852017-9902-4e20-94d8-74fa1df7887f",
   "metadata": {},
   "source": [
    "  "
   ]
  },
  {
   "cell_type": "markdown",
   "id": "cb7472c9-a9c7-418a-991e-629a774c47b4",
   "metadata": {},
   "source": [
    "Ниже похожий способ, но с помощью `merge`."
   ]
  },
  {
   "cell_type": "markdown",
   "id": "1444e484-68b6-4344-bb49-5f764b75fe37",
   "metadata": {},
   "source": [
    "В датафрейме `merged_clinvar_and_ben` у нас произошло слияние двух дф на основе совпадения значений в колонках 'Chr', 'Position', 'Ref', 'Alt'. Все строки из `clinvar_final_pat`, у которых не нашлось совпадений в `ben_df` в 'Chr', 'Position', 'Ref', 'Alt', отброшены.  \n",
    "Также в смёрдженном датафрейме нем есть колонка `'_merge'`, которая показывает, в какой из исходных таблиц содержится строка: `'both'` для совпадающих строк, `'left_only'` для строк, найденных только в `ben_df`, и `'right_only'` для строк, найденных только в `clinvar_final_pat`."
   ]
  },
  {
   "cell_type": "code",
   "execution_count": 97,
   "id": "efb62500-1427-40a3-9684-5f2a096a7358",
   "metadata": {},
   "outputs": [],
   "source": [
    "# merged_clinvar_and_ben = ben_df.merge(clinvar_final_pat, on=['CHROM', 'POS', 'REF', 'ALT'], how='left', indicator=True)\n",
    "# merged_clinvar_and_ben\n",
    "# 116963 rows × 29 columns"
   ]
  },
  {
   "cell_type": "markdown",
   "id": "4d44e229-80e1-4400-af32-d33414891fde",
   "metadata": {},
   "source": [
    "Мы оставляем только те строки, которые присутствуют в `ben_df`, но отсутствуют в `clinvar_final_pat`. Т.е. оставляем только `left_only`."
   ]
  },
  {
   "cell_type": "code",
   "execution_count": 98,
   "id": "f133cc59-4f6b-4ad9-aaa6-6d93e9f942c6",
   "metadata": {},
   "outputs": [],
   "source": [
    "# ben_df_filtered = merged_clinvar_and_ben[merged_clinvar_and_ben['_merge'] == 'left_only'].drop(columns='_merge')\n",
    "# ben_df_filtered\n",
    "# 114271 rows × 28 columns"
   ]
  },
  {
   "cell_type": "markdown",
   "id": "83df00b0-e739-444f-8de8-af8782ad2245",
   "metadata": {},
   "source": [
    "Избавляемся от артефактов после пересечения датафреймов и наводим красоту."
   ]
  },
  {
   "cell_type": "code",
   "execution_count": 99,
   "id": "03fb36fd-16d9-46be-b70d-a0ca4c8ff968",
   "metadata": {},
   "outputs": [],
   "source": [
    "# ben_df_filtered = ben_df_filtered.drop(columns=['Consequence_y', 'SYMBOL', 'cDNA_position_y', \n",
    "#                                                 'Gene',\t'Feature_type', 'Feature', 'BIOTYPE', 'cDNA_position_y', 'CANONICAL',\n",
    "#                                                'ID', 'CLNSIG', 'CLNVC', 'GENEINFO', 'MC'])\n",
    "\n",
    "# ben_df_filtered = ben_df_filtered.rename(columns={'cDNA_position_x': 'cDNA_position', 'Consequence_x': 'Consequence'})\n",
    "# ben_df_filtered\n",
    "# 114271 rows × 15 columns"
   ]
  }
 ],
 "metadata": {
  "kernelspec": {
   "display_name": "bi_kernel",
   "language": "python",
   "name": "bi_kernel"
  },
  "language_info": {
   "codemirror_mode": {
    "name": "ipython",
    "version": 3
   },
   "file_extension": ".py",
   "mimetype": "text/x-python",
   "name": "python",
   "nbconvert_exporter": "python",
   "pygments_lexer": "ipython3",
   "version": "3.12.2"
  }
 },
 "nbformat": 4,
 "nbformat_minor": 5
}
